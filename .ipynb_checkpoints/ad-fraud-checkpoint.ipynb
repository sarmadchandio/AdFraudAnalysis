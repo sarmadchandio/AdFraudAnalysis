{
 "cells": [
  {
   "cell_type": "markdown",
   "metadata": {
    "colab_type": "text",
    "id": "8ZYPpzqjoG2Z"
   },
   "source": [
    "\n",
    "**DataSet**:\n",
    "These videos are manually classified as Fraud(F) or Benign (B) based on whether the video is promoting a fraudulent way of earning  money online or not (some of the fraudulent ways are click fraud, copy right violation and captcha filling). The description column contains the description as given by the youtuber under his/her video. The links column is list of URL links which I extracted from the description of video. classification columns is manual label that we have assigned. \n",
    "I received the data set externally and tried building a prototype of ad-fraud detection on it.\n",
    "\n",
    "**Task**:\n",
    "I analysed the links extracted from description. The links often redirected to mobile applications (like of google playstore) or websites. My analysis only considers website links. The basic analysis you have to do is to find whether these links are harmful or not, for example do these links have any malware? or do they require user to enter sensitivities information (credit card number or phone number etc..)? You can also perform content analysis to find out useful patterns (for example common words used in sites given by Fraud video and by Benign Videos). And off-course you will have to automate the process so that it can work on any size of dataset."
   ]
  },
  {
   "cell_type": "code",
   "execution_count": 253,
   "metadata": {
    "colab": {},
    "colab_type": "code",
    "id": "82Mq8jZzz_KD"
   },
   "outputs": [],
   "source": [
    "import pandas as pd\n",
    "import numpy as np\n",
    "import pickle\n",
    "import seaborn as sns\n",
    "from sklearn.feature_selection import SelectKBest\n",
    "from sklearn.feature_selection import chi2\n",
    "from urllib.parse  import urlparse\n",
    "%matplotlib inline\n",
    "import matplotlib.pyplot as plt\n"
   ]
  },
  {
   "cell_type": "code",
   "execution_count": 254,
   "metadata": {
    "colab": {
     "base_uri": "https://localhost:8080/",
     "height": 191
    },
    "colab_type": "code",
    "executionInfo": {
     "elapsed": 35873,
     "status": "ok",
     "timestamp": 1573999577829,
     "user": {
      "displayName": "abdurrehman sajid",
      "photoUrl": "https://lh3.googleusercontent.com/a-/AAuE7mApyvPZUhJ1rYT8bSAGZbYskaBLDYd-ZcC93q9DcA=s64",
      "userId": "12716921899312957319"
     },
     "user_tz": -300
    },
    "id": "_1R2lPct0Hke",
    "outputId": "2252ea40-c0ae-48e2-c99c-88fe89346a8d"
   },
   "outputs": [
    {
     "data": {
      "text/html": [
       "<div>\n",
       "<style scoped>\n",
       "    .dataframe tbody tr th:only-of-type {\n",
       "        vertical-align: middle;\n",
       "    }\n",
       "\n",
       "    .dataframe tbody tr th {\n",
       "        vertical-align: top;\n",
       "    }\n",
       "\n",
       "    .dataframe thead th {\n",
       "        text-align: right;\n",
       "    }\n",
       "</style>\n",
       "<table border=\"1\" class=\"dataframe\">\n",
       "  <thead>\n",
       "    <tr style=\"text-align: right;\">\n",
       "      <th></th>\n",
       "      <th>videoId</th>\n",
       "      <th>video_url</th>\n",
       "      <th>description</th>\n",
       "      <th>links</th>\n",
       "      <th>classification</th>\n",
       "    </tr>\n",
       "  </thead>\n",
       "  <tbody>\n",
       "    <tr>\n",
       "      <th>0</th>\n",
       "      <td>jc9yMaIojXc</td>\n",
       "      <td>https://www.youtube.com/watch?v=jc9yMaIojXc</td>\n",
       "      <td>Join sumonies.com by clicking here: http://sum...</td>\n",
       "      <td>['https://sumonies.com', 'https://sumonies.com...</td>\n",
       "      <td>f</td>\n",
       "    </tr>\n",
       "    <tr>\n",
       "      <th>1</th>\n",
       "      <td>jqxENMKaeCU</td>\n",
       "      <td>https://www.youtube.com/watch?v=jqxENMKaeCU</td>\n",
       "      <td>We are living in exceptional times. Scientists...</td>\n",
       "      <td>['https://www.home-2009.com', 'https://www.ppr...</td>\n",
       "      <td>b</td>\n",
       "    </tr>\n",
       "    <tr>\n",
       "      <th>2</th>\n",
       "      <td>0Fx9ahA0I4g</td>\n",
       "      <td>https://www.youtube.com/watch?v=0Fx9ahA0I4g</td>\n",
       "      <td>Join sumonies.com by clicking here: http://sum...</td>\n",
       "      <td>['https://sumonies.com', 'https://sumonies.com...</td>\n",
       "      <td>f</td>\n",
       "    </tr>\n",
       "    <tr>\n",
       "      <th>3</th>\n",
       "      <td>LvyJTvux99s</td>\n",
       "      <td>https://www.youtube.com/watch?v=LvyJTvux99s</td>\n",
       "      <td>When 2018 began, the Bitcoin bubble had yet to...</td>\n",
       "      <td>['https://bit.ly/thewrapytsub', 'https://bit.l...</td>\n",
       "      <td>b</td>\n",
       "    </tr>\n",
       "    <tr>\n",
       "      <th>4</th>\n",
       "      <td>TWls-kXR-WQ</td>\n",
       "      <td>https://www.youtube.com/watch?v=TWls-kXR-WQ</td>\n",
       "      <td>http://ucemoney.bid/8381807950519/ here is my ...</td>\n",
       "      <td>['https://ucemoney.bid/8381807950519/']</td>\n",
       "      <td>f</td>\n",
       "    </tr>\n",
       "  </tbody>\n",
       "</table>\n",
       "</div>"
      ],
      "text/plain": [
       "       videoId                                    video_url  \\\n",
       "0  jc9yMaIojXc  https://www.youtube.com/watch?v=jc9yMaIojXc   \n",
       "1  jqxENMKaeCU  https://www.youtube.com/watch?v=jqxENMKaeCU   \n",
       "2  0Fx9ahA0I4g  https://www.youtube.com/watch?v=0Fx9ahA0I4g   \n",
       "3  LvyJTvux99s  https://www.youtube.com/watch?v=LvyJTvux99s   \n",
       "4  TWls-kXR-WQ  https://www.youtube.com/watch?v=TWls-kXR-WQ   \n",
       "\n",
       "                                         description  \\\n",
       "0  Join sumonies.com by clicking here: http://sum...   \n",
       "1  We are living in exceptional times. Scientists...   \n",
       "2  Join sumonies.com by clicking here: http://sum...   \n",
       "3  When 2018 began, the Bitcoin bubble had yet to...   \n",
       "4  http://ucemoney.bid/8381807950519/ here is my ...   \n",
       "\n",
       "                                               links classification  \n",
       "0  ['https://sumonies.com', 'https://sumonies.com...              f  \n",
       "1  ['https://www.home-2009.com', 'https://www.ppr...              b  \n",
       "2  ['https://sumonies.com', 'https://sumonies.com...              f  \n",
       "3  ['https://bit.ly/thewrapytsub', 'https://bit.l...              b  \n",
       "4            ['https://ucemoney.bid/8381807950519/']              f  "
      ]
     },
     "execution_count": 254,
     "metadata": {},
     "output_type": "execute_result"
    }
   ],
   "source": [
    "path = './URLListA.csv'\n",
    "data=pd.read_csv(path)\n",
    "data.head()"
   ]
  },
  {
   "cell_type": "markdown",
   "metadata": {},
   "source": [
    "## There are a total of 1065 videos in the dataset."
   ]
  },
  {
   "cell_type": "code",
   "execution_count": 255,
   "metadata": {
    "colab": {
     "base_uri": "https://localhost:8080/",
     "height": 50
    },
    "colab_type": "code",
    "executionInfo": {
     "elapsed": 35863,
     "status": "ok",
     "timestamp": 1573999577830,
     "user": {
      "displayName": "abdurrehman sajid",
      "photoUrl": "https://lh3.googleusercontent.com/a-/AAuE7mApyvPZUhJ1rYT8bSAGZbYskaBLDYd-ZcC93q9DcA=s64",
      "userId": "12716921899312957319"
     },
     "user_tz": -300
    },
    "id": "JYUqVDJA0kc8",
    "outputId": "078bcc29-e8ed-428e-8959-e31400bec5ac"
   },
   "outputs": [
    {
     "name": "stdout",
     "output_type": "stream",
     "text": [
      "Index(['videoId', 'video_url', 'description', 'links', 'classification'], dtype='object')\n"
     ]
    },
    {
     "data": {
      "text/plain": [
       "1065"
      ]
     },
     "execution_count": 255,
     "metadata": {},
     "output_type": "execute_result"
    }
   ],
   "source": [
    "print(data.columns)\n",
    "len(data)"
   ]
  },
  {
   "cell_type": "markdown",
   "metadata": {},
   "source": [
    "## Note: The descriptions are in different languages. We need to somehow cater for this in our ML part of the project."
   ]
  },
  {
   "cell_type": "code",
   "execution_count": 256,
   "metadata": {
    "colab": {
     "base_uri": "https://localhost:8080/",
     "height": 191
    },
    "colab_type": "code",
    "executionInfo": {
     "elapsed": 35869,
     "status": "ok",
     "timestamp": 1573999577844,
     "user": {
      "displayName": "abdurrehman sajid",
      "photoUrl": "https://lh3.googleusercontent.com/a-/AAuE7mApyvPZUhJ1rYT8bSAGZbYskaBLDYd-ZcC93q9DcA=s64",
      "userId": "12716921899312957319"
     },
     "user_tz": -300
    },
    "id": "H_QtRAmZI5uW",
    "outputId": "add50250-d8e0-40f4-e6b1-44ac9f4b8b69",
    "scrolled": true
   },
   "outputs": [
    {
     "data": {
      "text/html": [
       "<div>\n",
       "<style scoped>\n",
       "    .dataframe tbody tr th:only-of-type {\n",
       "        vertical-align: middle;\n",
       "    }\n",
       "\n",
       "    .dataframe tbody tr th {\n",
       "        vertical-align: top;\n",
       "    }\n",
       "\n",
       "    .dataframe thead th {\n",
       "        text-align: right;\n",
       "    }\n",
       "</style>\n",
       "<table border=\"1\" class=\"dataframe\">\n",
       "  <thead>\n",
       "    <tr style=\"text-align: right;\">\n",
       "      <th></th>\n",
       "      <th>videoId</th>\n",
       "      <th>video_url</th>\n",
       "      <th>description</th>\n",
       "      <th>links</th>\n",
       "      <th>classification</th>\n",
       "    </tr>\n",
       "  </thead>\n",
       "  <tbody>\n",
       "    <tr>\n",
       "      <th>276</th>\n",
       "      <td>2dIIQyyxtuI</td>\n",
       "      <td>https://www.youtube.com/watch?v=2dIIQyyxtuI</td>\n",
       "      <td>◆不動産経営&amp;仮想通貨プレイヤーG◆\\r\\r\\nGの公式LINEはコチラ\\r\\r\\nhttp...</td>\n",
       "      <td>['https://line.me/r/ti/p/%40xwb5138l', 'https:...</td>\n",
       "      <td>b</td>\n",
       "    </tr>\n",
       "    <tr>\n",
       "      <th>322</th>\n",
       "      <td>gXQC0-MSOBw</td>\n",
       "      <td>https://www.youtube.com/watch?v=gXQC0-MSOBw</td>\n",
       "      <td>#YoutubersHelp How to solve Zero Earnings on A...</td>\n",
       "      <td>['https://www.youtube.com/channel/uc3cwu4ld32w...</td>\n",
       "      <td>f</td>\n",
       "    </tr>\n",
       "    <tr>\n",
       "      <th>273</th>\n",
       "      <td>V7yFliNO7tU</td>\n",
       "      <td>https://www.youtube.com/watch?v=V7yFliNO7tU</td>\n",
       "      <td>How To Earn Free Bitcoins Clicking Ads   btc4a...</td>\n",
       "      <td>['https://btc4ads.com/?r=2sns0vxzcb', 'https:/...</td>\n",
       "      <td>f</td>\n",
       "    </tr>\n",
       "    <tr>\n",
       "      <th>468</th>\n",
       "      <td>ELwpLWLtmK0</td>\n",
       "      <td>https://www.youtube.com/watch?v=ELwpLWLtmK0</td>\n",
       "      <td>जानिए कैसे स्टेबल मार्किट में से भी डेली २-3% ...</td>\n",
       "      <td>['https://t.me/open4profit', 'https://www.trad...</td>\n",
       "      <td>b</td>\n",
       "    </tr>\n",
       "    <tr>\n",
       "      <th>1031</th>\n",
       "      <td>pkox8x1LxQ4</td>\n",
       "      <td>https://www.youtube.com/watch?v=pkox8x1LxQ4</td>\n",
       "      <td>I don't  own the music and gif. \\r\\r\\nPlease c...</td>\n",
       "      <td>['https://soundcloud.com/archdiggle/undertale-...</td>\n",
       "      <td>b</td>\n",
       "    </tr>\n",
       "  </tbody>\n",
       "</table>\n",
       "</div>"
      ],
      "text/plain": [
       "          videoId                                    video_url  \\\n",
       "276   2dIIQyyxtuI  https://www.youtube.com/watch?v=2dIIQyyxtuI   \n",
       "322   gXQC0-MSOBw  https://www.youtube.com/watch?v=gXQC0-MSOBw   \n",
       "273   V7yFliNO7tU  https://www.youtube.com/watch?v=V7yFliNO7tU   \n",
       "468   ELwpLWLtmK0  https://www.youtube.com/watch?v=ELwpLWLtmK0   \n",
       "1031  pkox8x1LxQ4  https://www.youtube.com/watch?v=pkox8x1LxQ4   \n",
       "\n",
       "                                            description  \\\n",
       "276   ◆不動産経営&仮想通貨プレイヤーG◆\\r\\r\\nGの公式LINEはコチラ\\r\\r\\nhttp...   \n",
       "322   #YoutubersHelp How to solve Zero Earnings on A...   \n",
       "273   How To Earn Free Bitcoins Clicking Ads   btc4a...   \n",
       "468   जानिए कैसे स्टेबल मार्किट में से भी डेली २-3% ...   \n",
       "1031  I don't  own the music and gif. \\r\\r\\nPlease c...   \n",
       "\n",
       "                                                  links classification  \n",
       "276   ['https://line.me/r/ti/p/%40xwb5138l', 'https:...              b  \n",
       "322   ['https://www.youtube.com/channel/uc3cwu4ld32w...              f  \n",
       "273   ['https://btc4ads.com/?r=2sns0vxzcb', 'https:/...              f  \n",
       "468   ['https://t.me/open4profit', 'https://www.trad...              b  \n",
       "1031  ['https://soundcloud.com/archdiggle/undertale-...              b  "
      ]
     },
     "execution_count": 256,
     "metadata": {},
     "output_type": "execute_result"
    }
   ],
   "source": [
    "data.sample(5)"
   ]
  },
  {
   "cell_type": "code",
   "execution_count": 257,
   "metadata": {
    "colab": {
     "base_uri": "https://localhost:8080/",
     "height": 162
    },
    "colab_type": "code",
    "executionInfo": {
     "elapsed": 35856,
     "status": "ok",
     "timestamp": 1573999577846,
     "user": {
      "displayName": "abdurrehman sajid",
      "photoUrl": "https://lh3.googleusercontent.com/a-/AAuE7mApyvPZUhJ1rYT8bSAGZbYskaBLDYd-ZcC93q9DcA=s64",
      "userId": "12716921899312957319"
     },
     "user_tz": -300
    },
    "id": "_k_Vv_T0sZPt",
    "outputId": "9d4f5230-8eb7-4d02-f92d-39eb07566e79"
   },
   "outputs": [
    {
     "data": {
      "text/html": [
       "<div>\n",
       "<style scoped>\n",
       "    .dataframe tbody tr th:only-of-type {\n",
       "        vertical-align: middle;\n",
       "    }\n",
       "\n",
       "    .dataframe tbody tr th {\n",
       "        vertical-align: top;\n",
       "    }\n",
       "\n",
       "    .dataframe thead th {\n",
       "        text-align: right;\n",
       "    }\n",
       "</style>\n",
       "<table border=\"1\" class=\"dataframe\">\n",
       "  <thead>\n",
       "    <tr style=\"text-align: right;\">\n",
       "      <th></th>\n",
       "      <th>videoId</th>\n",
       "      <th>video_url</th>\n",
       "      <th>description</th>\n",
       "      <th>links</th>\n",
       "      <th>classification</th>\n",
       "    </tr>\n",
       "  </thead>\n",
       "  <tbody>\n",
       "    <tr>\n",
       "      <th>count</th>\n",
       "      <td>1065</td>\n",
       "      <td>1065</td>\n",
       "      <td>1041</td>\n",
       "      <td>1065</td>\n",
       "      <td>1065</td>\n",
       "    </tr>\n",
       "    <tr>\n",
       "      <th>unique</th>\n",
       "      <td>1065</td>\n",
       "      <td>1065</td>\n",
       "      <td>1027</td>\n",
       "      <td>844</td>\n",
       "      <td>2</td>\n",
       "    </tr>\n",
       "    <tr>\n",
       "      <th>top</th>\n",
       "      <td>jc9yMaIojXc</td>\n",
       "      <td>https://www.youtube.com/watch?v=jc9yMaIojXc</td>\n",
       "      <td>►Click here to download a FREE sound effect pa...</td>\n",
       "      <td>[]</td>\n",
       "      <td>b</td>\n",
       "    </tr>\n",
       "    <tr>\n",
       "      <th>freq</th>\n",
       "      <td>1</td>\n",
       "      <td>1</td>\n",
       "      <td>3</td>\n",
       "      <td>165</td>\n",
       "      <td>616</td>\n",
       "    </tr>\n",
       "  </tbody>\n",
       "</table>\n",
       "</div>"
      ],
      "text/plain": [
       "            videoId                                    video_url  \\\n",
       "count          1065                                         1065   \n",
       "unique         1065                                         1065   \n",
       "top     jc9yMaIojXc  https://www.youtube.com/watch?v=jc9yMaIojXc   \n",
       "freq              1                                            1   \n",
       "\n",
       "                                              description links classification  \n",
       "count                                                1041  1065           1065  \n",
       "unique                                               1027   844              2  \n",
       "top     ►Click here to download a FREE sound effect pa...    []              b  \n",
       "freq                                                    3   165            616  "
      ]
     },
     "execution_count": 257,
     "metadata": {},
     "output_type": "execute_result"
    }
   ],
   "source": [
    "# missing values\n",
    "data.describe()"
   ]
  },
  {
   "cell_type": "markdown",
   "metadata": {},
   "source": [
    "## We need to drop the indexes where the description is NULL, because these columns provide us with no useful information and will be a hinderence for our ML algorithm."
   ]
  },
  {
   "cell_type": "code",
   "execution_count": 258,
   "metadata": {
    "colab": {
     "base_uri": "https://localhost:8080/",
     "height": 753
    },
    "colab_type": "code",
    "executionInfo": {
     "elapsed": 35848,
     "status": "ok",
     "timestamp": 1573999577847,
     "user": {
      "displayName": "abdurrehman sajid",
      "photoUrl": "https://lh3.googleusercontent.com/a-/AAuE7mApyvPZUhJ1rYT8bSAGZbYskaBLDYd-ZcC93q9DcA=s64",
      "userId": "12716921899312957319"
     },
     "user_tz": -300
    },
    "id": "U3ASR6JWF1te",
    "outputId": "1a0d43f7-aa92-4cb4-f36e-9beb61e4859a"
   },
   "outputs": [
    {
     "name": "stdout",
     "output_type": "stream",
     "text": [
      "24\n"
     ]
    },
    {
     "data": {
      "text/html": [
       "<div>\n",
       "<style scoped>\n",
       "    .dataframe tbody tr th:only-of-type {\n",
       "        vertical-align: middle;\n",
       "    }\n",
       "\n",
       "    .dataframe tbody tr th {\n",
       "        vertical-align: top;\n",
       "    }\n",
       "\n",
       "    .dataframe thead th {\n",
       "        text-align: right;\n",
       "    }\n",
       "</style>\n",
       "<table border=\"1\" class=\"dataframe\">\n",
       "  <thead>\n",
       "    <tr style=\"text-align: right;\">\n",
       "      <th></th>\n",
       "      <th>videoId</th>\n",
       "      <th>video_url</th>\n",
       "      <th>description</th>\n",
       "      <th>links</th>\n",
       "      <th>classification</th>\n",
       "    </tr>\n",
       "  </thead>\n",
       "  <tbody>\n",
       "    <tr>\n",
       "      <th>25</th>\n",
       "      <td>KJSZrDa6_Bo</td>\n",
       "      <td>https://www.youtube.com/watch?v=KJSZrDa6_Bo</td>\n",
       "      <td>NaN</td>\n",
       "      <td>[]</td>\n",
       "      <td>f</td>\n",
       "    </tr>\n",
       "    <tr>\n",
       "      <th>32</th>\n",
       "      <td>mvnYLDHv_rk</td>\n",
       "      <td>https://www.youtube.com/watch?v=mvnYLDHv_rk</td>\n",
       "      <td>NaN</td>\n",
       "      <td>[]</td>\n",
       "      <td>f</td>\n",
       "    </tr>\n",
       "    <tr>\n",
       "      <th>106</th>\n",
       "      <td>UtPcLkJkups</td>\n",
       "      <td>https://www.youtube.com/watch?v=UtPcLkJkups</td>\n",
       "      <td>NaN</td>\n",
       "      <td>[]</td>\n",
       "      <td>f</td>\n",
       "    </tr>\n",
       "    <tr>\n",
       "      <th>107</th>\n",
       "      <td>e21diKeK0FU</td>\n",
       "      <td>https://www.youtube.com/watch?v=e21diKeK0FU</td>\n",
       "      <td>NaN</td>\n",
       "      <td>[]</td>\n",
       "      <td>b</td>\n",
       "    </tr>\n",
       "    <tr>\n",
       "      <th>117</th>\n",
       "      <td>yxw7RDgyb-M</td>\n",
       "      <td>https://www.youtube.com/watch?v=yxw7RDgyb-M</td>\n",
       "      <td>NaN</td>\n",
       "      <td>[]</td>\n",
       "      <td>f</td>\n",
       "    </tr>\n",
       "  </tbody>\n",
       "</table>\n",
       "</div>"
      ],
      "text/plain": [
       "         videoId                                    video_url description  \\\n",
       "25   KJSZrDa6_Bo  https://www.youtube.com/watch?v=KJSZrDa6_Bo         NaN   \n",
       "32   mvnYLDHv_rk  https://www.youtube.com/watch?v=mvnYLDHv_rk         NaN   \n",
       "106  UtPcLkJkups  https://www.youtube.com/watch?v=UtPcLkJkups         NaN   \n",
       "107  e21diKeK0FU  https://www.youtube.com/watch?v=e21diKeK0FU         NaN   \n",
       "117  yxw7RDgyb-M  https://www.youtube.com/watch?v=yxw7RDgyb-M         NaN   \n",
       "\n",
       "    links classification  \n",
       "25     []              f  \n",
       "32     []              f  \n",
       "106    []              f  \n",
       "107    []              b  \n",
       "117    []              f  "
      ]
     },
     "execution_count": 258,
     "metadata": {},
     "output_type": "execute_result"
    }
   ],
   "source": [
    "# missing description\n",
    "print(data.description.isnull().sum())\n",
    "series=data.description.isnull()\n",
    "data[series].head()"
   ]
  },
  {
   "cell_type": "code",
   "execution_count": 259,
   "metadata": {
    "colab": {
     "base_uri": "https://localhost:8080/",
     "height": 537
    },
    "colab_type": "code",
    "executionInfo": {
     "elapsed": 35844,
     "status": "ok",
     "timestamp": 1573999577858,
     "user": {
      "displayName": "abdurrehman sajid",
      "photoUrl": "https://lh3.googleusercontent.com/a-/AAuE7mApyvPZUhJ1rYT8bSAGZbYskaBLDYd-ZcC93q9DcA=s64",
      "userId": "12716921899312957319"
     },
     "user_tz": -300
    },
    "id": "I2-RYK4Kuo_N",
    "outputId": "1326948b-07b5-495f-9c76-95011e59a379"
   },
   "outputs": [
    {
     "name": "stdout",
     "output_type": "stream",
     "text": [
      "Dropped rows 165\n"
     ]
    },
    {
     "data": {
      "text/html": [
       "<div>\n",
       "<style scoped>\n",
       "    .dataframe tbody tr th:only-of-type {\n",
       "        vertical-align: middle;\n",
       "    }\n",
       "\n",
       "    .dataframe tbody tr th {\n",
       "        vertical-align: top;\n",
       "    }\n",
       "\n",
       "    .dataframe thead th {\n",
       "        text-align: right;\n",
       "    }\n",
       "</style>\n",
       "<table border=\"1\" class=\"dataframe\">\n",
       "  <thead>\n",
       "    <tr style=\"text-align: right;\">\n",
       "      <th></th>\n",
       "      <th>videoId</th>\n",
       "      <th>video_url</th>\n",
       "      <th>description</th>\n",
       "      <th>links</th>\n",
       "      <th>classification</th>\n",
       "    </tr>\n",
       "  </thead>\n",
       "  <tbody>\n",
       "    <tr>\n",
       "      <th>0</th>\n",
       "      <td>jc9yMaIojXc</td>\n",
       "      <td>https://www.youtube.com/watch?v=jc9yMaIojXc</td>\n",
       "      <td>Join sumonies.com by clicking here: http://sum...</td>\n",
       "      <td>['https://sumonies.com', 'https://sumonies.com...</td>\n",
       "      <td>f</td>\n",
       "    </tr>\n",
       "    <tr>\n",
       "      <th>1</th>\n",
       "      <td>jqxENMKaeCU</td>\n",
       "      <td>https://www.youtube.com/watch?v=jqxENMKaeCU</td>\n",
       "      <td>We are living in exceptional times. Scientists...</td>\n",
       "      <td>['https://www.home-2009.com', 'https://www.ppr...</td>\n",
       "      <td>b</td>\n",
       "    </tr>\n",
       "    <tr>\n",
       "      <th>2</th>\n",
       "      <td>0Fx9ahA0I4g</td>\n",
       "      <td>https://www.youtube.com/watch?v=0Fx9ahA0I4g</td>\n",
       "      <td>Join sumonies.com by clicking here: http://sum...</td>\n",
       "      <td>['https://sumonies.com', 'https://sumonies.com...</td>\n",
       "      <td>f</td>\n",
       "    </tr>\n",
       "    <tr>\n",
       "      <th>3</th>\n",
       "      <td>LvyJTvux99s</td>\n",
       "      <td>https://www.youtube.com/watch?v=LvyJTvux99s</td>\n",
       "      <td>When 2018 began, the Bitcoin bubble had yet to...</td>\n",
       "      <td>['https://bit.ly/thewrapytsub', 'https://bit.l...</td>\n",
       "      <td>b</td>\n",
       "    </tr>\n",
       "    <tr>\n",
       "      <th>4</th>\n",
       "      <td>TWls-kXR-WQ</td>\n",
       "      <td>https://www.youtube.com/watch?v=TWls-kXR-WQ</td>\n",
       "      <td>http://ucemoney.bid/8381807950519/ here is my ...</td>\n",
       "      <td>['https://ucemoney.bid/8381807950519/']</td>\n",
       "      <td>f</td>\n",
       "    </tr>\n",
       "  </tbody>\n",
       "</table>\n",
       "</div>"
      ],
      "text/plain": [
       "       videoId                                    video_url  \\\n",
       "0  jc9yMaIojXc  https://www.youtube.com/watch?v=jc9yMaIojXc   \n",
       "1  jqxENMKaeCU  https://www.youtube.com/watch?v=jqxENMKaeCU   \n",
       "2  0Fx9ahA0I4g  https://www.youtube.com/watch?v=0Fx9ahA0I4g   \n",
       "3  LvyJTvux99s  https://www.youtube.com/watch?v=LvyJTvux99s   \n",
       "4  TWls-kXR-WQ  https://www.youtube.com/watch?v=TWls-kXR-WQ   \n",
       "\n",
       "                                         description  \\\n",
       "0  Join sumonies.com by clicking here: http://sum...   \n",
       "1  We are living in exceptional times. Scientists...   \n",
       "2  Join sumonies.com by clicking here: http://sum...   \n",
       "3  When 2018 began, the Bitcoin bubble had yet to...   \n",
       "4  http://ucemoney.bid/8381807950519/ here is my ...   \n",
       "\n",
       "                                               links classification  \n",
       "0  ['https://sumonies.com', 'https://sumonies.com...              f  \n",
       "1  ['https://www.home-2009.com', 'https://www.ppr...              b  \n",
       "2  ['https://sumonies.com', 'https://sumonies.com...              f  \n",
       "3  ['https://bit.ly/thewrapytsub', 'https://bit.l...              b  \n",
       "4            ['https://ucemoney.bid/8381807950519/']              f  "
      ]
     },
     "execution_count": 259,
     "metadata": {},
     "output_type": "execute_result"
    }
   ],
   "source": [
    "# droping rows which dont have links and description\n",
    "new_data =data[ data.links != '[]' ]\n",
    "print('Dropped rows'  , len(data)-len(new_data))\n",
    "new_data.head()"
   ]
  },
  {
   "cell_type": "markdown",
   "metadata": {},
   "source": [
    "## There are 141 empty slots for links. These links can be extracted from the description."
   ]
  },
  {
   "cell_type": "code",
   "execution_count": 260,
   "metadata": {
    "colab": {
     "base_uri": "https://localhost:8080/",
     "height": 391
    },
    "colab_type": "code",
    "executionInfo": {
     "elapsed": 35849,
     "status": "ok",
     "timestamp": 1573999577856,
     "user": {
      "displayName": "abdurrehman sajid",
      "photoUrl": "https://lh3.googleusercontent.com/a-/AAuE7mApyvPZUhJ1rYT8bSAGZbYskaBLDYd-ZcC93q9DcA=s64",
      "userId": "12716921899312957319"
     },
     "user_tz": -300
    },
    "id": "1M_nIJKfunsQ",
    "outputId": "6f0ec085-d7b7-4cb0-8d14-20e6cf8b4d98"
   },
   "outputs": [
    {
     "data": {
      "text/plain": [
       "0"
      ]
     },
     "execution_count": 260,
     "metadata": {},
     "output_type": "execute_result"
    }
   ],
   "source": [
    "# missing links\n",
    "new_data[new_data.links=='[]'][\"links\"].count()"
   ]
  },
  {
   "cell_type": "code",
   "execution_count": 261,
   "metadata": {
    "colab": {
     "base_uri": "https://localhost:8080/",
     "height": 407
    },
    "colab_type": "code",
    "executionInfo": {
     "elapsed": 35830,
     "status": "ok",
     "timestamp": 1573999577860,
     "user": {
      "displayName": "abdurrehman sajid",
      "photoUrl": "https://lh3.googleusercontent.com/a-/AAuE7mApyvPZUhJ1rYT8bSAGZbYskaBLDYd-ZcC93q9DcA=s64",
      "userId": "12716921899312957319"
     },
     "user_tz": -300
    },
    "id": "9TPMUxav2qV6",
    "outputId": "1058ab5b-0fb4-4bd5-80a4-c4bdb637b2d2",
    "scrolled": true
   },
   "outputs": [
    {
     "name": "stderr",
     "output_type": "stream",
     "text": [
      "/tmp/ipykernel_946267/3646637993.py:1: FutureWarning: The default value of regex will change from True to False in a future version.\n",
      "  new_data.loc[:, 'links']= new_data['links'].str.replace(r\"[\\[\\]|\\'| ]\" ,\"\")\n",
      "/home/dong/.local/lib/python3.8/site-packages/pandas/core/indexing.py:1951: SettingWithCopyWarning: \n",
      "A value is trying to be set on a copy of a slice from a DataFrame.\n",
      "Try using .loc[row_indexer,col_indexer] = value instead\n",
      "\n",
      "See the caveats in the documentation: https://pandas.pydata.org/pandas-docs/stable/user_guide/indexing.html#returning-a-view-versus-a-copy\n",
      "  self.obj[selected_item_labels] = value\n"
     ]
    },
    {
     "data": {
      "text/plain": [
       "0    [https://sumonies.com, https://sumonies.com/?r...\n",
       "1    [https://www.home-2009.com, https://www.ppr.co...\n",
       "2    [https://sumonies.com, https://sumonies.com/?r...\n",
       "3    [https://bit.ly/thewrapytsub, https://bit.ly/t...\n",
       "4                [https://ucemoney.bid/8381807950519/]\n",
       "Name: links, dtype: object"
      ]
     },
     "execution_count": 261,
     "metadata": {},
     "output_type": "execute_result"
    }
   ],
   "source": [
    "new_data.loc[:, 'links']= new_data['links'].str.replace(r\"[\\[\\]|\\'| ]\" ,\"\")\n",
    "new_data.loc[:, 'links']= new_data['links'].apply(lambda x: x.split(\",\") )\n",
    "new_data.links.head()"
   ]
  },
  {
   "cell_type": "code",
   "execution_count": 262,
   "metadata": {},
   "outputs": [
    {
     "name": "stdout",
     "output_type": "stream",
     "text": [
      "['https://sumonies.com', 'https://sumonies.com/?r=119010']\n",
      "['https://www.home-2009.com', 'https://www.ppr.com', 'https://www.actioncarbone.org', 'https://www.goodplanet.info']\n",
      "['https://sumonies.com', 'https://sumonies.com/?r=116884']\n",
      "['https://bit.ly/thewrapytsub', 'https://bit.ly/thewrapnewsletter', 'https://bit.ly/thewraptwfollow', 'https://bit.ly/thewrapig', 'https://www.thewrap.com']\n",
      "['https://ucemoney.bid/8381807950519/']\n",
      "['https://sumonies.com', 'https://sumonies.com/?r=115595']\n",
      "['https://thepocketmoney.online/?userid=12080']\n",
      "['https://za.gl/ref/sanjayb188']\n",
      "['https://www.123marketingtips.com']\n",
      "['https://csl.ink/3wx5', 'https://www.clixsense.com/?12970154', 'https://www.neobux.com/m/v/?rh=4e4153495253414e493835']\n",
      "['https://skrilo.app.link/ez4v9bvcgo']\n",
      "['https://mediaearns.com', 'https://mediaearns.com/?r=6889']\n",
      "['https://mediaearns.com', 'https://mediaearns.com/?r=7547']\n",
      "['https://www.star-clicks.com/publishers?ref=125245']\n",
      "['https://fastrocketresults.com/subscribe-now', 'https://www.youtube.com/watch?v=x2ourfylxpm', 'https://fastrocketresults.com/subscribe-now', 'https://www.youtube.com/watch?v=3ck6x2_ojjc&index=2&list=pls8qsrvju0xpctqnlzn8kleamcrxa4oum&t=1s', 'https://www.youtube.com/watch?v=xejt7fh2auk']\n",
      "['https://bit.ly/2hudepq', 'https://bit.ly/2smegiv', 'https://www.youtube.com/channel/ucvph', 'https://www.facebook.com/znt-videos-1']\n",
      "['https://sumonies.com', 'https://sumonies.com/?r=115595']\n",
      "['https://www.socialaddworld.us.com/registration.aspx?spnid=7248142944']\n",
      "['https://ads4btc.com/?r=milind_bhoyar86']\n",
      "['https://tiny.cc/3ylp1w']\n",
      "['https://www.advertslab.com/index.php?ref=nitin420', 'https://www.youtube.com/watch?v=5aqzyokmzpy', 'https://www.advertslab.com']\n",
      "['https://sharearns.com', 'https://sharearns.com/?r=10679']\n",
      "['https://www.youtube.com/channel/ucygsml2wfht3fzfbez3pj9q?view_as=subscriber', 'https://www.familyclix.com/index.php?view=ads', 'https://www.youtube.com/channel/ucygsml2wfht3fzfbez3pj9q?view_as=subscriber', 'https://www.facebook.com/waqas6056/', 'https://twitter.com/waq6056_ali', 'https://www.dailymotion.com/waq6056']\n",
      "['https://play.google.com/store/apps/details?id=com.freevpn.vpn_master']\n",
      "['https://www.neobux.com/?rh=617268616d343639']\n",
      "['https://plus.google.com/101378185703984670572', 'https://www.facebook.com/profile.php?id=100007998222202', 'https://www.facebook.com/rktechnicalnnewbrand/notifications/', 'https://www..com/channel/ucp3vmwojeqwuxmqjm60atmg']\n",
      "['https://exemoney.club/8543047233025/']\n",
      "['https://bit.ly/1ajn7a5', 'https://bit.ly/1ajn7a5']\n",
      "['https://pl.moshoppa.com/']\n",
      "['https://www.youtube.com/channel/uccjjkvxbhepuivxmyb4lf4g']\n",
      "['https://www.buxp.com']\n",
      "['https://tumblr.com', 'https://blogger.com', 'https://jumblejumbleblog.blogspot.com/', 'https://loveandpartyfiction.tumblr.com/', 'https://ryanronaldlife.tumblr.com/', 'https://gestyy.com/wiu4ho', 'https://gestyy.com/wiu4bh', 'https://gestyy.com/wiu5rb', 'https://gestyy.com/wiu5j1', 'https://gestyy.com/wiu5ox', 'https://gestyy.com/wiu6uf', 'https://gestyy.com/wiu6x4', 'https://gestyy.com/wiu6a7', 'https://gestyy.com/wiu6mk', 'https://gestyy.com/wiu7wr', 'https://gestyy.com/wiu7fi', 'https://gestyy.com/wiu7b7', 'https://gestyy.com/wiu8tr', 'https://gestyy.com/wiu8mc', 'https://gestyy.com/wiu8gu', 'https://gestyy.com/wiu8zd', 'https://gestyy.com/wiu9wt', 'https://gestyy.com/wiu9s3', 'https://gestyy.com/wiu9mq', 'https://gestyy.com/wii0ui', 'https://ceesty.com/whlt8h', 'https://corneey.com/whxkkl', 'https://corneey.com/whxk9t', 'https://corneey.com/whvgoz', 'https://corneey.com/whvlrj', 'https://gestyy.com/wii0gz', 'https://gestyy.com/wii02f', 'https://gestyy.com/wiiqrr', 'https://gestyy.com/wiiqwx', 'https://wrafwhorl6.cf/mpublic.php?uid=214817096', 'https://mining.freebitco.in/mining.html?userid=7073665', 'https://ceesty.com/wgzzy7', 'https://ceesty.com/wgzzzt', 'https://ceesty.com/wgzz6u', 'https://ceesty.com/wgzxis', 'https://ceesty.com/wgzxhj', 'https://ceesty.com/wgzxnr', 'https://ceesty.com/wp5dnp', 'https://ceesty.com/wp5dnk', 'https://ceesty.com/wp5d7x', 'https://ceesty.com/wp5fua', 'https://gestyy.com/wjjmsu', 'https://gestyy.com/wjjmnu', 'https://gestyy.com/wjjmj9', 'https://gestyy.com/wjjqqx', 'https://gestyy.com/wjjqzv', 'https://gestyy.com/wjjqga', 'https://gestyy.com/wjjq3u', 'https://gestyy.com/wjjwau', 'https://gestyy.com/wjjwjr', 'https://gestyy.com/wjjwvs']\n",
      "['https://www.paidverts.com/', 'https://www.youtube.com/channel/ucv60oxgwtusihrga7f8u0aq', 'https://plus.google.com/u/1/101386378887725716290', 'https://www.facebook.com/sherry.chaudry.11', 'https://www.instagram.com/sherry_chaudry1/']\n",
      "['https://pl.moshoppa.com/']\n",
      "['https://profitclicking.com/?r=iqvpwnj9lh']\n",
      "['https://www.learn-stock-options-trading.com', 'https://www.learn-stock-options-trading.com/successacademy']\n",
      "['https://jrweb-services.info/make-money-online.html']\n",
      "['https://wad.ojooo.com/register.php', 'https://www.amazon.in/gp/aw/d/b01hurkik2/ref=mp_s_a_1_5?ie=utf8&qid=1489307207&sr=8-5π=ac_sx118_sy170_fmwebp_ql65&keywords=mike&dppl=1&dpid=41dyookqmwl&ref=plsrch', 'https://www.amazon.in/gp/aw/d/b015kqiy1u/ref=mp_s_a_1_1?ie=utf8&qid=1489307394&sr=8-1π=ac_sx118_sy170_fmwebp_ql65&keywords=j2&dppl=1&dpid=413-wk0iyrl&ref=plsrch', 'https://www.amazon.in/gp/aw/d/b00vt61ika/ref=mp_s_a_1_1?ie=utf8&qid=1489307457&sr=8-1π=ac_sx118_sy170_fmwebp_ql65&keywords=70d&dppl=1&dpid=51%2blc43hual&ref=plsrch', 'https://www.amazon.in/gp/aw/d/b00sh7qpji/ref=mp_s_a_1_4?ie=utf8&qid=1489307544&sr=8-4π=ac_sx118_sy170_fmwebp_ql65&keywords=gorilla+pod&dppl=1&dpid=41mxwqqmrsl&ref=plsrch', 'https://www.youtube.com/watch?v=zph5_xx2cgs']\n",
      "['https://ahumoney.site/9133823455632/']\n",
      "['https://amzn.to/2ppxodz', 'https://amzn.to/2onczbo', 'https://amzn.to/2okkucd', 'https://amzn.to/2ry0jik', 'https://amzn.to/2zya29g', 'https://amzn.to/2nv4rzk', 'https://amzn.to/2cxqge0', 'https://amzn.to/2yx3lhx', 'https://amzn.to/2cvpxnj', 'https://amzn.to/2c3k1lz', 'https://youtu.be/rnix5uar3hc', 'https://youtu.be/dwgtpxjeemw', 'https://amzn.to/2kvdfkn', 'https://amzn.to/2ij3jul', 'https://amzn.to/2rdhgbr', 'https://amzn.to/2kuuyzt', 'https://goo.gl/rkppbu']\n",
      "['https://www.xrptipbot.com/u:hammertoe/n:twitter?amount=3']\n",
      "['https://za.gl/ref/gauravagarwal', 'https://www.instagram.com/gaurav_agarwal10/', 'https://2.my', 'https://app.appsgeyser.com/6795098/technical%20gaurav', 'https://3.my', 'https://browser.mcent.com/r/nvauow9mspwsmvjv3udfag', 'https://za.gl', 'https://za.gl', 'https://za.gl', 'https://za.gl', 'https://za.gl', 'https://za.gl', 'https://za.gl', 'https://moneza.gl', 'https://za.gl']\n",
      "['https://pl.moshoppa.com/']\n",
      "['https://linkshrink.net/7xurlj']\n",
      "['https://www.roudycash.com/?r=registeruser']\n",
      "['https://wad.ojooo.com/register.php?ref=saeedanwar1', 'https://www.neobux.com/?r=saeedanwar1', 'https://youtu.be/zelyf_nlnds', 'https://youtu.be/julp-qxrzee', 'https://youtu.be/7vyqa5mxgby', 'https://youtu.be/yoycvz-xbg4', 'https://youtu.be/ajcmgrcgsug', 'https://youtu.be/m99ho2bjzpg', 'https://www.youtube.com/watch?v=6omh6ora7ao', 'https://www.youtube.com/my_videos?o=u']\n",
      "['https://adf.ly/yea4m', 'https://twitter.com/bariulkhan', 'https://www.facebook.com/bariul.alam.7', 'https://www.facebook.com/pages/online-earning/1439725049606300', 'https://www.facebook.com/groups/347927548722622', 'https://plus.google.com/u/0/+maryfgardner']\n",
      "['https://www.amazon.com/dp/b0768bzkts']\n",
      "['https://www.youtube.com/channel/ucxw20ids6ypk3mjrcijke8g', 'https://www.facebook.com/lra.carasco08', 'https://yeheey.biz', 'https://www.facebook.com/ponla-i-cafe-1587927368145589/']\n",
      "['https://ouo.reus.online/347175162013/']\n",
      "['https://www.goalgovernmentjob.com/2019/02/attorney-insurance-app.html']\n",
      "['https://www.youtube.com/jazzwealth?sub_confirmation=1', 'https://www.jazzwealth.com', 'https://www.facebook.com/jazzwealth/']\n",
      "['https://www.neobux.com/?r=wannaaadell']\n",
      "['https://www.facebook.com/kaushal.lohorung/?pnref=story', 'https://www.grandbux.net/index.php?view=register', 'https://www.youtube.com/watch?v=cebcmmomt-k']\n",
      "['https://onlinesoftteach.com', 'https://onlinesoftteach.com/', 'https://www.youtube.com/channel/uck2z520svdvsvjfyw95f9iw', 'https://www.facebook.com/iphone-apps-development-free-tranning-center-1622491141329165/', 'https://www.facebook.com/groups/259230864266292/', 'https://www.instagram.com/online_soft_teach/', 'https://twitter.com/shahhussain0302']\n",
      "['https://play.google.com/store/apps/details?id=com.money.empire&hl=en', 'https://nimbleinity.com/1uq0']\n",
      "['https://legitptcsitesthatpay.blogspot.com/']\n",
      "['https://drive.google.com/open?id=1o3h-cenoadnb04elh__csftfwfwkqv06']\n",
      "['https://twitter.com/bridgeofknow', 'https://www.instagram.com/bridgeofknowledge', 'https://makeyourselfproud457.blogspot.com', 'https://www.youtube.com/channel/ucgpqugeh6zyjj0y7u25qemw', 'https://www.youtube.com/watch?v=ru09r8wmjta&t=1s', 'https://www.youtube.com/watch?v=cxshs3x3vg8', 'https://www.youtube.com/watch?v=fg4nnbzkwna', 'https://www.youtube.com/watch?v=__yy_5nfy5o', 'https://www.youtube.com/watch?v=8l0n4y022pg', 'https://www.youtube.com/watch?v=remkawu_8vs', 'https://www.youtube.com/watch?v=lqe0va51ldc', 'https://www.youtube.com/watch?v=2rqup7-zzhq&t=36s', 'https://www.youtube.com/watch?v=okzrcg2ap1m', 'https://www.youtube.com/watch?v=cz27calwtee', 'https://www.youtube.com/watch?v=o4rekejgmay', 'https://www.youtube.com/watch?v=ms1xaotyfmu', 'https://www.youtube.com/watch?v=agjnonf1rgc']\n",
      "['https://linkshrink.net/7rwuce']\n",
      "['https://jrweb-services.info/make-money-online.html']\n",
      "['https://www.twodollarclick.com/index.php?ref=satyashrm711']\n",
      "['https://clk.press/xbiem']\n",
      "['https://chat.whatsapp.com/drbf75dalmn0a2qbuvmhnh']\n",
      "['https://www.youtube.com/watch?v=mm6ohn5jfd4', 'https://www.sitecoin.com/?r=numan0056']\n",
      "['https://www.cashnhits.com/index.php?ref=raheelbi']\n",
      "['https://adf.ly/1bopgu']\n",
      "['https://bit.ly/1omq5de']\n",
      "['https://app.aliceblueonline.com/openaccount.aspx?c=cta', 'https://twitter.com/chennaittradin1', 'https://www.facebook.com/chennaitradingacademy/', 'https://www.linkedin.com/in/chennai-trading-academy-cta-b0571b165/']\n",
      "['https://linkshrink.net/7onrmw', 'https://linkshrink.net/76vskk', 'https://linkshrink.net/ref=f6vmn']\n",
      "['https://www.clixsense.com', 'https://youtu.be/sdjiziikeqm', 'https://youtu.be/r4ouyy_0g5k', 'https://youtu.be/n6xupzxkug8', 'https://youtu.be/1kazfctj_yi']\n",
      "['https://www.youtube.com/channel/ucxzxsii8o4qulyuc4hgkwng?app=desktop', 'https://www.facebook.com/groups/247607985866138/', 'https://youtu.be/l2sybinwrz8', 'https://youtu.be/mopdianq-ng', 'https://youtu.be/4y7otp2yu3e', 'https://youtu.be/gpjug7blxba']\n",
      "['https://wad.ojooo.com/register.php?ref=shashiprakash00']\n",
      "['https://system.8020research.com', 'https://top3.8020research.com', 'https://followme.8020research.com', 'https://subscribe.8020research.com', 'https://8020research.com', 'https://8020research.com/yt', 'https://8020research.com/fbgroup', 'https://8020research.com/top3-facebook', 'https://twitter.com/8020tiz', 'https://8020research.com']\n",
      "['https://goo.gl/ck3u3y', 'https://aurumclix.com']\n",
      "['https://chat.whatsapp.com/4bvjjlh5yhqjqseeejvbbp', 'https://play.google.com/store/apps/details?id=com.zenmate.android']\n",
      "['https://www.admimsy.com?r=maxitube', 'https://www.earn-clicking.webs.com/', 'https://www.facebook.com/pages/earn-clicking/110994642400038']\n",
      "['https://youtu.be/0fdxetpylig', 'https://youtu.be/gpblabdnhdi', 'https://youtu.be/uzdnhgy7udm', 'https://youtu.be/0qpsjhwm-fe']\n",
      "['https://www.matrix-ptc.com/?ref=trikpa']\n",
      "['https://www.youtube.com/watch?v=kcu52jmayj0']\n",
      "['https://bit.ly/2tbie6x']\n",
      "['https://www.newsy.com/84046/', 'https://www.newsy.com', 'https://www.facebook.com/newsyvideos', 'https://www.twitter.com/newsy']\n",
      "['https://www.clicxmoney.com/?ref=jackpot']\n",
      "['https://www.fortadpays.com/promo/splashpage.php?ref=237912&id=1']\n",
      "['https://jessicahadari.com']\n",
      "['https://ecomoney.club/2476841999688/']\n",
      "['https://www.genuineonlinefreejobs.com/2015/04/top-10-genuine-ptc-sites-best-paid-to.html']\n",
      "['https://www.neobux.com/?r=ramhari2157']\n",
      "['https://www.neobux.com/?rh=64757267613134337665', 'https://fleex.cc/ref/gua143', 'https://elvengold.com/r/209530', 'https://vixice.com/?ref=v9fmq4', 'https://minecloud.io/?in=gua143', 'https://coinbuzz.club/?ref=gua143', 'https://www.clixsense.com/?8811624', 'https://freebitco.in/?r=2856122', 'https://freedoge.co.in/?r=869483', 'https://btcclicks.com/?r=9d6f2689', 'https://tomygame.com/?ref=gua143', 'https://byteverts.com/index.php?ref=gua143', 'https://paidverts.com/ref/gua143', 'https://lightverts.com/?ref=gua143', 'https://bitcofarm.com/home?r=admin143', 'https://bitter.io/?r=586249', 'https://bitcolesium.com/?ref=gua143', 'https://qoinpro.com/8a0d92202524d28fbd3ae1488260fd88', 'https://247bitcoins.net/?ref=gua143', 'https://coinshourly.com/signup.php?ref=gua143']\n",
      "['https://ref.adbtc.top/203610', 'https://ref.adbtc.top/203610', 'https://ref.adbtc.top/203610', 'https://goo.gl/gfutcy', 'https://goo.gl/89yqh2', 'https://www.facebook.com/groups/makemoneyonlineph2017/', 'https://www.youtube.com/watch?v=3hpbqudrhky', 'https://www.youtube.com/watch?v=9rjivari3hk', 'https://www.youtube.com/watch?v=m9_cqrrfdjm', 'https://www.youtube.com/watch', 'https://www.youtube.com/watch?v=n04geq2lbq0', 'https://www.youtube.com/watch', 'https://www.youtube.com/watch', 'https://www.youtube.com/watch?v=4htfpbhijx0', 'https://www.youtube.com/watch?v=u54dt33kuhc', 'https://www.youtube.com/watch?v=4cialivpyim', 'https://www.youtube.com/watch?v=t0cvg9iu51e', 'https://me.so']\n",
      "['https://amzn.to/2ppxodz', 'https://amzn.to/2onczbo', 'https://amzn.to/2okkucd', 'https://amzn.to/2ry0jik', 'https://amzn.to/2zya29g', 'https://amzn.to/2nv4rzk', 'https://amzn.to/2cxqge0', 'https://amzn.to/2yx3lhx', 'https://amzn.to/2cvpxnj', 'https://amzn.to/2c3k1lz', 'https://youtu.be/rnix5uar3hc', 'https://youtu.be/dwgtpxjeemw', 'https://amzn.to/2kvdfkn', 'https://amzn.to/2ij3jul', 'https://amzn.to/2rdhgbr', 'https://amzn.to/2kuuyzt', 'https://goo.gl/rkppbu']\n",
      "['https://www.chaikinanalytics.com/today']\n",
      "['https://goo.gl/s4nk8u', 'https://investment.com']\n",
      "['https://petty.link/qjr09', 'https://petty.link/ux1d', 'https://petty.link/uhg9l6qo', 'https://pettyhello', 'https://petty.link/coqiya', 'https://petty.link/mjuqw5', 'https://petty.link/jqu73', 'https://petty.link/qjr09', 'https://petty.link/ux1d', 'https://petty.link/uhg9l6qo', 'https://petty.link/z1q5.link/z1q5']\n",
      "['https://adf.ly/1zjr8a']\n",
      "['https://www.paypal.com', 'https://www.goo.gl/felgu', 'https://earnwithoutinvesmentfree.blogspot.in']\n",
      "['https://youtu.be/n3xtsiw78wg', 'https://bit.ly/2kqgj0i', 'https://eepurl.com/c9rag1', 'https://www.instagram.com/thenaughtyinvestor/', 'https://steemit.com/@naughtyinvestor', 'https://cex.io/r/0/up107571407/0/', 'https://amzn.to/2hbhamu', 'https://selz.co/4j3aw7aqn', 'https://amzn.to/2gicwgq', 'https://bit.ly/2hf2ftf', 'https://bit.ly/2pi4rjq', 'https://www.binance.com/?ref=27529551', 'https://share.robinhood.com/philipm72', 'https://www.fiverr.com/s2/3034687225']\n",
      "['https://chat.whatsapp.com/3i5ofnjwdk2lmbmwvnnbxk']\n",
      "['https://www.admob.com', 'https://beta.thunkable.com', 'https://drive.google.com/open?id=1himjvizfe2tgnpohabybjottbjhffgk4', 'https://youtu.be/z3pzypdnhda', 'https://youtu.be/skacw4b2swc', 'https://youtu.be/qx_ssjl9b2y', 'https://youtu.be/r2ijbbxakdi', 'https://youtu.be/0jufkt1k1ey', 'https://youtu.be/ltkk8h73ogy', 'https://youtu.be/mvpbklrzrbm', 'https://youtu.be/zz7s3spygsg', 'https://youtu.be/yreakiddokg', 'https://youtu.be/9cb2g0que84', 'https://youtu.be/9dlhsjorzlk', 'https://youtu.be/z3pzypdnhda', 'https://soundcloud.com/kontekstmusic', 'https://creativecommons.org/licenses/b', 'https://youtu.be/b6jk2t3lcrs']\n",
      "['https://www.youtube.com/channel/uctnx89y9-p_ggoxbocsabrg?sub_confirmation=1', 'https://sevendollarclick.com']\n",
      "['https://www.bestptc.org']\n",
      "['https://q.gs/ege9q']\n",
      "['https://www.prlog.org/11961503-best-paying-ptc-sites-payment-proofs-updated-daily.html']\n",
      "['https://www.clickadpays.com/index.php?ref=20576']\n",
      "['https://lapcode.blogspot.com', 'https://buxinc.com']\n",
      "['https://goo.gl/t8itga']\n",
      "['https://www.clickguardian.co.uk']\n",
      "['https://bit.ly/aayoutubex']\n",
      "['https://www.youtube.com/watch?v=mm6ohn5jfd4', 'https://www.raisepoints.com/?r=numan0056', 'https://www.raisepoints.com/?r=numan0056']\n",
      "['https://infinitymailerboost.com/dasprakash41', 'https://ptcclikers.blogspot.com/', 'https://www.facebook.com/online-earning-mentor-160337734602862/', 'https://twitter.com/prakashdasoem', 'https://youtube.com/onlineearningmentor']\n",
      "['https://m.youtube.com/channel/ucoe0z6ojqvgaenpzumuuyea', 'https://www.instagram.com/hackers_k/', 'https://www.facebook.com/sherazraisani/', 'https://mobile.twitter.com/sherazraisani']\n",
      "['https://neo.org/', 'https://www.binance.com/', 'https://www.kucoin.com/', 'https://wavesplatform.com/', 'https://ark.io/', 'https://www.powh.io/', 'https://goo.gl/ogwmrc', 'https://forms.aweber.com/form/75/120106775.htm', 'https://get.cryptobrowser.site/en/333000', 'https://moonbit.co.in/?ref=e5d229e1ed43', 'https://simplepospool.com/?ref=cryptowealth', 'https://ref.adbtc.top/827114', 'https://www.easyhits4u.com/?ref=rnstud', 'https://www.coinbase.com/join/515c3ee66ec9a1cc66000063']\n",
      "['https://www.meredith.edu/school-of-business']\n",
      "['https://ezomoney.club/2054199917485/', 'https://ezomoney.club/2054199917485/']\n",
      "['https://www.neobux.com/?rh=6d69746b6f6f73747a']\n",
      "['https://getmyads.com', 'https://goo.gl/ezkzho', 'https://goo.gl/efqrmd', 'https://goo.gl/oubjff', 'https://goo.gl/5in3fc', 'https://goo.gl/1pucrt', 'https://link.zebpay.com/ref/ref66523197', 'https://www.youtube.com/watch?v=zumcqvlgy-u']\n",
      "['https://youtu.be/rfsouoabkim', 'https://youtu.be/zksbbrgjcz4', 'https://youtu.be/qotvr7jmdio', 'https://youtu.be/vksx8c9ahgo', 'https://youtu.be/gypqvig5dyg', 'https://www.pakteach.site/', 'https://www.facebook.com/groups/108559346677060/']\n",
      "['https://zafarstocks.com/pakistan-stock-exchange-trading-account-online', 'https://zafarstocks.com', 'https://web.facebook.com/zafarstocks1/', 'https://www.facebook.com/groups/zafarsecurities/', 'https://zafarstocks.com/daily-updates-trading-news', 'https://zafarstocks.com/subscribe-for-daily-email-updates', 'https://twitter.com/zafarstocks', 'https://plus.google.com/+zafarstocks']\n",
      "['https://chat.whatsapp.com/3by9z6m3xryewfzt5zrs8c', 'https://play.google.com/store/apps/details?id=com.appybuilder.bingoapps18.money_bux']\n",
      "['https://30385716.earntalktime.com', 'https://30385716.earntalktime.com', 'https://www.facebook.com/shakyatech', 'https://www.capchaclub.com']\n",
      "['https://mediaearns.com', 'https://mediaearns.com/?r=6260', 'https://mediaearns.com/?id=6260', 'https://www.mdaontalhteraf219.tk/2018/07/blog-post_5.html#.wz53vba0ef4.whatsapp']\n",
      "['https://www.neobux.com/?r=dirven', 'https://www.youtube.com/channel/ucutn', 'https://www.youtube.com/watch?v=8tucimc4ygm']\n",
      "['https://corneey.com/wd62pm']\n",
      "['https://www.neobux.com/?rh=73616c6d616e6661686164']\n",
      "['https://www.phd-clix.com/?ref=kraso89']\n",
      "['https://cuon.io/tcgh5', 'https://www.storiedd.ga']\n",
      "['https://chat.whatsapp.com/4xizebv646f1imzn3hlpge']\n",
      "['https://madridteacher.com']\n",
      "['https://adf.ly/17pmyt']\n",
      "['https://goo.gl/3iwsmw', 'https://youtu.be/nnkagexeehu', 'https://youtu.be/gbltawbzlqe', 'https://youtu.be/wmne51rdv58', 'https://youtu.be/pz5jm7xms1s', 'https://youtu.be/khalrtpqfkw', 'https://youtu.be/5ubk5pbghag', 'https://youtu.be/obvdsfjviwu', 'https://youtu.be/eaoyuwz9d-4', 'https://youtu.be/axmtcgl0eyk', 'https://youtu.be/c-5atfar0g4', 'https://youtu.be/krsbguo48ps', 'https://youtu.be/wnkxkxhqvso', 'https://youtu.be/cumbljdzsam', 'https://youtu.be/8pibbrnqkym', 'https://youtu.be/oxclh5db_9m', 'https://youtu.be/sx3fkl1nyqe', 'https://goo.gl/jvpvh7', 'https://goo.gl/ieyq3e', 'https://goo.gl/xkygd2', 'https://www.computerinhindi.in/']\n",
      "['https://qm.ee/866d63ed', 'https://qm.ee/866d63ed']\n",
      "['https://stock-market-mastery-group.teachable.com/p/stock-market-mastery-course']\n",
      "['https://bit.ly/dhy7zh', 'https://bit.ly/dhy7zh', 'https://www.supremobux.com']\n",
      "['https://www.twickerz.com/?ref=herlembu', 'https://www.twickerz.com/banner/468x60-1.gif']\n",
      "['https://tradeproacademy.com/pricing/', 'https://tradeproacademy.com/3secretindicators/', 'https://tradeproacademy.com/courses/trading-foundations-course/', 'https://www.facebook.com/groups/tradepros/']\n",
      "['https://youtu.be/6j4eo5ofcxq', 'https://play.google.com/store/apps/details?id=free.vpn.unblock.proxy.turbovpn', 'https://drive.google.com/file/d/1ibrdij4lcxjn3x-u5idkyydlbbkfnb8i/view?usp=drivesdk', 'https://drive.google.com/file/d/1ex01rvzzxp-ci6_ds3vb0azyn8hq_yw3/view?usp=drivesdk', 'https://drive.google.com/file/d/18ufeqct-mh8imtftot4nmhcy1c9him6o/view?usp=drivesdk']\n",
      "['https://www.neobux.com', 'https://www.youtube.com/c/gadgetsbuster', 'https://www.facebook.com/gad.bust', 'https://www.twitter.com/gadgets_buster', 'https://www.instagram.com/gadgets_buster', 'https://www.ravenprodesign.com', 'https://www.technicoz.com', 'https://www.youtube.com/watch?v=rz4a1ojysma']\n",
      "['https://wad.ojooo.com/register.php?ref=nayaj8055']\n",
      "['https://www.alivematrix.com/dynamo', 'https://www.facebook.com/pages/alive-matrix/1454194268178693?ref_type=bookmark']\n",
      "['https://goo.gl/4hnswz', 'https://goo.gl/nx4kdz']\n",
      "['https://hits4pay.com', 'https://hits4pay.com/members/index.cgi?drewmumaw', 'https://ezvid.com']\n",
      "['https://tradingshero.blogspot.in']\n",
      "['https://trck.me/401234/', 'https://www.fb.me/jedimarketer', 'https://trck.me/401234/']\n",
      "['https://krown-trading.teachable.com/?affcode=236462_cup3naq0', 'https://www.hypedoncrypto.com/triage-for-the-losing-trader-i/', 'https://www.youtube.com/channel/ucnwxzpfzzntlh8ngtearofa', 'https://discord.gg/hzku7qe', 'https://www.hypedoncrypto.com/discord', 'https://www.hypedoncrypto.com', 'https://restream.io/']\n",
      "['https://tinyurl.com/ytpaidtoclick', 'https://tinyurl.com/ytpaidtoclick', 'https://tinyurl.com/ytpaidtoclick', 'https://tinyurl.com/ytpaidtoclick', 'https://tinyurl.com/ytpaidtoclick', 'https://paidtoclick.in', 'https://tinyurl.com/ytpaidtoclick']\n",
      "['https://day.it']\n",
      "['https://play.google.com/store/apps/details?id=com.policy.managerapp', 'https://play.google.com/store/apps/details?id=com.jellyjbjeans.choco', 'https://t.me/joinchat/aaaaaeyemavnjlsr6dbxfq', 'https://www.facebook.com/shakyatech', 'https://www.capchaclub.com']\n",
      "['https://bitverts.io/?r=50933', 'https://t.me/cloudmineing', 'https://goo.gl/nkwkk4', 'https://goo.gl/wwvjsk']\n",
      "['https://youtu.be/u-m-rtbptvg', 'https://bit.ly/2kugndu', 'https://bit.ly/2kzfs6h', 'https://bit.ly/2lyvu1t', 'https://bit.ly/2iyjwoq', 'https://bit.ly/2lz97ta', 'https://bit.ly/2kbqseu']\n",
      "['https://www.facebook.com/earnmantra']\n",
      "['https://www.atsaddclick.com/app/auth/register?sponsor=sukha35877']\n",
      "['https://bit.ly/2lytf0f']\n",
      "['https://software.adleg.com/signup']\n",
      "['https://www.clickadpays.com/index.php?ref=20576']\n",
      "['https://www.clixsense.com/?8259741', 'https://youtu.be/k2t0fuwvfpe', 'https://www.youtube.com/watch?v=tky8oso80gs', 'https://www.youtube.com/watch?v=gswjqo-f31m', 'https://www.youtube.com/watch?v=2rnbqmh6iiw', 'https://youtu.be/skh8905bqou', 'https://youtu.be/r5tsopdy5-u', 'https://www.youtube.com/channel/ucrhwhjqtgawkfenrr0npkqw', 'https://www.facebook.com/sarkariinaukari/', 'https://twitter.com/samrt_tech_tube', 'https://fiverr.com', 'https://www.youtube.com/watch?v=a3fb7datktg']\n",
      "['https://www.facebook.com/officialassd', 'https://www.earnbalances.com/appdemo/']\n",
      "['https://goo.gl/xrv3lo', 'https://trickstube.net', 'https://goo.gl/qe9enn']\n",
      "['https://za.gl', 'https://za.gl/ref/5starguruji', 'https://clickfly.net/ref/sartajali', 'https://www.youtube.com/edit?o=u&video_id=8gmmcn-tsdq', 'https://www.youtube.com/edit?o=u&video_id=wxpsbltiy00', 'https://www.facebook.com/fivestarguruji', 'https://plus.google.com/116615282185791615370', 'https://twitter.com/5starguruji', 'https://www.instagram.com/5stargurujihelp/']\n",
      "['https://play.google.com/store/apps/details?id=com.mobile.accessories', 'https://play.google.com/store/apps/details?id=com.mobile.accessories']\n",
      "['https://meetlindabomba.com/sixfigureincome', 'https://meetlindabomba.com/ebook', 'https://emotionminer.com/', 'https://bit.ly/2uxxsrt', 'https://bit.ly/2ga9gev', 'https://bit.ly/2rkto7q', 'https://bit.ly/2gojrhk']\n",
      "['https://wad.ojooo.com/register.php?ref=nani1122', 'https://www.facebook.com/nani.manatelugutech.5', 'https://m.facebook.com/mana-telugu-tech-751559351659202/?ref=bookmarks', 'https://www.youtube.com/c/manatelugutechvideos', 'https://youtu.be/8ke_fwymy-g', 'https://youtu.be/20kqf5rehji', 'https://www.youtube.com/edit?o=u&video_id=x6yq2rdd_ye', 'https://www.youtube.com/edit?o=u&video_id=hqois2vc7fe', 'https://www.youtube.com/watch?v=0rliim1ihdc', 'https://www.youtube.com/watch?v=ucjie', 'https://www.youtube.com/watch?v=72ud5', 'https://youtu.be/r54e6pcp3zo', 'https://youtu.be/io9gtsvkqns', 'https://www.youtube.com/watch?v=luq0j', 'https://youtu.be/kobrmzqxnto']\n",
      "['https://adclickindia.com//dashboard/join.aspx?id=aci3429285']\n",
      "['https://system.alifelong.net/r/zq423bra', 'https://system.alifelong.asia/r/zq423bra']\n",
      "['https://gossipridamzone.blogspot.com', 'https://www.facebook.com/colin-de-silva-129477254395761/', 'https://adclick.lk', 'https://www.adclick.fyi/w3j7i8']\n",
      "['https://play.google.com/store/apps/details?id=com.yesmobo']\n",
      "['https://play.google.com/store/apps/de', 'https://play.google.com/store/apps/de', 'https://www.youtube.com/channel/uc064qv_x2zphsljmyr6kpuw', 'https://twitter.com/technicalboss8?s=09', 'https://www.facebook.com/technical-boss-1899157846784352/', 'https://plus.google.com/101329643471145381916', 'https://instagram.com/download/?r=6415203506']\n",
      "['https://scour.com/invite/mifras1']\n",
      "['https://surveynoticias.com/p173032', 'https://www.g2a.com/r/g2a-cheap-gamess', 'https://adf.ly/1iw5ib', 'https://adf.ly/1iw2vz']\n",
      "['https://adf.ly/8bq0e', 'https://adf.ly/8gu5n', 'https://adf.ly/8bkgv']\n",
      "['https://sven-carlin-research-platform.teachable.com/p/stock-market-research-platform', 'https://amzn.to/2lvfh3t']\n",
      "['https://www.recordingcash.com/rich-janitor.html']\n",
      "['https://cur.lv/1457if']\n",
      "['https://meetlindabomba.com/sixfigureincome', 'https://meetlindabomba.com/ebook', 'https://www.youtube.com/user/lindabomba100', 'https://meetlindabomba.com/system', 'https://meetlindabomba.com/training', 'https://meetlindabomba.com/marketing', 'https://www.clixsense.com/?13518909', 'https://bit.ly/2uxxsrt', 'https://bit.ly/2ga9gev', 'https://bit.ly/2rkto7q', 'https://bit.ly/2gojrhk']\n",
      "['https://www.b2bwhiteboard.com']\n",
      "['https://goo.gl/h3ayo6']\n",
      "['https://cs.pitt.edu/~kovashka/ads']\n",
      "['https://www.sitecoin.com/?r=smartmoney8055']\n",
      "['https://www.youtube.com/watch?v=dpoi72ihhvw', 'https://www.neobux.com', 'https://www.youtube.com/helpbdpro24', 'https://facebook.com/techbd06', 'https://twitter.com/helpbdpro24', 'https://www.instagram.com/helpbdpro', 'https://pinterest.com/helpbdpro24', 'https://www.linkedin.com/in/helpbdpro24', 'https://helpbdpro24.tumblr.com']\n",
      "['https://money4everyone.com', 'https://youtu.be/n6j7tnwu2ww']\n",
      "['https://vivads.net/ref/ssmart', 'https://youtu.be/tndnkghbhtu', 'https://youtu.be/mvgucihuqxg']\n",
      "['https://www.theadsteam.com/page/landing/4/deacontony']\n",
      "['https://goo.gl/vtqwjq', 'https://goo.gl/re4zk6', 'https://goo.gl/5dm6ar', 'https://chat.whatsapp.com/bzyuuccjfpmlrakanbwkxp', 'https://youtu.be/sprk7imjzjg', 'https://youtu.be/s5d8vqfrxia', 'https://coinadder.com/index.php?r=rakeshbharti', 'https://bitsforclicks.com/?r=h3nuni93yn22rar', 'https://btcclicks.com/?r=2367f667', 'https://ads.uap.company/?ref=rakeshbharti', 'https://btcvic.com/r/b4bedc059ab6d5ff0389', 'https://coinbulb.com/?r=rakeshbharti', 'https://adbtc.top/r/l/88717']\n",
      "['https://www.probux.com/?rh=716f6b6e3930']\n",
      "['https://www.probux.com/?rh=4962726168696d33373039']\n",
      "['https://www.clixsense.com/?6731396', 'https://www.clixsense.com/?6731396']\n",
      "['https://goo.gl/kjgw5x', 'https://goo.gl/dmmhq3', 'https://goo.gl/meabgb', 'https://goo.gl/f1mwe1', 'https://goo.gl/ph4hpz', 'https://goo.gl/fx6xc9', 'https://goo.gl/fgcqgz', 'https://goo.gl/fgcqgz', 'https://goo.gl/1xy3vk', 'https://goo.gl/ej3p51', 'https://goo.gl/meabgb', 'https://goo.gl/2v9dqb', 'https://goo.gl/5skwck', 'https://goo.gl/fkpejr', 'https://keepkey.go2cloud.org/sh8q', 'https://www.instagram.com/patrickcorsino11/']\n",
      "['https://techschoolblog.blogspot.com/2018/05/blog-post_41.html', 'https://www.facebook.com/groups/167155550749863/', 'https://www.facebook.com/techschool.ts/', 'https://goo.gl/2so7em', 'https://www.facebook.com/mahbubulhasanrussell']\n",
      "['https://www.investdiva.com/']\n",
      "['https://www.youtube.com/channel/ucs2ws4ywutjuyyiiz2ds9fq', 'https://www.youtube.com/editor']\n",
      "['https://maheshtechnicals.com/2017/12/how-to-create-your-own-app-from-your-android-device/', 'https://www.youtube.com/maheshtechnicals', 'https://m.facebook.com/maheshtechnicals/', 'https://www.facebook.com/groups/maheshtechnicals/', 'https://maheshtechnicals.com', 'https://plus.google.com/+maheshtechnicals', 'https://www.instagram.com/maheshtechnicals/', 'https://twitter.com/mtechnicals', 'https://amzn.to/2f4pjqy', 'https://amzn.to/2f15qij', 'https://amzn.to/2h72rq0', 'https://amzn.to/2fa2lkn', 'https://youtu.be/mmradfstfxy']\n",
      "['https://www.facebook.com/groups/167155550749863/', 'https://www.facebook.com/techschool.ts/', 'https://goo.gl/2so7em', 'https://www.facebook.com/mahbubulhasanrussell']\n",
      "['https://bit.ly/ibdleaderboard', 'https://www.thetraderisk.com/newsletter', 'https://www.thetraderisk.com/swing-trade-alerts', 'https://www.thetraderisk.com/trading-tools', 'https://www.thetraderisk.com/consulting', 'https://bit.ly/2kle2pz', 'https://www.twitter.com/evanmedeiros']\n",
      "['https://www.congdongvietnam.vn', 'https://www.makemoney5s.com', 'https://www.clickmakemoney.net', 'https://www.shoptoday24h.com', 'https://www.today5s.com', 'https://www.live5s.com', 'https://www.tongtran.com', 'https://www.vatphamphatgiao.com', 'https://www.caitaovanmenh.com']\n",
      "['https://bux.to/?r=wired18']\n",
      "['https://play.google.com/store/apps/details?id=com.dolphin.browser.zero', 'https://play.google.com/store/apps/details?id=com.goldenfrog.vyprvpn.app', 'https://youtu.be/w7wi2zxdiqc']\n",
      "['https://drive.google.com/file/d/14mzh0qjm71qzhlrfic_2xjuwca1bbull/view?usp=sharing_eil&ts=5a4fc6c5']\n",
      "['https://play.google.com/store/apps/details?id=com.grageseetingim', 'https://www.youtube.com/earningguruji']\n",
      "['https://icicidirect.com']\n",
      "['https://www.clixsense.com/?8239802']\n",
      "['https://www.buxsecure.com/?ref=ahsanalikaleri']\n",
      "['https://wad.ojooo.com/register.php?ref=technology227', 'https://youtu.be/wxbr1jkqahg', 'https://youtu.be/7fg7ndbezv0', 'https://youtu.be/h_8xuaofs-w', 'https://youtu.be/rtfrrutyvsa', 'https://youtu.be/nwawyqgryta', 'https://youtu.be/yk6hru8twu8', 'https://youtu.be/twg5cmktpk0', 'https://youtu.be/wangblod9xq', 'https://youtu.be/8c8yeu5kdc4', 'https://youtu.be/zqfmyot9rfe', 'https://youtu.be/shsbu4bc3lk', 'https://youtu.be/sqly_ddmc7o', 'https://www.youtube.com/channel/ucw3maylmadk98qajcknmxow', 'https://twitter.com/technology227', 'https://www.facebook.com/', 'https://www.instagram.com/technology227/', 'https://plus.google.com/u/0/', 'https://www.pinterest.com/technologyc', 'https://www.reddit.com/user/technolog', 'https://www.linkedin.com/in/technology227']\n",
      "['https://www.youtube.com/watch?v=4xsheffc6cm']\n",
      "['https://adclickindia.com//dashboard/join.aspx?id=aci8110773', 'https://adclickindia.com//dashboard/join.aspx?id=aci4108261', 'https://adclickindia.com//dashboard/join.aspx?id=aci8110773']\n",
      "['https://www.twodollarclick.com']\n",
      "['https://www.youtube.com/channel/ucadfcqnuabsomw_xm-ue2oq', 'https://ptcbank.info/?r=amanr1211']\n",
      "['https://adclickindia.com//dashboard/join.aspx?id=aci861839', 'https://chat.whatsapp.com/gnxxq0iak5u1wvx1dltyuz', 'https://paytmapp.app.link/tmub3pmgxu', 'https://phon.pe/ru_atiu2dkew', 'https://g.co/payinvite/q3kq5i', 'https://r.docsapp.in/docs330ob-yn/1015', 'https://fanmojo.in/ref/oshxtlzn?utm_source=referral', 'https://paytmapp.app.link/eicxaoz8tu']\n",
      "['https://vimana.global/', 'https://www.apollocurrency.com/', 'https://www.facebook.com/apolloprivac', 'https://twitter.com/apollocurrency', 'https://www.instagram.com/apollocurre', 'https://t.me/apollocommunity', 'https://discord.gg/2sfkwgz']\n",
      "['https://poolearn.com/ref/shahid63']\n",
      "['https://www.playerauctions.com/', 'https://www.g2g.com/', 'https://www.playerup.com/', 'https://www.toornament.com/', 'https://www.youtube.com/watch?v=pb6jlygjefc', 'https://www.youtube.com/watch?v=bm7sz5sbzyy', 'https://bit.ly/technicaldanyal', 'https://bit.ly/2ogex9i', 'https://bit.ly/technicaldanyal', 'https://bit.ly/2opoe1i', 'https://bit.ly/2njhnqh', 'https://bit.ly/2opjqzf']\n",
      "['https://www.youtube.com/watch?v=go3wdmo2sv0']\n",
      "['https://tinyurl.com/qjhqn7k', 'https://youtu.be/g0bo2oabplo']\n",
      "['https://www.google.com/adsense', 'https://apps.admob.com', 'https://app.thunkable.com/', 'https://web.facebook.com/mrdanishshahab/', 'https://twitter.com/mrdanishshahab', 'https://plus.google.com/b/106025155753613433518/', 'https://www.mrdanishblog.tk/']\n",
      "['https://aircoins.co/', 'https://www.youtube.com/watch?v=pdjegad6czg', 'https://www.youtube.com/watch?v=gbtet8cutca', 'https://play.google.com/store/apps/details?id=com.aircoinscorp.aircoins&hl=en_us', 'https://itunes.apple.com/us/app/aircoins/id1411209889#?platform=iphone', 'https://www.bitmart.com/?r=46xj41', 'https://www.youtube.com/watch?v=idlakky6jao&t', 'https://brave.com/jou442', 'https://contest.journeyto100k.org/', 'https://brave.com/jou442']\n",
      "['https://2.to', 'https://www.youtube.com/channel/ucadfcqnuabsomw_xm-ue2oq', 'https://okik.me/?ref=amanr1211']\n",
      "['https://itbrightfutures.blogspot.com', 'https://www.youtube.com/channel/ucf0k4vrxd_baotmcxi4gcq', 'https://www.youtube.com/channel/ucf0k4vrxd_baotmcxi4gcxq?sub_confirmation=1', 'https://www.work2bux.com/?ref=zamanakash12345', 'https://csl.ink/2ltl', 'https://wad.ojooo.com/register.php?ref=zaman-miah', 'https://www.mypayingads.com/ref/207478']\n",
      "['https://www.symbux.com/?ref=mark1984', 'https://www.infinitybux.com/?ref=nirvana06', 'https://www.symbux.com/?ref=raezalumbag']\n",
      "['https://www.dailyprofit200.com', 'https://www.dailyprofit200.blogspot.com', 'https://www.dailyprofit200.com']\n",
      "['https://jobsconsult.com/']\n",
      "['https://za.gl/allaboutonlineearnings', 'https://www.youtube.com/watch?v=i43obh1ioas']\n",
      "['https://www.blogmean.org/blogmean-india-youtube-channel-giveaway/', 'https://goo.gl/8q1app', 'https://amzn.to/2hupmfw', 'https://amzn.to/2z5sy2e', 'https://amzn.to/2isklui', 'https://goo.gl/zjj8sn', 'https://goo.gl/aqk7uh', 'https://goo.gl/eeqmsf', 'https://goo.gl/fzgqlj', 'https://goo.gl/ujspnq', 'https://goo.gl/8ntajm', 'https://goo.gl/1ptv23', 'https://goo.gl/jquz6e', 'https://goo.gl/r4e6i1', 'https://www.blogmean.org/', 'https://www.facebook.com/techpritam', 'https://www.facebook.com/blogmean', 'https://twitter.com/techpritam', 'https://twitter.com/blogmean', 'https://www.dailymotion.com/blogmeanindia', 'https://goo.gl/yy5hkv']\n",
      "['https://www.youtube.com/watch?v=cf3xdldoms4', 'https://www.youtube.com/channel/uc1-ijtb2ty5mdaljqt8pffa?sub_confirmation=1']\n",
      "['https://adclickindia.com//dashboard/join.aspx?id=aci8804420']\n",
      "['https://btc4ads.com/?r=2sns0vxzcb', 'https://btcclicks.com/?r=8acf3ef8']\n",
      "['https://daytradingacademy.com', 'https://www.youtube.com/user/daytradingacademy', 'https://www.instagram.com/daytradingacademy', 'https://www.facebook.com/daytradingacademy/', 'https://wanderingtrader.com']\n",
      "['https://line.me/r/ti/p/%40xwb5138l', 'https://twitter.com/fudousankeiei', 'https://youtu.be/9w8jggab5yq', 'https://youtu.be/43zshbd2ela', 'https://youtu.be/s6kcpefpej0', 'https://youtu.be/yerqf0zdvzo', 'https://youtu.be/g2sscoofb4i', 'https://youtu.be/apnxzyjfz2a', 'https://youtu.be/v7_eptygjl8', 'https://youtu.be/wgt8_oufuaq', 'https://youtu.be/acmpxinozus']\n",
      "['https://t.me/cryptomafiagold', 'https://twitter.com/sami_loyal', 'https://tradingview.go2cloud.org/aff_c?offer_id=2&aff_id=11710', 'https://www.bitmex.com/register/sk75q7', 'https://amzn.to/2bmpaoy', 'https://amzn.to/2wcp9i6', 'https://amzn.to/2pczlyf', 'https://amzn.to/2od7v9q']\n",
      "['https://chat.whatsapp.com/3s6mtfkazdv5n0vxudzpln']\n",
      "['https://www.profitclicking.com/?r=x9fmy4nn95h', 'https://www.profitclicking.com/?r=x9fmy4nn95h']\n",
      "['https://fingersclix.com/?ref=karthik12ik']\n",
      "['https://www.youtube.com/channel/ucqsan9ukfhbra8p3lyxnf3q', 'https://www.facebook.com/', 'https://plus.google.com/', 'https://twitter.com/']\n",
      "['https://bigmarktv.com/start', 'https://bigmarktv.com/youtubetool', 'https://bigmarktv.com/autoresponder', 'https://bigmarktv.com/page-builder', 'https://markmonciardini.com/trackingsoftware']\n",
      "['https://youtu.be/ediygzgntvs', 'https://youtu.be/oz-jymbui1w']\n",
      "['https://www.portfoliowealthglobal.com/bonds', 'https://www.portfoliowealthglobal.com/crash/', 'https://www.portfoliowealthglobal.com/top5/', 'https://www.portfoliowealthglobal.com/goldplaybook/', 'https://www.portfoliowealthglobal.com/cannabispioneers/']\n",
      "['https://www.twickerz.com/?ref=ibrahim3709', 'https://youtu.be/v73tc0osz-u', 'https://user.so', 'https://them.so']\n",
      "['https://goo.gl/tjb63h】', 'https://www.facebook.com/aymen.tech/']\n",
      "['https://www.ethicalmarketingservice.co.uk', 'https://support.google.com/adwords/contact/click_quality']\n",
      "['https://www.paidverts.com/ref/saltysteve', 'https://incompetech.com/']\n",
      "['https://adclickindia.com//dashboard/join.aspx?id=aci2243389']\n",
      "['https://rawabiti.xyz/ce312v']\n",
      "['https://goo.gl/xz44q4', 'https://goo.gl/wtuzsq', 'https://goo.gl/tguau1', 'https://goo.gl/gjuyhj', 'https://goo.gl/dtwwek', 'https://goo.gl/2cws61', 'https://goo.gl/qqee8y', 'https://goo.gl/7gxcgs', 'https://goo.gl/w8jvrg']\n",
      "['https://drive.google.com/open?id=1r9rk6b1i8as92peg6jubhlqsvktko4nn']\n",
      "['https://www.facebook.com/groups/2121999691347074/', 'https://www.bensound.com/']\n",
      "['https://www.automoneysurf.com/?ref=59423']\n",
      "['https://chat.whatsapp.com/gnxxq0iak5u1wvx1dltyuz', 'https://paytmapp.app.link/tmub3pmgxu', 'https://phon.pe/ru_atiu2dkew', 'https://g.co/payinvite/q3kq5i', 'https://r.docsapp.in/docs330ob-yn/1015', 'https://fanmojo.in/ref/oshxtlzn?utm_source=referral', 'https://paytmapp.app.link/eicxaoz8tu']\n",
      "['https://www.sebosa.in/']\n",
      "['https://app.by', 'https://oncehelp.com/rv2byy', 'https://www.njtechnicalhindi.com', 'https://www.facebook.com/njtechnical/', 'https://twitter.com/njygorakhpur', 'https://plus.google.com/104069801561698368025']\n",
      "['https://drive.google.com/open?id=1pzxexsiahmsy0nnnk_m0cou-fu6bxdn6', 'https://drive.google.com/open?id=1wjatks0zvmhntash09ty2conq4itmzkg', 'https://drive.google.com/open?id=1hkgokwe9v0ckpry71bebka6zugqh9gyj']\n",
      "['https://drive.google.com/open?id=1z5vgr7us-6a0wvawpcjeeesdeemvabjv', 'https://drive.google.com/open?id=1yb4mnmtvyxngqbonslwwx-2i6yugtyrr']\n",
      "['https://paratethata.blogspot.com/']\n",
      "['https://goo.gl/detemi', 'https://goo.gl/detemi']\n",
      "['https://sandeepc9.futurenet.club/', 'https://www.facebook.com/sandeep.nair', 'https://www.youtube.com/watch?v=rcogwn4tvzi&t=24s']\n",
      "['https://www.linkbucks.com/referral/108758']\n",
      "['https://meetlindabomba.com/sixfigureincome', 'https://meetlindabomba.com/ebook', 'https://resell-rights-weekly.com/', 'https://payhip.com', 'https://bit.ly/2uxxsrt', 'https://bit.ly/2ga9gev', 'https://bit.ly/2rkto7q', 'https://bit.ly/2gojrhk']\n",
      "['https://bit.ly', 'https://www.bonaetly.com/joinnow', 'https://www.youtube.com/watch?v=zuqri2tvymu&t=5s', 'https://www.youtube.com/watch?v=3lmggrtt0_4', 'https://bit.ly/bonaetforums', 'https://www.youtube.com/watch?v=3lmggrtt0_4', 'https://www.youtube.com/watch?v=gvkm9htddvy', 'https://www.youtube.com/watch?v=xn6ckpoet9a', 'https://www.youtube.com/watch?v=54sxixg_oas&t=516s', 'https://www.youtube.com/watch?v=0hkofz40fg8', 'https://www.youtube.com/channel/ucjei0wxp3rwxxdowvhnzyha', 'https://www.facebook.com/techy.bonaet', 'https://twitter.com/techybonaet', 'https://www.instagram.com/techybonaet/', 'https://www.facebook.com/bonaet/']\n",
      "['https://goo.gl/3nospk', 'https://bitptc.com/', 'https://q.gs/egtgs', 'https://goo.gl/3nospk']\n",
      "['https://www.socialaddworld.us.com/registration.aspx?spnid=8919792198', 'https://www.youtube.com/c/sstimes', 'https://www.youtube.com/c/sstimes']\n",
      "['https://justloveandi.blogspot.com/', 'https://coinlinks.xyz/q0iu', 'https://raketdito.com', 'https://raketdito.com/startnow/599584', 'https://www.paidverts.com/ref/jdian27', 'https://manilaads.ph/register.aspx?u=18439', 'https://www.youtube.com/watch?v=npennsqtji0', 'https://btcclicks.com/?r=c114c965', 'https://wad.ojooo.com/register.php?ref=jdian27', 'https://coins.ph', 'https://coins.ph/m/join/k4kq2y', 'https://here.no']\n",
      "['https://bit.ly/2gcax3w', 'https://www.facebook.com/zeeshan.hameed.9047']\n",
      "['https://itsecretworlds.blogspot.com/']\n",
      "['https://bit.ly', 'https://goo.gl', 'https://www.youtube.com/watch?v=rcy281yqui4', 'https://www.facebook.com/pages/all-how-2s/198429346974010', 'https://twitter.com/allhow2s', 'https://www.allhow2s.com']\n",
      "['https://bigtimebux.com/register.php?r=lrzm25imkq==', 'https://ptcworldtoday.blogspot.com/']\n",
      "['https://www.youtube.com/channel/uc3cwu4ld32web4i0iebhzkq', 'https://youtu.be/e3zx9iifbwu', 'https://youtu.be/h-mo2eomd2y', 'https://youtu.be/zb1drcax7-i']\n",
      "['https://www.facebook.com/irfan.saif.1']\n",
      "['https://bit.ly/2fqjatm', 'https://www.youtube.com/watch?v=k4qhmzmrpgi']\n",
      "['https://adclickindia.com//dashboard/join.aspx?id=aci1619455', 'https://adclickindia.com//dashboard/join.aspx?id=aci1619455', 'https://adclickindia.com//dashboard/join.aspx?id=aci1619455', 'https://adclickindia.com//dashboard/join.aspx?id=aci1619455❤💙💛💚\\\\U0001f5a4❤💜\\\\U0001f9e1', 'https://adclickindia.com//dashboard/join.aspx?id=aci1619455', 'https://adclickindia.com//dashboard/join.aspx?id=aci1619455', 'https://adclickindia.com//dashboard/join.aspx?id=aci1619455']\n",
      "['https://atiurmusic.blogspot.com/2019/02/blog-post.html', 'https://chat.whatsapp.com/gnxxq0iak5u1wvx1dltyuz', 'https://adclickindia.in']\n",
      "['https://bitter.io/?r=749156', 'https://bitter.io', 'https://goo.gl/yrzvgj', 'https://goo.gl/yrzvgj', 'https://www.adsok.com/en/register?referral=3xyoaaz', 'https://www.btcbiz.trade/?ref=netmoney086', 'https://www.selflessjoy.com/reg.aspx', 'https://www.selflessjoy.com/reg.aspx?spon=sj618837', 'https://www.sitecoin.com/splash?r=mon', 'https://www.sitecoin.com/splash?r=mon', 'https://play.google.com/store/apps/de', 'https://busterfaucet.com/?ref=41094', 'https://www.yourfreecoin.com/?r=3prqr', 'https://pyramid-invest.com/?ref=money', 'https://pyramid-invest.com/?ref=money', 'https://www.longlifeindia.in/login/reg', 'https://www.longlifeindia.in/login/reg', 'https://www.snuckls.com/invite/member', 'https://www.baymack.com/refer/ref-593', 'https://kventerprise.in/secure/exe/reg', 'https://kventerprise.in/secure/exe/reg', 'https://www.gomoneyworld.com', 'https://gomoneyworld.com/register.jsp', 'https://www.facebook.com/gomoneyworld/', 'https://attotrade.com/?code=4hmq5x8cf4', 'https://www.bestchange.com/?p=146170', 'https://goo.gl/hfelnn', 'https://www.uniclique.net/?ref=moneyw', 'https://bitgames.io/forums/register.ph', 'https://gestyy.com/qgrqrc', 'https://bandirun.com/?ref=moneyworld', 'https://tomygame.com/?ref=moneyworld', 'https://corneey.com/qd39ii', 'https://goo.gl/epth47', 'https://goo.gl/mcba1d']\n",
      "['https://goo.gl/qprfzt', 'https://goo.gl/vtqa7m', 'https://goo.gl/bt5f1v', 'https://goo.gl/1s4wj6', 'https://goo.gl/lh73d5', 'https://coins.ph/m/join/a2rjgf', 'https://goo.gl/vf7d68', 'https://goo.gl/qeusq5']\n",
      "['https://play.google.com/store/apps/details?id=com.easyway.makemoneyearncash&hl=en&referrer=utm_source%3dgoogle%26utm_medium%3dorganic%26utm_term%3dmake+money+with+clicks+app+play+store&pcampaignid=appu_1_mihcwarqmszmvgsswpmicq']\n",
      "['https://www.neobux.com/?r=mrprofithunter', 'https://imgur.com/ncih1y8']\n",
      "['https://www.facebook.com/profile.php?id=100013583492983', 'https://chat.whatsapp.com/9nwnvzydmuvk5qtcbyalqv', 'https://www.financeclicking.com/?ref=kakajee01', 'https://youtu.be/bduhtkknrxs', 'https://youtu.be/bxkojqr6_wm', 'https://youtu.be/ebbjcywz8sg', 'https://youtu.be/94uketsadhy', 'https://chain.group/25104']\n",
      "['https://youtube.com/nathanandrose', 'https://www.youtube.com/subscription_center?add_user=nathandandrose', 'https://twitter.com/nat_hutch', 'https://twitter.com/thefiremouse', 'https://instagram.com/nat_hutch', 'https://instagram.com/firemouse', 'https://nathanhutchcraft.tumblr.com/']\n",
      "['https://pages.news/clickhere25b', 'https://page.photos/followme', 'https://page.video/subscribehere', 'https://page.video/workforus', 'https://mobile.emotionminer.com/', 'https://www.youtube.com/watch?v=48umb9c307u', 'https://www.youtube.com/watch?v=ay-j6qe0epy', 'https://pages.news/clickhere25b', 'https://page.photos/followme', 'https://page.video/subscribehere', 'https://page.video/workforus']\n",
      "['https://bit.ly/2nhlyr5', 'https://bit.ly/2zu3jdz', 'https://bit.ly/2xjguv6', 'https://bit.ly/2kze9jq', 'https://bit.ly/2zy4oi9', 'https://bit.ly/2l2u5yp', 'https://bit.ly/2uvcr2m', 'https://bit.ly/2l2fdaq', 'https://bit.ly/2nkale4', 'https://bit.ly/2nu8oil', 'https://amzn.to/2i1xftm', 'https://amzn.to/2hwcy87', 'https://amzn.to/2jyqfdu']\n",
      "['https://clickingincome.blogspot.com']\n",
      "['https://www.the-bux.net/?r=herlembu', 'https://www.the-bux.net/zx-temp/uploads/image_80c48a1d38536684d6f77715c7f27fa00b576f29.gif']\n",
      "['https://www.adclickindia.com']\n",
      "['https://adclickindia.com//dashboard/join.aspx?id=aci1025362', 'https://youtu.be/ebbubh5flgy', 'https://youtu.be/pk6chiul-7o', 'https://youtu.be/nebeg9dsboq']\n",
      "['https://www.paidverts.com/ref/venkat1166', 'https://www.youtube.com/watch?v=a7hqtgsusp8']\n",
      "['https://www.twickerz.com/?ref=saleemjawed']\n",
      "['https://goo.gl/mpbix1', 'https://www.adzbazar.com', 'https://youtu.be/lqo4hq3kpxo', 'https://youtu.be/tmxpxwf_sfq', 'https://youtu.be/zp8q420oxym', 'https://youtu.be/ndsdh0knlc0', 'https://twitter.com/introworld003', 'https://www.facebook.com/sajilstechcentre1', 'https://goo.gl/mpbix1', 'https://plus.google.com/b/107154158665925678209/+sajillatheef']\n",
      "['https://bankrate.com']\n",
      "['https://bit.ly/earn-money-online-today', 'https://bit.ly/earn-money-online-today', 'https://bit.ly/play-games-earn-money', 'https://kringle.cash/?link=kirkforjesus']\n",
      "['https://www.aceclix.com/index.php?ref=miami2015']\n",
      "['https://usefulltricksandtips.blogspot.in/']\n",
      "['https://groktrade.com', 'https://www.freeonlinetradingeducation.com/trading-videos.html', 'https://www.freeonlinetradingeducation.com/sample-101-video.html', 'https://goo.gl/haxttn', 'https://www.facebook.com/groktrade/', 'https://twitter.com/groktrade', 'https://www.instagram.com/groktrade/', 'https://stocktwits.com/groktrade', 'https://tradingview.go2cloud.org/shu5', 'https://www.freeonlinetradingeducation.com/chart-school.html', 'https://www.groktrade.com', 'https://www.freeonlinetradingeducation.com', 'https://groktrade.com', 'https://www.groktrade.com/day-trading-chatroom.html', 'https://www.groktrade.com/stock-picks-vnewsletter.html']\n",
      "['https://youtu.be/io1itgioyaa']\n",
      "['https://btc.ms/fo5ci3q']\n",
      "['https://paaoge.to', 'https://youtube.com/sumanarya', 'https://youtu.be/ztamtjohi5y', 'https://bit.ly/2pnmsfb', 'https://youtu.be/dkckcc7bx8e', 'https://twitter.com/isumanarya', 'https://www.instagram.com/isumanarya', 'https://facebook.com/isumanarya', 'https://amzn.to/2wizlcu', 'https://amzn.to/2wjhf7m', 'https://amzn.to/2ws0rvk', 'https://youtu.be/yj17b-dcfnu', 'https://youtu.be/cjonh-klsce', 'https://youtu.be/8nhjaf_df4o', 'https://youtu.be/64pz-jaulc8', 'https://youtu.be/i46wh7k0rgk', 'https://goo.gl/jhtrvj', 'https://goo.gl/fhufna', 'https://goo.gl/uytqng', 'https://goo.gl/rlj1vn', 'https://youtu.be/od_g7fklgoy', 'https://youtu.be/pfaguyy5vnq', 'https://youtu.be/vnhdm7nawhk', 'https://youtu.be/8becyatqapc', 'https://youtu.be/pjg6-tdmdl4', 'https://youtu.be/xv29i0smkfk', 'https://youtu.be/yj17b-dcfnu', 'https://youtu.be/laebkxhfhto', 'https://youtu.be/sb2n1swgnsy', 'https://youtu.be/_yz122ubnqs']\n",
      "['https://tinyurl.com/n48com9', 'https://tinyurl.com/n48com9', 'https://tinyurl.com/n48com9', 'https://tinyurl.com/n48com9', 'https://tinyurl.com/n48com9']\n",
      "['https://bit.ly/2d5snbb', 'https://www.applovin.com/', 'https://enhance.co/documentation', 'https://thunkable.com/#/', 'https://web.facebook.com/profile.php?id=100012391187113', 'https://plus.google.com/u/0/114629852602985707732', 'https://twitter.com/sanykhanghazla1?lang=en', 'https://technicalsany.blogspot.com/', 'https://www.youtube.com/channel/uc2n-vu63_acl6ef4xe9dtqa?disable_polymer=true']\n",
      "['https://goo.gl/dgqbqx', 'https://goo.gl/dgqbqx', 'https://goo.gl/dgqbqx', 'https://goo.gl/dgqbqx', 'https://chat.whatsapp.com/hnr4ykvpsco9cqyksnhhjf', 'https://enrt.eu/7688866', 'https://discord.gg/6v76htx', 'https://enrt.eu/7688867', 'https://enrt.eu/7688869', 'https://enrt.eu/7688862', 'https://enrt.eu/76888', 'https://youtu.be/_k22sdm2gcy', 'https://youtu.be/e7aru-d3qqw', 'https://youtu.be/zvava1utsii', 'https://www.youtube.com/channel/ucysv4iath_ifa2aw7hdrzvq', 'https://www.youtube.com/channel/uc6x6ahvbfpurvyvxpcwax_a', 'https://www.youtube.com/channel/ucqjkynguqfvsmzz_vg8pl0w', 'https://www.youtube.com/channel/ucyiwdr18apmaktmcrjtti6g']\n",
      "['https://goo.gl/bdwxes']\n",
      "['https://goo.gl/kjgw5x', 'https://goo.gl/dmmhq3', 'https://goo.gl/meabgb', 'https://goo.gl/f1mwe1', 'https://goo.gl/ph4hpz', 'https://goo.gl/fx6xc9', 'https://goo.gl/fgcqgz', 'https://goo.gl/fgcqgz', 'https://goo.gl/1xy3vk', 'https://goo.gl/ej3p51', 'https://goo.gl/meabgb', 'https://goo.gl/2v9dqb', 'https://goo.gl/5skwck', 'https://goo.gl/fkpejr', 'https://keepkey.go2cloud.org/sh8q', 'https://www.instagram.com/patrickcorsino11/']\n",
      "['https://linkshrink.net/7ie6gw']\n",
      "['https://q.gs/e7lnr', 'https://q.gs/e96k0']\n",
      "['https://csl.ink/2oyk']\n",
      "['https://onlinejobsptc.webs.com/']\n",
      "['https://encrybit.io/', 'https://encrybit.io/pdf/encrybit-wp-v1.pdf', 'https://t.me/encrybit', 'https://medium.com/@enbofficial/encrybit-cryptocurrency-exchange-evaluation-survey-2018-global-analysis-insights-b53c16abb106', 'https://www.buybest.com/product/geekvape-cerberus-subohm-tank_60339.html', 'https://youtu.be/addme/imishiuflxctfhwvyvpmuerkiizmvw', 'https://twitter.com/thecryptovaper', 'https://www.instagram.com/thecryptovaper/', 'https://www.facebook.com/groups/214061885809693/', 'https://thecryptovaper.com/', 'https://amzn.eu/a2oufsw', 'https://www.coinbase.com/join/5a4f803b208ff7023cfe49bf']\n",
      "['https://chat.whatsapp.com/3s4agmngwuvbqi4y3wmyv8', 'https://youtu.be/todacoyrbs8', 'https://www.youtube.com/edit?o=u&video_id=hpjix-k6mku', 'https://www.youtube.com/edit?o=u&video_id=hh1tyuyxkoe', 'https://www.youtube.com/edit?o=u&video_id=xy1rhednyts', 'https://youtu.be/k07w-k67cro', 'https://youtu.be/rlguxrkgzzi', 'https://youtu.be/txxc_9erg34', 'https://youtu.be/2fxpaky2l1u', 'https://youtu.be/5vkaraow9ke', 'https://youtu.be/kzzv6rngnji']\n",
      "['https://machinimasound.com/music/alien-technology', 'https://machinimasound.com/music/summer-shade']\n",
      "['https://www.tinyurl.com/fundmytrading', 'https://www.tinyurl.com/intradaymaster', 'https://tinyurl.com/projectgrowtogether', 'https://www.facebook.com/groups/paisatobanega', 'https://tinyurl.com/intradaymaster', 'https://www.tinyurl.com/swingtradingmaster', 'https://tinyurl.com/bankniftyandniftymaster', 'https://tinyurl.com/optionsmasterprogram', 'https://tinyurl.com/strategymasterpaisatobanega', 'https://www.tinyurl.com/tradewithpaisatobanega', 'https://www.payunow.com/paisatobanega', 'https://www.tinyurl.com/intradaywinningsystem2', 'https://www.tinyurl.com/intradaywinningsystem1', 'https://www.tinyurl.com/stockmarketschool']\n",
      "['https://bit.ly/2zjywlv']\n",
      "['https://goo.gl/kjgw5x', 'https://goo.gl/dmmhq3', 'https://goo.gl/meabgb', 'https://goo.gl/f1mwe1', 'https://goo.gl/ph4hpz', 'https://goo.gl/fx6xc9', 'https://goo.gl/fgcqgz', 'https://goo.gl/fgcqgz', 'https://goo.gl/1xy3vk', 'https://goo.gl/ej3p51', 'https://goo.gl/meabgb', 'https://goo.gl/2v9dqb', 'https://goo.gl/5skwck', 'https://goo.gl/fkpejr', 'https://keepkey.go2cloud.org/sh8q', 'https://www.instagram.com/patrickcorsino11/']\n",
      "['https://www.youtube.com/channel/ucncbqttw4ynwlayhn42lb5a?view_as=subscriber', 'https://plus.google.com/u/0/112927417355720167287', 'https://web.facebook.com/groups/1338689259586677/', 'https://www.youtube.com/watch?v=oneu-pmqhui']\n",
      "['https://liberateclix.com/?ref=trick1', 'https://youtu.be/npelx5szooa', 'https://play.google.com/store/apps/details?id=com.vichar.gurunanak', 'https://youtu.be/uugcfxshlzc', 'https://www.multabux.com/?ref=trick1', 'https://youtu.be/ze3abbemv5c', 'https://heroesbux.com/?ref=trick1', 'https://youtu.be/yu47bwyphje', 'https://www.cashngifts.in?join=214943', 'https://www.cngs.in/lbqn3lea', 'https://youtu.be/xptjawyn8o8', 'https://play.google.com/store/apps/details?id=com.new.animal.wallet', 'https://play.google.com/store/apps/de', 'https://youtu.be/q-9tdppolf8', 'https://youtu.be/bosrgx7odd8', 'https://www.neobux.com/', 'https://www.youtube.com/watch?v=sw0dd', 'https://www.planetclix.net', 'https://www.youtube.com/watch?v=h6scl', 'https://ultimatebux.net/?ref=trick1', 'https://youtu.be/brgulyacnuy', 'https://www.appsthatpay.co/blabberdown', 'https://youtu.be/qbpowzh89iy', 'https://www.coin4btc.com', 'https://www.ownclix.com', 'https://www.misterclix.com/?ref=trick1', 'https://youtu.be/evq5dp0u_ge', 'https://play.google.com/store/apps/de']\n",
      "['https://play.google.com/store/apps/details?id=com.status_hnd']\n",
      "['https://stock-market-mastery-group.teachable.com/p/stock-market-mastery-course', 'https://stock-market-mastery-group.teachable.com/purchase?product_id=816238', 'https://www.youtube.com/watch?v=nms-hxuck7e', 'https://www.facebook.com/groups/218663632055385/']\n",
      "['https://goo.gl/kjgw5x', 'https://goo.gl/dmmhq3', 'https://goo.gl/meabgb', 'https://goo.gl/f1mwe1', 'https://goo.gl/ph4hpz', 'https://goo.gl/fx6xc9', 'https://goo.gl/fgcqgz', 'https://goo.gl/fgcqgz', 'https://goo.gl/1xy3vk', 'https://goo.gl/ej3p51', 'https://goo.gl/meabgb', 'https://goo.gl/2v9dqb', 'https://goo.gl/5skwck', 'https://goo.gl/fkpejr', 'https://keepkey.go2cloud.org/sh8q', 'https://www.instagram.com/patrickcorsino11/']\n",
      "['https://mymellowarmy.wixsite.com/randommellow', 'https://www.instagram.com/mellow_army/', 'https://twitter.com/armymellow', 'https://www.youtube.com/mellowarmy', 'https://www.youtube.com/watch?v=zewv-5-dfqk']\n",
      "['https://www.myoodnow.com/index.php?ref=1478', 'https://youtu.be/jpd8zom5suu', 'https://youtu.be/dqo9zrawst4', 'https://youtu.be/1w3azjqr9ma', 'https://youtu.be/is8emvb8pqu', 'https://youtu.be/wloacz1es5y', 'https://youtu.be/-u8njrvlids', 'https://youtu.be/bsvv8czfcgq', 'https://youtu.be/wokbm7tpzpi', 'https://youtu.be/uscvcjtlvp8', 'https://youtu.be/2h1nzxmra14', 'https://youtu.be/sbgbzvxu-80', 'https://youtu.be/agaw1maczvs', 'https://youtu.be/jpd8zom5suu', 'https://youtu.be/dqo9zrawst4', 'https://youtu.be/jvt1bjigso8', 'https://youtu.be/oosgm0ui2cg', 'https://youtu.be/o2nu0wwf4ok', 'https://youtu.be/gwy9yd-e8ti', 'https://youtu.be/q4fuxdapatc', 'https://youtu.be/b9ec9g3pfbi', 'https://youtu.be/bbdmisxsyjs', 'https://youtu.be/qqhticcmfjw', 'https://youtu.be/o4x3ryhnm4g', 'https://apkfall.com', 'https://web.facebook.com/shahzad74', 'https://twitter.com/trickskiidunya', 'https://chat.whatsapp.com/dqylil0wmtv5eiuy0w4f6b', 'https://web.facebook.com/groups/1696973807287599/?ref=bookmarks']\n",
      "['https://go.theecomproject.com/clickcease', 'https://go.theecomproject.com/ppc', 'https://www.instagram.com/marcoecom', 'https://goo.gl/tsd1ez']\n",
      "['https://t.me/caravindervats']\n",
      "['https://www.bit.do/earnbit', 'https://blockchain.info/wallet/#/']\n",
      "['https://goo.gl/kjgw5x', 'https://goo.gl/dmmhq3', 'https://goo.gl/meabgb', 'https://goo.gl/f1mwe1', 'https://goo.gl/ph4hpz', 'https://goo.gl/fx6xc9', 'https://goo.gl/fgcqgz', 'https://goo.gl/fgcqgz', 'https://goo.gl/1xy3vk', 'https://goo.gl/ej3p51', 'https://goo.gl/meabgb', 'https://goo.gl/2v9dqb', 'https://goo.gl/5skwck', 'https://goo.gl/fkpejr', 'https://keepkey.go2cloud.org/sh8q', 'https://www.instagram.com/patrickcorsino11/']\n",
      "['https://goo.gl/bqtjee', 'https://goo.gl/ew3wmk', 'https://bit.ly/2t4zg6x', 'https://bit.ly/2tstvut', 'https://bit.ly/2say0iv', 'https://www.youtube.com/watch?v=naeon', 'https://goo.gl/apof0u', 'https://www.youtube.com/watch?v=noamn', 'https://bit.ly/2eoso5z', 'https://freedoge.co.in/?r=714288', 'https://bit.ly/2qyezhn', 'https://bit.ly/2dvh0ez', 'https://bit.ly/2mmwpde', 'https://youtu.be/-pm4b7lszvs', 'https://goo.gl/vyz3az', 'https://youtu.be/vfkuo9vambi', 'https://www.binance.com/?ref=12613580', 'https://bit.ly/2jdc5lr', 'https://bit.ly/2iefhgk', 'https://goo.gl/9wiqrn', 'https://goo.gl/hsmnya', 'https://www.youtube.com/watch?v=czeve', 'https://goo.gl/apof0u', 'https://goo.gl/vdejvo', 'https://goo.gl/kghe38', 'https://goo.gl/pkdtzy']\n",
      "['https://daytradingzones.com/social/zecaa', 'https://daytradingzones.com/social/zecaa', 'https://www.facebook.com/daytradingzones/', 'https://twitter.com/daytradingzones', 'https://www.instagram.com/daytradingzones/', 'https://www.instagram.com/thinkwealthdifferently/', 'https://daytradingzones.com', 'https://www.daytradingzones.com/disclaimer.html']\n",
      "['https://adclickindia.com', 'https://adclickindia.com/dashboard/join.aspx?id=aci7304989', 'https://chat.whatsapp.com/dnkxwiwdkab8lbwad9ak0w']\n",
      "['https://www.instagram.com/imshivamsaluja', 'https://www.facebook.com/shivamistriggered', 'https://www.twitter.com/imshivamsaluja', 'https://www.velosofy.com']\n",
      "['https://coolfreegifts.com/']\n",
      "['https://www.banggood.com/index.php?zf=1393833', 'https://youtu.be/pvghrddtblc', 'https://youtu.be/pvghrddtblc', 'https://www.facebook.com/ahs.roop', 'https://twitter.com/djranks45', 'https://banggood.com', 'https://banggood.com', 'https://www.banggood.com/index.php?zf=1393833', 'https://www.youtube.com/watch?v=oundfix53pk']\n",
      "['https://goo.gl/kjgw5x', 'https://goo.gl/dmmhq3', 'https://goo.gl/meabgb', 'https://goo.gl/f1mwe1', 'https://goo.gl/ph4hpz', 'https://goo.gl/fx6xc9', 'https://goo.gl/fgcqgz', 'https://goo.gl/fgcqgz', 'https://goo.gl/1xy3vk', 'https://goo.gl/ej3p51', 'https://goo.gl/meabgb', 'https://goo.gl/2v9dqb', 'https://goo.gl/5skwck', 'https://goo.gl/fkpejr', 'https://keepkey.go2cloud.org/sh8q', 'https://www.instagram.com/patrickcorsino11/']\n",
      "['https://play.google.com/store/apps/details?id=org.imaginationcorporation.candyclickcash', 'https://youtu.be/r2bri7o7yfk', 'https://youtu.be/yuxggab9o2u', 'https://youtu.be/ppvote7ya_u', 'https://youtu.be/jehksyv99fm', 'https://youtu.be/mestkc-rvsm']\n",
      "['https://10adspay.com', 'https://www.youtube.com/watch?v=fwas8fl5_yg', 'https://goo.gl/ybeunh']\n",
      "['https://bit.ly/subscribemichaeljay', 'https://amzn.to/2rwvd47', 'https://www.youtube.com/watch?v=xuujrm10u-q&list=plntmr_annwdxrbfd9odrton8ie-3hbldp&index=1', 'https://www.youtube.com/watch?v=n1fiaotdrjq&list=plntmr_annwdwgkndpyat9zaeije6766b5&index=1', 'https://www.youtube.com/watch?v=0hajdu8nzn4&list=plntmr_annwdyatmmh5b-mafwqicub5zfj&index=1', 'https://michaeljay.teachable.com/p/michael-s-private-investor-email-list/', 'https://soundcloud.com/kevatta/vibin-kevatta-x-saib', 'https://soundcloud.com/saib_eats', 'https://soundcloud.com/kevatta', 'https://youtu.be/immernnd8gg', 'https://www.youtube.com/c/michaeljayvalueinvesting']\n",
      "['https://stock-market-mastery-group.teachable.com/p/stock-market-mastery-course', 'https://stock-market-mastery-group.teachable.com/purchase?product_id=816238', 'https://www.investopedia.com/news/citron-calls-stock-poster-child-cannabis-bubble/', 'https://www.newcannabisventures.com/aurora-cannabis-appears-headed-to-the-new-york-stock-exchange/']\n",
      "['https://bit.ly/2nhlyr5', 'https://bit.ly/2zu3jdz', 'https://bit.ly/2xjguv6', 'https://bit.ly/2kze9jq', 'https://bit.ly/2zy4oi9', 'https://bit.ly/2l2u5yp', 'https://bit.ly/2uvcr2m', 'https://bit.ly/2l2fdaq', 'https://bit.ly/2nkale4', 'https://bit.ly/2nu8oil', 'https://amzn.to/2i1xftm', 'https://amzn.to/2hwcy87', 'https://amzn.to/2jyqfdu']\n",
      "['https://www.youtube.com/watch?v=adr4pdl2pnw', 'https://www.youtube.com/watch?v=h5bujxew3ju']\n",
      "['https://www.family-clicking.com/?ref=spax23']\n",
      "['https://www.shopifymastery.com/order', 'https://bit.ly/2bex8ju', 'https://bit.ly/2bezavh']\n",
      "['https://goo.gl/kjgw5x', 'https://goo.gl/dmmhq3', 'https://goo.gl/meabgb', 'https://goo.gl/f1mwe1', 'https://goo.gl/ph4hpz', 'https://goo.gl/fx6xc9', 'https://goo.gl/fgcqgz', 'https://goo.gl/fgcqgz', 'https://goo.gl/1xy3vk', 'https://goo.gl/ej3p51', 'https://goo.gl/meabgb', 'https://goo.gl/2v9dqb', 'https://goo.gl/5skwck', 'https://goo.gl/fkpejr', 'https://keepkey.go2cloud.org/sh8q', 'https://www.instagram.com/patrickcorsino11/']\n",
      "['https://go.tylerpratt.com/', 'https://go.tylerpratt.com/', 'https://www.facebook.com/tylerprattlive/', 'https://www.instagram.com/millionaire', 'https://twitter.com/asktylerpratt', 'https://tylerpratt.com', 'https://www.youtube.com/tylerprattlive', 'https://www.youtube.com/watch?v=qnqqo', 'https://www.youtube.com/watch?v=cz6ty']\n",
      "['https://www.neobux.com/?r=amateurwriter']\n",
      "['https://goo.gl/ngbeb3', 'https://goo.gl/2afnzi', 'https://goo.gl/axcnka', 'https://goo.gl/vvhuvk', 'https://goo.gl/cqskci', 'https://telugu30.blogspot.in/']\n",
      "['https://www.torproject.org/download/download', 'https://www.duckduckgo.com']\n",
      "['https://askashok.com']\n",
      "['https://go.tylerpratt.com/', 'https://go.tylerpratt.com/', 'https://www.facebook.com/tylerprattlive/', 'https://www.instagram.com/millionaire', 'https://twitter.com/asktylerpratt', 'https://tylerpratt.com', 'https://www.youtube.com/tylerprattlive', 'https://www.youtube.com/watch?v=kruh0', 'https://www.youtube.com/watch?v=xcsyd']\n",
      "['https://groktrade.com', 'https://www.freeonlinetradingeducation.com/trading-videos.html', 'https://www.freeonlinetradingeducation.com/sample-101-video.html', 'https://goo.gl/haxttn', 'https://www.facebook.com/groktrade/', 'https://twitter.com/groktrade', 'https://www.instagram.com/groktrade/', 'https://stocktwits.com/groktrade', 'https://tradingview.go2cloud.org/shu5', 'https://www.freeonlinetradingeducation.com/chart-school.html', 'https://www.groktrade.com', 'https://www.freeonlinetradingeducation.com', 'https://groktrade.com', 'https://www.groktrade.com/day-trading-chatroom.html', 'https://www.groktrade.com/stock-picks-vnewsletter.html']\n",
      "['https://www.youtube.com/watch?v=m26seyvje6m', 'https://twitter.com/learnandgrowup247', 'https://www.facebook.com/learnandgrowup247', 'https://www.facebook.com/learnandgrowup247', 'https://plus.google.com/', 'https://maker.com']\n",
      "['https://go.tylerpratt.com/', 'https://go.tylerpratt.com/', 'https://www.facebook.com/tylerprattlive/', 'https://www.instagram.com/millionaire', 'https://twitter.com/asktylerpratt', 'https://tylerpratt.com', 'https://www.youtube.com/tylerprattlive', 'https://www.youtube.com/watch?v=porox', 'https://www.youtube.com/watch?v=blzg2']\n",
      "['https://twitter.com/goldplatedgoof']\n",
      "['https://go.tylerpratt.com/', 'https://go.tylerpratt.com/', 'https://www.facebook.com/tylerprattlive/', 'https://www.instagram.com/millionaire', 'https://twitter.com/asktylerpratt', 'https://tylerpratt.com', 'https://www.youtube.com/tylerprattlive', 'https://www.youtube.com/watch?v=cz6ty', 'https://www.youtube.com/watch?v=e7koq']\n",
      "['https://www.wowearnings.com/signup.php']\n",
      "['https://sourceforge.net/projects/orphamielautoclicker/?source=typ_redirect', 'https://www.youtube.com/watch?v=de5bre8t6wy', 'https://www.youtube.com/watch?v=mvqtj1-el0w', 'https://system.alifelong.asia/r/tq812exz', 'https://coins.ph', 'https://system.alifelong.asia/r/tq812exz', 'https://www.facebook.com/amazingmindset', 'https://system.alifelong.asia/login', 'https://youclick.alifelong.asia/site/login', 'https://www.youtube.com/watch?v=qqgsdvkuhi4&t=1s', 'https://www.youtube.com/watch?v=mvqtj1-el0w', 'https://www.youtube.com/watch?v=2bpyltaulrs', 'https://www.youtube.com/watch?v=hbqmb0jywtc', 'https://www.youtube.com/watch?v=usbomvjeeb8', 'https://www.youtube.com/watch?v=gnppg_7cxg8', 'https://www.youtube.com/watch?v=2q69csylcwk', 'https://www.facebook.com/groups/831573137002734/', 'https://www.facebook.com/alifelong-program-earn-for-clicks-531982677146840/', 'https://www.facebook.com/amazingmindset']\n",
      "['https://coinad.com/?r=482y30vs6l1b3jd']\n",
      "['https://www.clixsense.com/', 'https://www.neobux.com/', 'https://www.prizerebel.com/', 'https://www.instagram.com/tec_hcd/', 'https://chats.viber.com/techcd', 'https://www.facebook.com/latestenews/']\n",
      "['https://earnwithstars.com', 'https://earnwithstars.com', 'https://earnwithstars.com', 'https://earnwithstars.com', 'https://earnwithstars.com']\n",
      "['https://zerodha.com/open-account?c=rt0688', 'https://www.youtube.com/channel/uc3ynx_o_phiwajffun2lzkg?sub_confirmation=1', 'https://www.tradinglab.in', 'https://www.facebook.com/tradinglabin-802542689916548/', 'https://twitter.com/tradinglabhindi', 'https://youtu.be/guojriz7_wc', 'https://youtu.be/kh0hrzhnw6y', 'https://youtu.be/qnt-l80fkh8', 'https://youtu.be/7owbkedqvdi', 'https://youtu.be/bpdus5_azi0']\n",
      "['https://goo.gl/pfcx6a']\n",
      "['https://uplod.cc/scyel5nqpsq9', 'https://youtu.be/6j4eo5ofcxq']\n",
      "['https://www.neobux.com/?r=adil1000', 'https://www.dubaivacancy.ae/how-to-earn-money-online-by-clicking-ads', 'https://www.youtube.com/channel/uclxggwcavbq5rbdk46mholq?annotation_id=annotation_1128896677&annotation_id=annotation_1415486171&annotation_id=annotation_1726440797&annotation_id=annotation_1775907779&annotation_id=annotation_3615146611&annotation_id=annotation_3890462093&annotation_id=annotation_4023698637&annotation_id=annotation_4099866985&annotation_id=annotation_4114328941&annotation_id=annotation_648158095&feature=iv&feature=iv&feature=iv&feature=iv&feature=iv&feature=iv&feature=iv&feature=iv&feature=iv&feature=iv&src_vid=-zbexj1t9wy&src_vid=2ani-zepfha&src_vid=2iqe6e_vfku&src_vid=mh8cvafs_qu&src_vid=o0acdpuc6c8&src_vid=_ik2yte--ko&src_vid=hocz0jcl-1e&src_vid=kdrmblt2e3k&src_vid=nk0_hlfm6qs&src_vid=nn4c-k-pshi&sub_confirmation=1']\n",
      "['https://youtu.be/vxccqokkndu', 'https://imjo.in/dba55n', 'https://imjo.in/zd7eby', 'https://facebook.com/retirerichwithstocks', 'https://youtube.com/c/retirerichwithstocks', 'https://linkedin.com/in/shankarmazumder', 'https://twitter.com/sm_retirerich']\n",
      "['https://go.tylerpratt.com/', 'https://go.tylerpratt.com/', 'https://www.facebook.com/tylerprattlive/', 'https://www.instagram.com/millionaire', 'https://twitter.com/asktylerpratt', 'https://tylerpratt.com', 'https://www.youtube.com/tylerprattlive', 'https://www.youtube.com/watch?v=p7w7h', 'https://www.youtube.com/watch?v=lfke-']\n",
      "['https://t.me/coinbloqalerts', 'https://t.me/coinbloqgroup', 'https://twitter.com/coinbloq', 'https://www.instagram.com/coinbloq/', 'https://neo.org/']\n",
      "['https://adclickindia.com//dashboard/join.aspx?id=aci8348579', 'https://chat.whatsapp.com/dzqield6hdt8fjwibli0ab', 'https://youtu.be/ebbubh5flgy', 'https://adclickindia.com//dashboard/join.aspx?id=aci1025362', 'https://adclickindia.com//dashboard/join.aspx?id=aci1025362', 'https://adclickindia.com//dashboard/join.aspx?id=aci1025362']\n",
      "['https://www.youtube.com/watch?v=jitxwpvtdm8', 'https://www.youtube.com/watch?v=qkstxfblnfs', 'https://www.youtube.com/watch?v=wtwbf3b2udi']\n",
      "['https://insider.cryptosrus.com', 'https://cryptosrus.com/shop/', 'https://www.youtube.com/channel/uciat-n9ze44qltiwfq1xldq', 'https://www.youtube.com/channel/uclhqpxzjweesxfok7wqylmg', 'https://www.youtube.com/channel/uccyzrc1ljlv46i1_yvb2z8w', 'https://www.youtube.com/watch?v=qk_hp', 'https://cryptosrus.com/how-to-buy/', 'https://cryptosrus.com/buy-bitcoin-wi', 'https://cryptosrus.com/bitcoin-wallets/', 'https://itunes.apple.com/us/podcast/c', 'https://player.fm/series/cryptosrus', 'https://www.facebook.com/cryptosrus/', 'https://twitter.com/cryptosr_us', 'https://www.instagram.com/cryptosrus']\n",
      "['https://bitverts.io/?r=4588', 'https://bit.ly/2du5v6m', 'https://bit.ly/2g5futw', 'https://bit.ly/2dmeull', 'https://bit.ly/2bhc9rp', 'https://1104317.usitech-int.com', 'https://bit.ly/2ish8ai', 'https://bit.ly/2cpgvzq', 'https://bit.ly/2cpgvzq', 'https://g.co/tez/zc6w3', 'https://computta.com/?ref=211503', 'https://www.baymack.com/shaik12', 'https://www.skylom.com/rightway', 'https://www.snuckls.com/shaik152', 'https://bit.ly/2yfjuak', 'https://koinex.in/?ref=54b49a', 'https://freebitco.in/?r=2390321', 'https://goo.gl/urtvyy', 'https://bit.ly/2dnu1br', 'https://playriches.com/ahc50', 'https://goo.gl/lqq4iu', 'https://faucethub.io/r/2178704', 'https://bit.ly/2jjhtc7', 'https://bit.ly/2jjhtc7', 'https://bit.ly/2bpwjj5', 'https://bit.ly/2b5tkpi', 'https://www.binance.com/?ref=17235365', 'https://localbitcoins.com/?ch=9l1n', 'https://bit.ly/2zdzz9l', 'https://bit.ly/2nj5ynd', 'https://bit.ly/2bny19a', 'https://freedoge.co.in/?r=1746098', 'https://faucethub.io/r/2178704', 'https://vodi.io/rf/moneyworld', 'https://goo.gl/a8utbc', 'https://www.youtube.com/moneyworld', 'https://bit.ly/2zuq2wt', 'https://plus.google.com/115360770749344341217']\n",
      "['https://www.alphatrends.net/']\n",
      "['https://mgsto8888.wixsite.com/mysite-1', 'https://www.youtube.com/channel/ucrgigbkwiuc8hggak-qfswg']\n",
      "['https://goo.gl/kjgw5x', 'https://goo.gl/dmmhq3', 'https://goo.gl/meabgb', 'https://goo.gl/f1mwe1', 'https://goo.gl/ph4hpz', 'https://goo.gl/fx6xc9', 'https://goo.gl/fgcqgz', 'https://goo.gl/fgcqgz', 'https://goo.gl/1xy3vk', 'https://goo.gl/ej3p51', 'https://goo.gl/meabgb', 'https://goo.gl/2v9dqb', 'https://goo.gl/5skwck', 'https://goo.gl/fkpejr', 'https://keepkey.go2cloud.org/sh8q', 'https://www.instagram.com/patrickcorsino11/']\n",
      "['https://bit.ly/2n3qip8', 'https://fkrt.it/xno6z!nnnn', 'https://youtu.be/avm-7ip-x_0', 'https://youtu.be/wixrgufrxjc', 'https://youtu.be/9_wejdnkoji', 'https://youtu.be/rwfmbtxttzc', 'https://youtu.be/gf2bxyqss64', 'https://youtu.be/l4d_f1itvvs', 'https://youtu.be/jocp1gf48kw', 'https://youtu.be/ytdsdvmuqnq', 'https://youtu.be/4s22lqot_r0', 'https://youtu.be/wc-jvqqosa0', 'https://youtu.be/3ez76gg2azi', 'https://youtu.be/qxhfkgjrtfi', 'https://youtu.be/izzbwkncfia', 'https://youtu.be/ui_obq_r59y', 'https://youtu.be/yupe_k5s9to', 'https://serveradmin35.wixsite.com/tamilshare', 'https://www.youtube.com/tamilshare', 'https://www.facebook.com/tamilsharepage', 'https://twitter.com/tamil_share']\n",
      "['https://goo.gl/kjgw5x', 'https://www.instagram.com/patrickcorsino11/', 'https://www.youtube.com/watch?v=jeggo9jffye&t=264s', 'https://goo.gl/meabgb', 'https://goo.gl/f1mwe1', 'https://goo.gl/ph4hpz', 'https://goo.gl/fx6xc9', 'https://goo.gl/fgcqgz', 'https://goo.gl/fgcqgz', 'https://goo.gl/1xy3vk', 'https://goo.gl/ej3p51', 'https://goo.gl/meabgb', 'https://goo.gl/2v9dqb', 'https://goo.gl/5skwck', 'https://goo.gl/fkpejr', 'https://keepkey.go2cloud.org/sh8q', 'https://www.instagram.com/patrickcorsino11/']\n",
      "['https://inmin.it/', 'https://twitter.com/cryptocoinnewz', 'https://t.me/ccncryptochat']\n",
      "['https://it.so', 'https://aiacart.com', 'https://weekendtips.tk', 'https://www.instagram.com/affan.shaikhsurab', 'https://www.youtube.com/channel/uc9wczvsayuo79ikde9xdwaq']\n",
      "['https://www.sitecoin.com/splash?r=apple', 'https://www.youtube.com/channel/ucnexqgdizvukz9hchndppiq', 'https://twitter.com/smarttelugu', 'https://www.facebook.com/smartmoneytelug/?ref=aymt_homepage_panel']\n",
      "['https://www.g2a.com/r/samdadude', 'https://www.twitch.tv/samdadude', 'https://www.unionforgamers.com/apply?referral=8cib9z9crcvnzw', 'https://www.twitchalerts.com/donate/samdadude']\n",
      "['https://goo.gl/zuvgk3', 'https://goo.gl/zuvgk3', 'https://goo.gl/zuvgk3', 'https://coins.ph', 'https://coins.ph/m/join/438u2r', 'https://coins.ph/m/join/438u2r', 'https://coins.ph/m/join/438u2r', 'https://play.google.com/store/apps/details?id=com.azura.cortana&hl=en', 'https://play.google.com/store/apps/details?id=com.x0.strai.frep&hl=en', 'https://strai.x0.com/frep/']\n",
      "['https://goo.gl/zuvgk3', 'https://goo.gl/zuvgk3', 'https://goo.gl/zuvgk3', 'https://coins.ph', 'https://coins.ph/m/join/438u2r', 'https://coins.ph/m/join/438u2r', 'https://coins.ph/m/join/438u2r', 'https://play.google.com/store/apps/details?id=com.azura.cortana&hl=en', 'https://www.youtube.com/watch?v=kudpoeid71a', 'https://coins.ph', 'https://www.youtube.com/watch?v=7-vy4uhokee', 'https://youtu.be/ufh4qyeyo0q', 'https://www.youtube.com/watch?v=7udqfhggtha', 'https://bit.ly/2zmhmic', 'https://www.youtube.com/watch?v=oggfgw6xuj0', 'https://www.youtube.com/watch?v=1zbby681j3y', 'https://coins.ph', 'https://www.youtube.com/watch?v=traybkxtnpy', 'https://www.youtube.com/watch?v=ojtsfupf8sa', 'https://www.youtube.com/watch?v=6v3pxfg4y0m', 'https://www.youtube.com/watch?v=4brkgy8kluo']\n",
      "['https://www.paypal.com/us/mrb/pal=9wc4sk9fzs35s', 'https://www.buxgalore.com/?r=carlos78211', 'https://www.buxgalore.com/?r=carlos78211']\n",
      "['https://t.me/cryptomafiagold', 'https://twitter.com/sami_loyal', 'https://tradingview.go2cloud.org/aff_', 'https://www.bitmex.com/register/sk75q7', 'https://amzn.to/2bmpaoy', 'https://amzn.to/2wcp9i6', 'https://amzn.to/2pczlyf', 'https://amzn.to/2od7v9q']\n",
      "['https://www.probux.com/?rh=4e6f73684844', 'https://findkikfriends.com']\n",
      "['https://daveying.com/passiveincome', 'https://daveying.com/dotcomsecrets', 'https://daveying.com/expertsecrets', 'https://daveying.com/shopify', 'https://bit.ly/2rpakee', 'https://daveying.com/clickfunnels', 'https://daveying.com/youtube', 'https://instagram.com/daveyingofficial/']\n",
      "['https://goo.gl/tvay6k', 'https://goo.gl/8szrp7', 'https://www.facebook.com/earnmantra']\n",
      "['https://www.bit.do/20ads']\n",
      "['https://nuggetsnews.com.au/nuggets-crypto-community/', 'https://spoti.fi/2tgtfib', 'https://apple.co/2laghyt', 'https://fb.me/nuggetsnews', 'https://twitter.com/nuggetsnewsau', 'https://www.linkedin.com/company/nuggetsnews', 'https://instagram.com/nuggetsnewsau', 'https://steemit.com/@nuggetsnews', 'https://bit.ly/2mugcwj', 'https://bit.ly/2thkkwn', 'https://newbrightoncapital.com/nugget', 'https://calebandbrown.com/', 'https://www.linkedin.com/in/alexsaundersau/', 'https://shrsl.com/nf7o', 'https://www.ledgerwallet.com/r/f536', 'https://shop.trezor.io?a=esyfabvzr6zu', 'https://www.coinspot.com.au?affiliate=ynv53', 'https://www.bitmex.com/register/nfixyp', 'https://www.coinbase.com/join/54152b230bf6fa71dd000002', 'https://www.binance.com/?ref=10788816', 'https://www.kucoin.com/#/?r=188mq', 'https://www.huobi.com.au/invite-success?invite_code=j4223', 'https://www.bibox.com/signpage?id=11468551&lang=en', 'https://www.ethfinex.com/?refcode=fjfga79cih', 'https://www.chartguys.com/courses/crypto/?ref=5', 'https://crypto.chartguys.com?af=539351d975', 'https://www.tradercobb.com/cryptocurrency-education-courses/']\n",
      "['https://shop.killervideostore.com/', 'https://www.killervideostore.com/python/', 'https://www.killervideostore.com/freelancer', 'https://goo.gl/kpvud2', 'https://www.instagram.com/stefanmischook/?hl=en', 'https://twitter.com/killersites']\n",
      "['https://goo.gl/wj2r9u', 'https://goo.gl/bxq5br', 'https://morningfa.me/invite/pgm209bx', 'https://www.tubebuddy.com/sfdigital', 'https://offer.sfdigital.co.uk/adwords-ninja-sp/', 'https://youtu.be/_zbqpijz8vy', 'https://youtu.be/fkweqlfjxxi', 'https://youtu.be/cvr9rx-3tsm', 'https://youtu.be/raut7jegl8k', 'https://youtu.be/vsb1qaeqeq4', 'https://www.linkedin.com/in/uzairkharawala', 'https://twitter.com/sfdigital', 'https://facebook.com/sfdigitalstudios', 'https://plus.google.com/+sfdigitalcouk1', 'https://www.sfdigital.co.uk']\n",
      "['https://adclickindia.com//dashboard/join.aspx?id=aci3315225', 'https://adclickindia.com//dashboard/join.aspx?id=aci7520553']\n",
      "['https://bit.ly/2n3qip8', 'https://fkrt.it/xno6z!nnnn', 'https://youtu.be/avm-7ip-x_0', 'https://youtu.be/wixrgufrxjc', 'https://youtu.be/9_wejdnkoji', 'https://youtu.be/rwfmbtxttzc', 'https://youtu.be/gf2bxyqss64', 'https://youtu.be/l4d_f1itvvs', 'https://youtu.be/jocp1gf48kw', 'https://youtu.be/ytdsdvmuqnq', 'https://youtu.be/4s22lqot_r0', 'https://youtu.be/wc-jvqqosa0', 'https://youtu.be/3ez76gg2azi', 'https://youtu.be/qxhfkgjrtfi', 'https://youtu.be/izzbwkncfia', 'https://youtu.be/ui_obq_r59y', 'https://youtu.be/yupe_k5s9to', 'https://serveradmin35.wixsite.com/tamilshare', 'https://www.youtube.com/tamilshare', 'https://www.facebook.com/tamilsharepage', 'https://twitter.com/tamil_share']\n",
      "['https://wikipedia.org', 'https://creativecommons.org/licenses/by-sa/3.0/']\n",
      "['https://www.youtube.com/channel/ucjgsd7qi6bvnco3ottatxpg/videos', 'https://fiverr.com', 'https://upwork.com']\n",
      "['https://www.fdi500k.com']\n",
      "['https://goo.gl/uubxeh', 'https://adf.ly', 'https://shorte.st', 'https://shorte.st', 'https://shorte.st', 'https://shorte.st', 'https://shorte.st', 'https://shorte.st', 'https://shorte.st', 'https://shorte.st', 'https://shorte.st', 'https://shorte.st', 'https://shorte.sh', 'https://shorte.sh', 'https://shorte.st', 'https://adf.ly', 'https://bc.vc']\n",
      "['https://goo.gl/p92zuc', 'https://q.gs/egtl5', 'https://q.gs/egtkq', 'https://2captcha.com?from=881470', 'https://goo.gl/mpwexw']\n",
      "['https://goo.gl/xsdn4s', 'https://goo.gl/ybfjwb', 'https://goo.gl/qahkql', 'https://goo.gl/5bctib', 'https://web.facebook.com/shehzadyt']\n",
      "['https://www.youtube.com/channel/ucevpan2l-xmjl8neyg779ig?view_as=subscriber', 'https://www.finedyconsultancy.com', 'https://www.youtube.com/channel/ucevpan2l-xmjl8neyg779ig', 'https://www.fineduconsultancy.com', 'https://twitter.com/vipulkaushikk', 'https://plus.google.com/+stockmarkettoday', 'https://www.youtube.com/watch?v=abkclzs3u6u']\n",
      "['https://t.me/open4profit', 'https://www.tradingview.com/u/open4profit/', 'https://stocktwits.com/open4profit', 'https://steemit.com/@open4profit/', 'https://www.binance.com/?ref=23933981', 'https://goo.gl/t8qudk', 'https://goo.gl/ftyhpk', 'https://goo.gl/owpozx', 'https://goo.gl/adtrxb', 'https://goo.gl/dnw3qk', 'https://goo.gl/uktfxc', 'https://goo.gl/ierx8z', 'https://goo.gl/tmkguh', 'https://goo.gl/t8qudk', 'https://www.facebook.com/cryptonewspredictions/', 'https://twitter.com/open4profit', 'https://plus.google.com/+open4profit', 'https://in.pinterest.com/homejobsinus/', 'https://www.instagram.com/open4profit', 'https://t.me/open4profit']\n",
      "['https://go.tylerpratt.com/', 'https://go.tylerpratt.com/', 'https://www.facebook.com/tylerprattlive/', 'https://www.instagram.com/millionaire', 'https://twitter.com/asktylerpratt', 'https://tylerpratt.com', 'https://www.youtube.com/tylerprattlive', 'https://www.youtube.com/watch?v=i5uwn', 'https://www.youtube.com/watch?v=oaulu']\n",
      "['https://www.youtube.com/watch?v=izzmtonww10&list=plpe8jz2zofbtpqx6_9fosvncgtgfitc-l', 'https://www.youtube.com/watch?v=dfk-iwyf8gi&list=plpe8jz2zofbsvnhyjr9mjqukflmhjbzya']\n",
      "['https://bit.ly/mmm-robinhood', 'https://bit.ly/mmm-moneyapp', 'https://bit.ly/mmm-moneyapp', 'https://bit.ly/mmm-moneyapp']\n",
      "['https://goo.gl/kjgw5x', 'https://goo.gl/dmmhq3', 'https://goo.gl/meabgb', 'https://goo.gl/f1mwe1', 'https://goo.gl/ph4hpz', 'https://goo.gl/fx6xc9', 'https://goo.gl/fgcqgz', 'https://goo.gl/fgcqgz', 'https://goo.gl/1xy3vk', 'https://goo.gl/ej3p51', 'https://goo.gl/meabgb', 'https://goo.gl/2v9dqb', 'https://goo.gl/5skwck', 'https://goo.gl/fkpejr', 'https://keepkey.go2cloud.org/sh8q', 'https://www.instagram.com/patrickcorsino11/']\n",
      "['https://goo.gl/ymnoax']\n",
      "['https://goo.gl/74kkag', 'https://goo.gl/9u6ufm', 'https://goo.gl/9giphg', 'https://terramonk.com']\n",
      "['https://www.profitclicking.com/?r=autocashincome', 'https://www.profitclicking.com/?r=autocashincome']\n",
      "['https://go.tylerpratt.com/', 'https://faststartaffiliate.com', 'https://fiverr.com', 'https://go.tylerpratt.com/', 'https://steemit.com/@tylerpratt', 'https://www.facebook.com/tylerprattlive/', 'https://www.instagram.com/millionaire', 'https://tylerpratt.com', 'https://www.youtube.com/tylerprattlive']\n",
      "['https://www.mediafire.com/file/4ylsr40kdq6babi/cash_out.apk/file', 'https://goo.gl/hm9zxy', 'https://goo.gl/spsdvw', 'https://goo.gl/spsdvw', 'https://goo.gl/h9fmuk', 'https://goo.gl/hm9zxy', 'https://goo.gl/uc6c2g', 'https://goo.gl/sngt9c', 'https://www.youtube.com/watch?v=srrzkngvies&t=22s', 'https://goo.gl/xtdyxp', 'https://goo.gl/fptkst', 'https://goo.gl/jw1edy', 'https://goo.gl/afo3up', 'https://goo.gl/9a8ndx', 'https://goo.gl/jvtoqi', 'https://goo.gl/85tsvx', 'https://goo.gl/vbhaba', 'https://goo.gl/ucufce', 'https://goo.gl/ba6gf6', 'https://goo.gl/mwkq2q', 'https://goo.gl/sxpkof', 'https://goo.gl/2bafci', 'https://goo.gl/rmjjmc', 'https://goo.gl/qqqsfh', 'https://goo.gl/z9yfqb', 'https://goo.gl/5g9s7f', 'https://goo.gl/7rka9m', 'https://goo.gl/hwxns5', 'https://goo.gl/gorfxe', 'https://goo.gl/qzrxtm', 'https://goo.gl/u3vaud', 'https://goo.gl/kshupd', 'https://goo.gl/shrbsr', 'https://goo.gl/qkn798', 'https://goo.gl/acuw3g', 'https://goo.gl/spsdvw', 'https://goo.gl/hm9zxy', 'https://goo.gl/spsdvw']\n",
      "['https://youtu.be/wt7niuvan-o', 'https://youtu.be/kxlxwnlujuw', 'https://youtu.be/35_0hn7vvjk', 'https://youtu.be/ifcvgzcrqxc', 'https://youtu.be/flmunk8kqzy']\n",
      "['https://bit.ly/2n3qip8', 'https://fkrt.it/xno6z!nnnn', 'https://youtu.be/avm-7ip-x_0', 'https://youtu.be/wixrgufrxjc', 'https://youtu.be/9_wejdnkoji', 'https://youtu.be/rwfmbtxttzc', 'https://youtu.be/gf2bxyqss64', 'https://youtu.be/l4d_f1itvvs', 'https://youtu.be/jocp1gf48kw', 'https://youtu.be/ytdsdvmuqnq', 'https://youtu.be/4s22lqot_r0', 'https://youtu.be/wc-jvqqosa0', 'https://youtu.be/3ez76gg2azi', 'https://youtu.be/qxhfkgjrtfi', 'https://youtu.be/izzbwkncfia', 'https://youtu.be/ui_obq_r59y', 'https://youtu.be/yupe_k5s9to', 'https://serveradmin35.wixsite.com/tamilshare', 'https://www.youtube.com/tamilshare', 'https://www.facebook.com/tamilsharepage', 'https://twitter.com/tamil_share']\n",
      "['https://goo.gl/kjgw5x', 'https://goo.gl/meabgb', 'https://goo.gl/ej3p51', 'https://goo.gl/meabgb', 'https://goo.gl/f1mwe1', 'https://goo.gl/ph4hpz', 'https://goo.gl/fx6xc9', 'https://goo.gl/fgcqgz', 'https://goo.gl/fgcqgz', 'https://goo.gl/1xy3vk', 'https://goo.gl/ej3p51', 'https://goo.gl/meabgb', 'https://goo.gl/2v9dqb', 'https://goo.gl/5skwck', 'https://goo.gl/fkpejr', 'https://keepkey.go2cloud.org/sh8q', 'https://www.instagram.com/patrickcorsino11/']\n",
      "['https://townhall.com/columnists/jeffbrown/2018/09/19/future-wealth-why-amazon-will-launch-its-own-cryptocurrency-n2520178', 'https://www.livebitcoinnews.com/will-amazon-create-their-own-cryptocurrency/', 'https://amazon.com']\n",
      "['https://go.tylerpratt.com/', 'https://faststartaffiliate.com', 'https://go.tylerpratt.com/', 'https://www.facebook.com/tylerprattlive/', 'https://www.instagram.com/millionaire', 'https://tylerpratt.com', 'https://www.youtube.com/tylerprattlive', 'https://www.youtube.com/watch?v=2ogtz', 'https://www.youtube.com/watch?v=8eh3g']\n",
      "['https://www.clickadpays.com/index.php?ref=13424', 'https://m.facebook.com/takeyag?ref=bookmark']\n",
      "['https://bit.ly/2n3qip8', 'https://fkrt.it/xno6z!nnnn', 'https://youtu.be/avm-7ip-x_0', 'https://youtu.be/wixrgufrxjc', 'https://youtu.be/9_wejdnkoji', 'https://youtu.be/rwfmbtxttzc', 'https://youtu.be/gf2bxyqss64', 'https://youtu.be/l4d_f1itvvs', 'https://youtu.be/jocp1gf48kw', 'https://youtu.be/ytdsdvmuqnq', 'https://youtu.be/4s22lqot_r0', 'https://youtu.be/wc-jvqqosa0', 'https://youtu.be/3ez76gg2azi', 'https://youtu.be/qxhfkgjrtfi', 'https://youtu.be/izzbwkncfia', 'https://youtu.be/ui_obq_r59y', 'https://youtu.be/yupe_k5s9to', 'https://serveradmin35.wixsite.com/tamilshare', 'https://www.youtube.com/tamilshare', 'https://www.facebook.com/tamilsharepage', 'https://twitter.com/tamil_share']\n",
      "['https://youtu.be/xth7couev8k', 'https://www.youtube.com/dashboard?o=u', 'https://plus.google.com/u/0/', 'https://www.facebook.com/sais-tech-telugu-channel-255337541581673/?ref=bookmarks', 'https://www.neobux.com/m/r/', 'https://www.clixsense.com/']\n",
      "['https://insider.cryptosrus.com', 'https://cryptosrus.com/shop/', 'https://www.youtube.com/channel/uciat-n9ze44qltiwfq1xldq', 'https://www.youtube.com/channel/uclhqpxzjweesxfok7wqylmg', 'https://www.youtube.com/channel/uccyzrc1ljlv46i1_yvb2z8w', 'https://www.youtube.com/watch?v=qk_hp', 'https://cryptosrus.com/how-to-buy/', 'https://cryptosrus.com/buy-bitcoin-wi', 'https://cryptosrus.com/bitcoin-wallets/', 'https://itunes.apple.com/us/podcast/c', 'https://player.fm/series/cryptosrus', 'https://www.facebook.com/cryptosrus/', 'https://twitter.com/cryptosr_us', 'https://www.instagram.com/cryptosrus']\n",
      "['https://www.facebook.com/ron.p.coll', 'https://www.clickadpays.com/index.php?ref=1848', 'https://ipasmillionaire.com/pre/?id=31307&tid=yout', 'https://www.adpackz.com/index.php?ref=2577', 'https://youtu.be/jvokiekbbva', 'https://www.roncollfitness.com', 'https://www.fiverr.com/pryzmabs', 'https://www.graphixforless.com', 'https://www.roncollfitness.com', 'https://www.graphixforless.com', 'https://www.youtube.com/user/pryzmabs', 'https://www.facebook.com/roncollfitness', 'https://www.facebook.com/graphixforless', 'https://www.twitter.com/@roncollfitness', 'https://www.twitter.com/@graphixforless', 'https://audiomicro.com/royalty-free-music']\n",
      "['https://bit.ly/2n3qip8', 'https://fkrt.it/xno6z!nnnn', 'https://youtu.be/avm-7ip-x_0', 'https://youtu.be/wixrgufrxjc', 'https://youtu.be/9_wejdnkoji', 'https://youtu.be/rwfmbtxttzc', 'https://youtu.be/gf2bxyqss64', 'https://youtu.be/l4d_f1itvvs', 'https://youtu.be/jocp1gf48kw', 'https://youtu.be/ytdsdvmuqnq', 'https://youtu.be/4s22lqot_r0', 'https://youtu.be/wc-jvqqosa0', 'https://youtu.be/3ez76gg2azi', 'https://youtu.be/qxhfkgjrtfi', 'https://youtu.be/izzbwkncfia', 'https://youtu.be/ui_obq_r59y', 'https://youtu.be/yupe_k5s9to', 'https://serveradmin35.wixsite.com/tamilshare', 'https://www.youtube.com/tamilshare', 'https://www.facebook.com/tamilsharepage', 'https://twitter.com/tamil_share']\n",
      "['https://www.euro-pinata.com/?ref=l8nite', 'https://www.euro-pinata.com/?ref=l8nite']\n",
      "['https://sdbullion.com/sf', 'https://www.patreon.com/silverfortune']\n",
      "['https://go.tylerpratt.com/', 'https://go.tylerpratt.com/', 'https://www.facebook.com/tylerprattlive/', 'https://www.instagram.com/millionaire', 'https://twitter.com/asktylerpratt', 'https://tylerpratt.com', 'https://www.youtube.com/tylerprattlive', 'https://www.youtube.com/watch?v=e7koq', 'https://www.youtube.com/watch?v=qevgy']\n",
      "['https://insider.cryptosrus.com', 'https://cryptosrus.com/shop/', 'https://www.youtube.com/channel/uciat-n9ze44qltiwfq1xldq', 'https://www.youtube.com/channel/uclhqpxzjweesxfok7wqylmg', 'https://www.youtube.com/channel/uccyzrc1ljlv46i1_yvb2z8w', 'https://www.youtube.com/watch?v=qk_hp', 'https://cryptosrus.com/how-to-buy/', 'https://cryptosrus.com/buy-bitcoin-wi', 'https://cryptosrus.com/bitcoin-wallets/', 'https://itunes.apple.com/us/podcast/c', 'https://player.fm/series/cryptosrus', 'https://www.facebook.com/cryptosrus/', 'https://twitter.com/cryptosr_us', 'https://www.instagram.com/cryptosrus']\n",
      "['https://wealth.investyadnya.in/login.aspx', 'https://goo.gl/wcq89k', 'https://goo.gl/tcs2nr', 'https://goo.gl/acmn7j', 'https://goo.gl/req6to', 'https://www.facebook.com/investyadnya', 'https://goo.gl/y57qcr', 'https://www.twitter.com/investyadnya']\n",
      "['https://adclickindia.com//dashboard/join.aspx?id=aci4533265', 'https://adclickindia.com']\n",
      "['https://sh.st/zn95z', 'https://2buckclix.com/?ref=kasiita#sthash.vjfuiipl.dpuf', 'https://www.youtube.com/watch?v=8gpwc74dw4o', 'https://www.youtube.com/channel/ucljlph46mq_rlh5wo-znq6a', 'https://www.facebook.com/tim.oston', 'https://twitter.com/timoston', 'https://www.facebook.com/groups/1162896480399703/?ref=br_rs', 'https://plus.google.com/u/0/106979735018812339349/posts']\n",
      "['https://jobsconsult.com/']\n",
      "['https://www.youtube.com/watch?v=adr4pdl2pnw']\n",
      "['https://www.campaignasia.com/topic/405']\n",
      "['https://totalmcllc.com/outdoor-and-indoor-advertising/']\n",
      "['https://www.change.org/p/international-olympic-committee-make-xrp-the-official-cryptocurrency-of-the-tokyo-olympics-2020?lang=en-us', 'https://ledger.exposed/rich-index/10000']\n",
      "['https://twitter.com/altcoindailyio', 'https://www.businessinsider.com/coinbase-8-billion-company-funding-2018-10', 'https://cointelegraph.com/news/charles-schwab-exec-joins-coinbase-board', 'https://www.coindesk.com/mining-giant-bitmain-acquires-bitcoin-cash-wallet-startup/', 'https://dailyhodl.com/2018/10/02/new-cardano-wallet-yoroi-is-released-on-the-mainnet/', 'https://ethereumworldnews.com/trump-appointee-and-cftc-chairman-says-crypto-is-here-to-stay/', 'https://twitter.com/altcoindailyio']\n",
      "['https://www.my10kincome.com', 'https://www.my10kincome.com', 'https://www.my10kincome.com/', 'https://www.youtube.com/watch?v=3g51c7rkrmg', 'https://www.youtube.com/watch?v=uhlzya97gxc', 'https://youtu.be/3g51c7rkrmg']\n",
      "['https://www.addicted2decorating.com/how-i-make-money-on-my-blog.html']\n",
      "['https://www.howtomakeeasymoneyexposed.com', 'https://youtu.be/qlir0wco5y0']\n",
      "['https://twitter.com/altcoindailyio']\n",
      "['https://t.me/cryptomafiagold', 'https://twitter.com/sami_loyal', 'https://tradingview.go2cloud.org/aff_', 'https://www.bitmex.com/register/sk75q7', 'https://amzn.to/2bmpaoy', 'https://amzn.to/2wcp9i6', 'https://amzn.to/2pczlyf', 'https://amzn.to/2od7v9q']\n",
      "['https://insider.cryptosrus.com', 'https://cryptosrus.com/shop/', 'https://www.youtube.com/channel/uclhqpxzjweesxfok7wqylmg', 'https://www.youtube.com/channel/uccyzrc1ljlv46i1_yvb2z8w', 'https://www.youtube.com/watch?v=qk_hp', 'https://cryptosrus.com/how-to-buy/', 'https://cryptosrus.com/buy-bitcoin-wi', 'https://cryptosrus.com/bitcoin-wallets/', 'https://itunes.apple.com/us/podcast/c', 'https://player.fm/series/cryptosrus', 'https://www.facebook.com/cryptosrus/', 'https://twitter.com/cryptosr_us', 'https://www.instagram.com/cryptosrus']\n",
      "['https://www.youtube.com/watch?v=il9maobox6o', 'https://clickbank.com', 'https://www.youtube.com/watch?v=mllava5ikec', 'https://www.youtube.com/watch?v=rcmfjxswa9k&index=1&list=plfz7yaz-5zva0alp5z2owubbp87afm_sv', 'https://www.youtube.com/watch?v=h5olc35xat0']\n",
      "['https://www.atsaddclick.com/app/auth/register?sponsor=mulkar1589']\n",
      "['https://paidverts.com/ref/mprotypers', 'https://internetblessings.blogspot.com/']\n",
      "['https://clickfrauds.com/', 'https://clickfrauds.com/', 'https://www.facebook.com/clickfrauds/', 'https://twitter.com/click_frauds', 'https://www.instagram.com/xclickfrauds/']\n",
      "['https://andyhafell.com/free-beginner-course', 'https://www.tubetakeoff.com', 'https://goo.gl/jq2nnr', 'https://andyhafell.com/affiliate-team', 'https://bit.ly/freedomfamilygroup', 'https://form.jotformeu.com/81345587950365', 'https://steemit.com/@andyhafell', 'https://www.facebook.com/andyhafell', 'https://www.instagram.com/andyhafell']\n",
      "['https://go.tylerpratt.com/', 'https://go.tylerpratt.com/', 'https://www.facebook.com/tylerprattlive/', 'https://www.instagram.com/millionaire', 'https://twitter.com/asktylerpratt', 'https://tylerpratt.com', 'https://www.youtube.com/tylerprattlive', 'https://www.youtube.com/watch?v=m1xs-', 'https://www.youtube.com/watch?v=p1004']\n",
      "['https://bit.ly/2n3qip8', 'https://fkrt.it/xno6z!nnnn', 'https://youtu.be/avm-7ip-x_0', 'https://youtu.be/wixrgufrxjc', 'https://youtu.be/9_wejdnkoji', 'https://youtu.be/rwfmbtxttzc', 'https://youtu.be/gf2bxyqss64', 'https://youtu.be/l4d_f1itvvs', 'https://youtu.be/jocp1gf48kw', 'https://youtu.be/ytdsdvmuqnq', 'https://youtu.be/4s22lqot_r0', 'https://youtu.be/wc-jvqqosa0', 'https://youtu.be/3ez76gg2azi', 'https://youtu.be/qxhfkgjrtfi', 'https://youtu.be/izzbwkncfia', 'https://youtu.be/ui_obq_r59y', 'https://youtu.be/yupe_k5s9to', 'https://serveradmin35.wixsite.com/tamilshare', 'https://www.youtube.com/tamilshare', 'https://www.facebook.com/tamilsharepage', 'https://twitter.com/tamil_share']\n",
      "['https://insider.cryptosrus.com', 'https://cryptosrus.com/shop/', 'https://www.youtube.com/channel/uciat-n9ze44qltiwfq1xldq', 'https://www.youtube.com/channel/uclhqpxzjweesxfok7wqylmg', 'https://www.youtube.com/channel/uccyzrc1ljlv46i1_yvb2z8w', 'https://www.youtube.com/watch?v=qk_hp', 'https://cryptosrus.com/how-to-buy/', 'https://cryptosrus.com/buy-bitcoin-wi', 'https://cryptosrus.com/bitcoin-wallets/', 'https://itunes.apple.com/us/podcast/c', 'https://player.fm/series/cryptosrus', 'https://www.facebook.com/cryptosrus/', 'https://twitter.com/cryptosr_us', 'https://www.instagram.com/cryptosrus']\n",
      "['https://bit.ly/2n3qip8', 'https://fkrt.it/xno6z!nnnn', 'https://youtu.be/avm-7ip-x_0', 'https://youtu.be/wixrgufrxjc', 'https://youtu.be/9_wejdnkoji', 'https://youtu.be/rwfmbtxttzc', 'https://youtu.be/gf2bxyqss64', 'https://youtu.be/l4d_f1itvvs', 'https://youtu.be/jocp1gf48kw', 'https://youtu.be/ytdsdvmuqnq', 'https://youtu.be/4s22lqot_r0', 'https://youtu.be/wc-jvqqosa0', 'https://youtu.be/3ez76gg2azi', 'https://youtu.be/qxhfkgjrtfi', 'https://youtu.be/izzbwkncfia', 'https://youtu.be/ui_obq_r59y', 'https://youtu.be/yupe_k5s9to', 'https://serveradmin35.wixsite.com/tamilshare', 'https://www.youtube.com/tamilshare', 'https://www.facebook.com/tamilsharepage', 'https://twitter.com/tamil_share']\n",
      "['https://www.sixdollarclick.com/index.php?ref=moneymayhem', 'https://www.sixdollarclick.com/index.php?ref=moneymayhem', 'https://www.wix.com/freeipadgiveaway/freebiejeebies#']\n",
      "['https://t.me/cryptomafiagold', 'https://twitter.com/sami_loyal', 'https://tradingview.go2cloud.org/aff_c?offer_id=2&aff_id=11710', 'https://www.bitmex.com/register/sk75q7', 'https://amzn.to/2bmpaoy', 'https://amzn.to/2wcp9i6', 'https://amzn.to/2pczlyf', 'https://amzn.to/2od7v9q']\n",
      "['https://fulltimejobfromhome.com/what-is-adf-ly-adfly-review-make-money-shrinking-links', 'https://www.fulltimejobfromhome.com']\n",
      "['https://go.tylerpratt.com/', 'https://faststartaffiliate.com', 'https://go.tylerpratt.com/', 'https://steemit.com/@tylerpratt', 'https://www.facebook.com/tylerprattlive/', 'https://www.instagram.com/millionaire', 'https://tylerpratt.com', 'https://www.youtube.com/tylerprattlive', 'https://www.youtube.com/watch?v=r4n-g', 'https://www.youtube.com/watch?v=hripe']\n",
      "['https://go.tylerpratt.com/', 'https://faststartaffiliate.com', 'https://go.tylerpratt.com/', 'https://steemit.com/@tylerpratt', 'https://www.facebook.com/tylerprattlive/', 'https://www.instagram.com/millionaire', 'https://tylerpratt.com', 'https://www.youtube.com/tylerprattlive']\n",
      "['https://www.g2a.com/r/samdadude', 'https://www.twitch.tv/samdadude', 'https://www.unionforgamers.com/apply?referral=8cib9z9crcvnzw', 'https://www.twitchalerts.com/donate/samdadude']\n",
      "['https://www.youtube.com/watch?v=gvam8jydyza&list=plytope099nyed5crwe_es9oz2-bhmaewn&index=1', 'https://bit.ly/subscribetobranson', 'https://www.youtube.com/watch?v=dpumc9rf_3w&list=plytope099nyed5crwe_es9oz2-bhmaewn&index=1', 'https://www.youtube.com/watch?v=nnj70lhxwew&index=2&list=plytope099nydf5lmrlzxzg5navzln3og5', 'https://www.youtube.com/c/bransontay?sub_confirmation=1', 'https://www.youtube.com/watch?v=nklcycfzqwg', 'https://www.youtube.com/watch?v=atwus5xunfw', 'https://youtu.be/czbq2c4p0cs']\n",
      "['https://www.shbux.com/?ref=plaxo']\n",
      "['https://www.youtube.com/channel/uc_23vc8z9sufcxr5gqxctdg', 'https://streamlabs.com/bigger0215/#/merch', 'https://www.amazon.com/shop/cryptotv', 'https://www.coinbase.com/join/591c875']\n",
      "['https://thunkable.com', 'https://www.mediafire.com/file/a5qnak6z98l1kvn/temple_run_%283%29.apk', 'https://www.youtube.com/watch?v=awk2weddtjq']\n",
      "['https://emotionminer.com/networking/invite?login=gcjunaid', 'https://www.youtube.com/watch?v=4eqrbax_zxs', 'https://www.banggood.com/boya-omnidirectional-lavalier-microphone-for-canon-nikon-sony-dslr-p-948169.html?p=jf03009873761201704v', 'https://www.banggood.com/bm800-recording-dynamic-condenser-microphone-with-shock-mount-p-940257.html?p=jf03009873761201704v', 'https://www.banggood.com/eken-h9r-sports-action-camera-4k-ultra-hd-2_4g-remote-wifi-170-degree-wide-angle-p-1057866.html?p=jf03009873761201704v', 'https://www.banggood.com/wholesale-wt3110a-40-inch-aluminum-tripod-stand-for-camera-dslr-camcorder--p-45561.html?p=jf03009873761201704v', 'https://www.banggood.com/lynca-mns3-foldable-360-degree-mini-tripod-for-camera-phone-p-1212868.html?p=jf03009873761201704v', 'https://www.banggood.com/5m-waterproof-rgbw-rgbww-smd-5050-led-flexible-strip-light-for-christmas-decor-dc12v-p-1206383.html?p=jf03009873761201704v', 'https://soundcloud.com/nicolai-heidlas', 'https://creativecommons.org/licenses/b', 'https://youtu.be/vtheqm7uc0k', 'https://bit.ly/tobu-candyland', 'https://spoti.fi/ncs', 'https://www.youtube.com/c/techurdupk', 'https://plus.google.com/u/0/b/102788083173672605721/', 'https://www.facebook.com/tech-urdupk-1010567855748509/', 'https://www.snapchat.com/add/techurdupk']\n",
      "['https://bux.to/?r=alcaponeben']\n",
      "['https://sprizads.com/?ref=chtd88']\n",
      "['https://goo.gl/zuvgk3', 'https://goo.gl/zuvgk3', 'https://goo.gl/zuvgk3', 'https://coins.ph', 'https://coins.ph/m/join/438u2r', 'https://coins.ph/m/join/438u2r', 'https://coins.ph/m/join/438u2r', 'https://www.youtube.com/watch?v=cikb6xs90cq', 'https://www.youtube.com/watch?v=cikb6xs90cq', 'https://www.youtube.com/watch?v=cikb6xs90cq', 'https://yeheey.biz/auth/register/member?id=aizamercado6666', 'https://yeheey.biz/auth/register/member?id=aizamercado6666', 'https://yeheey.biz/auth/register/member?id=aizamercado6666', 'https://www.m.me/aizamer19', 'https://www.m.me/aizamer19', 'https://www.m.me/aizamer19']\n",
      "['https://goo.gl/3b9nqp', 'https://goo.gl/odzdgz']\n",
      "['https://twitter.com/altcoindailyio']\n",
      "['https://go.tylerpratt.com/', 'https://faststartaffiliate.com', 'https://go.tylerpratt.com/', 'https://steemit.com/@tylerpratt', 'https://www.facebook.com/tylerprattlive/', 'https://www.instagram.com/millionaire', 'https://tylerpratt.com', 'https://www.youtube.com/tylerprattlive']\n",
      "['https://goo.gl/3b9nqp', 'https://goo.gl/odzdgz']\n",
      "['https://discord.gg/93fd9yr', 'https://www.dropbox.com/s/0cxwrkhven2soun/hack.html?dl=0']\n",
      "['https://insider.cryptosrus.com', 'https://cryptosrus.com/shop/', 'https://www.youtube.com/channel/uciat-n9ze44qltiwfq1xldq', 'https://www.youtube.com/channel/uclhqpxzjweesxfok7wqylmg', 'https://www.youtube.com/channel/uccyzrc1ljlv46i1_yvb2z8w', 'https://www.youtube.com/watch?v=qk_hp', 'https://cryptosrus.com/how-to-buy/', 'https://cryptosrus.com/buy-bitcoin-wi', 'https://cryptosrus.com/bitcoin-wallets/', 'https://itunes.apple.com/us/podcast/c', 'https://player.fm/series/cryptosrus', 'https://www.facebook.com/cryptosrus/', 'https://twitter.com/cryptosr_us', 'https://www.instagram.com/cryptosrus']\n",
      "['https://bit.ly/2mdnevq', 'https://timothysykes.com', 'https://timothysykes.com/contact', 'https://www.timothysykes.com/terms-of-service/']\n",
      "['https://za.gl/bzt1b']\n",
      "['https://www.youtube.com/channel/ucpsqav_oqp7gsh2mwejyqta?sub_confirmation=1', 'https://chat.whatsapp.com/jnfm8ptmnnx6hfgpwfkquy', 'https://www.facebook.com/onlne-learning-691343447706475/?ref=bookmarks']\n",
      "['https://goo.gl/fx6xc9', 'https://goo.gl/ej3p51', 'https://goo.gl/meabgb', 'https://goo.gl/f1mwe1', 'https://goo.gl/ph4hpz', 'https://goo.gl/fx6xc9', 'https://goo.gl/fgcqgz', 'https://goo.gl/fgcqgz', 'https://goo.gl/1xy3vk', 'https://goo.gl/ej3p51', 'https://goo.gl/meabgb', 'https://goo.gl/2v9dqb', 'https://goo.gl/5skwck', 'https://goo.gl/fkpejr', 'https://keepkey.go2cloud.org/sh8q', 'https://www.instagram.com/patrickcorsino11/']\n",
      "['https://go.tylerpratt.com/', 'https://go.tylerpratt.com/', 'https://www.facebook.com/tylerprattlive/', 'https://www.instagram.com/millionaire', 'https://twitter.com/asktylerpratt', 'https://tylerpratt.com', 'https://www.youtube.com/tylerprattlive', 'https://www.youtube.com/watch?v=l6e55', 'https://www.youtube.com/watch?v=e1zid']\n",
      "['https://sven-carlin-research-platform.teachable.com/p/stock-market-research-platform', 'https://amzn.to/2lvfh3t', 'https://svencarlin.com', 'https://www.facebook.com/groups/modernvalueinvesting/']\n",
      "['https://teasoftware.typeform.com/to/x2r8ig', 'https://www.teasoftware.com']\n",
      "['https://bit.ly/2lndoek', 'https://www.youtube.com/watch?v=vzwao2hercy&t=151s', 'https://www.youtube.com/channel/uculsefzscni9fqlbrcvyvtq']\n",
      "['https://minijoy.page.link/ufyd', 'https://t.me/joinchat/aaaaaexbay2ufrwd4g0ytw']\n",
      "['https://bitcoin-blueprint.teachable.com/p/bitcoin-blueprint', 'https://bitcoin-blueprint.teachable.com/p/cryptojack-trade-calls', 'https://bitcoin-blueprint.getresponsepages.com/', 'https://3commas.io/?c=tc28611', 'https://rppl.info/', 'https://hashflare.io/r/9d004b59', 'https://goo.gl/oe3crj', 'https://goo.gl/acb4ad', 'https://www.binance.com/?ref=19175326', 'https://www.ledgerwallet.com/r/b2a7', 'https://www.instagram.com/crypto.jack/', 'https://twitter.com/cryptojackk', 'https://www.facebook.com/cryptojackk/']\n",
      "['https://goo.gl/upeqac', 'https://incompetech.com', 'https://creativecommons.org/licenses/by/3.0/']\n",
      "['https://4funindia.com/u/1351093', 'https://play.google.com/store/apps/details?id=com.app.uento', 'https://play.google.com/store/apps/details?id=com.ayet.cashpirate', 'https://4fun.in/s/62d5dfe5e7398dec']\n",
      "['https://www.bitmex.com/register/nju3r0', 'https://www.bitmex.com/register/nju3r0', 'https://www.binance.com/?ref=11069112', 'https://www.coinbase.com/join/59d6a65d6b0de701316e0d81', 'https://tradingview.go2cloud.org/sh2gx', 'https://discord.gg/p5zpeav', 'https://www.patreon.com/themooncarl', 'https://cointelegraph.com/news/venezuela-mandates-passport-fees-must-be-paid-in-controversial-cryptocurrency-petro', 'https://cointelegraph.com/news/venezuelas-petro-white-paper-blatantly-copied-dash-ethereum-developer-says', 'https://dash-docs.github.io/en/developer-guide#transactions', 'https://www.zerohedge.com/sites/default/files/inline-images/2018-10-04_10-19-44.jpg?itok=hmn']\n",
      "['https://onecoin.eu/signup/balibagus01', 'https://onecoin.eu/signup/balibagus03']\n",
      "['https://www.youtube.com/watch?v=zs7teipiavs', 'https://goo.gl/rfymmo', 'https://goo.gl/rfymmo', 'https://google.com/+sabithpkcmnr', 'https://twitter.com/sabithpkcmnr', 'https://github.com/sabithpkcmnr', 'https://goo.gl/rfymmo']\n",
      "['https://amzn.to/2pojdnm', 'https://amzn.to/2lccrot', 'https://amzn.to/2pttkr4', 'https://amzn.to/2ldrkzz', 'https://amzn.to/2mbecxl', 'https://amzn.to/2nwgows', 'https://amzn.to/2byc6rf', 'https://amzn.to/2lepujx', 'https://youtu.be/txozstsu2q4', 'https://youtu.be/ujwpead1drq', 'https://youtu.be/adot5ifw0jc', 'https://youtu.be/whp10yi6u28', 'https://youtu.be/xs_xqv-ddd8', 'https://youtu.be/wpswvqf1ihg', 'https://youtu.be/mrnmakj-r2c', 'https://youtu.be/bf6ei6tui8a', 'https://youtu.be/yipi-r6q9vc', 'https://youtu.be/iixbbnfvpms', 'https://youtu.be/a3so-ntntjg', 'https://youtu.be/vrpiduucyms']\n",
      "['https://www.ttfrealestate.com/p/free-stock-trading-bootcamp', 'https://www.instagram.com/thetradingfraternity', 'https://www.facebook.com/tradingfraternity', 'https://www.twitter.com/joshanswers', 'https://www.ttfrealestate.com']\n",
      "['https://www.youtube.com/watch?v=sxp_r9nmjxu&feature=youtu.be', 'https://www.youtube.com/watch?v=sxp_r9nmjxu&feature=youtu.be', 'https://adf.ly', 'https://adf.ly/1dbm3b', 'https://www.proxy-daily.com', 'https://adf.ly', 'https://bc.vc/linkbucks', 'https://adf.ly', 'https://adf.ly']\n",
      "['https://goo.gl/uogfj', 'https://goo.gl/d93fd']\n",
      "['https://cointelegraph.com/news/business-insider-goldman-sachs-drops-plans-to-open-crypto-trading-desk', 'https://www.bloomberg.com/news/articles/2018-09-05/crypto-world-rocked-after-long-time-advocate-voorhees-backpedals', 'https://cryptovest.com/news/suspected-silk-road-bitcoin-reaches-bitfinex-binance-and-bitmex/', 'https://bitcoinmagazine.com/articles/abra-ceo-believes-bitcoin-etf-eminent-sec-just-needs-right-suitor/', 'https://cryptonewsreview.com/early-november-spike-predicted-in-cryptocurrency-prices/', 'https://bitcoinist.com/canadian-ghost-town-gambles-on-bitcoin-for-a-new-chance-at-life/', 'https://www.ccn.com/bitcoin-mining-giant-bitfury-trims-cooling-demands-by-95-with-magic-liquid/', 'https://uk.businessinsider.com/ether-price-might-fall-because-of-futures-2018-8/?r=au&ir=t', 'https://www.ccn.com/korean-entertainment-project-taps-ethereum-blockchain-in-k-pop-idol-search/', 'https://micky.com.au/great-keppel-island-gki-tokens/', 'https://cointelegraph.com/news/ibm-reveals-stellar-based-near-real-time-blockchain-payment-network', 'https://www.coindesk.com/high-times-now-says-its-accepting-cryptocurrencies-payments-for-its-ipo/', 'https://bitcoinmagazine.com/articles/newly-launched-stablecoin-youve-never-heard-coming-ledger/', 'https://twitter.com/ledgerhq/status/1036976685579685894', 'https://navhub.org/open-alias-competition', 'https://www.binance.com/?ref=10192350', 'https://www.kucoin.com/#/?r=18a8f', 'https://www.huobi.br.com/en-us/topic/invited/?invite_code=b5u43', 'https://www.ledgerwallet.com/r/6877', 'https://shop.trezor.io?a=aw902rsted', 'https://partners.calebandbrown.com/cryptolark', 'https://twitter.com/thecryptolark', 'https://www.facebook.com/thecryptolark/', 'https://t.me/thecryptolark', 'https://www.minds.com/register?referr', 'https://steemit.com/@larksongbird', 'https://d.tube/#!/c/larksongbird', 'https://bit.tube/the%20crypto%20lark', 'https://www.acast.com/thecryptolarkpodcast', 'https://t.me/cryptolarkbot', 'https://rss.acast.com/thecryptolarkpodcast']\n",
      "['https://no1tip.com/success', 'https://no1tip.com/latestvideo', 'https://no1tip.com/subscribe', 'https://no1tip.com/bluehost', 'https://no1tip.com/clickfunnels', 'https://no1tip.com/getresponse', 'https://www.sendearnings.com/', 'https://www.successbux.com/', 'https://no1tip.com/success', 'https://no1tip.com/subscribe', 'https://no1tip.com/freecourse', 'https://www.instagram.com/digital_income_advisor/', 'https://twitter.com/digitallypaid', 'https://bit.ly/2en4mlc']\n",
      "['https://t.me/joinchat/aaaaaetij86l9ruiszvobq']\n",
      "['https://www.youtube.com/watch?v=urkcft7erco']\n",
      "['https://www.instagram.com/ronitmangnani', 'https://www.facebook.com/ronitmangnani', 'https://www.snapchat.com/add/ronitmangnani', 'https://www.twitter.com/ronitmangnani', 'https://www.linkedin.com/in/ronitmangnani', 'https://amzn.to/2ygxfkc']\n",
      "['https://www.overpass.co.uk', 'https://www.overpass.co.uk', 'https://co.uk', 'https://plus.google.com/+overpasscouk/', 'https://www.facebook.com/overpassapps', 'https://twitter.com/overpassltd', 'https://twitter.com/ericwroolie', 'https://plus.google.com/+ericwroolie', 'https://www.snapchat.com/add/eric.wroolie']\n",
      "['https://lifewithoutlimits.co', 'https://tv-two.com/']\n",
      "['https://lifewithoutlimits.co', 'https://www.successbux.com/index.php?ref=digitalmillionaire', 'https://www.you-cubez.com/?referer=364834&tid=', 'https://www.swagbucks.com/p/register?rb=50473979']\n",
      "['https://bit.ly/2yisqkd', 'https://bensound.com']\n",
      "['https://budurl.me/click-here-now91', 'https://budurl.me/free-training-here', 'https://budurl.me/follow-me', 'https://goo.gl/qic6fs', 'https://radioloyalty.com/', 'https://budurl.me/click-here-now91', 'https://budurl.me/free-training-here', 'https://budurl.me/follow-me', 'https://goo.gl/qic6fs', 'https://goo.gl/qic6fs', 'https://www.facebook.com/groups/johnmichaelmarketing/', 'https://www.facebook.com/johnmichaelmarketing/', 'https://www.facebook.com/groups/johnmichaelmarketing/', 'https://www.instagram.com/johnmichaelmarketing/', 'https://twitter.com/johnmichaeljmm', 'https://www.snapchat.com/add/johnminspires', 'https://www.johnmichaelmarketing.com/earnings-disclaimer/', 'https://www.youtube.com/watch?v=wjc7qspmdq8', 'https://www.youtube.com/watch?v=lglecvxov4k']\n",
      "['https://t.me/open4profit', 'https://online-home-jobs.com', 'https://www.binance.com/?ref=23933981', 'https://goo.gl/t8qudk', 'https://www.facebook.com/cryptonewspredictions/', 'https://www.youtube.com/channel/ucknxixhwqbmek5hbn61hl0a/about', 'https://goo.gl/t8qudk', 'https://goo.gl/ftyhpk', 'https://goo.gl/owpozx', 'https://goo.gl/adtrxb', 'https://goo.gl/dnw3qk', 'https://goo.gl/uktfxc', 'https://goo.gl/ierx8z', 'https://goo.gl/tmkguh', 'https://goo.gl/t8qudk', 'https://www.facebook.com/cryptonewspredictions/', 'https://twitter.com/open4profit', 'https://plus.google.com/+open4profit', 'https://in.pinterest.com/homejobsinus/', 'https://www.instagram.com/open4profit', 'https://t.me/open4profit']\n",
      "['https://clkme.in/qtvyz1', 'https://clkme.in/qtvyo3', 'https://clkme.in/qtvyob', 'https://clkme.in/qtvyoz', 'https://clkme.in/qtvyor', 'https://clkme.in/qtvyof', 'https://clkme.in/qtvyoo', 'https://clkme.in/qtvyol', 'https://adf.ly', 'https://adf.ly', 'https://adf.ly', 'https://adf.ly', 'https://adf.ly', 'https://adf.ly', 'https://adf.ly', 'https://adf.ly']\n",
      "['https://t.me/open4profit', 'https://online-home-jobs.com', 'https://www.binance.com/?ref=23933981', 'https://goo.gl/t8qudk', 'https://www.facebook.com/cryptonewspredictions/', 'https://www.youtube.com/channel/ucknxixhwqbmek5hbn61hl0a/about', 'https://goo.gl/t8qudk', 'https://goo.gl/ftyhpk', 'https://goo.gl/owpozx', 'https://goo.gl/adtrxb', 'https://goo.gl/dnw3qk', 'https://goo.gl/uktfxc', 'https://goo.gl/ierx8z', 'https://goo.gl/tmkguh', 'https://goo.gl/t8qudk', 'https://www.facebook.com/cryptonewspredictions/', 'https://twitter.com/open4profit', 'https://plus.google.com/+open4profit', 'https://in.pinterest.com/homejobsinus/', 'https://www.instagram.com/open4profit', 'https://t.me/open4profit']\n",
      "['https://www.vaizdai.eu', 'https://www.acebook.eu', 'https://www.vertapamatyt.eu']\n",
      "['https://bit.ly/2twzaa1', 'https://youtu.be/aplmtkis0xy', 'https://youtu.be/2h2vxdph9bm', 'https://youtu.be/yzbsuanip6g', 'https://coins.ph', 'https://youtu.be/zttyud88b7g', 'https://goo.gl/hgtojy', 'https://goo.gl/rztcnk', 'https://www.facebook.com/jamestristanruiz08/', 'https://twitter.com/askjamesruiz', 'https://www.instagram.com/askjamesruiz/', 'https://youtu.be/yew-vd0ntco', 'https://youtu.be/6jfigjwczpq', 'https://youtu.be/2zl4r-ssycs', 'https://youtu.be/xep4dscmo_g', 'https://youtu.be/b5mtp120hzq', 'https://youtu.be/bqvvlwkye50', 'https://youtu.be/zo-rko5lzjk', 'https://youtu.be/syp48zkhtw4']\n",
      "['https://tinyurl.com/y7tctlwh', 'https://www.youtube.com/channel/ucwsspejmepqdrfedso9fzzg?sub_confirmation=1', 'https://www.youtube.com/playlist?list=plgszlem7uoxlwytu9iburmzxcvsfff3jd', 'https://www.youtube.com/playlist?list=plgszlem7uoxiwvxtrh9tgj-yhmdn4yezg', 'https://www.youtube.com/playlist?list=plgszlem7uoxji16abdaqkn1zaybs9dhts', 'https://www.youtube.com/playlist?list=plgszlem7uoxiooedfe4xboniqzid_tkwz', 'https://www.youtube.com/playlist?list=plgszlem7uoxijchgxxempusevwof5xwvl', 'https://youtu.be/_pkhlltpwqe']\n",
      "['https://bit.ly/vmatoolkit', 'https://www.youtube.com/watch?v=fpwdvneb4uy', 'https://www.youtube.com/watch?v=jfvvmoxtv_g', 'https://www.youtube.com/watch?v=of0anpmnw80', 'https://www.youtube.com/watch?v=jwk6dtgjah0', 'https://thevideospot.net', 'https://bit.ly/vsvlog', 'https://amzn.to/1i9ijyd', 'https://amzn.to/1qimkuq', 'https://amzn.to/1qimdp4', 'https://amzn.to/1qimsk9', 'https://amzn.to/2cuibbo', 'https://amzn.to/2c8muzf', 'https://amzn.to/2dfcelj', 'https://facebook.com/owenvideox', 'https://snapchat.com/add/owenhemsath', 'https://twitter.com/owenhemsath']\n",
      "['https://tokensale.w12.io/', 'https://twitter.com/cryptocoinnewz', 'https://t.me/ccncryptochat']\n",
      "['https://twitter.com/altcoindailyio']\n",
      "['https://twitter.com/cryptocoinnewz']\n",
      "['https://twitter.com/cryptocoinnewz', 'https://t.me/ccncryptochat']\n",
      "['https://go.tylerpratt.com/', 'https://go.tylerpratt.com/', 'https://tylerpratt.com/podcast', 'https://www.facebook.com/tylerprattlive/', 'https://www.instagram.com/millionaire', 'https://twitter.com/asktylerpratt', 'https://tylerpratt.com', 'https://www.youtube.com/tylerprattlive', 'https://www.youtube.com/watch?v=zte3-', 'https://www.youtube.com/watch?v=zte3-']\n",
      "['https://cut-urls.com/6ohmvddt', 'https://cut-urls.com/6wys', 'https://cut-urls.com/ibrif']\n",
      "['https://t.me/open4profit', 'https://fiverr.com', 'https://www.youtube.com/watch?v=4ilssixnmwy', 'https://www.youtube.com/watch?v=vzhkmqfigbg', 'https://www.binance.com/?ref=23933981', 'https://goo.gl/t8qudk', 'https://www.facebook.com/cryptonewspredictions/', 'https://www.youtube.com/channel/ucknxixhwqbmek5hbn61hl0a/about', 'https://goo.gl/t8qudk', 'https://goo.gl/ftyhpk', 'https://goo.gl/owpozx', 'https://goo.gl/adtrxb', 'https://goo.gl/dnw3qk', 'https://goo.gl/uktfxc', 'https://goo.gl/ierx8z', 'https://goo.gl/tmkguh', 'https://goo.gl/t8qudk', 'https://www.facebook.com/cryptonewspredictions/', 'https://twitter.com/open4profit', 'https://plus.google.com/+open4profit', 'https://in.pinterest.com/homejobsinus/', 'https://www.instagram.com/open4profit', 'https://t.me/open4profit']\n",
      "['https://t.me/altcoinparty', 'https://t.me/vipelite', 'https://twitter.com/cryptokirby']\n",
      "['https://kopmoney.club/973216475371/']\n",
      "['https://twitter.com/altcoindailyio', 'https://www.coinbase.com/join/59ebcf351b0a9101738c89d8', 'https://cointelegraph.com/news/bitcoin-seller-fatigue-means-market-has-bottomed-michael-novogratz-tells-yahoo', 'https://www.cointmz.com/2018/09/23/cboe-bitcoin-etf-approval-by-christmas/', 'https://dailyhodl.com/2018/09/23/is-bakkt-the-killer-app-for-bitcoin-and-crypto/']\n",
      "['https://www.patreon.com/manateegaming', 'https://discord.gg/zbytaag']\n",
      "['https://api.whatsapp.com/send?phone=916260363953', 'https://chat.whatsapp.com/atmgek6sm39b0t3pedzudp', 'https://bitminer.io', 'https://ultraworkers.com', 'https://mouthshut.com', 'https://ultraworkers.com', 'https://superpay.me']\n",
      "['https://bit.ly/2rsuyof', 'https://bit.ly/2dvbzhj', 'https://bit.ly/2icov8q', 'https://bit.ly/2htrl4i', 'https://bit.ly/2hrfq55', 'https://bit.ly/2hrr7nr', 'https://www.facebook.com/studiobinderapp', 'https://www.twitter.com/studiobinder', 'https://www.instagram.com/studiobinder', 'https://www.pinterest.com/studiobinde0545/', 'https://www.linkedin.com/company/studio-binder']\n",
      "['https://bit.ly/2dwr2ri', 'https://geni.us/rsbfc', 'https://teespring.com/stores/voskcoin', 'https://bit.ly/cdsia', 'https://bit.ly/2zqzg4y', 'https://bit.ly/siaredd', 'https://bit.ly/2ifwt12', 'https://bit.ly/obtech', 'https://bit.ly/siacmc', 'https://bit.ly/2p9hx8x', 'https://geni.us/wqd7ccs', 'https://www.patreon.com/voskcoin', 'https://www.facebook.com/voskcoin/', 'https://www.reddit.com/r/voskcoin/', 'https://discord.gg/fggms2z', 'https://twitter.com/voskcoin', 'https://www.instagram.com/voskcoin/', 'https://amazon.com']\n",
      "['https://www.roblox.com/groups/group.aspx?gid=2935781', 'https://www.youtube.com/user/nocopyrightsounds', 'https://www.youtube.com/watch?v=bm7sz5sbzyy', 'https://www.facebook.com/djwalkzz', 'https://soundcloud.com/walkzz', 'https://twitter.com/iamalanwalker', 'https://www.youtube.com/user/djwalkzz', 'https://www.youtube.com/channel/uc1ycxhej6-uh5ntqn1ht0rg']\n",
      "['https://go.tylerpratt.com/', 'https://go.tylerpratt.com/', 'https://www.facebook.com/tylerprattlive/', 'https://www.instagram.com/millionaire', 'https://twitter.com/asktylerpratt', 'https://tylerpratt.com', 'https://www.youtube.com/tylerprattlive', 'https://www.youtube.com/watch?v=hcwmi', 'https://www.youtube.com/watch?v=rtz2i']\n",
      "['https://www.seekhoall.com/presearch-website/', 'https://bit.ly/2hx1lnc', 'https://goo.gl/wwj8r1', 'https://goo.gl/6m4fkq', 'https://www.seekhoall.com/', 'https://goo.gl/hm1rcm', 'https://www.instagram.com/rashidansari97', 'https://www.facebook.com/seekhotech', 'https://twitter.com/rashidriaz97', 'https://goo.gl/2tqyd5', 'https://www.youtube.com/edit?o=u&video_id=hnxw_flqrjo', 'https://youtu.be/abpjh8gtkbq', 'https://youtu.be/cwuz05-xcxi', 'https://www.youtube.com/edit?o=u&video_id=b6_icrismhc', 'https://www.youtube.com/edit?o=u&video_id=magsbfkv7vo', 'https://youtu.be/9e66oolptfy', 'https://www.youtube.com/edit?o=u&video_id=4eg6w-a6bmo', 'https://goo.gl/d2f69f', 'https://goo.gl/lavqaf', 'https://goo.gl/dacjs4', 'https://goo.gl/srbhe1', 'https://goo.gl/4obb9x', 'https://goo.gl/qw2u2u', 'https://goo.gl/y3t1bh']\n",
      "['https://www.youtube.com/channel/ucvoobzhw03cttu_zomy0f-q', 'https://b.link/clickfunnels41', 'https://pages.today/ytcm', 'https://today.marketing/grtrial', 'https://www.youtube.com/watch?v=p7_yqvrsz20', 'https://www.youtube.com/watch?v=sbqyqdsu_5q', 'https://www.youtube.com/watch?v=ocnvjcxunf0&t=1s', 'https://www.youtube.com/watch?v=badnmibfxfs', 'https://www.youtube.com/watch?v=hzp402s73zi', 'https://www.youtube.com/watch?v=4aoxsl8o33k', 'https://www.facebook.com/alexzubarev', 'https://www.instagram.com/alexzubarev/', 'https://alexzubarev.me/money-getting-made-easy/', 'https://youtu.be/hlqvyyu2jto']\n",
      "['https://t.me/altcoinparty', 'https://t.me/vipelite', 'https://twitter.com/cryptokirby']\n",
      "['https://www.clickadoo.net/?r=themozak']\n",
      "['https://cpafbacademy.com/mastermind', 'https://cpafbacademy.com/mastermind', 'https://fb.com/certifiedlegacy', 'https://10kwithscott.com/who-is-scott', 'https://fb.com/certifiedlegacy', 'https://youtu.be/kcg1ore7bge', 'https://teeprofits.com', 'https://teespring.com', 'https://teeprofits.com', 'https://youtu.be/lnfzuchgd7i']\n",
      "['https://bitcoinexchangeguide.com/bitmex-ceo-calls-ethereum-a-shitcoin-says-ether-eth-price-under-100/', 'https://www.newsbtc.com/2018/08/14/ethereum-tumbles-17-investors-blame-it-on-an-ico-sell-off/', 'https://www.dappcapitulation.com/', 'https://medium.com/novamining/plasma-cash-new-scalability-solution-for-the-ethereum-network-f7c0b889db7d', 'https://www.chepicap.com/en/news/2948/vitalik-buterin-hints-that-casper-is-closer-than-ever-to-being-finished.html', 'https://vyper.readthedocs.io/en/latest/', 'https://twitter.com/altcoindailyio']\n",
      "['https://campaigns.so', 'https://www.youtube.com/channel/ucy8c0t2d_qtqu7oshffxfog', 'https://www.facebook.com/funny-club-1770239496587586/', 'https://www.youtube.com/watch?v=1ykghtxxgmo', 'https://www.youtube.com/watch?v=jbngtmiquui', 'https://www.youtube.com/watch?v=je3qtipr9ng', 'https://www.hongkiat.com/blog/brilliant-creative-billboard-advertisements/', 'https://www.hongkiat.com/blog/creative-marketing-ad-campaigns/', 'https://blog.hubspot.com/blog/tabid/6307/bid/32763/the-10-greatest-marketing-campaigns-of-all-time.aspx#sm.00000yixfahq2ifjjxe5x3rlgfc0s', 'https://www.adweek.com/brand-marketing/14-brilliant-outdoor-ads-rocked-real-world-2014-161999/', 'https://www.awwwards.com/8-brilliant-interactive-marketing-campaigns.html', 'https://www.creativebloq.com/design/billboard-advertising-1131681', 'https://designshack.net/articles/inspiration/50-creative-and-clever-examples-of-outdoor-advertising/', 'https://www.designyourway.net/blog/inspiration/55-amazing-billboards-that-will-surely-catch-your-attention/']\n",
      "['https://petty.link/wug2', 'https://www.developerzone.tk', 'https://www.laptopclinc.tk', 'https://petty.link/b7jl', 'https://petty.link/6rmm', 'https://petty.link/ctwn', 'https://petty.link/llospho', 'https://petty.link/6skyl9', 'https://petty.link/exxgovh', 'https://petty.link/hfenb', 'https://petty.link/npco', 'https://petty.link/8gudfm', 'https://petty.link/zmms', 'https://petty.link/fsmjkg', 'https://petty.link/kovbpth', 'https://petty.link/7tuqd', 'https://petty.link/gv3ko', 'https://petty.link/zgznu', 'https://petty.link/9sak5h', 'https://petty.link/js1n', 'https://petty.link/dx9k36wk', 'https://petty.link/ze2a3eu', 'https://petty.link/cxm4v', 'https://petty.link/dqleiq', 'https://petty.link/wmsx', 'https://petty.link/rueiq9', 'https://petty.link/ybuhd', 'https://petty.link/kav5ye5m']\n",
      "['https://t.me/cryptomafiagold', 'https://twitter.com/sami_loyal', 'https://tradingview.go2cloud.org/aff_c?offer_id=2&aff_id=11710', 'https://www.bitmex.com/register/sk75q7', 'https://amzn.to/2bmpaoy', 'https://amzn.to/2wcp9i6', 'https://amzn.to/2pczlyf', 'https://amzn.to/2od7v9q']\n",
      "['https://www.binance.com/?ref=10192350', 'https://www.kucoin.com/#/?r=18a8f', 'https://www.huobi.br.com/en-us/topic/invited/?invite_code=b5u43', 'https://www.ledgerwallet.com/r/6877', 'https://shop.trezor.io?a=aw902rsted', 'https://partners.calebandbrown.com/cryptolark', 'https://twitter.com/thecryptolark', 'https://www.facebook.com/thecryptolark/', 'https://t.me/thecryptolark', 'https://www.minds.com/register?referr', 'https://steemit.com/@larksongbird', 'https://d.tube/#!/c/larksongbird', 'https://bit.tube/the%20crypto%20lark', 'https://www.acast.com/thecryptolarkpodcast', 'https://t.me/cryptolarkbot', 'https://rss.acast.com/thecryptolarkpodcast']\n",
      "['https://twitter.com/cryptocoinnewz', 'https://t.me/ccncryptochat']\n",
      "['https://www.facebook.com/aleksander.vitkin', 'https://meetme.so']\n",
      "['https://tinyurl.com/32hb8u8']\n",
      "['https://play.google.com/store/apps/details?id=tornado_blog.xyz.makemoney', 'https://seekhotech.blogspot.com/', 'https://www.instagram.com/rashid_ansari97', 'https://www.facebook.com/seekhotech', 'https://twitter.com/rashidriaz97', 'https://plus.google.com//113050067288481233818', 'https://www.youtube.com/c/seekhotech', 'https://goo.gl/d2f69f', 'https://goo.gl/lavqaf', 'https://goo.gl/dacjs4', 'https://goo.gl/srbhe1', 'https://goo.gl/4obb9x', 'https://goo.gl/qw2u2u', 'https://goo.gl/137ndc', 'https://goo.gl/y3t1bh', 'https://goo.gl/yqrwvw', 'https://goo.gl/o2xuvs']\n",
      "['https://financial-education2.teachable.com/p/in-jeremy-s-stock-market-brain', 'https://financial-education2.teachable.com/p/becoming-master-of-the-stock-market', 'https://financial-education2.teachable.com/p/stock-market-investing-mastery']\n",
      "['https://go.tylerpratt.com/', 'https://go.tylerpratt.com/', 'https://www.facebook.com/tylerprattlive/', 'https://www.instagram.com/millionaire_advisor/', 'https://twitter.com/asktylerpratt', 'https://tylerpratt.com', 'https://www.youtube.com/tylerprattlive', 'https://www.youtube.com/watch?v=zfmshar-ot0', 'https://www.youtube.com/watch?v=si91mrsgjla']\n",
      "['https://bit.ly/youtuberevmachine', 'https://cryptorev.teachable.com/p/cryptorevenuemachine', 'https://bit.ly/2dvilyv', 'https://bit.ly/2zxkclf', 'https://bit.ly/1ugsfen']\n",
      "['https://clickcease.com']\n",
      "['https://twitter.com/altcoindailyio', 'https://www.cnbc.com/2018/09/25/google-reverses-ban-on-cryptocurrency-exchange-advertising-in-us-japan.html', 'https://finance.yahoo.com/news/75-banks-joined-jpmorgan-apos-092040990.html', 'https://finance.yahoo.com/news/75-banks-joined-jpmorgan-apos-092040990.html']\n",
      "['https://www.youtube.com/user/merknmex', 'https://discord.gg/skfqga', 'https://streamlabs.com/merknmexx', 'https://www.youtube.com/watch?v=war59', 'https://twitter.com/merk_nmex', 'https://instagram.com/merk_nmex']\n",
      "['https://twitter.com/altcoindailyio']\n",
      "['https://teasoftware.typeform.com/to/x2r8ig', 'https://www.shoppingcartelite.com', 'https://www.igorsoshkin.com', 'https://dl.dropbox.com/u/1748818/price/shopping%20cart%20elite%20review/overview%20and%20pricing.pdf']\n",
      "['https://www.instagram.com/kripeshadwani/', 'https://www.facebook.com/kripeshadwani', 'https://www.instagram.com/thegeekaffair/?hl=en', 'https://play.google.com/store/apps/developer?id=kripesh+adwani']\n",
      "['https://t.me/joinchat/k0mzjuxjvzrrybsqmq3bmq', 'https://apkpure.com/webautoreloader/kim.taedoo.webautoreloader', 'https://linkrj.in/ref/arshdeep', 'https://earn4click.net', 'https://za.gl']\n",
      "['https://goo.gl/sxwptf', 'https://goo.gl/omjgrn', 'https://goo.gl/ojozpb', 'https://goo.gl/xbvkjz']\n",
      "['https://wdvw.app.link/v3qpfzwftf']\n",
      "['https://twitter.com/cryptocoinnewz', 'https://t.me/ccncryptochat']\n",
      "['https://pages.news/clickme6', 'https://budurl.me/free-training-here', 'https://goo.gl/qic6fs', 'https://budurl.me/follow-me', 'https://page.video/workforus', 'https://www.qmee.com/register', 'https://www.facebook.com/groups/johnmichaelmarketing/', 'https://www.facebook.com/johnmichaelmarketing/', 'https://www.facebook.com/groups/johnmichaelmarketing/', 'https://www.instagram.com/johnmichaelmarketing/', 'https://twitter.com/johnmichaeljmm', 'https://www.snapchat.com/add/johnminspires', 'https://www.johnmichaelmarketing.com/earnings-disclaimer/', 'https://www.youtube.com/watch?v=juzjmnepv-e', 'https://www.youtube.com/watch?v=jp-ymoslnrm', 'https://pages.news/clickme6', 'https://budurl.me/free-training-here', 'https://goo.gl/qic6fs', 'https://budurl.me/follow-me', 'https://page.video/workforus']\n",
      "['https://www.ted.com/tedx']\n",
      "['https://www.bit.do/earn2017', 'https://www.youtube.com/watch?v=bm1ijpqzpg4']\n",
      "['https://www.youtube.com/watch?v=ywvfcp-ga38', 'https://www.youtube.com/watch?v=4tjstmzb43i&t=1s', 'https://theundergroundsecrets.com/', 'https://www.youtube.com/watch?v=zcndql2qysm&t=236s', 'https://www.youtube.com/watch?v=yizt_p_8gly&t=1s', 'https://www.youtube.com/watch?v=wevvwy45zq4&t=171s', 'https://www.youtube.com/watch?v=oa9ch_tgaha&t=1s', 'https://www.youtube.com/watch?v=rzyfmq15k6w&t=143s', 'https://www.youtube.com/watch?v=vgaastoy-v8', 'https://www.youtube.com/watch?v=wddhpjrgs0e&t=5s', 'https://www.youtube.com/watch?v=dgjbzcl21u0', 'https://www.youtube.com/watch?v=fo1nacdxmu0', 'https://www.youtube.com/watch?v=_7fkb1snep8&t=1s', 'https://www.youtube.com/watch?v=4ewf_fng6a0&t=324s', 'https://www.youtube.com/watch?v=mfqnxtvebwc&t=1697s', 'https://www.youtube.com/watch?v=dxrx5zqxpzu&t=10s', 'https://www.youtube.com/watch?v=mrzkxm_kmye', 'https://www.youtube.com/watch?v=w4_7o9j2xx4&t=1s', 'https://www.youtube.com/watch?v=_teh_tpcbns', 'https://www.youtube.com/watch?v=sktj_vlegc4', 'https://www.youtube.com/watch?v=yogxqaeqw7i', 'https://www.youtube.com/watch?v=gccqmddfkos&t=25s', 'https://www.youtube.com/watch?v=6fnumph9hcs&t=386s', 'https://www.youtube.com/watch?v=cdazuyqiuko', 'https://www.youtube.com/watch?v=mywnqcpqv5g&t=19s', 'https://www.youtube.com/watch?v=pljyd9mq6fs&t=45s', 'https://www.youtube.com/watch?v=gfrtokr03ui', 'https://www.facebook.com/ruan.marinho.9', 'https://www.instagram.com/ruan_m/', 'https://www.linkedin.com/in/ruanmarinho/', 'https://develomark.com/']\n",
      "['https://drive.google.com/file/d/1d5s0p1udbfesr8vyeng0gpyjkjntgra7/view?usp=sharing', 'https://www.instagram.com/smartearning.yt?r=nametag', 'https://youtu.be/s8dnbb-dhmi', 'https://youtu.be/b15l4st-q90', 'https://youtu.be/cblx8okcyr0', 'https://youtu.be/ydc3gyrsr5o', 'https://telegram.me/divyanktyagi299', 'https://telegram.me/joinchat/aaaaaevprwg7uwt5z9rtnw', 'https://telegram.me/joinchat/aaaaafirjhzsufws9ns94w', 'https://telegram.me/joinchat/aaaaaetmazxeay1zs9mhca', 'https://telegram.me/joinchat/aaaaafaqb-4xawhpasqv2g']\n",
      "['https://www.moneymail.in/', 'https://www.paisalive.com', 'https://sgseducation.com', 'https://www.moneymail.in/', 'https://www.paisalive.com', 'https://sgseducations.blogspot.in', 'https://www.youtube.com/watch?v=4qpcxt0cjwk', 'https://www.youtube.com/watch?v=czf10ozqcbc', 'https://www.youtube.com/watch?v=yjrph5oag4g', 'https://www.youtube.com/watch?v=rfn4b2ej3bg', 'https://www.youtube.com/watch?v=bdhhid4cb6c', 'https://www.youtube.com/watch?v=axcqe8dbyra', 'https://www.youtube.com/playlist?list=pla-kxnntxtsui1rgbfeyzih4vq1zle1wy', 'https://www.youtube.com/watch?v=pwzjjmpxngm', 'https://www.youtube.com/watch?v=ovmmmvj0ma4', 'https://www.youtube.com/watch?v=te8jw3ufsno', 'https://www.youtube.com/watch?v=whppf-shwpg', 'https://www.youtube.com/watch?v=zc6y79fr56k', 'https://www.youtube.com/c/sgseducation', 'https://sgseducations.blogspot.in/', 'https://www.facebook.com/sgseducationpage', 'https://twitter.com/sgseducation', 'https://in.pinterest.com/sgseducation/', 'https://plus.google.com/u/0/116539165020466519017/op/u?csrc=yt&cfem=1']\n",
      "['https://www.youtube.com/watch?v=fw9b_b4q6bq', 'https://youtu.be/97w02_ixhdy', 'https://bit.ly/1vwgolw', 'https://www.facebook.com/adi.khan.71404', 'https://www.facebook.com/adilkhanbiz-165973510438432', 'https://www.facebook.com/groups/1548476252143593/', 'https://twitter.com/adilk0870', 'https://plus.google.com/+adilkhannetwork/posts']\n",
      "['https://t.me/altcoinparty', 'https://t.me/vipelite', 'https://twitter.com/cryptokirby']\n",
      "['https://financial-education2.teachable.com/p/in-jeremy-s-stock-market-brain', 'https://financial-education2.teachable.com/p/building-wealth-conference-2019-presented-by-financial-education']\n",
      "['https://budurl.me/click-here-now104', 'https://budurl.me/free-training-here', 'https://goo.gl/qic6fs', 'https://budurl.me/follow-me', 'https://page.video/workforus', 'https://www.cracked.com/write-for-cracked/', 'https://forums.cracked.com/viewforum.php?f=20&sid=8378d7b90fafc71f4fc40d510c947a86', 'https://www.facebook.com/groups/johnmichaelmarketing/', 'https://www.facebook.com/johnmichaelmarketing/', 'https://www.facebook.com/groups/johnmichaelmarketing/', 'https://www.instagram.com/johnmichaelmarketing/', 'https://twitter.com/johnmichaeljmm', 'https://www.snapchat.com/add/johnminspires', 'https://www.johnmichaelmarketing.com/earnings-disclaimer/', 'https://www.youtube.com/watch?v=rl304errdi8', 'https://www.youtube.com/watch?v=msxc_azllp4', 'https://www.cracked.com/blog/how-to-make-money-doing-stuff-cracked-no-bs-guide/', 'https://budurl.me/click-here-now104', 'https://budurl.me/free-training-here', 'https://goo.gl/qic6fs', 'https://budurl.me/follow-me', 'https://page.video/workforus']\n",
      "['https://twitter.com/cryptocoinnewz', 'https://t.me/ccncryptochat']\n",
      "['https://enfuzed.com/s/']\n",
      "['https://www.mediafire.com/file/qtn2tzkf7s558uk/autoclick.rar', 'https://mega.nz/#!idarqszk', 'https://www.mediafire.com/file/7a58rytp92thjpz/shant+pack+v4+%28zip%29.zip', 'https://www.youtube.com/channel/ucert77lmlq0bnmnuw_-gglw', 'https://twitter.com/komel_oficial', 'https://www.twitch.tv/lit_dodii']\n",
      "['https://play.google.com/store/apps/details?id=com.prohiro.macro']\n",
      "['https://bit.ly/16d5rtp', 'https://on.fb.me/1brearv', 'https://www.youtube.com/watch?v=vew11yylc90']\n",
      "['https://vincentplatania0.articlealley.com/the-advantages-and-disadvantages-of-advertising-138874.html']\n",
      "['https://freehandmadetraining.com', 'https://www.handmadeology.com', 'https://www.amazon.com/problogger-secrets-blogging-six-figure-income/dp/0470246677', 'https://twitter.com/byrenae', 'https://freehandmadetraining.com']\n",
      "['https://bit.ly/1qu63yk', 'https://www.facebook.com/jesse.singh.501', 'https://twitter.com/jkgultimate', 'https://www.instagram.com/jessesingh3099/']\n",
      "['https://bit.ly/2nxwdcc', 'https://bit.ly/r1workshop', 'https://budurl.com/kacp', 'https://www.facebook.com/rule1investing', 'https://twitter.com/rule1_investing', 'https://www.pinterest.com/rule1investing', 'https://www.linkedin.com/company/rule-1-investing', 'https://bit.ly/1ydqvxi', 'https://bit.ly/1kyuwb4']\n",
      "['https://bigmarktv.com/start/', 'https://www.creativelive.com/affiliates', 'https://bigmarktv.com/subscribe', 'https://bigmarktv.com/bestmoneysystem', 'https://www.instagram.com/mark_monciardini/', 'https://bigmarktv.com/youtubetool', 'https://bigmarktv.com/autoresponder', 'https://bigmarktv.com/page-builder', 'https://www.youtube.com/watch?v=ikinylzje94']\n",
      "['https://www.facebook.com/weekend.tips.75', 'https://20.so', 'https://polices.so', 'https://self-click.in', 'https://income.so', 'https://thing.by', 'https://20.so', 'https://polices.so', 'https://clcik.in', 'https://income.so', 'https://thing.by']\n",
      "['https://www.yougetprofit.com/?ref=arifurs', 'https://arifurs360.blogspot.com', 'https://www.facebook.com/arifurs360', 'https://twitter.com/arifurs360', 'https://plus.google.com/u/2/114122236046435443593', 'https://www.reddit.com/user/arifurs/', 'https://arifurs360.tumblr.com']\n",
      "['https://www.profitclicking.com/?r=b3pf9hxa4m&p=opp', 'https://www.facebook.com/pages/profit-clicking-goup/516353341731299']\n",
      "['https://www.bitdegree.org/course/cryptocurrency-project-opportunity-of-20182019', 'https://www.udemy.com/cryptocurrency-investing/?couponcode=cryp10', 'https://bef.latoken.com/', 'https://www.bitdegree.org/course/cryptocurrency-investment-opportunity', 'https://www.udemy.com/blockchain-course/?couponcode=no1ico', 'https://www.udemy.com/cryptocurrency-ico/?couponcode=icos10', 'https://www.udemy.com/cryptocurrencytrading/?couponcode=trad10', 'https://www.udemy.com/cryptocurrency-wallet/?couponcode=cash10', 'https://www.udemy.com/cryptocurrency-course/?couponcode=cryp10', 'https://www.udemy.com/cryptocurrency/?couponcode=cryp10', 'https://www.twitter.com/michaelsuppo', 'https://t.me/sygchat', 'https://www.investfeed.com/suppoman', 'https://steemit.com/@suppoman/', 'https://itunes.apple.com/gb/podcast/hero/id1233635268?mt=2\\\\u200b\\\\u200b\\\\u200b', 'https://www.coinbase.com/join/58da6c18b6c7053a85']\n",
      "['https://goo.gl/nsh0oh', 'https://www.nitinbhatia.in/', 'https://twitter.com/nitinbhatia121', 'https://plus.google.com/+nitinbhatia']\n",
      "['https://www.youtube.com/channel/ucnjptocvmrky5elwr_-7eug?sub_confirmation=1', 'https://youtu.be/wtjcyjmhwo8', 'https://alux.com', 'https://alux.com', 'https://www.youtube.com/watch?v=ay0u3djrzas&list=plp35lytoqviu4tnnitmhuqijyswuhfoyl', 'https://www.youtube.com/watch?v=m5ghenzzs1k&index=1&list=plp35lytoqvitrvhgzdb9ky-sbjq4gu-ym', 'https://www.youtube.com/watch?v=skwfwf2snpw&index=6&list=plp35lytoqviso8kotx8-yogwkgvrptj3m', 'https://www.youtube.com/watch?v=ray_g-1jf74&index=1&list=plp35lytoqvivthskr0s3jdjww3qa9foba', 'https://www.youtube.com/watch?v=lmjo3gg45pm&list=plp35lytoqvitakcx5o3yaje6_h9d-guem', 'https://www.youtube.com/watch?v=-blsz2jbdgm&t=2s&index=23&list=plp35lytoqvit823sy_c3-166rlzonbw6w', 'https://www.youtube.com/watch?v=ch7jwvk8ldk&index=6&list=plp35lytoqvivqu6lzpw5_lrymmdb6zncu', 'https://www.youtube.com/watch?v=uuhprvddli0&list=plp35lytoqviujuinlyvsu2vvp6pk9zjuk', 'https://www.youtube.com/watch?v=xr2ydbz2uwk&list=plp35lytoqviv0fnwegqmkrdd9d9nkl7dz', 'https://www.instagram.com/alux/', 'https://www.facebook.com/ealuxe', 'https://alux.com', 'https://www.alux.com', 'https://goo.gl/kprqt8', 'https://www.alux.com/networth/', 'https://www.alux.com/contact/']\n",
      "['https://bit.ly/2hkgico', 'https://bit.ly/2mdpju1', 'https://bit.ly/2teys8a', 'https://www.twitter.com/@digitalassetbuy']\n",
      "['https://t.me/open4profit', 'https://www.youtube.com/watch?v=4ilssixnmwy', 'https://www.youtube.com/watch?v=vzhkmqfigbg', 'https://online-home-jobs.com', 'https://www.binance.com/?ref=23933981', 'https://goo.gl/t8qudk', 'https://www.facebook.com/cryptonewspredictions/', 'https://www.youtube.com/channel/ucknxixhwqbmek5hbn61hl0a/about', 'https://goo.gl/t8qudk', 'https://goo.gl/ftyhpk', 'https://goo.gl/owpozx', 'https://goo.gl/adtrxb', 'https://goo.gl/dnw3qk', 'https://goo.gl/uktfxc', 'https://goo.gl/ierx8z', 'https://goo.gl/tmkguh', 'https://goo.gl/t8qudk', 'https://www.facebook.com/cryptonewspredictions/', 'https://twitter.com/open4profit', 'https://plus.google.com/+open4profit', 'https://in.pinterest.com/homejobsinus/', 'https://www.instagram.com/open4profit', 'https://t.me/open4profit']\n",
      "['https://youtu.be/ecxygjyfri0']\n",
      "['https://budurl.me/click-here-now48', 'https://www.youtube.com/watch?v=dix6ajfju50', 'https://budurl.me/free-training-here', 'https://goo.gl/qic6fs', 'https://www.johnmichaelmarketing.com/earnings-disclaimer/', 'https://budurl.me/free-training-here', 'https://budurl.me/click-here-now48', 'https://goo.gl/qic6fs', 'https://www.facebook.com/groups/johnmichaelmarketing/', 'https://www.facebook.com/johnmichaelmarketing/', 'https://www.facebook.com/groups/johnmichaelmarketing/', 'https://www.instagram.com/johnmichaelmarketing/', 'https://twitter.com/johnmichaeljmm', 'https://www.snapchat.com/add/johnminspires', 'https://www.johnmichaelmarketing.com/earnings-disclaimer/', 'https://www.youtube.com/watch?v=jxmskllpge8', 'https://www.youtube.com/watch?v=evi1ghql5ns']\n",
      "['https://go.tylerpratt.com/', 'https://www.facebook.com/tylerprattlive/', 'https://www.instagram.com/tylerpratt365/', 'https://twitter.com/asktylerpratt', 'https://tylerpratt.com', 'https://www.youtube.com/watch?v=l2ddbgjgyru', 'https://www.youtube.com/watch?v=ewdf0heqbme']\n",
      "['https://financial-education2.teachable.com/p/stock-market-investing-mastery', 'https://financial-education2.teachable.com/p/building-wealth-conference-2019-presented-by-financial-education', 'https://financial-education2.teachable.com/p/in-jeremy-s-stock-market-brain']\n",
      "['https://twitter.com/altcoindailyio']\n",
      "['https://goo.gl/nsh0oh', 'https://www.nitinbhatia.in/', 'https://twitter.com/nitinbhatia121', 'https://plus.google.com/+nitinbhatia']\n",
      "['https://goo.gl/1syrls', 'https://goo.gl/5zquqv', 'https://goo.gl/gqti26', 'https://goo.gl/u1djbv', 'https://goo.gl/g3xtph', 'https://goo.gl/aeugii', 'https://goo.gl/yjzu8t', 'https://goo.gl/rd7pld', 'https://goo.gl/qkzmmb', 'https://goo.gl/tdcsmf', 'https://medium.com/@mobu/smart-investors-know-why-now-is-the-perfect-time-to-invest-in-blockchain-49fd35fbe35f', 'https://www.investinblockchain.com/why-now-invest-cryptocurrencies/', 'https://www.cryptotraderpros.com/why-you-should-invest-in-bitcoin/', 'https://www.nasdaq.com/article/5-reasons-now-is-the-time-to-buy-cryptocurrency-cm955102', 'https://youtu.be/z3ppphdremu']\n",
      "['https://goo.gl/hgtojy', 'https://goo.gl/rztcnk', 'https://youtu.be/2h2vxdph9bm', 'https://youtu.be/aplmtkis0xy', 'https://www.facebook.com/jamestristanruiz08/', 'https://twitter.com/askjamesruiz', 'https://www.instagram.com/askjamesruiz/', 'https://youtu.be/2zl4r-ssycs', 'https://youtu.be/xep4dscmo_g', 'https://youtu.be/b5mtp120hzq', 'https://youtu.be/bqvvlwkye50', 'https://youtu.be/phtsjnn7awu', 'https://youtu.be/zo-rko5lzjk', 'https://youtu.be/syp48zkhtw4', 'https://youtu.be/ut24fvujymi']\n",
      "['https://youtu.be/vt668tvress', 'https://www.youtube.com/watch?v=jakdzanp-i4', 'https://www.youtube.com/watch?v=jakdzanp-i4', 'https://www.youtube.com/watch?v=jakdzanp-i4', 'https://www.youtube.com/watch?v=jakdzanp-i4', 'https://goo.gl/uakhra', 'https://youtu.be/vjjl5y6qolq', 'https://youtu.be/bc8pfuyed3m', 'https://youtu.be/vjjl5y6qolq']\n",
      "['https://budurl.me/click-here-now67', 'https://budurl.me/get-sense-drill', 'https://budurl.me/free-training-here', 'https://www.instagram.com/johnmichaelmarketing/', 'https://goo.gl/qic6fs', 'https://www.johnmichaelmarketing.com/earnings-disclaimer/', 'https://budurl.me/click-here-now67', 'https://budurl.me/get-sense-drill', 'https://goo.gl/qic6fs', 'https://www.facebook.com/groups/johnmichaelmarketing/', 'https://www.facebook.com/johnmichaelmarketing/', 'https://www.facebook.com/groups/johnmichaelmarketing/', 'https://www.instagram.com/johnmichaelmarketing/', 'https://twitter.com/johnmichaeljmm', 'https://www.snapchat.com/add/johnminspires', 'https://www.johnmichaelmarketing.com/earnings-disclaimer/', 'https://www.youtube.com/watch?v=o6ow2uz_wtm', 'https://www.youtube.com/watch?v=maeouscncy0']\n",
      "['https://4funindia.com/u/4257057/5', 'https://t.me/onlineadvice']\n",
      "['https://adclickxpress.is/?r=dineshthakur&p=aa', 'https://adclickxpress.is/?r=dineshthakur&p=aa', 'https://www.facebook.com/dineshthakur4u']\n",
      "['https://savageaffiliates.com', 'https://frankhustle.com/training', 'https://youtu.be/nesvctupv0w']\n",
      "['https://youtu.be/uglrvkgm2yo', 'https://t.me/earnwithrk', 'https://t.me/joinchat/aaaaafbt6w96znl5hcvlaw', 'https://www.cryptokosh.com/earnwithrk-official-paid-group-joining-instructions/', 'https://goo.gl/mmuymp', 'https://link.zebpay.com/ref/refrkgu9410', 'https://www.techllog.com', 'https://www.techllog.com/category/crypto-currency/', 'https://www.cryptokosh.com/mining-cryptocurrency', 'https://goo.gl/3v1bwn']\n",
      "['https://www.facebook.com/praveendilliwala', 'https://twitter.com/praveendiliwala', 'https://www.instagram.com/praveendilliwala', 'https://www.youtube.com/praveendilliwala']\n",
      "['https://www.patreon.com/aimstone', 'https://steemit.com/@astakhiv92', 'https://www.coinbase.com/join/5a4bf25', 'https://www.binance.com/?ref=21867060', 'https://www.youtube.com/watch?v=jyshkwrmvgk', 'https://www.youtube.com/watch?v=e1pxui6or4o', 'https://www.youtube.com/watch?v=vwelihkzb3c']\n",
      "['https://www.youtube.com/channel/ucqvvj1lkopa8tjb7radtvog/join', 'https://goo.gl/nsh0oh', 'https://www.nitinbhatia.in/', 'https://twitter.com/nitinbhatia121', 'https://plus.google.com/+nitinbhatia']\n",
      "['https://www.dreamhomebasedwork.com', 'https://www.qmee.com/', 'https://youtu.be/xmm_hkzb_bu', 'https://www.youtube.com/user/dhbwfans', 'https://www.facebook.com/dreamhomebasedwork', 'https://twitter.com/dhbw_fans', 'https://www.pinterest.com/legitworkathome/']\n",
      "['https://steemit.com/bitcoin/@siamkidd/don-t-be-a-crypto-weak-hand-it-s-what-they-want', 'https://twitter.com/siamkidd', 'https://twitter.com/altcoindailyio']\n",
      "['https://www.youtube.com/watch?v=tt9zjouidwq', 'https://cuturl.in/oscti', 'https://cuturl.in/ssts8g', 'https://cuturl.in/gfeo', 'https://cuturl.in/koo6eoxn', 'https://cuturl.in/cvemiia5', 'https://goo.gl/ooiwvf', 'https://cuturl.in/czp4bf', 'https://goo.gl/1hcwa3', 'https://goo.gl/ftmz1r', 'https://goo.gl/c7ie6p']\n",
      "['https://paidverts.com']\n",
      "['https://www.ndtv.com/video/mindspace/heads-up/inside-the-world-of-creative-advertising-agencies-463917?yt', 'https://www.youtube.com/user/ndtv?sub_confirmation=1', 'https://www.facebook.com/ndtv', 'https://twitter.com/ndtv', 'https://www.ndtv.com/page/apps', 'https://www.ndtv.com/video?yt']\n",
      "['https://www.wayup.com/?utm_source=youtube&utm_campaign=work-at-ad-agency&utm_medium=video', 'https://facebook.com/wayupinc', 'https://twitter.com/wayup', 'https://instagram.com/wayup', 'https://www.youtube.com/c/wayup?sub_confirmation=1']\n",
      "['https://adclickindia.com//dashboard/join.aspx?id=aci3429285']\n",
      "['https://www.youtube.com/watch?v=xla4bgguv8c', 'https://www.howtomakemobilegames.com', 'https://www.howtomakemobilegames.com', 'https://www.youtube.com/user/howtomakemobilegames', 'https://www.youtube.com/watch?v=ilfz96wrtai', 'https://www.unity3d.com', 'https://www.youtube.com/watch?v=x9e9mupcv2c', 'https://www.youtube.com/watch?v=xqut3kklkkg', 'https://www.youtube.com/watch?v=x9e9mupcv2c']\n",
      "['https://www.udemy.com/cryptocurrency-investing/?couponcode=cryp10', 'https://www.bitdegree.org/course/cryptocurrency-project-opportunity-of-20182019', 'https://bef.latoken.com/', 'https://www.bitdegree.org/course/cryptocurrency-investment-opportunity', 'https://www.udemy.com/blockchain-course/?couponcode=no1ico', 'https://www.udemy.com/cryptocurrency-ico/?couponcode=icos10', 'https://www.udemy.com/cryptocurrencytrading/?couponcode=trad10', 'https://www.udemy.com/cryptocurrency-wallet/?couponcode=cash10', 'https://www.udemy.com/cryptocurrency-course/?couponcode=cryp10', 'https://www.udemy.com/cryptocurrency/?couponcode=cryp10', 'https://www.twitter.com/michaelsuppo', 'https://t.me/sygchat', 'https://www.investfeed.com/suppoman', 'https://steemit.com/@suppoman/', 'https://itunes.apple.com/gb/podcast/hero/id1233635268?mt=2\\\\u200b\\\\u200b\\\\u200b', 'https://www.coinbase.com/join/58da6c18b6c7053a85']\n",
      "['https://bit.ly/2jsitep', 'https://www.mediafire.com/file/achcgrb08l1ttc8/easy_jazz_balance.apk/file', 'https://bit.ly/2ojjzo4']\n",
      "['https://www.google.com/adsense/support/bin/request.py?contact_type=invalid_clicks_contact']\n",
      "['https://bit.ly/affmonyt', 'https://bit.ly/2i9bcdo', 'https://bit.ly/2cyyv7i', 'https://bit.ly/2fo6tce', 'https://bit.ly/2qm3vxy', 'https://bit.ly/2ias6uv', 'https://bit.ly/jscouts', 'https://bit.ly/heexperts', 'https://amzn.to/2r8rnkb', 'https://amzn.to/2bxvsd2', 'https://amzn.to/2rozh4l', 'https://amzn.to/2ei0iin', 'https://amzn.to/2rsgtul', 'https://amzn.to/2ejiygc']\n",
      "['https://t.me/open4profit', 'https://leapforce.com', 'https://online-home-jobs.com', 'https://www.binance.com/?ref=23933981', 'https://goo.gl/t8qudk', 'https://www.facebook.com/cryptonewspredictions/', 'https://www.youtube.com/channel/ucknxixhwqbmek5hbn61hl0a/about', 'https://goo.gl/t8qudk', 'https://goo.gl/ftyhpk', 'https://goo.gl/owpozx', 'https://goo.gl/adtrxb', 'https://goo.gl/dnw3qk', 'https://goo.gl/uktfxc', 'https://goo.gl/ierx8z', 'https://goo.gl/tmkguh', 'https://goo.gl/t8qudk', 'https://www.facebook.com/cryptonewspredictions/', 'https://twitter.com/open4profit', 'https://plus.google.com/+open4profit', 'https://in.pinterest.com/homejobsinus/', 'https://www.instagram.com/open4profit', 'https://t.me/open4profit']\n",
      "['https://financial-education2.teachable.com/p/building-wealth-conference-2019-presented-by-financial-education', 'https://financial-education2.teachable.com/p/in-jeremy-s-stock-market-brain']\n",
      "['https://www.skylom.com/only18', 'https://meesho.com/invite/praveen837', 'https://www.youtube.com/watch?v=le0he0ajzxk', 'https://www.youtube.com/watch?v=7zzdbanuloy', 'https://www.youtube.com/watch?v=ude9pl3kugy', 'https://bit.ly/2hcope3', 'https://bit.ly/2hcope3', 'https://www.youtube.com/watch?v=kfzdsomzsty', 'https://www.youtube.com/watch?v=1hfvkjnq9ry&t=11s', 'https://www.youtube.com/watch?v=vg-vgiv4uuo', 'https://www.youtube.com/watch?v=eftyrkcs6hm', 'https://www.facebook.com/praveendilliwala', 'https://twitter.com/praveendiliwala', 'https://www.instagram.com/praveendilliwala', 'https://www.youtube.com/praveendilliwala']\n",
      "['https://budurl.me/click-here-now103', 'https://budurl.me/free-training-here', 'https://goo.gl/qic6fs', 'https://budurl.me/follow-me', 'https://page.video/workforus', 'https://budurl.me/get-resell-rights', 'https://payhip.com', 'https://www.facebook.com/groups/johnmichaelmarketing/', 'https://www.facebook.com/johnmichaelmarketing/', 'https://www.facebook.com/groups/johnmichaelmarketing/', 'https://www.instagram.com/johnmichaelmarketing/', 'https://twitter.com/johnmichaeljmm', 'https://www.snapchat.com/add/johnminspires', 'https://www.johnmichaelmarketing.com/earnings-disclaimer/', 'https://www.youtube.com/watch?v=msxc_azllp4', 'https://www.youtube.com/watch?v=rzmj9e2icti', 'https://budurl.me/click-here-now103', 'https://budurl.me/free-training-here', 'https://goo.gl/qic6fs', 'https://budurl.me/follow-me']\n",
      "['https://goo.gl/hgtojy', 'https://goo.gl/rztcnk', 'https://www.sloganslingers.com/', 'https://www.facebook.com/jamestristanruiz08/', 'https://twitter.com/tristanjames21', 'https://www.instagram.com/jamestristanruiz/', 'https://jamesandmoney.blogspot.com/2017/09/slogan-slingers-review-and-faq.html', 'https://adf.ly/1o3cvb', 'https://youtu.be/-0ozpotbho4', 'https://youtu.be/tvr8qgk3rxs', 'https://youtu.be/bqvvlwkye50', 'https://youtu.be/q88wwgtq1ly', 'https://youtu.be/tjso7gnin_i', 'https://youtu.be/eqt-jrdir3k', 'https://youtu.be/rdoafwvnw4u', 'https://youtu.be/r9dynjakj3c', 'https://youtu.be/ut24fvujymi', 'https://youtu.be/ba355aiwuku']\n",
      "['https://www.kingmartine.com']\n",
      "['https://bit.ly/whatsapponeclickchat', 'https://chat.whatsapp.com/atmgek6sm39b0t3pedzudp']\n",
      "['https://4percentmastermind.com']\n",
      "['https://lifewithoutlimits.co', 'https://levelrewards.com']\n",
      "['https://budurl.me/click-here-now97', 'https://budurl.me/free-training-here', 'https://goo.gl/qic6fs', 'https://budurl.me/follow-me', 'https://page.video/workforus', 'https://www.mindswarms.com/registrations/profile_fields/new', 'https://www.facebook.com/groups/johnmichaelmarketing/', 'https://www.facebook.com/johnmichaelmarketing/', 'https://www.facebook.com/groups/johnmichaelmarketing/', 'https://www.instagram.com/johnmichaelmarketing/', 'https://twitter.com/johnmichaeljmm', 'https://www.snapchat.com/add/johnminspires', 'https://www.johnmichaelmarketing.com/earnings-disclaimer/', 'https://www.youtube.com/watch?v=7bqdps5f1vw', 'https://www.youtube.com/edit?video_id=hcwyrrnmw58', 'https://budurl.me/click-here-now97', 'https://budurl.me/free-training-here', 'https://goo.gl/qic6fs', 'https://budurl.me/follow-me']\n",
      "['https://andyhafell.com/free-beginner-course']\n",
      "['https://www.youtube.com/channel/ucsho', 'https://www.facebook.com/8.5ieltsshar', 'https://plus.google.com/u/0/communiti']\n",
      "['https://youtu.be/_c1uotd8pva']\n",
      "['https://bigmarktv.com/start/', 'https://bigmarktv.com/subscribe', 'https://bigmarktv.com/bestmoneysystem', 'https://www.instagram.com/mark_monciardini/', 'https://bigmarktv.com/youtubetool', 'https://bigmarktv.com/autoresponder', 'https://bigmarktv.com/page-builder', 'https://www.youtube.com/watch?v=ikinylzje94']\n",
      "['https://rt.com/where-to-watch/', 'https://rt.com/on-air/rt-america-air/', 'https://www.facebook.com/rtamerica', 'https://twitter.com/rt_america']\n",
      "['https://100dollarptc.com/?ref=aworkk', 'https://www.properptc.com/index.php?ref=ahch12', 'https://www.trustyptc.com/index.php?ref=ahch12', 'https://www.fineptc.com/index.php?ref=ahch12']\n",
      "['https://www.fiffo.asia/register/tjullrich01', 'https://my.alifelong.biz/r/il897iqt', 'https://bitconnect.co/?ref=ggtalgamer', 'https://freebitco.in/?r=1918639', 'https://www.welcomejuan.com/?ref=rele', 'https://www.facebook.com/aace234']\n",
      "['https://bit.ly/2dfypww', 'https://bit.ly/2k946fp', 'https://bit.ly/2jp697o', 'https://bit.ly/2k91wfg', 'https://bit.ly/2jjedtb', 'https://bit.ly/2jleeeo', 'https://bit.ly/2jlappx', 'https://bit.ly/2kj2xol', 'https://bit.ly/2j4prnx', 'https://bit.ly/2jlqwzp', 'https://bit.ly/2iqjkud', 'https://bit.ly/2j0n4al', 'https://bit.ly/2kipdzf', 'https://bit.ly/2k7bxyb', 'https://bit.ly/2joejwe', 'https://bit.ly/2jsby5h', 'https://bit.ly/2j4hsrx', 'https://bit.ly/2jsetlj', 'https://bit.ly/2jixy5n', 'https://bit.ly/2kbpreo', 'https://bit.ly/2j4fbfq', 'https://bit.ly/2iuecyx', 'https://bit.ly/2jijtec', 'https://bit.ly/2kj4haz', 'https://bit.ly/2jgmpvx', 'https://bit.ly/2joisaa', 'https://bit.ly/2jsmwmy', 'https://777bitco.in/?referrer=353049', 'https://bit.ly/2jk7m2a', 'https://bit.ly/2jgijud', 'https://bit.ly/2jsbngx', 'https://clix4btc.com', 'https://bit.ly/2iujmej', 'https://adbit.co', 'https://bit.ly/2jolg0k', 'https://bit.ly/2j4fbfq', 'https://bit.ly/2kirpxs', 'https://bit.ly/2jwhgvu', 'https://bit.ly/2jw88qk', 'https://bit.ly/2krpzok', 'https://www.jungleerummy.com/promotion/refer?refid=1768513&refname=tamilenter', 'https://bit.ly/tamiltuto']\n",
      "['https://goo.gl/jummjt', 'https://www.youtube.com/watch?v=ik8h2swyouo', 'https://www.youtube.com/channel/ucpvwjxl-ie7fdmfwz8h0olg', 'https://twitter.com/help4youhindi', 'https://www.facebook.com/help4youhindi/', 'https://help4youhindi.blogspot.in/', 'https://www.youtube.com/watch?v=rd-h6jsozuq', 'https://www.youtube.com/watch?v=cxnomqm59i0', 'https://www.youtube.com/watch?v=9jwwinr9mma', 'https://www.youtube.com/watch?v=sxbcqzqbgzc', 'https://www.youtube.com/watch?v=ftmfguikvrs', 'https://goo.gl/niisq2']\n",
      "['https://chrome.google.com/webstore/detail/auto/iapifmceeokikomajpccajhjpacjmibe?hl=en', 'https://dhruv-techapps.github.io/auto-click/', 'https://github.com/dhruv-techapps/auto-click/wiki', 'https://github.com/dhruv-techapps/auto-click/wiki/q&a', 'https://www.facebook.com/dhruv.techapps']\n",
      "['https://relayforlife.org']\n",
      "['https://thenetworklifestyle.com/10kchallenge', 'https://thenetworklifestyle.com/10kchallenge', 'https://youtu.be/efulpsc7jio']\n",
      "['https://drive.google.com/open?id=1r9rk6b1i8as92peg6jubhlqsvktko4nn', 'https://www.mediafire.com/file/qu04460ttdh524r/_pk_browser_6103599.apk']\n",
      "['https://www.hubspot.com']\n",
      "['https://www.youtube.com/channel/ucdtgny-_dfjsdaymcliykwg', 'https://www.instagram.com/aralaminjoy/', 'https://www.facebook.com/bdfunnystudio/']\n",
      "['https://9nl.at/make-money-online-easy', 'https://9nl.at/hymn191', 'https://www.youtube.com/watch?v=n6ot8nhy3hc']\n",
      "['https://www.facebook.com/hatrue/', 'https://goo.gl/ey08pe', 'https://www.instagram.com/hatrue18/', 'https://www.instagram.com/arpan1432/', 'https://www.facebook.com/arpan.patel.39545', 'https://goo.gl/7dphxo', 'https://goo.gl/uatlxb']\n",
      "['https://wholesaleted.com/go/salehoo', 'https://wholesaleted.com/4-step', 'https://wholesaleted.com/go/amazoncalculator', 'https://wholesaleted.com/go/junglescout', 'https://www.youtube.com/watch?v=8mqfy9xi-ag', 'https://www.youtube.com/watch?v=zahtndhok1y', 'https://www.youtube.com/watch?v=81coovdgfm8', 'https://www.youtube.com/watch?v=17x6gnjt2ii', 'https://amazon.com', 'https://amazon.com', 'https://wholesaleted.com/go/amazon-calculator']\n",
      "['https://www.questrade.com/', 'https://robinhood.com/', 'https://www.tdameritrade.com/home.page', 'https://www.vanguardcanada.ca/advisors/adv/en/product.html#/funddetail/etf/portid=9563/assetcode=equity/?overview', 'https://us.spdrs.com/en/etf/spdr-sp-500-etf-spy', 'https://www.blackrock.com/ca/individual/en/products/239420/ishares-15-year-laddered-corporate-bond-index-fund', 'https://www.ishares.com/us/products/239565/ishares-iboxx-high-yield-corporate-bond-etf', 'https://www.ishares.com/us/products/239563/ishares-high-dividend-etf', 'https://www.ishares.com/us/products/239566/ishares-iboxx-investment-grade-corporate-bond-etf', 'https://www.blackrock.com/ca/individual/en/products/251421/ishares-msci-eafe-imi-index-etf', 'https://www.blackrock.com/ca/individual/en/products/239636/ishares-msci-emerging-markets-index-etf', 'https://creativecommons.org/licenses/']\n",
      "['https://coins.ph/invite/dd26hu', 'https://bit.ly/gcashreferral', 'https://bit.ly/peraswipe', 'https://youtu.be/leup42akim8', 'https://youtu.be/_puvq_dykiy', 'https://youtu.be/sjpcu2hfpiw', 'https://youtu.be/arfbmuquqak', 'https://youtu.be/xf2rbsjmq1k', 'https://youtu.be/eudsbtybku8', 'https://youtu.be/qzsbvrz2tf0', 'https://oke.io/ghm73wwd', 'https://www.instagram.com/carlosborlazaii', 'https://www.facebook.com/carlosborlazaii', 'https://www.twitter.com/carlosborlazaii']\n",
      "['https://meenashreecollection.com']\n",
      "['https://www.twitch.tv/exoticmotion/', 'https://www.twitter.com/exoticmotion/', 'https://fortnitetracker.com', 'https://www.youtube.com/user/exoticmotion', 'https://instagram.com/jonmcallister/', 'https://triggerdevil.com', 'https://plus.google.com/u/0/b/109426803097420031307/109426803097420031307/posts/p/pub', 'https://triggerdevil.com']\n",
      "['https://www.facebook.com/xaomskryoutube', 'https://www.facebook.com/groups/xaomsakarin/', 'https://www.facebook.com/fdz-shop-2151238245187614', 'https://discord.gg/e8tarsb', 'https://turboagram.com/6pkb', 'https://discord.gg/exppzdd', 'https://www.youtube.com/watch?v=45n5hsrguc8', 'https://anydesk.com/remote-desktop', 'https://play.google.com/store/apps/details?id=com.anydesk.anydeskandroid&hl=th', 'https://www.youtube.com/watch?v=9_rf1lztaju', 'https://www.youtube.com/watch?v=a1gvr2gsgl4', 'https://www.roblox.com/catalog/2211154569/xaomsakarin-merch', 'https://www.roblox.com/my/groups.aspx?gid=4354655', 'https://www.roblox.com/users/409170710/profile', 'https://www.facebook.com/victoriaz619/', 'https://www.facebook.com/pg/victoriaz619/photos/?tab=album&album_id=1548434311956792', 'https://discord.gg/9jnqu6x', 'https://www.facebook.com/xaomskryoutube', 'https://www.facebook.com/xaomskryoutube', 'https://www.youtube.com/xaomskrgaming', 'https://twitch.tv', 'https://go.twitch.tv/xaomskr']\n",
      "['https://adf.ly/iyc0y', 'https://adf.ly/iybq7', 'https://adf.ly', 'https://adf.ly/?id=3238346', 'https://adf.ly', 'https://adf.ly/?id=3238346', 'https://adf.ly/iycha', 'https://adf.ly', 'https://adf.ly']\n",
      "['https://bit.ly/2ftvzvr', 'https://www.onlinetaleem.net', 'https://bit.ly/2c2hinn', 'https://www.youtube.com/watch?v=ksgnyswhrso', 'https://www.youtube.com/watch?v=z7sv61zx_gi', 'https://bit.ly/2f7lf6a', 'https://bit.ly/2fz3gze', 'https://bit.ly/2f7emat', 'https://www.facebook.com/onlinetaleem.net', 'https://www.facebook.com/adminonlinetaleem.net', 'https://twitter.com/onlinetaleem', 'https://bit.ly/2eojatr', 'https://www.onlinetaleem.net', 'https://bit.ly/2ehc3hp', 'https://www.joinpremium.com', 'https://stumble.it/2e7jfxk', 'https://bit.ly/2f7pdmj']\n",
      "['https://bit.ly/elitefacts', 'https://www.facebook.com/elitefacts', 'https://twitter.com/elite_facts', 'https://plus.google.com/+elitefacts', 'https://pinterest.com/elitefacts/', 'https://www.elitefacts.com']\n",
      "['https://gs-auto-clicker.en.softonic.com/']\n",
      "['https://www.mediafire.com/?qc1n9qbgmfaszge', 'https://play.google.com/store/apps/details?id=com.baidar.bricktumbler&hl=en']\n",
      "['https://bit.ly/2flmm1j', 'https://bit.ly/1nj1qun', 'https://twitter.com/alvinblox', 'https://twitch.tv/alvinblox', 'https://facebook.com/alvinblox', 'https://www.youtube.com/alvinblox', 'https://bit.ly/joinalvinblox', 'https://www.alvinblox.com', 'https://www.youtube.com/watch?v=zm6qhin_jby']\n",
      "['https://chat.whatsapp.com/', 'https://youtu.be/kvx0wa8umzy', 'https://youtu.be/slw8jipsl2o', 'https://youtu.be/c_khyjrqfju', 'https://youtu.be/6thpfmmkrdq', 'https://youtu.be/iicwpsnlxkc', 'https://youtu.be/vd-dxzi6s6e', 'https://youtu.be/aq4ff28pqjo', 'https://youtu.be/iojfpugjwgi', 'https://youtu.be/ao3owtrj3ey', 'https://youtu.be/m_2r8r6jio8', 'https://youtu.be/rjsp0naiua8', 'https://youtu.be/askipuecjic', 'https://www.facebook.com/smartwork-1210181672358547/']\n",
      "['https://books.themoneygps.com', 'https://www.patreon.com/themoneygps', 'https://goo.gl/l6vqg9', 'https://themoneygps.com/donate', 'https://themoneygps.com/books', 'https://themoneygps.com/store', 'https://steemit.com/@themoneygps', 'https://themoneygps.com/store', 'https://goo.gl/upprqe']\n",
      "['https://www.sevendollarclick.com', 'https://www.youtube.com/channel/uc4l9z0a-bfvzyx1haqn270a', 'https://sevendollarclick.com', 'https://sevendollarclick.com', 'https://sevendollarclick.com', 'https://sevendollarclick.com', 'https://sevendollarclick.com', 'https://sevendollarclick.com', 'https://sevendollarclick.com', 'https://sevendollarclick.com', 'https://sevendollarclick.com', 'https://sevendollarclick.com']\n",
      "['https://tinyurl.com/crbijoy123', 'https://t.me/creativebijoy', 'https://bit.ly/downloadpaytm', 'https://bit.ly/phonepeofficial', 'https://bit.ly/gpaybijoy', 'https://bit.ly/loopscoop', 'https://bit.ly/videobuddy', 'https://p-y.tm/g2y-95y', 'https://www.creativebijoy.com', 'https://androidreader.com', 'https://www.instagram.com/creativebijoy/']\n",
      "['https://www.udemy.com/how-to-start-a-business-go-from-business-idea-to-a-business/?couponcode=ten_youtube', 'https://www.udemy.com/youtube-success-tips-how-to-get-views/?couponcode=ten_youtube', 'https://www.amazon.com/alex-genadinik/e/b00i114weu', 'https://www.youtube.com/watch?v=6wv_t9y-0fu', 'https://www.youtube.com/watch?v=gou8z44lpva']\n",
      "['https://www.bit.do/mydollar', 'https://www.youtube.com/channel/uc5iv', 'https://www.facebook.com/funwithoutjoke', 'https://earnmoneyhomeinstant.blogspot.in/']\n",
      "['https://play.google.com/store/apps/details?id=com.vilovideo.funnyclip&referrer=12345']\n",
      "['https://www.youtube.com/watch?v=avj6apibetm&t=3s', 'https://www.youtube.com/watch?v=n_ob8gmt7y8&t=59s', 'https://www.facebook.com/lara.k.baided', 'https://twitter.com/larakatrinaaa', 'https://twitter.com/larakatrinaaa']\n",
      "['https://scratch.mit.edu/projects/89414202/#player']\n",
      "['https://www.onehourprofessor.com/truth-about-online-business/', 'https://www.onehourprofessor.com', 'https://outwww.onehourprofessor.com/keywordtool']\n",
      "['https://budurl.me/get-printly-here', 'https://budurl.me/click-here-now41', 'https://goo.gl/qic6fs', 'https://goo.gl/dxnjuk', 'https://www.johnmichaelmarketing.com/earnings-disclaimer/', 'https://budurl.me/get-printly-here', 'https://budurl.me/click-here-now41', 'https://goo.gl/qic6fs', 'https://www.facebook.com/groups/johnmichaelmarketing/', 'https://www.facebook.com/johnmichaelmarketing/', 'https://www.facebook.com/groups/johnmichaelmarketing/', 'https://www.instagram.com/johnmichaelmarketing/', 'https://twitter.com/johnmichaeljmm', 'https://www.snapchat.com/add/johnminspires', 'https://www.youtube.com/watch?v=mgsyqeciago']\n",
      "['https://budurl.me/get-video-robot', 'https://budurl.me/click-here-now73', 'https://budurl.me/free-training-here', 'https://budurl.me/follow-me', 'https://www.instagram.com/johnmichaelmarketing/', 'https://goo.gl/qic6fs', 'https://budurl.me/get-video-robot', 'https://budurl.me/click-here-now73', 'https://budurl.me/free-training-here', 'https://goo.gl/qic6fs', 'https://www.facebook.com/groups/johnmichaelmarketing/', 'https://www.facebook.com/johnmichaelmarketing/', 'https://www.facebook.com/groups/johnmichaelmarketing/', 'https://www.instagram.com/johnmichaelmarketing/', 'https://twitter.com/johnmichaeljmm', 'https://www.snapchat.com/add/johnminspires', 'https://www.johnmichaelmarketing.com/earnings-disclaimer/', 'https://www.youtube.com/watch?v=fvykja3ax-i', 'https://www.youtube.com/watch?v=c14ktbk6abm']\n",
      "['https://okkaland.com/', 'https://amazon.com', 'https://amazon.com', 'https://masterclass.com']\n",
      "['https://www.finology.in/my-portfolio.html', 'https://www.finology.in/academy.html', 'https://www.finology.in/stock-selecto', 'https://zerodha.com/open-account?c=zm', 'https://amzn.to/2fqtix0', 'https://amzn.to/2fhrlhx', 'https://amzn.to/2bcaqol', 'https://amzn.to/2d5vtod', 'https://twitter.com/myfinology', 'https://www.facebook.com/myfinology/']\n",
      "['https://www.theatlantic.com/technology/archive/2012/03/reading-the-privacy-policies-you-encounter-in-a-year-would-take-76-work-days/253851/', 'https://blogs.lse.ac.uk/mediapolicyproject/2017/01/26/childrens-commercial-media-literacy-new-evidence-relevant-to-uk-policy-decisions-regarding-the-gdpr/', 'https://ed.stanford.edu/news/stanford-researchers-find-students-have-trouble-judging-credibility-information-online', 'https://www.nytimes.com/roomfordebate/2010/12/02/a-do-not-call-registry-for-the-web/let-consumers-see-whats-happening', 'https://www.vulture.com/2015/12/nielsen-family-what-its-like.html', 'https://www.patreon.com/crashcourse', 'https://www.facebook.com/youtubecrashcourse', 'https://www.twitter.com/thecrashcourse', 'https://thecrashcourse.tumblr.com', 'https://patreon.com/crashcourse', 'https://www.youtube.com/crashcoursekids']\n",
      "['https://bit.ly/subscribetotellymasala', 'https://www.facebook.com/tellymasala', 'https://twitter.com/tellymasala', 'https://www.dailymotion.com/user/tellymasala/1', 'https://plus.google.com/u/0/113985400750240490690/posts']\n",
      "['https://videoinfluencers.net/19tips', 'https://affiliate-program.amazon.com/', 'https://bloggylaw.com/blogger-disclosure-examples-tips/', 'https://www.smartpassiveincome.com/affiliate-marketing-strategies/', 'https://illect.bandcamp.com/', 'https://www.illect.com/', 'https://videoinfluencers.net/19tips', 'https://www.youtube.com/user/seanthinks', 'https://twitter.com/seancannell', 'https://instagram.com/seancannell', 'https://www.facebook.com/seanthinks', 'https://videoinfluencers.net/', 'https://amzn.to/2fbyyuf', 'https://amzn.to/2z4ypur', 'https://amzn.to/2xbjg2i', 'https://amzn.to/2z42gw0']\n",
      "['https://bitcoin-blueprint.teachable.com/p/bitcoin-blueprint', 'https://bitcoin-blueprint.teachable.com/p/cryptojack-trade-calls', 'https://bitcoin-blueprint.getresponsepages.com/', 'https://3commas.io/?c=tc28611', 'https://hashflare.io/r/9d004b59', 'https://goo.gl/oe3crj', 'https://goo.gl/acb4ad', 'https://www.binance.com/?ref=19175326', 'https://www.ledgerwallet.com/r/b2a7', 'https://www.instagram.com/crypto.jack/', 'https://twitter.com/cryptojackk', 'https://www.facebook.com/cryptojackk/']\n",
      "['https://budurl.me/makethatcash', 'https://goo.gl/qic6fs', 'https://goo.gl/qic6fs', 'https://budurl.me/makethatcash', 'https://goo.gl/qic6fs', 'https://www.youtube.com/watch?v=oul9cvihpvq', 'https://www.youtube.com/watch?v=e5amoqdnq98&t=28s']\n",
      "['https://turboagram.com/6pkb', 'https://www.facebook.com/xaomskryoutube', 'https://discord.gg/exppzdd', 'https://www.youtube.com/watch?v=45n5hsrguc8', 'https://www.youtube.com/watch?v=9_rf1lztaju', 'https://www.youtube.com/watch?v=a1gvr2gsgl4', 'https://www.roblox.com/catalog/2211154569/xaomsakarin-merch', 'https://www.roblox.com/my/groups.aspx?gid=4354655', 'https://www.roblox.com/users/409170710/profile', 'https://www.facebook.com/xaomskryoutube', 'https://www.facebook.com/xaomskryoutube', 'https://www.youtube.com/xaomskrgaming', 'https://twitch.tv', 'https://go.twitch.tv/xaomskr']\n",
      "['https://goo.gl/fz1hyd', 'https://goo.gl/eywy3s', 'https://goo.gl/seqmn8', 'https://goo.gl/lsr8uy', 'https://youtube.com/subscription_center?add_user=robertoblake2', 'https://www.patreon.com/robertoblake', 'https://www.amazon.com/?tag=robertoblaked-20', 'https://kit.com/robertoblake/youtube-setup-2017', 'https://tubebuddy.com/awesome', 'https://goo.gl/or3zpx', 'https://goo.gl/el9jpo', 'https://robertoblake.com', 'https://robertoblake.com/blog', 'https://twitter.com/robertoblake', 'https://facebook.com/robertoblake2', 'https://instagram.com/robertoblake']\n",
      "['https://budurl.me/click-here-now54', 'https://www.youtube.com/watch?v=7dimco2s53w', 'https://budurl.me/free-training-here', 'https://www.instagram.com/johnmichaelmarketing/', 'https://goo.gl/qic6fs', 'https://www.johnmichaelmarketing.com/earnings-disclaimer/', 'https://www.humanatic.com/', 'https://goo.gl/euwwt2', 'https://budurl.me/free-training-here', 'https://budurl.me/click-here-now54', 'https://goo.gl/qic6fs', 'https://www.facebook.com/groups/johnmichaelmarketing/', 'https://www.facebook.com/johnmichaelmarketing/', 'https://www.facebook.com/groups/johnmichaelmarketing/', 'https://www.instagram.com/johnmichaelmarketing/', 'https://twitter.com/johnmichaeljmm', 'https://www.snapchat.com/add/johnminspires', 'https://www.johnmichaelmarketing.com/earnings-disclaimer/', 'https://www.youtube.com/watch?v=2xhgfkudhf4', 'https://www.youtube.com/watch?v=xyj-pngjhjg']\n",
      "['https://www.drostdesigns.com/youtube-hijack', 'https://www.drostdesigns.com/youtube-hijack', 'https://www.youtube.com/watch?v=h5olc35xat0', 'https://www.youtube.com/watch?v=rcmfjxswa9k', 'https://www.youtube.com/watch?v=frjlnyghhpq', 'https://en.wikipedia.org/wiki/adsense', 'https://support.google.com/adsense/answer/48182', 'https://support.google.com/youtube/answer/187602', 'https://www.miniwebtool.com/google-adsense-calculator/', 'https://support.google.com/adsense/answer/72851?hl=en&ref_topic=1343554', 'https://support.google.com/adsense/answer/2530958?pageid=101949719105000829201']\n",
      "['https://jeetopunjab.com/archives/195']\n",
      "['https://justclickriches.com', 'https://www.facebook.com/groups/justclickriches', 'https://www.michaelmiller-blog.com/mobile-money', 'https://justclickriches.com', 'https://justclickriches.com', 'https://michaelmiller-blog.com', 'https://plus.google.com/u/0/+michaelmilleronline/posts', 'https://www.facebook.com/michaelw.miller.rn', 'https://www.facebook.com/groups/justclickriches', 'https://twitter.com/meddude08', 'https://www.linkedin.com/pub/michael-miller/58/a9/189', 'https://www.youtube.com/user/justclickriches']\n",
      "['https://support.google.com/adsense', 'https://wordpress.org/plugins/google-publisher/', 'https://prositetutorials.org', 'https://twitter.com/pstvideos', 'https://plus.google.com/+jordanalexoprositetutorials']\n",
      "['https://kmoneymastery.com', 'https://kmoneymastery.com', 'https://projectlifemastery.com/how-to-publish-a-kindle-ebook-on-amazon', 'https://www.youtube.com/subscription_center?add_user=projectlifemastery', 'https://www.projectlifemastery.com', 'https://www.projectlifemastery.com/facebook', 'https://www.projectlifemastery.com/twitter', 'https://projectlifemastery.com/instagram', 'https://www.projectlifemastery.com/itunes', 'https://www.morningritualmastery.com', 'https://www.kmoneymastery.com', 'https://www.24hourbook.com', 'https://www.koptimizer.com', 'https://projectlifemastery.com/coaching', 'https://www.projectlifemastery.com/resources']\n",
      "['https://goo.gl/slaj2a', 'https://prntscr.com/h30tp4', 'https://www.youtube.com/channel/uclxggwcavbq5rbdk46mholq?sub_confirmation=1']\n",
      "['https://www.finology.in/super-funds.html', 'https://www.finology.in/my-portfolio.html', 'https://www.finology.in/academy.html', 'https://www.finology.in/stock-selecto', 'https://zerodha.com/open-account?c=zm', 'https://amzn.to/2fqtix0', 'https://amzn.to/2fhrlhx', 'https://amzn.to/2bcaqol', 'https://amzn.to/2d5vtod', 'https://twitter.com/myfinology', 'https://www.facebook.com/myfinology/']\n",
      "['https://goo.gl/ditysb★', 'https://goo.gl/zgpr3j', 'https://goo.gl/lp9cyp', 'https://goo.gl/fx3ehx', 'https://goo.gl/ochmph', 'https://goo.gl/kzqriv', 'https://goo.gl/ippwah', 'https://goo.gl/s915gp', 'https://goo.gl/1tl9he', 'https://goo.gl/owuqji', 'https://goo.gl/tblfjw']\n",
      "['https://bit.ly/joincreativelive', 'https://bit.ly/makekdmoneyonline', 'https://bit.ly/makekdmoneyonline', 'https://bit.ly/amazonfbalearnmore', 'https://bit.ly/learnfacebookadstoday', 'https://bit.ly/learnshopifytoday', 'https://www.instagram.com/kevindavid/', 'https://bit.ly/kdfbpage', 'https://snapchat.com/add/kevinhulse', 'https://bit.ly/ninjapodcastwithkevindavid', 'https://bit.ly/kevindavidaffiliate', 'https://bit.ly/amazonfbaninjas', 'https://bit.ly/shopifyninjas', 'https://bit.ly/facebookadninjas', 'https://bit.ly/cfninjas', 'https://bit.ly/affiliateninjas']\n",
      "['https://goo.gl/u2pfvc']\n",
      "['https://budurl.me/click-here-now60', 'https://budurl.me/free-training-here', 'https://www.instagram.com/johnmichaelmarketing/', 'https://goo.gl/qic6fs', 'https://www.johnmichaelmarketing.com/earnings-disclaimer/', 'https://www.fiverr.com/join', 'https://www.clkmg.com/jmbiz/screencastomatic', 'https://budurl.me/click-here-now60', 'https://goo.gl/qic6fs', 'https://www.facebook.com/groups/johnmichaelmarketing/', 'https://www.facebook.com/johnmichaelmarketing/', 'https://www.facebook.com/groups/johnmichaelmarketing/', 'https://www.instagram.com/johnmichaelmarketing/', 'https://twitter.com/johnmichaeljmm', 'https://www.snapchat.com/add/johnminspires', 'https://www.johnmichaelmarketing.com/earnings-disclaimer/', 'https://www.youtube.com/watch?v=emsofpnsi2s', 'https://www.youtube.com/watch?v=mbjvyf963dw']\n",
      "['https://www.facebook.com/tacademy/', 'https://twitter.com/tamoorpardasi', 'https://plus.google.com/u/1/+tamoorpardasitamoorgondal', 'https://www.tamooracademy.com/', 'https://goo.gl/aj1ve8', 'https://goo.gl/hkyt2n', 'https://goo.gl/gnt1gn', 'https://goo.gl/psfynq', 'https://goo.gl/cwxlnq', 'https://goo.gl/idzfgn', 'https://goo.gl/v2x6a9', 'https://goo.gl/8l5qvc']\n",
      "['https://efshort.com/hnvdefosy', 'https://efshort.com/hnvdefosy', 'https://efshort.com/hnvdefosy', 'https://efshort.com/hnvdefosy']\n",
      "['https://twitch.tv/fruitcake', 'https://twitch.tv/fruitcake', 'https://twitch.amazon.com/prime', 'https://twitch.tv/fruitcake', 'https://twitter.com/fruitcaca', 'https://instagram.com/fruitcaca']\n",
      "['https://twitter.com/englishrussia1/status/862661011882561537']\n",
      "['https://budurl.me/click-here-now50', 'https://budurl.me/free-training-here', 'https://www.instagram.com/johnmichaelmarketing/', 'https://goo.gl/qic6fs', 'https://www.johnmichaelmarketing.com/earnings-disclaimer/', 'https://budurl.me/free-training-here', 'https://www.seoclerks.com', 'https://www.ebay.com', 'https://www.fiverr.com', 'https://budurl.me/click-here-now50', 'https://goo.gl/qic6fs', 'https://www.facebook.com/groups/johnmichaelmarketing/', 'https://www.facebook.com/johnmichaelmarketing/', 'https://www.facebook.com/groups/johnmichaelmarketing/', 'https://www.instagram.com/johnmichaelmarketing/', 'https://twitter.com/johnmichaeljmm', 'https://www.snapchat.com/add/johnminspires', 'https://www.johnmichaelmarketing.com/earnings-disclaimer/', 'https://www.youtube.com/watch?v=tx2awffctt8', 'https://www.youtube.com/watch?v=tl9wwhftziw']\n",
      "['https://goo.gl/pptmlh', 'https://goo.gl/7iawfx', 'https://goo.gl/ewprgr', 'https://www.youtube.com/watch?v=mfe5vsfjoky', 'https://www.youtube.com/watch?v=ir6atuw0biu', 'https://www.youtube.com/watch?v=mfe5vsfjoky', 'https://goo.gl/j02esf', 'https://goo.gl/9gk3ge', 'https://goo.gl/muw2xy', 'https://goo.gl/2kdutc', 'https://goo.gl/4ccbqy', 'https://goo.gl/ygmjk2', 'https://goo.gl/s6u32i', 'https://goo.gl/xeuq29', 'https://goo.gl/pdv4kv', 'https://goo.gl/yx3n7i', 'https://goo.gl/kb8epx', 'https://goo.gl/uhxhj7']\n",
      "['https://bit.ly/earn_baymack', 'https://bit.ly/skrill-reg', 'https://bit.ly/milmila', 'https://bit.ly/earn_money_injoy', 'https://bit.ly/lopscoop_money', 'https://bit.ly/meesho_earn_money_online', 'https://youtu.be/5ty8jl4mza4', 'https://bit.ly/magicofmoney', 'https://goo.gl/u9dbbd', 'https://goo.gl/7wli55', 'https://www.anantvijaysoni.in/', 'https://goo.gl/u9dbbd', 'https://www.facebook.com/anantvijaysoni.blogger', 'https://twitter.com/anantvijaysoni', 'https://in.linkedin.com/in/anantvijaysoni', 'https://instagram.com/anantvijaysoni', 'https://www.avs-tech.in/', 'https://snuckls.com', 'https://baymack.com']\n",
      "['https://zafarstocks.com/', 'https://web.facebook.com/zafarstocks1/', 'https://web.facebook.com/groups/zafarsecurities/', 'https://zafarstocks.com/daily-updates-trading-news', 'https://twitter.com/zafarstocks', 'https://plus.google.com/+zafarstocks', 'https://www.youtube.com/channel/uc7eedl7-ssr6-7oupdseteq']\n",
      "['https://www.navitend.com', 'https://www.navitend.com/blog/article/animate-a-google-docs-presentation']\n",
      "['https://www.facebook.com/permalink.php?story_fbid=745199765668124&id=100005343224800']\n",
      "['https://goo.gl/yw1czj', 'https://goo.gl/w8lufa', 'https://goo.gl/fhnqoz', 'https://www.youtube.com/watch?v=wyasrrbxfa8', 'https://www.youtube.com/watch?v=xzzaluz8l8m', 'https://www.youtube.com/watch?v=mu-qnwph1n0', 'https://www.youtube.com/playlist?list=pltvhejn8gzyz9z0iifcin26buyesxb5nh', 'https://www.youtube.com/playlist?list=pltvhejn8gzybdwwhor8s2sa2qppttcqfk', 'https://www.youtube.com/playlist?list=pltvhejn8gzyynznjldquuw0qayub3zw8d', 'https://www.youtube.com/playlist?list=pltvhejn8gzyysflkrugsy9ouuu08jwyhe', 'https://www.paypal.me/bhargavpatelhitech']\n",
      "['https://www.youtube.com/channel/ucjrotnij0-nwz37r30urifq', 'https://watchtocash.app.link/8e20yhdymc', 'https://play.google.com/store/apps/details?id=com.northghost.touchvpn&hl=en', 'https://www.youtube.com/watch?v=2z56xxcz3ac', 'https://www.youtube.com/watch?v=h9duxxbgcrm', 'https://www.youtube.com/watch?v=agwfy7qxy9y&t=2s', 'https://www.youtube.com/watch?v=7ewqr5fr_sq&t=56s', 'https://www.youtube.com/channel/ucneuiivlra3o_a_siurtd0q', 'https://web.facebook.com/rehantv786/', 'https://web.facebook.com/muhammad.aziz786', 'https://twitter.com/fallowk22888602', 'https://plus.google.com/u/0/105157951864139719950', 'https://rehantv.blogspot.com/']\n",
      "['https://co.ag', 'https://www.youtube.com/channel/uccavsftxhgxlbwwldm_bnva', 'https://cezarygraf.pl', 'https://cezarygraf.com', 'https://www.linkedin.com/in/cezarygraf', 'https://www.youtube.com/cezarygrafcryptopoland', 'https://twitter.com/cryptopoland', 'https://cezarygraf.bandcamp.com']\n",
      "['https://za.gl/ref/latesttricks', 'https://za.gl/wnkiqd', 'https://za.gl', 'https://za.gl']\n",
      "['https://www.tedxvienna.at', 'https://ted.com/tedx']\n",
      "['https://kisslifestylentrepreneur.com/future-of-affiliate-marketing', 'https://en.wikipedia.org/wiki/affiliat', 'https://www.youtube.com/watch?v=u5vwzo', 'https://kisslifestylentrepreneur.com/future-of-affiliate-marketing/', 'https://www.youtube.com/channel/uctze', 'https://youtu.be/u5vwzogc3sg']\n",
      "['https://www.youtube.com/watch?v=yqchtqmweua', 'https://www.youtube.com/watch?v=yycsebj3itc', 'https://www.youtube.com/watch?v=vklzalyv7r4', 'https://www.youtube.com/watch?v=64js4rq_pqs', 'https://bit.ly/trakintech', 'https://trak.in', 'https://www.twitter.com/trakin', 'https://www.twitter.com/8ap', 'https://www.facebook.com/trakintech', 'https://www.google.com/+trakintech', 'https://www.bensound.com']\n",
      "['https://goo.gl/ewm2wc', 'https://goo.gl/geh1ds']\n",
      "['https://bit.ly/2j0g9pr', 'https://linkshrink.net/7oh3uu', 'https://www.10khits.com/?ref=85695', 'https://www.prehits.com/index.php?master=18387']\n",
      "['https://selfmadesuccess.com/make-money-google-adsense/', 'https://twitter.com/mrjustinbryant', 'https://www.facebook.com/justinbryantbusiness', 'https://plus.google.com/+justinbryantentrepreneur']\n",
      "['https://pastebin.com/ecwtnpqq', 'https://kit.com/itisharrison', 'https://twitter.com/itisharrison', 'https://www.instagram.com/itisharrison_', 'https://soundcloud.com/brokenelegance', 'https://creativecommons.org/licenses/b', 'https://youtu.be/r4aong5qngu']\n",
      "['https://play.google.com/store/apps/details?id=com.thelallantop', 'https://www.facebook.com/thelallantop/', 'https://twitter.com/thelallantop']\n",
      "['https://t.me/open4profitcryptonewspredictions', 'https://t.me/open4profit', 'https://www.youtube.com/watch?v=r_lq0bwrw18', 'https://www.youtube.com/watch?v=wrv1qowg0ue', 'https://www.youtube.com/watch?v=n1kylpay8bk', 'https://online-home-jobs.com', 'https://www.binance.com/?ref=23933981', 'https://goo.gl/t8qudk', 'https://www.facebook.com/cryptonewspredictions/', 'https://www.youtube.com/channel/ucknxixhwqbmek5hbn61hl0a/about', 'https://goo.gl/t8qudk', 'https://goo.gl/ftyhpk', 'https://goo.gl/owpozx', 'https://goo.gl/adtrxb', 'https://goo.gl/dnw3qk', 'https://goo.gl/uktfxc', 'https://goo.gl/ierx8z', 'https://goo.gl/tmkguh', 'https://goo.gl/t8qudk', 'https://www.facebook.com/cryptonewspredictions/', 'https://twitter.com/open4profit', 'https://plus.google.com/+open4profit', 'https://in.pinterest.com/homejobsinus/', 'https://www.instagram.com/open4profit', 'https://t.me/open4profit']\n",
      "['https://bit.ly/2dgzpd3', 'https://bit.ly/2gkp1ci', 'https://youtu.be/pgzi6txjfwa', 'https://www.facebook.com/groups/101510383964234/', 'https://www.instagram.com/matthewjohnston_', 'https://bit.ly/2sm4jdz', 'https://bit.ly/2y09mlv', 'https://bit.ly/2wo4dg5', 'https://bit.ly/2frgr0']\n",
      "['https://youtu.be/s1cp_gdxkdc', 'https://www.mediafire.com/file/e1crn23q8574s5k/app-release.apk/file', 'https://goo.gl/gsqr2j', 'https://goo.gl/gsqr2j', 'https://www.fb.com/ht4urdu', 'https://www.instagram.com/ht4urdu/', 'https://twitter.com/ht4urdu', 'https://plus.google.com/+hturdu', 'https://www.youtube.com/hturdu']\n",
      "['https://www.apkyousafzai.com/whatfun-app-apk/']\n",
      "['https://goo.gl/mnfzxe', 'https://goo.gl/n3nytd', 'https://goo.gl/zvhx8r', 'https://goo.gl/mnfzxe', 'https://goo.gl/zjcouu', 'https://goo.gl/wzy7hx', 'https://goo.gl/wzy7hx', 'https://amzn.to/2k7ehv1', 'https://amzn.to/2ir6e9f', 'https://amzn.to/2jvwgkj', 'https://amzn.to/2jfpdvx', 'https://amzn.to/2kcz1xo', 'https://amzn.to/2kcfbuu', 'https://amzn.to/2lxdg3f', 'https://amzn.to/2m9jrv7', 'https://amzn.to/2mb9f0b', 'https://amzn.to/2lvepnd', 'https://amzn.to/2l8secp', 'https://amazon.in', 'https://amzn.to/2lswzsl', 'https://amzn.to/2m9oifn', 'https://fkrt.it/pe7jktuuun', 'https://amzn.to/2nvfcpc', 'https://amzn.to/2nanjuj', 'https://amzn.to/2mwgjix', 'https://amzn.to/2nv1sv7', 'https://amzn.to/2mvvaic', 'https://amzn.to/2nvr84s', 'https://amzn.to/2mw9ugq', 'https://amzn.to/2nasolq', 'https://www.paypal.me/amitryootechhelp/10inr', 'https://www.youtube.com/channel/ucdbfntuzyglhendsjmflg6q', 'https://www.youtube.com/watch?v=_3fe4aeevww', 'https://www.youtube.com/watch?v=yz2f4m-7qgo', 'https://www.youtube.com/channel/ucdbf', 'https://www.facebook.com/tryootech/', 'https://www.patreon.com/user?u=3770943', 'https://twitter.com/tryootech1', 'https://www.facebook.com/tryootech', 'https://www.youtube.com/channel/ucdbf', 'https://twitter.com/tryootech1']\n",
      "['https://a1websitepro.com/2014/01/11/best-ways-to-make-money-online/', 'https://maximusmccullough.com']\n",
      "['https://bit.ly/whatsapphakeversion', 'https://bit.ly/whatsapphakeapk', 'https://amzn.to/2goklz1', 'https://youtu.be/9uivywpyuig', 'https://youtu.be/vdph04tnsko', 'https://youtu.be/dbflphfinpi', 'https://youtu.be/sjyrkvked9i', 'https://youtu.be/_5l2qvaa6dc', 'https://youtu.be/9gmtaipvsli', 'https://youtu.be/vds9t5pl5tw', 'https://youtu.be/ecccjinkoj4', 'https://www.youtube.com/c/smartfulchand?sub_confirmation', 'https://www.facebook.com/smart-fulchand-779302595596279/', 'https://www.instagram.com/fulchandjanwa/', 'https://twitter.com/fularamchoudha1?s=09', 'https://plus.google.com/106612595901408343925', 'https://drive.google.com/file/d/1h8lcq6nx20hha0og3nckia5qjgygncc-/view?usp=drivesdk', 'https://www.youtube.com/watch?v=pvrobouimey']\n",
      "['https://meetjacobwedzik.com/withoutawebsite/', 'https://meetjacobwedzik.com/withoutawebsite']\n",
      "['https://goo.gl/3iwsmw', 'https://goo.gl/q5mly4', 'https://www.sharedelete.com', 'https://www.xyz.com', 'https://www.sharedelete.com', 'https://www.sharedelete.com', 'https://www.goazeem.blogspot.in', 'https://youtu.be/nnkagexeehu', 'https://youtu.be/gbltawbzlqe', 'https://youtu.be/wmne51rdv58', 'https://youtu.be/pz5jm7xms1s', 'https://youtu.be/khalrtpqfkw', 'https://youtu.be/5ubk5pbghag', 'https://youtu.be/obvdsfjviwu', 'https://youtu.be/eaoyuwz9d-4', 'https://youtu.be/axmtcgl0eyk', 'https://youtu.be/c-5atfar0g4', 'https://goo.gl/jvpvh7', 'https://goo.gl/ieyq3e', 'https://goo.gl/xkygd2', 'https://www.computerinhindi.in/']\n",
      "['https://amzn.to/2gbvnvv', 'https://amzn.to/2rehqc5']\n",
      "['https://budurl.me/click-here-now82', 'https://budurl.me/free-training-here', 'https://budurl.me/follow-me', 'https://goo.gl/qic6fs', 'https://page.video/workforus', 'https://www.enrollapp.com/', 'https://budurl.me/click-here-now82', 'https://www.youtube.com/watch?v=fvykja3ax-i', 'https://budurl.me/free-training-here', 'https://goo.gl/qic6fs', 'https://www.facebook.com/groups/johnmichaelmarketing/', 'https://www.facebook.com/johnmichaelmarketing/', 'https://www.facebook.com/groups/johnmichaelmarketing/', 'https://www.instagram.com/johnmichaelmarketing/', 'https://twitter.com/johnmichaeljmm', 'https://www.snapchat.com/add/johnminspires', 'https://www.johnmichaelmarketing.com/earnings-disclaimer/', 'https://www.youtube.com/watch?v=usgm1s9t16k', 'https://www.youtube.com/watch?v=bsvfjtaqe0c']\n",
      "['https://autoclick.waxoo.com/']\n",
      "['https://www.youtube.com/watch?v=b4jjrabwtqy', 'https://getlink.pw/gptrncmm', 'https://fourdollarclick.com/index.php', 'https://www.newsonlineincome.com', 'https://www.adzbazar.com/?ref=trickk4563', 'https://buxcap.com/?ref=trickk4563', 'https://www.baymack.com/refer/ref-597', 'https://www..com/watch?v=eicyo', 'https://www.snuckls.com/invite/member', 'https://fleex.cc/ref/trickk', 'https://goo.gl/nuu7qt', 'https://databuddy.co/i/id=176221', 'https://www.swagbucks.com/p/register?r', 'https://www.freeb.in/freeb/ws/invite/w', 'https://r.ndog.co/?c=a4o7f4']\n",
      "['https://www.youtube.com/watch?v=g3giuo9xbg4', 'https://www.youtube.com/watch?v=v5kza30ckwq', 'https://www.youtube.com/channel/ucvb_6dbmdmk4zej_ca38hvw', 'https://www.youtube.com/watch?v=epkhfdjdtjg', 'https://www.youtube.com/channel/ucekmlitjmrpoqll8b0ojrfa', 'https://www.youtube.com/watch?v=bqqbwj-vuzw', 'https://www.youtube.com/channel/uchgk_hj4qfuyfvzc3kukt_w', 'https://www.youtube.com/watch?v=rcahuamj1ro', 'https://www.youtube.com/channel/ucvwlfx7n45veehgsckfubpg', 'https://www.youtube.com/watch?v=nivjtupip4s', 'https://www.youtube.com/channel/ucdkbgcy0--72txb_50iocsg', 'https://www.youtube.com/watch?v=8fjcvd_s60u', 'https://www.youtube.com/channel/ucnfx1g8fqlbagw-ctx8dkla', 'https://www.youtube.com/watch?v=wx-1km22sr8', 'https://www.youtube.com/channel/uctvklcm2wxqhsjgkqliq8pa', 'https://www.youtube.com/watch?v=f21_qr2tqde', 'https://www.youtube.com/channel/ucm5r7q0beuln4cd1t6tn7jg', 'https://www.twitch.tv/jumbo_beans1/clip/bloodyculturedgalagohoneybadger', 'https://www.twitch.tv/jumbo_beans1', 'https://www.youtube.com/watch?v=ebflvzzewzs', 'https://www.twitch.tv/sparcmac', 'https://instagram.com/sparcymac', 'https://www.facebook.com/#!/pages/sparc-mac/127906147289030', 'https://twitter.com/sparcmaclive', 'https://www.youtube.com/ggggllo', 'https://www.youtube.com/sparcmacproductions', 'https://www.youtube.com/sparcmacofficial', 'https://www.oldschool.runescape.com', 'https://www.runescape.com']\n",
      "['https://digitaltrafficagency.com/tgp', 'https://www.youtube.com/watch?v=anor8hh4jza']\n",
      "['https://soundcloud.com/the-humin-werm/starfighter', 'https://www.patreon.com/user?u=10593744', 'https://www.bitchute.com/channel/political_juice/', 'https://videos.utahgunexchange.com/@political_juice?page=videos', 'https://twitter.com/political_juice']\n",
      "['https://www.rehabandrevive.com', 'https://plus.google.com/+rehabandrevive', 'https://www.facebook.com/rehabandrevive', 'https://www.pinterest.com/rehabandrev']\n",
      "['https://www.facebook.com/demidros', 'https://twitter.com/gannikuss', 'https://www.ebay.com/', 'https://www.amazon.com/']\n",
      "['https://play.google.com/store/apps/details?id=simplehat.clicker']\n",
      "['https://www.youtube.com/playlist?list=pl79p08jkke8lpbriulsz5ekczojdeuswp', 'https://www.youtube.com/playlist?list=pl79p08jkke8lbifwxav6qaug3tkpl2e9c']\n",
      "['https://goo.gl/hjjkzz', 'https://goo.gl/fdyaaq', 'https://goo.gl/ps6o10', 'https://www.twitter.com/thatdenverguytv', 'https://www.thatdenverguy.com']\n",
      "['https://www.facebook.com/videocreators', 'https://videocreators.com/product/30-days-better-youtube-channel/', 'https://courses.videocreators.com/courses/turn-youtube-into-your-career/', 'https://videocreators.com/product/secret-building-youtube-audience/', 'https://www.youtube.com/subscription_center?add_user=videocreatorstv', 'https://www.patreon.com/videocreators', 'https://www.facebook.com/videocreators', 'https://twitter.com/timschmoyer', 'https://instagram.com/timschmoyer', 'https://www.youtube.com/schmovies']\n",
      "['https://link.dosh.cash/hys9zkfxfk', 'https://freedominfluencer.com/success', 'https://freedominfluencer.com/amrebook', 'https://bit.ly/subscribetonathanlucas', 'https://fb.com/mrnathanlucas', 'https://goo.gl/tt8anm', 'https://goo.gl/tek3tf', 'https://goo.gl/rfwfqk', 'https://goo.gl/3aibws', 'https://goo.gl/rzmuac', 'https://goo.gl/jwejnu', 'https://goo.gl/gp7ah3', 'https://youtu.be/x_cpikkylfa', 'https://goo.gl/ltf8hz', 'https://bit.ly/subscribetonathanlucas', 'https://freedominfluencer.com', 'https://facebook.com/nathanlucasfanpage', 'https://facebook.com/mrnathanlucas', 'https://instagram.com/mrnathanlucas', 'https://twitter.com/mrnathanlucas', 'https://freedominfluencer.com/resources/', 'https://freedominfluencer.com/artlistmusic']\n",
      "['https://ecomelites.com/', 'https://savageaffiliates.com/', 'https://bit.ly/watchaffiliatevideos', 'https://bit.ly/ecomlearnmore', 'https://bit.ly/learnpassiveincome', 'https://bit.ly/ecomsamuraiz', 'https://bit.ly/freeaffiliategroup', 'https://bit.ly/franklinsdeals']\n",
      "['https://budurl.me/makesomeextranow', 'https://budurl.me/makesomeextranow', 'https://www.metroparent.com', 'https://www.photoshoptutorials.ws', 'https://tutsplus.com', 'https://internationalliving.com', 'https://newwest.net', 'https://www.ealonline.com', 'https://www.stretcher.com', 'https://www.vqronline.org/', 'https://thesunmagazine.org', 'https://www.glimmertrain.com', 'https://goo.gl/qic6fs', 'https://www.facebook.com/johnmichaellifestyle', 'https://www.facebook.com/johnmichaelmarketing/', 'https://www.facebook.com/groups/johnmichaelmarketing/', 'https://www.instagram.com/johnmichaelmarketing/', 'https://twitter.com/johnmichaeljmm', 'https://www.snapchat.com/add/johnminspires', 'https://www.youtube.com/watch?v=wqn6zdum1w0', 'https://www.youtube.com/watch?v=kwsolohhvgq']\n",
      "['https://www.dearblogger.org/discount/', 'https://goo.gl/utywzp', 'https://goo.gl/u5oea4']\n",
      "['https://amzn.to/2xpcpws', 'https://twitter.com/givemethegoodz', 'https://amzn.to/2cds2zy', 'https://amzn.to/2cqqpdd', 'https://amzn.to/2cfy71k', 'https://amzn.to/2ckique', 'https://amzn.to/2cqllx1', 'https://amzn.to/2cgzlci']\n",
      "['https://phon.pe/ru_kirahhil', 'https://wwww.goo.gl/p1d1n6', 'https://kaisekaren.com', 'https://goo.gl/p1d1n6', 'https://facebook.com/kaisekaren', 'https://google.com/+kaisekaren', 'https://howtoans.com', 'https://www.facebook.com/howtoans', 'https://www.twitter.com/howtoans', 'https://www.google.com/+kaisekaren', 'https://www.howtoans.com']\n",
      "['https://go.tylerpratt.com/', 'https://go.tylerpratt.com/', 'https://www.facebook.com/tylerprattlive/', 'https://www.instagram.com/millionaire_advisor/', 'https://twitter.com/asktylerpratt', 'https://tylerpratt.com', 'https://www.youtube.com/tylerprattlive', 'https://www.youtube.com/watch?v=zczt7n3viso', 'https://www.youtube.com/watch?v=hvyrrjwga-u']\n",
      "['https://www.youtube.com/watch?v=awevwrglpbm', 'https://www.youtube.com/watch?v=zqfwsahysiy', 'https://goo.gl/ohg9rm', 'https://twitter.com/imaflynmidget', 'https://discord.gg/imaflynmidget', 'https://hellojuniper.com/imaflynmidget/store/']\n",
      "['https://cashforap.ps/jamopak', 'https://www.youtube.com/watch?v=r7mobwa5_1g', 'https://bitly.com/1vcybtp', 'https://cashforap.ps/jamopak', 'https://www.youtube.com/watch?v=uymjpm93bue', 'https://bit.ly/2bez8sf', 'https://bit.ly/1yiflca', 'https://bit.ly/1zmzjkz', 'https://bit.ly/1ql7m1r']\n",
      "['https://play.google.com/store/apps/details?id=com.istryformulachem', 'https://t.me/earnknowledge', 'https://i.dreamcricketgame.com/di/i/?id=200752210', 'https://youtu.be/w0le1zweavm', 'https://youtu.be/9nsgvqc-b2e']\n",
      "['https://ted.com/tedx']\n",
      "['https://learnplanprofit.net/lesson-library', 'https://www.flippingwheels.net', 'https://bit.ly/techbudsfbgroup', 'https://www.instagram.com/rickygutierrezz/', 'https://www.instagram.com/techbudsolutions/', 'https://share.robinhood.com/rogelig27', 'https://turo.com/c/rickyg37']\n",
      "['https://bit.ly/source-files-198a', 'https://bit.ly/landscapemasterclass', 'https://photoserge.com/my-gear?yid=youtube', 'https://adobe.ly/photoserge', 'https://www.youtube.com/timedtext_cs_panel?c=ucyaddjingwx-urxox6lpsyq&tab=2', 'https://photoserge.com/tutorials/', 'https://www.youtube.com/subscription_center?add_user=cmoeu', 'https://www.youtube.com/c/tutoriels', 'https://www.photoserge.com/tutorials/francais/', 'https://itunes.apple.com/us/podcast/photography-lightroom-photoshop/id543368680', 'https://plus.google.com/+sergeramelliphotos', 'https://www.facebook.com/photoserge', 'https://twitter.com/photoserge', 'https://www.instagram.com/photoserge/']\n",
      "['https://theschooloflife.com/shop/all/', 'https://tinyurl.com/o28mut7', 'https://madadamfilms.co.uk']\n",
      "['https://www.protypers.com/', 'https://www.youtube.com/watch?v=u0wrpcg4t-g&t=416s', 'https://www.dubaivacancy.ae/how-to-earn-money-online-by-typing-without-investment', 'https://www.youtube.com/watch?v=-kvsoxaq4nk', 'https://www.youtube.com/watch?v=bnhd5qnvxp8', 'https://www.youtube.com/channel/uclxggwcavbq5rbdk46mholq?annotation_id=annotation_1128896677&annotation_id=annotation_1415486171&annotation_id=annotation_1726440797&annotation_id=annotation_1775907779&annotation_id=annotation_3615146611&annotation_id=annotation_3890462093&annotation_id=annotation_4023698637&annotation_id=annotation_4099866985&annotation_id=annotation_4114328941&annotation_id=annotation_648158095&feature=iv&feature=iv&feature=iv&feature=iv&feature=iv&feature=iv&feature=iv&feature=iv&feature=iv&feature=iv&src_vid=-zbexj1t9wy&src_vid=2ani-zepfha&src_vid=2iqe6e_vfku&src_vid=mh8cvafs_qu&src_vid=o0acdpuc6c8&src_vid=_ik2yte--ko&src_vid=hocz0jcl-1e&src_vid=kdrmblt2e3k&src_vid=nk0_hlfm6qs&src_vid=nn4c-k-pshi&sub_confirmation=1']\n",
      "['https://go.tylerpratt.com/', 'https://go.tylerpratt.com/', 'https://www.facebook.com/tylerprattlive/', 'https://www.instagram.com/millionaire_advisor/', 'https://twitter.com/asktylerpratt', 'https://tylerpratt.com', 'https://www.youtube.com/tylerprattlive', 'https://www.youtube.com/watch?v=vkbkyyzx4fg', 'https://www.youtube.com/watch?v=kruh02bgkpc']\n",
      "['https://www.youtube.com/watch?v=tzqtrmfaefs', 'https://www.youtube.com/watch?v=tzqtrmfaefs', 'https://www.youtube.com/watch?v=r6azzl6ispa']\n",
      "['https://dropshippingaccelerator.teachable.com/p/dropshipping-accelerator-2018/?product_id=578828&coupon_code=specialoffer100', 'https://www.facebook.com/groups/154850461785852', 'https://goo.gl/m2rjef', 'https://www.instagram.com/therealisticentrepreneur']\n",
      "['https://bit.ly/shopjimmytv', 'https://shopjimmy.com']\n",
      "['https://www.youtube.com/help']\n",
      "['https://youtu.be/fw9b_b4q6bq', 'https://www.usertesting.com/', 'https://bit.ly/1vwgolw', 'https://www.facebook.com/adi.khan.71404', 'https://www.facebook.com/adilkhanbiz-165973510438432', 'https://www.facebook.com/groups/1548476252143593/', 'https://twitter.com/adilk0870', 'https://plus.google.com/+adilkhannetwork/posts']\n",
      "['https://taimienphi.vn/download-autoclick-588', 'https://www.youtube.com/watch?v=lcanyuitaqe']\n",
      "['https://bit.ly/m2youtube', 'https://youtu.be/ixuydntyh8s', 'https://bit.ly/m2coinbase', 'https://bit.ly/m2bitbondlending', 'https://theminoritymindset.com/get-richer-sleeping-ebook/', 'https://www.instagram.com/minoritymindset', 'https://www.facebook.com/minoritymindset', 'https://www.theminoritymindset.com', 'https://youtu.be/brjghywh-bs', 'https://www.youtube.com/minoritymindset']\n",
      "['https://www.youtube.com/', 'https://www.youtuberepeat.com', 'https://youtuberepeat.com/', 'https://listenonrepeat.com/', 'https://www.youtube.com/watch?v=mvmblhl3feq']\n",
      "['https://morethanhoney.co.uk', 'https://bit.ly/15uje5j', 'https://bit.ly/15ujhy1', 'https://bit.ly/11owgbf', 'https://bit.ly/ziv0eb', 'https://morethanhoney.senator.de', 'https://bit.ly/11oumy1']\n",
      "['https://budurl.me/click-here-now69', 'https://budurl.me/free-training-here', 'https://goo.gl/qic6fs', 'https://budurl.me/follow-me', 'https://page.video/workforus', 'https://www.fiverr.com/start_selling', 'https://flixpress.com/', 'https://budurl.me/click-here-now69', 'https://budurl.me/free-training-here', 'https://goo.gl/qic6fs', 'https://budurl.me/follow-me', 'https://page.video/workforus', 'https://goo.gl/qic6fs', 'https://www.facebook.com/groups/johnmichaelmarketing/', 'https://www.facebook.com/johnmichaelmarketing/', 'https://www.facebook.com/groups/johnmichaelmarketing/', 'https://www.instagram.com/johnmichaelmarketing/', 'https://twitter.com/johnmichaeljmm', 'https://www.snapchat.com/add/johnminspires', 'https://www.johnmichaelmarketing.com/earnings-disclaimer/', 'https://www.youtube.com/watch?v=uzzstsvydto', 'https://www.youtube.com/watch?v=girhd2-uwa4']\n",
      "['https://bit.ly/2itq1ap', 'https://bit.ly/r1workshop', 'https://budurl.com/kacp', 'https://www.facebook.com/rule1investing', 'https://twitter.com/rule1_investing', 'https://www.pinterest.com/rule1investing', 'https://www.linkedin.com/company/rule-1-investing', 'https://bit.ly/1ydqvxi', 'https://bit.ly/1kyuwb4']\n",
      "['https://go.officialkevindavid.com/shopifyninjawebinar', 'https://goo.gl/7k5agp', 'https://goo.gl/esgc12', 'https://goo.gl/uag9gf', 'https://goo.gl/1zf6kr', 'https://www.youtube.com/watch?v=frqgzberx0s', 'https://goo.gl/pptmlh', 'https://www.youtube.com/watch?v=ir6atuw0biu', 'https://www.youtube.com/watch?v=mfe5vsfjoky', 'https://goo.gl/j02esf', 'https://goo.gl/9gk3ge', 'https://goo.gl/muw2xy', 'https://goo.gl/2kdutc', 'https://goo.gl/4ccbqy', 'https://goo.gl/ygmjk2', 'https://goo.gl/s6u32i', 'https://goo.gl/xeuq29', 'https://goo.gl/pdv4kv', 'https://goo.gl/yx3n7i', 'https://goo.gl/kb8epx', 'https://goo.gl/uhxhj7', 'https://goo.gl/masb92', 'https://goo.gl/66xgf9', 'https://goo.gl/lcm5va', 'https://goo.gl/pptmlh', 'https://goo.gl/mcu9da', 'https://goo.gl/ppqzzx', 'https://goo.gl/t5zfdh', 'https://goo.gl/4fvfps', 'https://goo.gl/feu9l4', 'https://goo.gl/ico9gs']\n",
      "['https://www.nomoreworkdays.com/top-recommendation', 'https://goo.gl/qh27fr', 'https://goo.gl/mzdbzj', 'https://goo.gl/5yqvhn', 'https://goo.gl/tc4jep', 'https://www.youtube.com/c/joshuaelderlive', 'https://goo.gl/6cdbxs', 'https://goo.gl/pqf6dq', 'https://goo.gl/ogn897', 'https://goo.gl/z6vtbx', 'https://goo.gl/cmlrrd', 'https://goo.gl/nt7nrk', 'https://www.joshelder.com', 'https://www.facebook.com/joshcelder', 'https://www.facebook.com/joshuaelderonline', 'https://www.instagram.com/joshcelder/', 'https://www.snapchat.com/add/jcoleelder', 'https://joshelder.com/itunes', 'https://www.youtube.com/c/joshuaelderlive', 'https://joshelder.com/earnings-disclaimer/']\n",
      "['https://www.murgee.com/auto-mouse-click/']\n",
      "['https://www.youtube.com/watch?v=5zoawgabkl8', 'https://receiveanswer.com/howto/link-adsense-to-youtube-channel.aspx', 'https://www.youtube.com/watch?v=ybzcb-xt7zi', 'https://www.youtube.com/watch?v=zl0q9qy0abk', 'https://www.youtube.com/watch?v=2mjb-9uid6i', 'https://www.youtube.com/watch?v=_lqc2x8zbyw', 'https://www.youtube.com/watch?v=utvb_lxelw4', 'https://www.youtube.com/watch?v=bbmvfari8fq', 'https://www.youtube.com/watch?v=urqhdr6b0sg', 'https://www.facebook.com/receiveanswer']\n",
      "['https://adf.ly/1m6jc4', 'https://goo.gl/iy7zpo', 'https://goo.gl/aezcqc', 'https://goo.gl/ufggtv', 'https://goo.gl/vpvvu3', 'https://goo.gl/wdciop', 'https://goo.gl/ysro6q', 'https://goo.gl/jery4r', 'https://goo.gl/veuluh', 'https://goo.gl/pcswml', 'https://goo.gl/qrxyjh', 'https://goo.gl/imxsrx', 'https://goo.gl/qrbgix', 'https://goo.gl/uj2my3', 'https://goo.gl/e1jmtm']\n",
      "['https://www.coinbase.com/join/57605a33b9140001c900020b', 'https://www.ledgerwallet.com/r/befe', 'https://cryptocasey.com/how-to-buy-cryptocurrency-for-beginners/', 'https://www.coinbase.com/join/57605a33b9140001c900020b', 'https://go.coinmama.com/visit/?bta=51862&nci=5343', 'https://www.ledgerwallet.com/r/befe', 'https://www.binance.com/?ref=11055137', 'https://www.cryptotrader.tax/?fp_ref=casey80', 'https://www.facebook.com/cryptocasey/', 'https://twitter.com/crypto_casey', 'https://www.instagram.com/cryptocasey/', 'https://cryptocasey.com/']\n",
      "['https://ted.com/tedx']\n",
      "['https://play.google.com/store/apps/details?id=free.vpn.unblock.proxy.vpnpro', 'https://play.google.com/store/apps/details?id=free.vpn.unblock.proxy.turbovpn', 'https://4funindia.com/u/2054582']\n",
      "['https://importempire.com', 'https://startupbros.com/amazon-seller-account', 'https://startupbros.com/how-to-sell-on-amazon-fba/', 'https://startupbros.com/payoneer', 'https://startupbros.com/grasshopper', 'https://startupbros.com/mailboxforwarding', 'https://amazon.com', 'https://amazon.com', 'https://amazon.com', 'https://amazon.com', 'https://importempire.com']\n",
      "['https://whtasappstatustus.com', 'https://whatsappstatus.com', 'https://whatsstatus.com', 'https://adbilty.in/oxp3yhq', 'https://www.youtube.com/channel/uc8_b6vkhjgylfcurxtxlwjg', 'https://www.facebook.com/imshanuk/?ref=aymt_homepage_panel', 'https://twitter.com/shanukasrinivas', 'https://plus.google.com/115760398833685313176', 'https://www.youtube.com/watch?v=q1ulj', 'https://soundcloud.com/syncole', 'https://www.facebook.com/syncole', 'https://twitter.com/syncoleofficial', 'https://www.instagram.com/syncole/']\n",
      "['https://www.i-programmer.info/programming/android/5914-android-adventures-activity-and-ui.html?start=1']\n",
      "['https://goo.gl/lj8e17', 'https://www.youtube.com/watch?v=a_hbedl2kge', 'https://www.youtube.com/watch?v=ageg9mdoy5i', 'https://www.youtube.com/watch?v=1tp3l-adkn0', 'https://www.youtube.com/watch?v=fiheeu4k-om', 'https://www.youtube.com/watch?v=zrveehcrana', 'https://goo.gl/7bukbz', 'https://twitter.com/ecomtechkatadka', 'https://www.facebook.com/ecomtechkatadka', 'https://www.instagram.com/ecomtechkatadka', 'https://www.pinterest.com/ecomtechkatadka']\n",
      "['https://www.speedearning.com', 'https://youtu.be/y20ztjgkdrm', 'https://youtu.be/zhnlsjjfg38', 'https://youtu.be/8bv35gv9-ea', 'https://youtu.be/3gp63s8erby', 'https://youtu.be/yk2jg9pkupq', 'https://youtu.be/6cohynyynsk', 'https://youtu.be/18rthsfmhsc']\n",
      "['https://learnfromben.com/product-category/video-course/image-editing/', 'https://www.facebook.com/learnfromben', 'https://instagram.com/jaworskyj', 'https://www.benjamin-jaworskyj.de', 'https://www.lernvonben.de', 'https://jaworskyj.spreadshirt.de/', 'https://goo.gl/tr3bax', 'https://www.goo.gl/x6mngq', 'https://www.goo.gl/qiohff', 'https://www.goo.gl/pludlm', 'https://amzn.to/2e8vqlj', 'https://www.goo.gl/oabvab', 'https://www.goo.gl/etby0j', 'https://goo.gl/mdetcj', 'https://goo.gl/767fq6', 'https://www.goo.gl/3xrnzg', 'https://amzn.to/2ft24ak', 'https://www.goo.gl/d5gnlq']\n",
      "['https://meesho.com/invite/praveen837', 'https://www.youtube.com/watch?v=le0he0ajzxk', 'https://meesho.com/invite/praveen837', 'https://www.you-cubez.com/?referer=321494&tid=', 'https://www.swagbucks.com/p/register?rb=47559408', 'https://www.netflix.com/in/', 'https://play.google.com/store/apps/details?id=com.google.android.apps.paidtasks&hl=en_in', 'https://www.youtube.com/watch?v=nos6wbn557g', 'https://www.shopify.in', 'https://affiliate-program.amazon.in/', 'https://sellercentral.amazon.in/', 'https://www.youtube.com/watch?v=ymwrn', 'https://www.youtube.com/watch?v=wvab4', 'https://goo.gl/1po6ug', 'https://goo.gl/zywwfv', 'https://goo.gl/fqcpzs', 'https://www.facebook.com/praveendilliwala', 'https://twitter.com/praveendiliwala', 'https://www.instagram.com/praveendilliwala', 'https://www.youtube.com/praveendilliwala']\n",
      "['https://www.youtube.com/subscription_center?add_user=nalts', 'https://incompetech.com', 'https://creativecommons.org/licenses/by/3.0/', 'https://incompetech.com', 'https://creativecommons.org/licenses/by/3.0/', 'https://incompetech.com', 'https://creativecommons.org/licenses/by/3.0/']\n",
      "['https://bit.ly/1b6wdcg', 'https://bit.ly/1qrvdpd']\n",
      "['https://goo.gl/axc4we', 'https://goo.gl/3nuwdb', 'https://www.facebook.com/akashdharuahacks', 'https://www.youtube.com/user/akash9668381jojo', 'https://plus.google.com/+akashdharuahacks', 'https://twitter.com/akashdharua', 'https://goo.gl/uejwgr', 'https://www.youtube.com/watch?v=fgednhokcv0', 'https://www.youtube.com/watch?v=u7ajbn1yvb4']\n",
      "['https://howtech.tv/', 'https://youtube.com/ithowtovids', 'https://www.facebook.com/howtechtv', 'https://plus.google.com/103440382717658277879', 'https://www.murgee.com/auto-mouse-click']\n",
      "['https://www.youtube.com/uiemovies', 'https://goo.gl/xvrj4u', 'https://www.facebook.com/divomovies', 'https://twitter.com/divomovies']\n",
      "['https://www.neobux.com/?r=dirven', 'https://imgur.com/ncih1y8']\n",
      "['https://coinjolt.com', 'https://bit.ly/1wfsvt4', 'https://technicalguruji.in/app', 'https://www.youtube.com/c/technicalguruji', 'https://www.twitter.com/technicalguruji', 'https://www.facebook.com/technicalguruji', 'https://goo.gl/zufbuu', 'https://instagram.com/technicalguruji', 'https://plus.google.com/+technicalguruji', 'https://technicalguruji.in/', 'https://shop.technicalguruji.in/']\n",
      "['https://youtube.com/cbsnews', 'https://cbsn.ws/1pllpz7', 'https://www.instagram.com/cbsnews/', 'https://facebook.com/cbsnews', 'https://twitter.com/cbsnews', 'https://cbsn.ws/1rqhw7t', 'https://cbsn.ws/1xb1wc8', 'https://bit.ly/1oqa29b']\n",
      "['https://ted.com/tedx']\n",
      "['https://www.varunmalhotra.co.in']\n",
      "['https://amzn.to/2kdxpvy', 'https://amzn.to/2gicfft', 'https://amzn.to/2kluav6', 'https://amzn.to/2s1vkvd', 'https://amzn.to/2s8qwwf', 'https://amzn.to/2klvpgz', 'https://www.patreon.com/herbertmidgley', 'https://herbertmidgley.storenvy.com/', 'https://linkkle.com/herbertmidgley', 'https://amzn.to/2kmehb6', 'https://goo.gl/knkici', 'https://amzn.to/2kmo9ce', 'https://amzn.to/2lmbimy', 'https://www.therobotfilm.com']\n",
      "['https://www.meleciaathome.com/2017/01/work-at-home-jobs-work-at-home.html', 'https://www.meleciaathome.com/2017/03/work-at-home-business-ebooks.html', 'https://www.paypal.me/meleciagayle', 'https://www.fiverr.com/meleciaathome']\n",
      "['https://zerodha.com/iframe-form/?id=zmprlu', 'https://zerodha.com/open-account?c=zmprlu', 'https://t.me/sunilminglani', 'https://www.facebook.com/thesunilminglani', 'https://www.twitter.com/sunilminglani', 'https://www.instagram.com/sunilminglani', 'https://www.youtube.com/vvtalks', 'https://www.vvtalks.com']\n",
      "['https://smartpinoyinvestor.com/go', 'https://smartpinoyinvestor.com/ebook']\n",
      "['https://www.kwai.com', 'https://kw.ai/bg--mj4s', 'https://www.twitter.com/clarothethird', 'https://bit.ly/clarothethird', 'https://twitter.com/clarothethird', 'https://www.instagram.com/clarothethird/', 'https://www.facebook.com/teamthirdie']\n",
      "['https://coins.ph', 'https://coins.ph/m/join/svlp9u', 'https://youtu.be/z42lk1-ow9c', 'https://freebitco.in/?r=2519128', 'https://btcclicks.com/?r=a34c566c']\n",
      "['https://www.youtube.com/bloomberg']\n",
      "['https://jaysonlinereviews.com/go/facebook-make-money-online/', 'https://jaysonlinereviews.com/list-sites-drive-blog-website-traffic-updated-2012/', 'https://jaysonlinereviews.com/go/60-off-webhosting/', 'https://1monthfreeaweberhere.aweber.com', 'https://jaysonlinereviews.com/go/funnelkitgo/', 'https://jaysonlinereviews.com/go/landing-page-monkey/', 'https://jaysonlinereviews.com/go/email-black-opps/', 'https://wordpress.org', 'https://jaysonlinereviews.com/go/commission-machine-michael-cheney/', 'https://jaysonlinereviews.com/go/niche-profit-full-control/', 'https://jaysonlinereviews.com/go/richard-legg-100k-apprentice/']\n",
      "['https://www.youtube.com/channel/uctlf-otfli5nsv7cdvoy1qa?sub_confirmation=1', 'https://twitch.tv']\n",
      "['https://www.facebook.com/tacademy/', 'https://twitter.com/tamoorpardasi', 'https://plus.google.com/u/1/+tamoorpardasitamoorgondal', 'https://www.tamooracademy.com/', 'https://www.youtube.com/playlist?list=plphzmooa6zj81cpcv8glbkrnnz9psxpmd', 'https://www.youtube.com/playlist?list=plphzmooa6zj_lf3-dql51oyg_ev6pu_ik', 'https://www.facebook.com/groups/tamoorpardasi/', 'https://www.youtube.com/channel/uc4fbx0ycui2zjngsi9-1bda', 'https://www.youtube.com/channel/uc4fbx0ycui2zjngsi9-1bda']\n",
      "['https://youtu.be/xwltmdpzvzo', 'https://youtu.be/sdgw7wa_lz0', 'https://goo.gl/miee3b', 'https://goo.gl/l8obpr', 'https://www.instagram.com/hiteshtheartist', 'https://fb.me/hiteshtheartist', 'https://www.twitter.com/technicaldost', 'https://goo.gl/xqngug']\n",
      "['https://dl.videoohot.com/su/7geqniwc', 'https://www.pay-box.in/home/register?source=c20c5b7d8k', 'https://fanmojo.in/ref/xfazevnx?utm_source=referral', 'https://7967044.earntalktime.com', 'https://t.me/technodost1']\n",
      "['https://www.adzbazar.com/?r=technical67']\n",
      "['https://workersonboard.com', 'https://www.mturk.com/mturk/welcome', 'https://www.postloop.com/invite/aw1219', 'https://qm.ee/3b84ce52', 'https://tracking.opinionoutpost.com/shrx', 'https://legerweb.com/jwsl8', 'https://panelpolls.com/', 'https://parentspeak.com/', 'https://igain.go2cloud.org/sh1m', 'https://strk.enlnks.com/shhhr', 'https://www.surveysavvy.com/?m=1039602', 'https://www.hcdsurveys.com/panel/join.cfm?referralid=261222', 'https://aff.enadvncdtrk2.com/shhpl']\n",
      "['https://6figuresormore.com', 'https://www.youtube.com/watch?v=izcts5zfzhi', 'https://6figuresormore.com', 'https://makemoneyonlinebosses.com']\n",
      "['https://goo.gl/hnoaw3', 'https://youtu.be/pehnxjjhe6q', 'https://youtu.be/jnm06f-wpja', 'https://youtu.be/e4gq076ztcu', 'https://www.facebook.com/thetalko', 'https://twitter.com/thetalko', 'https://instagram.com/the_talko', 'https://www.thetalko.com/']\n",
      "['https://stopad.io/y/dan', 'https://youtu.be/3vu1ms0zfji', 'https://youtu.be/ibkqtjucmgu']\n",
      "['https://bit.ly/2tstc9y', 'https://www.seekhoall.com/', 'https://goo.gl/nggrww', 'https://goo.gl/tyqetq', 'https://goo.gl/nh577q', 'https://goo.gl/q2qpkf', 'https://goo.gl/dvjkfe', 'https://goo.gl/ukcu1n', 'https://www.youtube.com/c/seekhotech', 'https://goo.gl/d2f69f', 'https://goo.gl/lavqaf', 'https://goo.gl/dacjs4', 'https://goo.gl/srbhe1', 'https://goo.gl/4obb9x', 'https://goo.gl/qw2u2u', 'https://goo.gl/137ndc', 'https://goo.gl/y3t1bh', 'https://goo.gl/yqrwvw', 'https://goo.gl/o2xuvs', 'https://www.youtube.com/watch?v=tw9d8vyrvfq']\n",
      "['https://youtu.be/ywa-xbsjrvg', 'https://www.fastrupee.com/affiliate-marketing-india/?utm_source=aflmkdes&utm_medium=youtube&utm_campaign=affiliate', 'https://youtu.be/4awkqe4o9ke']\n",
      "['https://youtu.be/hus83ljhrfo', 'https://goo.gl/hgtojy', 'https://goo.gl/rztcnk', 'https://www.facebook.com/jamestristanruiz08/', 'https://twitter.com/tristanjames21', 'https://www.instagram.com/jamestristanruiz/', 'https://youtu.be/tvr8qgk3rxs', 'https://youtu.be/bqvvlwkye50', 'https://youtu.be/q88wwgtq1ly', 'https://youtu.be/tjso7gnin_i', 'https://youtu.be/eqt-jrdir3k', 'https://youtu.be/r9dynjakj3c', 'https://youtu.be/ut24fvujymi', 'https://youtu.be/ba355aiwuku']\n",
      "['https://www.mediafire.com/download/cyq756beelex6ey']\n",
      "['https://ryanoscribner.com/betterment', 'https://ryanoscribner.com/stash', 'https://ryanoscribner.com/robinhood', 'https://ryanoscribner.com/fundrise', 'https://ryanoscribner.com/m1-finance', 'https://ryanoscribner.com/lending-club', 'https://ryanoscribner.com/coinbase', 'https://ryanoscribner.com/free-course', 'https://www.facebook.com/groups/164766680793265/', 'https://ryanoscribner.com/course-creation-companion', 'https://www.facebook.com/ryanoscribner/', 'https://ryanoscribner.com/passive-income', 'https://ryanoscribner.com/stock-radar', 'https://ryanoscribner.com/stock-market-investing-course', 'https://www.facebook.com/ryanoscribner/', 'https://www.instagram.com/ryanscribnerofficial/', 'https://amzn.to/2niydiz', 'https://amzn.to/2keyd7d', 'https://amzn.to/2tzmxbu', 'https://amzn.to/2kjkgrn', 'https://ryanoscribner.com/audible']\n",
      "['https://wholesaleted.com/get/shopify', 'https://wholesaleted.com/4-step', 'https://wholesaleted.com/go/oberlo', 'https://wholesaleted.com/go/freelogo', 'https://www.youtube.com/watch?v=8mqfy9xi-ag', 'https://wholesaleted.com/go/shopify']\n",
      "['https://www.ndtv.com/video/player/nse-get-started-in-the-market/learn-the-ways-to-invest-in-the-stock-market/333060?yt']\n",
      "['https://adf.ly/1qxzbn', 'https://www.g2a.com/r/gamingsoundfx', 'https://adf.ly/1qxukd']\n",
      "['https://suitcaseandspoons.bandcamp.com/', 'https://spoonladymusic.com/', 'https://www.facebook.com/abbythespoonlady/']\n",
      "['https://play.google.com/store/apps/details?id=com.mouthshut&hl=en', 'https://www.youtube.com/blunderindian', 'https://www.youtube.com/channel/uc-tehmsgjvms29ppkjxx5sg/featured', 'https://www.youtube.com/watch?v=xeiusrqzf-w', 'https://www.youtube.com/blunderindian', 'https://plus.google.com/112992488908623527560', 'https://www.facebook.com/blunderindian', 'https://twitter.com/blunderindian', 'https://www.youtube.com/blunderindian']\n",
      "['https://cnb.cx/subscribecnbc', 'https://www.cnbc.com/', 'https://cnb.cx/likecnbc', 'https://cnb.cx/followcnbc', 'https://cnb.cx/pluscnbc', 'https://cnb.cx/instagramcnbc']\n",
      "['https://www.youtube.com/watch?v=qwd3c2cq9h0', 'https://www.facebook.com/travellight21/', 'https://twitter.com/travellight_', 'https://travellight.me']\n",
      "['https://www.youtube.com/jojikiba']\n",
      "['https://fatalgrips.com/', 'https://twitter.com/obligatedyt', 'https://itun.es/us/iuodhb']\n",
      "['https://budurl.me/getyourcash_now5', 'https://budurl.me/free-training-here', 'https://budurl.me/follow-me', 'https://goo.gl/qic6fs', 'https://www.theguardian.com/money/2010/nov/12/field-agent-consumer-app-of-week', 'https://fieldagent.net', 'https://budurl.me/getyourcash_now5', 'https://goo.gl/qic6fs', 'https://johnmichaelmarketing.com/earnings-disclaimer/', 'https://www.facebook.com/johnmichaellifestyle', 'https://www.facebook.com/johnmichaelmarketing/', 'https://www.facebook.com/groups/johnmichaelmarketing/', 'https://www.instagram.com/johnmichaelmarketing/', 'https://twitter.com/johnmichaeljmm', 'https://www.snapchat.com/add/johnminspires', 'https://youtu.be/o8bg61xuqjo', 'https://www.youtube.com/watch?v=eo-8yc2yddk&t=110s']\n",
      "['https://jerrybanfield.com/freecourses/', 'https://www.youtube.com/c/jerrybanfield?sub_confirmation=1', 'https://jerry.tips/250kyts', 'https://jerrybanfield.com/freecourses/', 'https://jerry.tips/amzpm', 'https://jerry.tips/jbaudible', 'https://amzn.to/2mr7djd', 'https://youtu.be/apzmdezsrza', 'https://skl.sh/2ktgp1d', 'https://jerry.tips/isrvcs', 'https://jerrybanfield.com/freecourses/', 'https://jerry.tips/mboks', 'https://jerry.tips/audibyt', 'https://facebook.com/jbanfield', 'https://twitter.com/jerrybanfield', 'https://jerry.tips/blgpsts', 'https://jerry.tips/rsourcs', 'https://jerry.tips/readwme', 'https://jerry.tips/rbshp', 'https://jerrybanfield.com/freecourses/']\n",
      "['https://www.cashkickstart.com', 'https://www.clearlywebsites.com']\n",
      "['https://http:www.coming', 'https://youtu.be/be3wjpyeea4', 'https://youtu.be/jm6suyazgtm']\n",
      "['https://medium.com/@tobymellor/hq-trivia-using-bots-to-win-money-from-online-game-shows-ce2a1b11828b']\n",
      "['https://supscri.be/dingdongsolong', 'https://instagram.com/maximbadytouray#', 'https://twitter.com/#!/maximbady1', 'https://www.facebook.com/maximbady', 'https://tinyurl.com/q7mqzc']\n",
      "['https://adfree.bigtincan.com/']\n",
      "['https://www.facebook.com/toptrending', 'https://twitter.com/toptrending', 'https://www.youtube.com/user/baertaffy']\n",
      "['https://www.finology.in/academy.html', 'https://zerodha.com/open-account?c=zmpxig', 'https://www.finology.in/books.html']\n",
      "['https://burst.shopify.com/business-ideas/sell-t-shirts-online', 'https://www.shopify.com/oberlo', 'https://bit.ly/18t5zyz', 'https://www.shopify.com/oberlo', 'https://www.t-shirtmagazineonline.com/picking-the-perfect-tshirt-blank/', 'https://dribbble.com/', 'https://www.designious.com/', 'https://www.tshirt-factory.com/', 'https://creativemarket.com/', 'https://graphicriver.net/', 'https://shirtmockup.com', 'https://shirtmockup.com/', 'https://www.theprintful.com/generator', 'https://graphicriver.net/collections/2799340-t-shirt-mockups', 'https://savedelete.com/design/free-t-shirt-templates-mockup-psd/167871/', 'https://www.designbolts.com/2014/05/02/50-free-high-quality-psd-vector-t-shirt-mockups/', 'https://www.reddit.com/', 'https://www.kickstarter.com/', 'https://apps.shopify.com/printful', 'https://apps.shopify.com/merchify', 'https://apps.shopify.com/print-aura', 'https://apps.shopify.com/shirts-io-t-shirt-fulfillment', 'https://www.youtube.com/watch?v=kqahxlc8__e', 'https://www.shopify.ca/blog/8343330-how-to-choose-a-shipping-strategy-for-your-online-store', 'https://bit.ly/18t5zyz', 'https://www.youtube.com/user/shopify']\n",
      "['https://wix.com']\n",
      "['https://bit.ly/yrz4g9', 'https://twitter.com/themindchop', 'https://www.instagram.com/themindchop', 'https://goo.gl/45qlbp', 'https://www.youtube.com/channel/ucved', 'https://www.youtube.com/watch?v=gwoez', 'https://www.youtube.com/watch?v=elljn', 'https://www.youtube.com/watch?v=3-9j-', 'https://www.youtube.com/watch?v=3-9j-']\n",
      "['https://www.youtube.com/playlist?list=plh12yy_9l1ha1uxqjfrveheonwhgywnfj', 'https://www.youtube.com/playlist?list=plh12yy_9l1hbehdraklkwjz9tjndkcbwb', 'https://www.youtube.com/user/kyakaise?sub_confirmation=1', 'https://www.facebook.com/kyakaise', 'https://www.twitter.com/kyakaise', 'https://www.google.com/+kyakaise', 'https://www.kyakaise.com', 'https://www.youtube.com/playlist?list=plh12yy_9l1ha1uxqjfrveheonwhgywnfj', 'https://www.youtube.com/playlist?list=plh12yy_9l1hbehdraklkwjz9tjndkcbwb', 'https://goo.gl/9duhrf', 'https://www.youtube.com/playlist?list=plh12yy_9l1ha1uxqjfrveheonwhgywnfj', 'https://www.youtube.com/playlist?list=plh12yy_9l1hbehdraklkwjz9tjndkcbwb', 'https://www.youtube.com/user/kyakaise?sub_confirmation=1']\n",
      "['https://www.youtube.com/edit?o=u&video_id=mpt4aoz8gg8', 'https://www.leapforceathome.com']\n",
      "['https://www.patreon.com/laserbolt', 'https://goo.gl/jyckxb', 'https://goo.gl/lpzmf7', 'https://twitter.com/gflaserbolt', 'https://goo.gl/pmxgyl', 'https://goo.gl/kxlbir', 'https://goo.gl/bulqxv', 'https://goo.gl/q7fz04', 'https://goo.gl/nno4j7', 'https://goo.gl/hgdkue', 'https://goo.gl/v4a4nz', 'https://goo.gl/bk9wso', 'https://goo.gl/i4zmw1', 'https://twitter.com/gflaserbolt', 'https://goo.gl/gwbkgy', 'https://goo.gl/sxbtll', 'https://www.gamerfuzion.com/', 'https://goo.gl/befyhp', 'https://www.facebook.com/laserbolt', 'https://instagram.com/gflaserbolt/']\n",
      "['https://www.udemy.com/the-ultimate-google-adwords-training-course/?couponcode=youtubedesc35', 'https://www.adventureppc.com', 'https://youtu.be/rdfs4zythl4']\n",
      "['https://www.youtube.com/watch?v=wlmjvdbtm8u', 'https://www.youtube.com/watch?v=uxcqkuzitpm', 'https://www.youtube.com/watch?v=3iim3ccygu0', 'https://www.toptrending.com', 'https://www.facebook.com/toptrending', 'https://twitter.com/toptrending', 'https://www.youtube.com/user/baertaffy']\n",
      "['https://youtu.be/lg49urztec0', 'https://amzn.to/2fgfekf', 'https://amzn.to/2fgjmuo', 'https://amzn.to/2xz8cdw', 'https://amzn.to/2y0vbli', 'https://www.facebook.com/basicgyaan.f', 'https://twitter.com/basicgyaan', 'https://www.instagram.com/sunfun67', 'https://plus.google.com/101070380901930372004', 'https://amzn.to/2xbyjbo']\n",
      "['https://fb.me/cashincthegame']\n",
      "['https://link.zebpay.com/ref/refanki3843', 'https://www.myadvertisingpays.com/ref.asp?spon=14259134']\n",
      "['https://adf.ly/1qxzbn', 'https://www.g2a.com/r/gamingsoundfx', 'https://adf.ly/1qxukd']\n",
      "['https://www.premiumhackedgames.ga', 'https://premiumhackedgames.bitballoon.com', 'https://www.youtube.com/watch?v=dnrwmxg2tfm&t=0s', 'https://www.youtube.com/watch?v=wj28c8pzphq', 'https://www.youtube.com/watch?v=kt5r-szwils', 'https://bit.ly/2db5xe7', 'https://bit.ly/2bz60mj', 'https://twitter.com/therealhackspot', 'https://www.facebook.com/therealhackspot/']\n",
      "['https://zerodha.com/open-account?c=zmprlu', 'https://t.me/sunilminglani', 'https://www.facebook.com/thesunilminglani', 'https://www.twitter.com/sunilminglani', 'https://www.instagram.com/sunilminglani', 'https://www.youtube.com/vvtalks', 'https://www.vvtalks.com']\n",
      "['https://bit.ly/subchuck', 'https://www.youtube.com/watch?v=l9ou1ce9vhg', 'https://gfuel.com/', 'https://goo.gl/5hwgng', 'https://www.facebook.com/chuckthecg/', 'https://twitter.com/chuckthecg', 'https://www.instagram.com/chuckthecg', 'https://www.youtube.com/user/karnageclan', 'https://www.youtube.com/watch?v=sizikslrkrg', 'https://support.google.com/youtube/answer/1620498?hl=en']\n",
      "['https://bit.ly/2cwkoh5', 'https://bit.ly/2cz9sz8', 'https://goo.gl/alzhst', 'https://bit.ly/2cwkoh5', 'https://bit.ly/7steps4beginners', 'https://decryptionary.com/', 'https://www.youtube.com/watch?v=w0qn3opyo5c', 'https://coinmarketcap.com', 'https://www.youtube.com/watch?v=a9oagrftiis', 'https://www.reddit.com/r/ethtrader/comments/6r50c6/how_to_invest_in_cryptocurrencies_the_ultimate/', 'https://www.quora.com/topic/cryptocurrencies', 'https://medium.com/topic/cryptocurrency', 'https://www.bitcoinmining.com/', 'https://www.investopedia.com/terms/b/bitcoin-mining.asp', 'https://www.washingtonpost.com/news/energy-environment/wp/2017/12/19/why-the-bitcoin-craze-is-using-up-so-much-energy/?utm_term=.00310ace38ba', 'https://bit.ly/friendlybitcoin', 'https://crypto101podcast.com/', 'https://itunes.apple.com/us/podcast/the-next-billion-seconds/id1286587583?mt=2&i=1000394378101', 'https://itunes.apple.com/us/podcast/lets-talk-crypto-bitcoin-blockchain-cryptocurrency/id1317162508?mt=2&i=1000397378376', 'https://itunes.apple.com/us/podcast/crypto-101/id1262351840?mt=2&i=1000396763135', 'https://shamelessmaya.com', 'https://instagram.com/mayasworld', 'https://twitter.com/mayasworld', 'https://shamelessmaya.tumblr.com', 'https://www.facebook.com/shamelessmaya', 'https://www.snapchat.com/add/mayasnapworld', 'https://bit.ly/mayatechshop']\n",
      "['https://bit.ly/makekdmoneyonline', 'https://bit.ly/makekdmoneyonline', 'https://bit.ly/makekdmoneyonline', 'https://bit.ly/amazonfbalearnmore', 'https://bit.ly/learnfacebookadstoday', 'https://bit.ly/learnshopifytoday', 'https://www.instagram.com/kevindavid/', 'https://bit.ly/kdfbpage', 'https://snapchat.com/add/kevinhulse', 'https://bit.ly/ninjapodcastwithkevindavid', 'https://bit.ly/kevindavidaffiliate', 'https://bit.ly/amazonfbaninjas', 'https://bit.ly/shopifyninjas', 'https://bit.ly/facebookadninjas', 'https://bit.ly/cfninjas', 'https://bit.ly/affiliateninjas']\n",
      "['https://on.fb.me/1dqth0t', 'https://on.fb.me/1ilce7k', 'https://bit.ly/1dqtisy', 'https://incompetech.com/', 'https://kut.org/post/how-advertising-works-your-brain', 'https://www.theatlantic.com/business/archive/2011/08/why-good-advertising-works-even-when-you-think-it-doesnt/244252/', 'https://www.psychologytoday.com/blog/wired-success/201203/mind-control-neuroscience-in-marketing', 'https://home.olemiss.edu/~egjbp/comp/ad-claims.html', 'https://www.scienceofpeople.com/2013/08/5-ways-body-language-is-used-in-advertising/', 'https://voices.yahoo.com/marketing-tips-psychology-color-manipulation-12142220.html?cat=3', 'https://psychology.about.com/od/sensationandperception/a/colorpsych.htm', 'https://dailyinfographic.com/logos-a-look-at-the-meaning-in-colors-infographic', 'https://business-applications.financesonline.com/review-of-famous-company-logos/', 'https://www.emarketer.com/article/us-total-media-ad-spend-inches-up-pushed-by-digital/1010154', 'https://ddrewdesign.com/blog/the-10-most-successful-ad-campaigns-of-all-time-and-how-they-came-to-be', 'https://blog.hubspot.com/blog/tabid/6307/bid/32763/the-10-greatest-marketing-campaigns-of-all-time.aspx', 'https://commons.wikimedia.org/wiki/file:weasel_words.svg', 'https://www.flickr.com/photos/jbcurio/4678924539/', 'https://www.flickr.com/photos/dominicspics/821036860/', 'https://vimeo.com/19463818', 'https://www.youtube.com/watch?v=xkr1scqupca', 'https://www.youtube.com/watch?v=nprv4a14wqe', 'https://archive.org/details/newport_4', 'https://archive.org/details/ideal_dolls_2', 'https://archive.org/details/monkeys_uncle', 'https://archive.org/details/labatts_beer', 'https://archive.org/details/kodak_instamatic', 'https://archive.org/details/0310_with_this_ring_s00051_11_16_42_00', 'https://archive.org/details/help_yourself', 'https://archive.org', 'https://archive.org/details/televisi1960', 'https://archive.org', 'https://archive.org/details/classict1948_6', 'https://archive.org', 'https://archive.org/details/oaklando1918', 'https://archive.org', 'https://archive.org/details/alcohola1949', 'https://archive.org/details/joy_2']\n",
      "['https://www.youtube.com/channel/ucbc0lkvfreke0exnq1a0zfg', 'https://databuddy.co/i/?id=14479458', 'https://4funindia.com/u/10946251', 'https://www.injoy.fun/shareinvite.html?injoy_id=24984075&share_id=9f3p55ti', 'https://m.p-y.tm/claimlifafa?lifafaid=buevhtabqwtnkgv1gdf73w']\n",
      "['https://stopad.io/y/alyx', 'https://bit.ly/1nqb1im', 'https://www.twitter.com/ayydubs', 'https://www.facebook.com/ayydubsyt', 'https://youtu.be/asvrtzmg2vy', 'https://www.youtube.com/ayydubs']\n",
      "['https://goo.gl/wdsz1f', 'https://goo.gl/wdsz1f', 'https://youtu.be/kccttiutz80', 'https://youtu.be/3g2n2a8xybs', 'https://youtu.be/qp98gprimve', 'https://youtu.be/00ruz3gs-vk', 'https://youtu.be/tmnra3n5y-u', 'https://youtu.be/yyf708ef5ao', 'https://youtu.be/gx9wkeum72q', 'https://youtu.be/nlcskoaciuy', 'https://youtu.be/3aucohgwwsq', 'https://youtu.be/bboquqajjr8', 'https://www.facebook.com/billi4you', 'https://www.youtube.com/billi4you', 'https://www.billi4you.com/']\n",
      "['https://www.howtoinvest1k.com/eozc', 'https://www.howtoinvest1k.com', 'https://youtu.be/xkh-vr2ir_e']\n",
      "['https://www.youtube.com/channel/ucvqczq3ahihrbgex-bkdrcg', 'https://www.gamersensei.com/games/fortnite-coaching', 'https://www.businessinsider.com/how-many-people-play-fortnite-stats-2018-2018-9', 'https://www.nytimes.com/2018/04/30/well/family/parenting-the-fortnite-addict.html', 'https://www.instagram.com/bemenews', 'https://twitter.com/bemeapp', 'https://www.facebook.com/officialbeme/']\n",
      "['https://goo.gl/4tf84l', 'https://goo.gl/e9umlu', 'https://goo.gl/x2h1ng', 'https://goo.gl/fbzr7']\n",
      "['https://www.facebook.com/carfanboys/']\n",
      "['https://twitter.com/progadgetyt', 'https://instagram.com/germanconde98', 'https://www.facebook.com/progadgetyt', 'https://www.youtube.com/watch?v=4_zyga1xmiw&t=306s', 'https://www.clixsense.com', 'https://www.neobux.com', 'https://www.clickxti.com', 'https://adf.ly', 'https://afiliados.amazon.es/gp/associates/join/landing/', 'https://affiliate.gearbest.com', 'https://www.youtube.com/watch?v=zplzjtt-exw']\n",
      "['https://goo.gl/kwrb8k', 'https://adf.ly/1qxzbn', 'https://www.g2a.com/r/gamingsoundfx', 'https://adf.ly/1qxukd']\n",
      "['https://mmd.to/subscribe']\n",
      "['https://funnypicsonly.com', 'https://goo.gl/yzemon', 'https://goo.gl/nzimg1', 'https://goo.gl/pfjnpz', 'https://goo.gl/x8akvm', 'https://goo.gl/urhepl', 'https://funnypicsonly.com', 'https://play.google.com/store/apps/details?id=com.funnypicsonly.mkr', 'https://plus.google.com/+bestofthebestvideo', 'https://www.facebook.com/funnypicsonlyyt/', 'https://twitter.com/funnypicsonlyyt', 'https://in.pinterest.com/funnypicsonlyyt/', 'https://www.youtube.com/c/bestofthebestvideo', 'https://open.spotify.com/artist/0kxcdaj7c5md27jxxzvhsa', 'https://bit.ly/1wfwvym', 'https://bit.ly/2mubtd2', 'https://bit.ly/1exqioi', 'https://bit.ly/1m1ye0b', 'https://www.youtube.com/watch?v=bm7sz5sbzyy', 'https://www.youtube.com/watch?v=aoey-ndp7hi', 'https://www.facebook.com/djwalkzz', 'https://soundcloud.com/walkzz', 'https://www.youtube.com/user/djwalkzz', 'https://twitter.com/iamalanwalker', 'https://www.alanwalkermusic.com/', 'https://funnypicsonly.com', 'https://www.youtube.com/watch?v=mz3fj8nmunw', 'https://www.youtube.com/watch?v=u_3ovnlgriy', 'https://www.youtube.com/watch?v=gpanyycxhj0', 'https://www.youtube.com/watch?v=toh-g_dhpbk', 'https://www.youtube.com/watch?v=xw9m9xdnaag', 'https://www.youtube.com/watch?v=f17lyopbq-i', 'https://www.youtube.com/watch?v=bxdzskmbf28', 'https://www.youtube.com/watch?v=hyxtk0rhncg', 'https://www.youtube.com/watch?v=r28um8ffc9k', 'https://www.youtube.com/watch?v=gpa1uwa0x2w', 'https://www.youtube.com/watch?v=ojeetxutyqa', 'https://www.youtube.com/watch?v=gl0ahhdubbs', 'https://www.youtube.com/watch?v=fnhezduqy4q', 'https://www.youtube.com/watch?v=0od7w_xhfrc', 'https://www.youtube.com/watch?v=wspweu-qmyc', 'https://www.youtube.com/watch?v=nvhmdenoghy', 'https://www.youtube.com/watch?v=fzxyr8sdaug', 'https://www.youtube.com/watch?v=vqjbrgmoe4s', 'https://www.youtube.com/watch?v=teur9tlsrfe', 'https://www.youtube.com/watch?v=pddiq5f69xq', 'https://www.youtube.com/watch?v=icankr5khy0', 'https://www.youtube.com/watch?v=xtcee8ssrvc']\n",
      "['https://adf.ly/1qxzbn', 'https://www.g2a.com/r/gamingsoundfx', 'https://adf.ly/1qxukd']\n",
      "['https://amazon.in']\n",
      "['https://www.youtube.com/watch?v=s83m3jpk96a', 'https://www.twitter.com/trendcrave', 'https://www.youtube.com/watch?v=z8lbu_yf0c0', 'https://www.youtube.com/watch?v=v2h_y-hhtge', 'https://www.youtube.com/watch?v=mlplo-sptpq', 'https://www.youtube.com/watch?v=xeakj06pbjs', 'https://www.youtube.com/watch?v=pqxwy06lwcg', 'https://www.youtube.com/watch?v=srkpltmnh0y', 'https://www.youtube.com/watch?v=-ocjxgswjwq', 'https://www.youtube.com/watch?v=s-u8yzlywfu', 'https://www.youtube.com/watch?v=k45m79feyz8', 'https://www.youtube.com/watch?v=gsab6kq3cuq', 'https://www.youtube.com/watch?v=wwzw7vyweh8', 'https://www.youtube.com/watch?v=p8suozsf6mw', 'https://www.youtube.com/watch?v=hdrsvwse1nk', 'https://www.youtube.com/watch?v=ouw4bb6m4by', 'https://www.youtube.com/watch?v=e2ymfwhz8qc', 'https://proleter.bandcamp.com/', 'https://www.facebook.com/proleter.beats', 'https://soundcloud.com/proleter-beatmaker']\n",
      "['https://www.zeitgeistmovie.com/']\n",
      "['https://www.youtube.com/watch?v=5hgn5zy5a4u', 'https://www.twitter.com/messyourself', 'https://www.facebook.com/messyourself', 'https://www.instagram.com/messyourself', 'https://www.twitch.tv/messyourself']\n",
      "['https://goo.gl/kwrb8k', 'https://adf.ly/1qxzbn', 'https://www.g2a.com/r/gamingsoundfx', 'https://adf.ly/1qxukd']\n",
      "['https://www.youtube.com/playlist?list=plh12yy_9l1ha1uxqjfrveheonwhgywnfj', 'https://www.youtube.com/playlist?list=plh12yy_9l1hbehdraklkwjz9tjndkcbwb', 'https://www.youtube.com/user/kyakaise?sub_confirmation=1', 'https://www.youtube.com/playlist?list=plh12yy_9l1ha1uxqjfrveheonwhgywnfj', 'https://www.youtube.com/playlist?list=plh12yy_9l1hbehdraklkwjz9tjndkcbwb', 'https://goo.gl/9duhrf', 'https://www.youtube.com/playlist?list=plh12yy_9l1ha1uxqjfrveheonwhgywnfj', 'https://www.youtube.com/playlist?list=plh12yy_9l1hbehdraklkwjz9tjndkcbwb', 'https://www.youtube.com/user/kyakaise?sub_confirmation=1']\n",
      "['https://bit.do/euzde', 'https://goo.gl/fprbv3', 'https://goo.gl/5rjouj', 'https://goo.gl/ejnm8c', 'https://goo.gl/w5rbgj', 'https://goo.gl/uwm7ta', 'https://goo.gl/qgca1a', 'https://goo.gl/xnzbqp', 'https://www.youtube.com/technicalyogi', 'https://www.facebook.com/technicalyogi', 'https://www.twitter.com/technicalyogi', 'https://www.instagram.com/technicalyogi']\n",
      "['https://www.behance.net/jesperish', 'https://www.facebook.com/toptrending', 'https://twitter.com/toptrending']\n",
      "['https://www.youtube.com/watch?v=-yfzgf8fhsg', 'https://www.patreon.com/scishow', 'https://dftba.com/scishow', 'https://www.facebook.com/scishow', 'https://www.twitter.com/scishow', 'https://scishow.tumblr.com', 'https://instagram.com/thescishow', 'https://bitinfocharts.com/', 'https://chrispacia.wordpress.com/2013/09/02/bitcoin-mining-explained-like-youre-five-part-2-mechanics/', 'https://www.youtube.com/watch?v=lx9zgzcmqxe', 'https://www.youtube.com/watch?v=nqzui24trdi', 'https://bitcoin.org/en/how-it-works', 'https://www.forbes.com/sites/investopedia/2013/08/01/how-bitcoin-works/#36bd8b2d25ee', 'https://www.makeuseof.com/tag/how-does-bitcoin-work/', 'https://blockchain.info/charts/total-bitcoins', 'https://en.bitcoin.it/wiki/controlled_supply', 'https://www.bitcoinmining.com/', 'https://bitamplify.com/mobile/?a=news', 'https://commons.wikimedia.org/wiki/file:cryptocurrency_mining_farm.jpg']\n",
      "['https://amzn.to/2boc42m', 'https://amzn.to/2bpbpkn', 'https://amzn.to/2bc7pev', 'https://bit.ly/1x1lxrs', 'https://amzn.to/1punfvr', 'https://amzn.to/1punqvl', 'https://amzn.to/1qi2jpf', 'https://amzn.to/1tpzpvo', 'https://amzn.to/1twft7y', 'https://amzn.to/1w5mv5u', 'https://goo.gl/sifh0n', 'https://goo.gl/idspmp', 'https://twitter.com/prasadvedpathak', 'https://plus.google.com/+urindianconsumer', 'https://www.instagram.com/urindianconsumer/']\n",
      "['https://createawesomereviews.com', 'https://www.amzreviewtrader.com/', 'https://moneypantry.com/amazon-review-sites/', 'https://createawesomereviews.com', 'https://www.youtube.com/playlist?list=plgc0gnip2uywikuoupfp4cdkfnq_gus5o', 'https://fb.com/seanthinks', 'https://thinkmediagear.com', 'https://www.davidcuttermusic.co.uk', 'https://bit.ly/thinkvideoguide', 'https://www.youtube.com/thinkmediatv', 'https://videoinfluencers.net/', 'https://twitter.com/seancannell', 'https://instagram.com/seancannell', 'https://www.snapchat.com/add/seancannell', 'https://www.facebook.com/seanthinks', 'https://amzn.to/22mmlqr', 'https://amzn.to/2aryrus', 'https://amzn.to/22mlvjs', 'https://amzn.to/29lukcs', 'https://amzn.to/20s1jlh', 'https://bit.ly/premiereprotrial']\n",
      "['https://www.patreon.com/user?u=3253803', 'https://www.facebook.com/cheokboardstudios', 'https://www.facebook.com/ijaaac?fref=ts', 'https://www.facebook.com/melodylow23?fref=ts', 'https://www.youtube.com/trevmonki', 'https://www.facebook.com/imtrevtham?fref=ts', 'https://www.facebook.com/poojaa.darshan?fref=ts', 'https://www.audiomicro.com', 'https://www.audiomicro.com/', 'https://creativecommons.org/licenses/by/3.0', 'https://www.videoblocks.com/fullscreen', 'https://footagecrate.com/', 'https://creativecommons.org/licenses/by/3.0', 'https://www.facebook.com/cheokboardstudios']\n",
      "['https://www.youtube.com/channel/uckknq513qk7masxbxaf85xg?sub_confirmation=1', 'https://www.youtube.com/watch?v=synv04yjsr0']\n",
      "['https://paytmapp.app.link/cgakmd7jet', 'https://bit.ly/2zo5bzl', 'https://bit.ly/2zo5bzl', 'https://bit.ly/2zo5bzl', 'https://youtu.be/eaksxyxxm1w', 'https://youtu.be/okpyj23jmpo', 'https://youtu.be/eaksxyxxm1w', 'https://youtu.be/eaksxyxxm1w', 'https://youtu.be/okpyj23jmpo', 'https://youtu.be/yyxm-gpyrqi']\n",
      "['https://youtu.be/0-s7bdswgpg']\n",
      "['https://www.facebook.com/theddguides', 'https://twitter.com/theddguides', 'https://www.youtube.com/theddguides', 'https://www.twitch.tv/dangerdolan', 'https://www.youtube.com/c/superplanetdolan', 'https://www.dangerdolan.tv/15-vintage-ads-that-should-have-been-banned/', 'https://www.dangerdolan.tv/planet-dolan-jobs-opportunities/', 'https://pastebin.com/7zinj4ur', 'https://incompetech.com', 'https://creativecommons.org/licenses/by/3.0/', 'https://incompetech.com', 'https://creativecommons.org/licenses/by/3.0/', 'https://incompetech.com', 'https://creativecommons.org/licenses/by/3.0/']\n",
      "['https://j.mp/1bcybin', 'https://amzn.to/vlnvbv', 'https://bit.ly/1u2y6pr', 'https://bit.ly/1u2yawd', 'https://bit.ly/1dvpgtr', 'https://bit.ly/1wbkfyg', 'https://bit.ly/1amuzwv', 'https://bit.ly/1u431fr', 'https://bit.ly/1u43jde', 'https://bit.ly/1z7etzr', 'https://bit.ly/1c3ncd2', 'https://bit.ly/1ygdv13', 'https://bit.ly/1bl79ye', 'https://bit.ly/1cggqfc', 'https://on.fb.me/1y8m8ax', 'https://bit.ly/1ghowmt', 'https://bit.ly/14wl9de', 'https://bit.ly/1vuwhh7']\n",
      "['https://cnb.cx/subscribecnbc', 'https://www.cnbc.com/', 'https://cnb.cx/likecnbc', 'https://cnb.cx/followcnbc', 'https://cnb.cx/pluscnbc', 'https://cnb.cx/instagramcnbc']\n",
      "['https://goo.gl/7kwe3c', 'https://www.imagebam.com/image/fdf584902513464', 'https://youtu.be/ae-flf3eh6c', 'https://youtu.be/mmqh6i3pcv4', 'https://youtu.be/ge8rpymxi5e', 'https://youtu.be/vhuuizx3aw4', 'https://youtu.be/mgrt51_xflg', 'https://youtu.be/ae-flf3eh6c', 'https://youtu.be/ubol52n-kcy', 'https://youtu.be/qj5i13mkojs', 'https://youtu.be/3fm-qm1mpro', 'https://youtu.be/1i5hoivk97g', 'https://youtu.be/xdlur0lffys']\n",
      "['https://paytmapp.app.link/cgakmd7jet', 'https://bit.ly/2zo5bzl', 'https://bit.ly/2zhuoev', 'https://www.youtube.com/watch?v=eaksx', 'https://www.youtube.com/watch?v=xfvwe', 'https://www.youtube.com/watch?v=agniv', 'https://paytm.com/offers/bhimupi.html']\n",
      "['https://workersonboard.com', 'https://www.musicxray.com?afid=5a36d170d1f2012f60971231381bf5de', 'https://www.slicethepie.com/join/uca38f1b', 'https://www.workersonboard.com/get_paid_online.html']\n",
      "['https://www.kingmartine.com']\n",
      "['https://en.savefrom.net/#url=youtube.com/watch?v=7lyruod_qom&utm_source=youtube.com&utm_medium=short_domains&utm_campaign=www.ssyoutube.com', 'https://docs.google.com/document/d/1pspupnyclleolcxpnwwgzqd-fvvfas3f-i5upo6uzq8/edit?usp=sharing', 'https://www.amazon.com/clinton-cash-foreign-governments-businesses/dp/0062369288']\n",
      "['https://goo.gl/zvgbhe', 'https://goo.gl/o6hn3e', 'https://goo.gl/zvgbhe', 'https://goo.gl/vgwaqf', 'https://goo.gl/9xub4m', 'https://goo.gl/tdvt5e', 'https://goo.gl/utmgnz', 'https://goo.gl/khvsyt', 'https://youtu.be/mq1gkoiass8']\n",
      "['https://www.facebook.com/ezravine', 'https://www.youtube.com/watch?v=ttinl1ewjvo', 'https://www.youtube.com/watch?v=kbatuwhq0-4&feature=c4-overview-vl&list=plc9cba7e985567228', 'https://www.youtube.com/watch?v=bjqdl95tocu', 'https://org.nz']\n",
      "['https://www.google.com/howgoogleworks']\n",
      "['https://amzn.to/2mo6ow0', 'https://6110b7uj3-bs8k1ezkjk32uj6k.hop.clickbank.net/?tid=practical', 'https://learn.myselfpublishingblueprint.com/courses/my-self-publishing-blueprint?affcode=195575_ey3cgdh8', 'https://creativecommons.org/licenses/', 'https://incompetech.com/music/royalty-', 'https://incompetech.com/']\n",
      "['https://digitizeindia.gov.in', 'https://facebook.com/onlinefreehelp', 'https://onlinefreehelp.com']\n",
      "['https://youtu.be/f0sebh4jxi8', 'https://youtu.be/ibkqtjucmgu', 'https://stopad.io/y/dc']\n",
      "['https://bit.ly/thoughty2', 'https://www.patreon.com/thoughty2', 'https://bit.ly/thoughtyfb', 'https://bit.ly/t2insta', 'https://thoughty2.spreadshirt.com']\n",
      "['https://j.mp/1bcybin', 'https://amzn.to/vlnvbv', 'https://bit.ly/1u2y6pr', 'https://bit.ly/1u2yawd', 'https://bit.ly/1dvpgtr', 'https://bit.ly/1wbkfyg', 'https://bit.ly/1amuzwv', 'https://bit.ly/1u431fr', 'https://bit.ly/1u43jde', 'https://bit.ly/1z7etzr', 'https://bit.ly/1c3ncd2', 'https://bit.ly/1ygdv13', 'https://bit.ly/1bl79ye', 'https://bit.ly/1cggqfc', 'https://on.fb.me/1y8m8ax', 'https://bit.ly/1ghowmt', 'https://bit.ly/14wl9de', 'https://bit.ly/1vuwhh7']\n",
      "['https://bit.ly/1fag8hb']\n",
      "['https://bit.ly/1fag8hb', 'https://www.tedxeuston.com', 'https://youtu.be/kufd5wgl3hw']\n",
      "['https://liveyourlegend.net', 'https://gg3d.com', 'https://area5.tv', 'https://youtu.be/5o1nckgk5bs']\n",
      "['https://bit.ly/sxaw6h', 'https://bit.ly/h2vzun', 'https://bit.ly/1qyrmse', 'https://bit.ly/1ghowmt']\n",
      "['https://www.reddit.com/r/pewdiepiesubmissions/', 'https://store.steampowered.com/app/703840/animal_super_squad/', 'https://represent.com/pewdiepie3', 'https://tsuki-co-uk.myshopify.com', 'https://usa.clutchchairz.com/product/pewdiepie-edition-throttle-series/', 'https://europe.clutchchairz.com/en/product/throttle-series-pewdiepie-edition/', 'https://canada.clutchchairz.com/product/throttle-series-pewdiepie-edition/', 'https://rzr.to/edgar', 'https://amzn.to/2fajfga', 'https://amzn.to/2f8guka', 'https://amzn.to/2h2phym', 'https://amzn.to/2cwdlta', 'https://amzn.to/2fajnwa', 'https://amzn.to/2ooqjlg', 'https://amzn.to/2oh0tu7']\n",
      "['https://goo.gl/tejah', 'https://www.facebook.com/sribalajivideo', 'https://plus.google.com/+sribalajimovies', 'https://twitter.com/sribalajivideos', 'https://www.sribalajivideo.com', 'https://tinyurl.com/pfymqun', 'https://goo.gl/rpk9x', 'https://goo.gl/regcu', 'https://goo.gl/xg9wd', 'https://goo.gl/bmsqs']\n",
      "['https://bit.ly/1dxudqy', 'https://www.bbc.co.uk/news/technology-18819338', 'https://wapo.st/1glcyzo', 'https://www.facebook.com/myvirtualcat', 'https://tnw.co/nsflrc']\n",
      "['https://www.facebook.com/kurzgesagt', 'https://www.behance.net/kurzgesagt', 'https://www.youtube.com/timedtext_cs_panel?c=ucsxvk37blthxd1rdpwtnm8q&tab=2']\n",
      "['https://on.cc.com/1zi8vse']\n",
      "['https://soundcloud.com/archdiggle/undertale-temmie-get-money-for-colege', 'https://kamdango.tumblr.com/post/131175801141/listening-to-this-on', 'https://33.media.tumblr.com/ae08a6f5d7cc16c73270361b1465785b/tumblr_nw89r8d5jb1ry9yr0o1_540.gif']\n",
      "['https://www.economicprinciples.org', 'https://www.youtube.com/watch?v=-zbeyejg9pk', 'https://youtu.be/8banolifmle']\n",
      "['https://www.reframehealthlab.com/', 'https://twitter.com/docmikeevans', 'https://twitter.com/docmikeevans', 'https://www.facebook.com/docmikeevans']\n",
      "['https://www.youtube.com/c/jaidenanimations', 'https://www.iwantoneofthose.com/your-store/jaiden.list?switchcurrency=usd&shippingcountry=us', 'https://twitter.com/jaidenanimation', 'https://instagram.com/jaiden_animations/', 'https://jaidenanimations.deviantart.com/', 'https://ask.fm/jaidenanimations', 'https://www.patreon.com/jaidenanimations?ty=h']\n",
      "['https://omidmalekan.com/?p=634', 'https://omidmalekan.com/?p=619', 'https://www.omidmalekan.com']\n",
      "['https://goo.gl/kwrb8k', 'https://adf.ly/1qxzbn', 'https://www.g2a.com/r/gamingsoundfx', 'https://adf.ly/1qxukd']\n",
      "['https://amzn.to/2nwd4dr', 'https://amzn.to/2uavq38', 'https://amzn.to/2mhsvlg', 'https://goo.gl/b31ocw']\n",
      "['https://goo.gl/7fdksj', 'https://goo.gl/on4seq', 'https://goo.gl/uyxbqj', 'https://goo.gl/8zgrzw', 'https://goo.gl/oynwkm', 'https://www.youtube.com/c/7blab']\n",
      "['https://goo.gl/7fdksj', 'https://goo.gl/on4seq', 'https://goo.gl/uyxbqj', 'https://goo.gl/8zgrzw', 'https://goo.gl/oynwkm', 'https://www.youtube.com/c/7blab']\n",
      "['https://www.youtube.com/user/lastweektonight', 'https://facebook.com/lastweektonight', 'https://twitter.com/lastweektonight', 'https://www.hbo.com/lastweektonight']\n",
      "['https://apple.co/2dqpiqf', 'https://flyt.it/hopsinnoshame', 'https://www.undercoverprodigy.com/tour', 'https://www.facebook.com/hellohopsin', 'https://www.undercoverprodigy.com']\n",
      "['https://www.ted.com/translate', 'https://www.twitter.com/tednews', 'https://www.facebook.com/ted', 'https://www.youtube.com/user/tedtalksdirector']\n",
      "['https://www.reddit.com/r/cgpgrey/comments/2dfh5v/humans_need_not_apply/', 'https://www.cgpgrey.com/', 'https://twitter.com/cgpgrey', 'https://www.terex.com/port-solutions/en/products/new-equipment/automated-guided-vehicles/lift-agv/index.htm', 'https://www.catminestarsystem.com/capability_sets/command', 'https://www.bosch-automotivetechnology.com/en/de/specials/specials_for_more_driving_safety/automated_driving/automated_driving.html', 'https://www.youtube.com/watch?v=sd6okylclb8&list=uu7vvhkefw4nogp8tydk7rcq', 'https://www.kivasystems.com', 'https://www.youtube.com/watch?v=raeqn5qnyxo', 'https://www.youtube.com/watch?v=da-5uw8gbks&list=uub6e-44ukoyrw9hx378xeyg', 'https://www.youtube.com/watch?v=_ql1zhskupk', 'https://vimeo.com/77993254', 'https://www.youtube.com/watch?v=vapfimwdkdw&t=19s', 'https://www.youtube.com/watch?v=tiijme8-au8', 'https://www.youtube.com/watch?v=dkr_pje7x2a&list=uupsq-euteyaq5vtmewukyiq', 'https://www.youtube.com/watch?v=wgqlzin4i9m&list=uupsq-euteyaq5vtmewukyiq&index=11', 'https://www.youtube.com/watch?v=aets9tlsumc&list=uupsq-euteyaq5vtmewukyiq', 'https://www.youtube.com/watch?v=3ya22b0rc4o', 'https://www.youtube.com/watch?v=oafuibdzxxu', 'https://www.youtube.com/watch?v=khkmawzfepi', 'https://vimeo.com/68859229', 'https://www.sedasys.com/', 'https://www.youtube.com/watch?v=eptixldrq3q', 'https://www.crops-robots.eu/index.php?option=com_content&view=article&id=62&itemid=61', 'https://www.youtube.com/watch?v=gy5g33s0gzo#t=94', 'https://www.youtube.com/watch?v=hnuesuxoc-w', 'https://www.youtube.com/watch?v=pt3xoqj7liy', 'https://www.catminestarsystem.com/articles/autonomous-haulage-improves-mine-site-safety', 'https://www.youtube.com/watch?v=uqj-1yzfezi', 'https://www.youtube.com/watch?v=we3fmfttp9g', 'https://www.youtube.com/watch?v=jqmpgrm5eco', 'https://www.youtube.com/watch?v=ra0e97wiqds', 'https://www.youtube.com/watch?v=kda-7o1q4oo', 'https://www.youtube.com/watch?v=y_cqbp08yua', 'https://www.youtube.com/watch?v=ngmrb4o922i&list=uuoxcjq-8xidtyp3uz647v5a', 'https://en.wikipedia.org/wiki/file:pptmooreslawai.jpg', 'https://www.youtube.com/watch?v=cxjwy8nsxfs', 'https://www.youtube.com/watch?v=n4lb_3_nmje', 'https://www.youtube.com/watch?v=658airovp6s', 'https://www.flickr.com/photos/crobj/4312159033/in/photostream/', 'https://www.youtube.com/watch?v=ed14i8qlxr4']\n",
      "['https://www.youtube.com/user/lastweektonight', 'https://facebook.com/lastweektonight', 'https://twitter.com/lastweektonight', 'https://www.hbo.com/lastweektonight', 'https://www.washingtonpost.com/stopandseize', 'https://www.jrn.com/newschannel5/news/newschannel-5-investigates/policing-for-profit']\n",
      "['https://www.youtube.com/watch?v=l3a4qjfn4pw']\n",
      "['https://youtu.be/_cbzlhduyjy?list=pl7b5b6479699eb204', 'https://youtu.be/fnxlzg_o1rk?list=pl7b5b6479699eb204', 'https://www.youtube.com/watch?v=tescwztlgq0&index=11&list=pl7b5b6479699eb204', 'https://www.facebook.com/engineeringexplained', 'https://www.howdoesacarwork.com', 'https://www.twitter.com/jasonfenske13', 'https://www.instagram.com/engineeringexplained', 'https://www.carthrottle.com/user/engineeringexplained', 'https://www.youtube.com/channel/ucsry4q8xgpjqbq8hpqzn6ia', 'https://leginfo.legislature.ca.gov/faces/codes_displaysection.xhtml?lawcode=veh&sectionnum=21710.&highlight=true&keyword=down%20grade+coast', 'https://www.azleg.state.az.us/formatdocument.asp?indoc=/ars/28/00895.htm&title=28&doctype=ars', 'https://www.colorado.gov/pacific/sites/default/files/14%20traffic%20classa.pdf', 'https://delcode.delaware.gov/title21/c041/sc11/index.shtml', 'https://www.lexisnexis.com/hottopics/gacode/default.asp', 'https://www.ilga.gov/legislation/ilcs/ilcs4.asp?docname=062500050hch%2e+11&actid=1815&chapterid=49&seqstart=107000000&seqend=131300000', 'https://www.legislature.mi.gov/(s(zhfihnkbcmhfjiz3hoequbvz))/mileg.aspx?page=getobject&objectname=mcl-257-678&highlight=neutral', 'https://leg.mt.gov/bills/mca/61/8/61-8-362.htm', 'https://nebraskalegislature.gov/laws/statutes.php?statute=60-6', '182', 'https://leg.state.nv.us/nrs/nrs-484b.html', 'https://lis.njleg.state.nj.us/cgi-bin/om_isapi.dll?clientid=253424&depth=2&td=wrap&advquery=coast%20neutral&depth=4&expandheadings=on&headingswithhits=on&hitsperheading=on&infobase=statutes.nfo&rank=&record=', 'https://www.lexisnexis.com/hottopics/tncode/', 'https://www.statutes.legis.state.tx.us/docs/tn/htm/tn.545.htm', 'https://law.lis.virginia.gov/vacode/46.2-811/', 'https://apps.leg.wa.gov/rcw/default.aspx?cite=46.61&full=true#46.61.630']\n",
      "['https://smarturl.it/gucciwoptober', 'https://guccimaneonline.com', 'https://twitter.com/gucci1017', 'https://facebook.com/guccimane', 'https://instagram.com/laflare1017', 'https://open.spotify.com/artist/13y7cglhjmvrmdqxdx0xdo']\n",
      "['https://www.youtube.com/user/fcglitching']\n",
      "['https://twitter.com/rsaevents', 'https://www.facebook.com/rsaeventsofficial/', 'https://soundcloud.com/the_rsa', 'https://instagram.com/rsa_events/', 'https://www.thersa.org/talk-to-the-hand/']\n",
      "['https://bit.ly/1fag8hb']\n",
      "['https://www.motherjones.com/politics/2011/02/income-inequality-in-america-chart-graph', 'https://danariely.com/2010/09/30/wealth-inequality/', 'https://thinkprogress.org/economy/2011/10/03/334156/top-five-wealthiest-one-percent/', 'https://money.cnn.com/2012/04/19/news/economy/ceo-pay/index.htm']\n",
      "['https://itunes.apple.com/us/album/junk-mail-single/id856393735', 'https://bit.ly/13xgq7a', 'https://www.explosm.net/comics/', 'https://www.facebook.com/explosm', 'https://twitter.com/explosm', 'https://www.explosm.net']\n",
      "['https://www.ted.com/translate', 'https://www.twitter.com/tednews', 'https://www.facebook.com/ted', 'https://www.youtube.com/user/tedtalksdirector']\n",
      "['https://www.interreflectionsmovie.com', 'https://www.facebook.com/peterjosephofficial', 'https://twitter.com/zeitgeistfilm', 'https://www.thezeitgeistmovement.com/', 'https://zeitgeistmovie.com/', 'https://www.zeitgeistmovingforward.com', 'https://www.zeitgeistmovie.com', 'https://zeitgeistmovie.com/torrents.html', 'https://zeitgeistmovingforward.com/zmap', 'https://zeitgeistmovie.com/order.html', 'https://www.thezeitgeistmovement.com', 'https://forum.linguisticteam.org/']\n",
      "['https://bit.ly/oc61hj', 'https://goo.gl/7ayygy', 'https://bit.ly/10vfly9', 'https://bit.ly/19oywp']\n",
      "['https://smarturl.it/showout', 'https://smarturl.it/staytrippydeluxe', 'https://bit.ly/1h6hqdn', 'https://twitter.com/therealjuicyj', 'https://www.facebook.com/juicyjmusic', 'https://staytrippy.thejuicyj.com/', 'https://goo.gl/k8qle8']\n",
      "['https://bit.ly/1rhpvax', 'https://bit.ly/subscribetomrbean', 'https://www.mrbean.co.uk', 'https://www.facebook.com/mrbean', 'https://www.twitter.com/mrbean', 'https://www.mrbean.co.uk', 'https://www.facebook.com/mrbean', 'https://www.twitter.com/mrbean']\n",
      "['https://samsmith.world/ttoiapr', 'https://po.st/fg8gsc', 'https://po.st/petkry', 'https://po.st/kbhqti', 'https://po.st/hlyyiv', 'https://po.st/yev3pn', 'https://bit.ly/1kxxhaz', 'https://samsmithworld.com/', 'https://www.twitter.com/samsmithworld', 'https://www.facebook.com/samsmithworld', 'https://goo.gl/zwb8oj']\n",
      "['https://bit.ly/1x9cafj', 'https://bit.ly/pfcsatw1', 'https://www.facebook.com/playingforchange', 'https://twitter.com/playing4change', 'https://instagram.com/playing4change', 'https://www.playingforchange.org']\n",
      "['https://smarturl.it/astleyspotify', 'https://rickastley.lnk.to/beautifullifend', 'https://smarturl.it/astleyghitunes', 'https://smarturl.it/astleyghamazon', 'https://www.rickastley.co.uk/', 'https://twitter.com/rickastley', 'https://www.facebook.com/rickastley/', 'https://www.instagram.com/officialric']\n"
     ]
    }
   ],
   "source": [
    "for _,row in new_data.iterrows():\n",
    "    print(row['links'])"
   ]
  },
  {
   "cell_type": "markdown",
   "metadata": {},
   "source": [
    "## Now that we have extracted the links from the descriptions. We need to see how many of these links are actually working. We are pinging the all the websites in the \"links\" column and then storing the number of working_links in a new column"
   ]
  },
  {
   "cell_type": "code",
   "execution_count": 15,
   "metadata": {
    "colab": {},
    "colab_type": "code",
    "id": "4RfTa6gm_zpi"
   },
   "outputs": [],
   "source": [
    "import urllib.request\n",
    "\n",
    "def absoulte_adress(adress):\n",
    "  temp =urlparse(adress)\n",
    "  if(temp.netloc=='bit.ly'): #in case of bit.ly do not remove the path\n",
    "        return adress\n",
    "  return temp.scheme+'://'+temp.netloc\n",
    "\n",
    "\n",
    "def alive_dead(adress):\n",
    "    try:\n",
    "      code=urllib.request.urlopen(adress,timeout=1).getcode()\n",
    "    except:\n",
    "      return False\n",
    "    if code==200:\n",
    "      return True\n",
    "    return False\n",
    "\n",
    "\n",
    "def cake(lit):\n",
    "  temp=set()\n",
    "  for i in lit:\n",
    "    lol=absoulte_adress(i)\n",
    "    if alive_dead(lol):\n",
    "        temp.add(lol)\n",
    "  return temp"
   ]
  },
  {
   "cell_type": "code",
   "execution_count": 16,
   "metadata": {
    "colab": {},
    "colab_type": "code",
    "id": "wcXuyT-QIXOm"
   },
   "outputs": [],
   "source": [
    "# below code will take a hell lot time for every link timeout is 1sec and there are 1065 records in which each row is a list of web site\n",
    "# took almost 1 hour\n",
    "# new_data['w_links']=new_data.links.apply(cake)\n",
    "# new_data\n",
    "\n",
    "# new_data.to_pickle('./cleaning.pkl')\n",
    "\n",
    "# saved it in pickle module with new column w_links"
   ]
  },
  {
   "cell_type": "markdown",
   "metadata": {},
   "source": [
    "## Stored the new data in cleaning.pkl"
   ]
  },
  {
   "cell_type": "code",
   "execution_count": 263,
   "metadata": {
    "colab": {
     "base_uri": "https://localhost:8080/",
     "height": 272
    },
    "colab_type": "code",
    "executionInfo": {
     "elapsed": 910,
     "status": "ok",
     "timestamp": 1574003255631,
     "user": {
      "displayName": "abdurrehman sajid",
      "photoUrl": "https://lh3.googleusercontent.com/a-/AAuE7mApyvPZUhJ1rYT8bSAGZbYskaBLDYd-ZcC93q9DcA=s64",
      "userId": "12716921899312957319"
     },
     "user_tz": -300
    },
    "id": "5I2sILelhYci",
    "outputId": "ee173d5b-00c4-4623-8e4d-6ce2c3923e27",
    "scrolled": true
   },
   "outputs": [
    {
     "data": {
      "text/html": [
       "<div>\n",
       "<style scoped>\n",
       "    .dataframe tbody tr th:only-of-type {\n",
       "        vertical-align: middle;\n",
       "    }\n",
       "\n",
       "    .dataframe tbody tr th {\n",
       "        vertical-align: top;\n",
       "    }\n",
       "\n",
       "    .dataframe thead th {\n",
       "        text-align: right;\n",
       "    }\n",
       "</style>\n",
       "<table border=\"1\" class=\"dataframe\">\n",
       "  <thead>\n",
       "    <tr style=\"text-align: right;\">\n",
       "      <th></th>\n",
       "      <th>videoId</th>\n",
       "      <th>video_url</th>\n",
       "      <th>description</th>\n",
       "      <th>links</th>\n",
       "      <th>classification</th>\n",
       "      <th>w_links</th>\n",
       "    </tr>\n",
       "  </thead>\n",
       "  <tbody>\n",
       "    <tr>\n",
       "      <th>0</th>\n",
       "      <td>jc9yMaIojXc</td>\n",
       "      <td>https://www.youtube.com/watch?v=jc9yMaIojXc</td>\n",
       "      <td>Join sumonies.com by clicking here: http://sum...</td>\n",
       "      <td>[https://sumonies.com, https://sumonies.com/?r...</td>\n",
       "      <td>f</td>\n",
       "      <td>{}</td>\n",
       "    </tr>\n",
       "    <tr>\n",
       "      <th>1</th>\n",
       "      <td>jqxENMKaeCU</td>\n",
       "      <td>https://www.youtube.com/watch?v=jqxENMKaeCU</td>\n",
       "      <td>We are living in exceptional times. Scientists...</td>\n",
       "      <td>[https://www.home-2009.com, https://www.ppr.co...</td>\n",
       "      <td>b</td>\n",
       "      <td>{}</td>\n",
       "    </tr>\n",
       "    <tr>\n",
       "      <th>2</th>\n",
       "      <td>0Fx9ahA0I4g</td>\n",
       "      <td>https://www.youtube.com/watch?v=0Fx9ahA0I4g</td>\n",
       "      <td>Join sumonies.com by clicking here: http://sum...</td>\n",
       "      <td>[https://sumonies.com, https://sumonies.com/?r...</td>\n",
       "      <td>f</td>\n",
       "      <td>{}</td>\n",
       "    </tr>\n",
       "    <tr>\n",
       "      <th>3</th>\n",
       "      <td>LvyJTvux99s</td>\n",
       "      <td>https://www.youtube.com/watch?v=LvyJTvux99s</td>\n",
       "      <td>When 2018 began, the Bitcoin bubble had yet to...</td>\n",
       "      <td>[https://bit.ly/thewrapytsub, https://bit.ly/t...</td>\n",
       "      <td>b</td>\n",
       "      <td>{https://www.thewrap.com}</td>\n",
       "    </tr>\n",
       "    <tr>\n",
       "      <th>4</th>\n",
       "      <td>TWls-kXR-WQ</td>\n",
       "      <td>https://www.youtube.com/watch?v=TWls-kXR-WQ</td>\n",
       "      <td>http://ucemoney.bid/8381807950519/ here is my ...</td>\n",
       "      <td>[https://ucemoney.bid/8381807950519/]</td>\n",
       "      <td>f</td>\n",
       "      <td>{}</td>\n",
       "    </tr>\n",
       "  </tbody>\n",
       "</table>\n",
       "</div>"
      ],
      "text/plain": [
       "       videoId                                    video_url  \\\n",
       "0  jc9yMaIojXc  https://www.youtube.com/watch?v=jc9yMaIojXc   \n",
       "1  jqxENMKaeCU  https://www.youtube.com/watch?v=jqxENMKaeCU   \n",
       "2  0Fx9ahA0I4g  https://www.youtube.com/watch?v=0Fx9ahA0I4g   \n",
       "3  LvyJTvux99s  https://www.youtube.com/watch?v=LvyJTvux99s   \n",
       "4  TWls-kXR-WQ  https://www.youtube.com/watch?v=TWls-kXR-WQ   \n",
       "\n",
       "                                         description  \\\n",
       "0  Join sumonies.com by clicking here: http://sum...   \n",
       "1  We are living in exceptional times. Scientists...   \n",
       "2  Join sumonies.com by clicking here: http://sum...   \n",
       "3  When 2018 began, the Bitcoin bubble had yet to...   \n",
       "4  http://ucemoney.bid/8381807950519/ here is my ...   \n",
       "\n",
       "                                               links classification  \\\n",
       "0  [https://sumonies.com, https://sumonies.com/?r...              f   \n",
       "1  [https://www.home-2009.com, https://www.ppr.co...              b   \n",
       "2  [https://sumonies.com, https://sumonies.com/?r...              f   \n",
       "3  [https://bit.ly/thewrapytsub, https://bit.ly/t...              b   \n",
       "4              [https://ucemoney.bid/8381807950519/]              f   \n",
       "\n",
       "                     w_links  \n",
       "0                         {}  \n",
       "1                         {}  \n",
       "2                         {}  \n",
       "3  {https://www.thewrap.com}  \n",
       "4                         {}  "
      ]
     },
     "execution_count": 263,
     "metadata": {},
     "output_type": "execute_result"
    }
   ],
   "source": [
    "pickle_in = open(\"./cleaning.pkl\",\"rb\")\n",
    "df = pickle.load(pickle_in)\n",
    "df.head()"
   ]
  },
  {
   "cell_type": "markdown",
   "metadata": {},
   "source": [
    "## Bar graphs for working links that are labeled as benign vs number of working links labeled as fraudulent"
   ]
  },
  {
   "cell_type": "code",
   "execution_count": 264,
   "metadata": {
    "colab": {
     "base_uri": "https://localhost:8080/",
     "height": 50
    },
    "colab_type": "code",
    "executionInfo": {
     "elapsed": 762,
     "status": "ok",
     "timestamp": 1574002435283,
     "user": {
      "displayName": "abdurrehman sajid",
      "photoUrl": "https://lh3.googleusercontent.com/a-/AAuE7mApyvPZUhJ1rYT8bSAGZbYskaBLDYd-ZcC93q9DcA=s64",
      "userId": "12716921899312957319"
     },
     "user_tz": -300
    },
    "id": "Tmo4Mf3_ify9",
    "outputId": "f7bfe05b-11ec-4639-e69f-41dca25b41bf"
   },
   "outputs": [
    {
     "name": "stdout",
     "output_type": "stream",
     "text": [
      "Total links:  6147 \n",
      "working links 1444\n",
      "Length of Frame: 1041\n"
     ]
    },
    {
     "data": {
      "image/png": "[encoded data removed]",
      "text/plain": [
       "<Figure size 432x288 with 1 Axes>"
      ]
     },
     "metadata": {},
     "output_type": "display_data"
    }
   ],
   "source": [
    "# total working links\n",
    "working_links=sum(df.w_links.apply(lambda x: len(x)))\n",
    "total_links=sum(new_data.links.apply(lambda x: len(x)))\n",
    "\n",
    "print('Total links: ' , total_links ,'\\nworking links' , working_links)\n",
    "print(\"Length of Frame: {}\".format(len(df)))\n",
    "\n",
    "def w_links(row, classification):\n",
    "    if row['classification'] == classification:\n",
    "        return len(row['w_links'])\n",
    "    else:\n",
    "        return 0\n",
    "b_working = sum(df.apply(lambda x: w_links(x, 'b'), axis=1))\n",
    "f_working = sum(df.apply(lambda x: w_links(x, 'f'), axis=1))\n",
    "proportion = pd.DataFrame({'classification':['benign','fradulent'], 'proportion_wlinks':[b_working/float(working_links), f_working/float(working_links)]})\n",
    "numbers = pd.DataFrame({'classification':['benign','fradulent'], 'number_of_wlinks':[b_working, f_working]})\n",
    "sns.set(style=\"whitegrid\")\n",
    "ax = sns.barplot(x=\"classification\", y=\"proportion_wlinks\", data=proportion)"
   ]
  },
  {
   "cell_type": "code",
   "execution_count": 265,
   "metadata": {},
   "outputs": [
    {
     "data": {
      "image/png": "[encoded data removed]",
      "text/plain": [
       "<Figure size 432x288 with 1 Axes>"
      ]
     },
     "metadata": {},
     "output_type": "display_data"
    }
   ],
   "source": [
    "ax = sns.barplot(x=\"classification\", y=\"number_of_wlinks\", data=numbers)"
   ]
  },
  {
   "cell_type": "markdown",
   "metadata": {},
   "source": [
    "## There are a total of 516 rows with working links"
   ]
  },
  {
   "cell_type": "code",
   "execution_count": 266,
   "metadata": {
    "colab": {
     "base_uri": "https://localhost:8080/",
     "height": 131
    },
    "colab_type": "code",
    "executionInfo": {
     "elapsed": 662,
     "status": "ok",
     "timestamp": 1574002435855,
     "user": {
      "displayName": "abdurrehman sajid",
      "photoUrl": "https://lh3.googleusercontent.com/a-/AAuE7mApyvPZUhJ1rYT8bSAGZbYskaBLDYd-ZcC93q9DcA=s64",
      "userId": "12716921899312957319"
     },
     "user_tz": -300
    },
    "id": "NjeZKNkPik-9",
    "outputId": "5b0ecc1e-3a3d-4b9c-f40d-5edcba3688a7",
    "scrolled": true
   },
   "outputs": [
    {
     "data": {
      "text/plain": [
       "videoId           516\n",
       "video_url         516\n",
       "description       516\n",
       "links             516\n",
       "classification    516\n",
       "w_links           516\n",
       "dtype: int64"
      ]
     },
     "execution_count": 266,
     "metadata": {},
     "output_type": "execute_result"
    }
   ],
   "source": [
    "# with description and working links\n",
    "df[df.w_links.apply(lambda x: True if len(x)>=1 else False)].count() "
   ]
  },
  {
   "cell_type": "code",
   "execution_count": null,
   "metadata": {},
   "outputs": [],
   "source": []
  },
  {
   "cell_type": "markdown",
   "metadata": {},
   "source": [
    "### Now that we have extracted the links (from the description) and stored them in a seperate column. We need to remove them from the description! "
   ]
  },
  {
   "cell_type": "code",
   "execution_count": 267,
   "metadata": {
    "colab": {
     "base_uri": "https://localhost:8080/",
     "height": 115
    },
    "colab_type": "code",
    "executionInfo": {
     "elapsed": 1102,
     "status": "ok",
     "timestamp": 1574003345970,
     "user": {
      "displayName": "abdurrehman sajid",
      "photoUrl": "https://lh3.googleusercontent.com/a-/AAuE7mApyvPZUhJ1rYT8bSAGZbYskaBLDYd-ZcC93q9DcA=s64",
      "userId": "12716921899312957319"
     },
     "user_tz": -300
    },
    "id": "aVTq0HihwFK5",
    "outputId": "4f60ed7c-52b2-48f9-aa71-9516c177d3e5",
    "scrolled": true
   },
   "outputs": [
    {
     "name": "stderr",
     "output_type": "stream",
     "text": [
      "/tmp/ipykernel_946267/2984188303.py:3: FutureWarning: The default value of regex will change from True to False in a future version.\n",
      "  df.description=df.description.apply(lambda x: re.sub(regex , '', x)).str.replace('\\n' , ' ').str.replace('\\r',' ').str.replace(r\"[^a-zA-Z0-9]+\", ' ')\n"
     ]
    },
    {
     "data": {
      "text/plain": [
       "305    5 8 Mins to Earn online watching advertisement...\n",
       "523    My 1 Recommendation To Earning Income Online C...\n",
       "546    Get a Free Adwords Account Review Do you suspe...\n",
       "581    Hey Altcoin Daily Team Today we go over some B...\n",
       "706             25 7 2017 spinwheel howtomakemoneyonline\n",
       "Name: description, dtype: object"
      ]
     },
     "execution_count": 267,
     "metadata": {},
     "output_type": "execute_result"
    }
   ],
   "source": [
    "import re\n",
    "regex=r'\\w+:\\/{2}[\\d\\w-]+(\\.[\\d\\w-]+)*(?:(?:\\/[^\\s/]*))*' # for removal of links in desciption\n",
    "df.description=df.description.apply(lambda x: re.sub(regex , '', x)).str.replace('\\n' , ' ').str.replace('\\r',' ').str.replace(r\"[^a-zA-Z0-9]+\", ' ')\n",
    "df.description.sample(5)"
   ]
  },
  {
   "cell_type": "code",
   "execution_count": 268,
   "metadata": {},
   "outputs": [
    {
     "data": {
      "text/html": [
       "<div>\n",
       "<style scoped>\n",
       "    .dataframe tbody tr th:only-of-type {\n",
       "        vertical-align: middle;\n",
       "    }\n",
       "\n",
       "    .dataframe tbody tr th {\n",
       "        vertical-align: top;\n",
       "    }\n",
       "\n",
       "    .dataframe thead th {\n",
       "        text-align: right;\n",
       "    }\n",
       "</style>\n",
       "<table border=\"1\" class=\"dataframe\">\n",
       "  <thead>\n",
       "    <tr style=\"text-align: right;\">\n",
       "      <th></th>\n",
       "      <th>videoId</th>\n",
       "      <th>video_url</th>\n",
       "      <th>description</th>\n",
       "      <th>links</th>\n",
       "      <th>classification</th>\n",
       "      <th>w_links</th>\n",
       "    </tr>\n",
       "  </thead>\n",
       "  <tbody>\n",
       "    <tr>\n",
       "      <th>0</th>\n",
       "      <td>jc9yMaIojXc</td>\n",
       "      <td>https://www.youtube.com/watch?v=jc9yMaIojXc</td>\n",
       "      <td>Join sumonies com by clicking here Make money ...</td>\n",
       "      <td>[https://sumonies.com, https://sumonies.com/?r...</td>\n",
       "      <td>f</td>\n",
       "      <td>{}</td>\n",
       "    </tr>\n",
       "    <tr>\n",
       "      <th>1</th>\n",
       "      <td>jqxENMKaeCU</td>\n",
       "      <td>https://www.youtube.com/watch?v=jqxENMKaeCU</td>\n",
       "      <td>We are living in exceptional times Scientists ...</td>\n",
       "      <td>[https://www.home-2009.com, https://www.ppr.co...</td>\n",
       "      <td>b</td>\n",
       "      <td>{}</td>\n",
       "    </tr>\n",
       "    <tr>\n",
       "      <th>2</th>\n",
       "      <td>0Fx9ahA0I4g</td>\n",
       "      <td>https://www.youtube.com/watch?v=0Fx9ahA0I4g</td>\n",
       "      <td>Join sumonies com by clicking here Make money ...</td>\n",
       "      <td>[https://sumonies.com, https://sumonies.com/?r...</td>\n",
       "      <td>f</td>\n",
       "      <td>{}</td>\n",
       "    </tr>\n",
       "    <tr>\n",
       "      <th>3</th>\n",
       "      <td>LvyJTvux99s</td>\n",
       "      <td>https://www.youtube.com/watch?v=LvyJTvux99s</td>\n",
       "      <td>When 2018 began the Bitcoin bubble had yet to ...</td>\n",
       "      <td>[https://bit.ly/thewrapytsub, https://bit.ly/t...</td>\n",
       "      <td>b</td>\n",
       "      <td>{https://www.thewrap.com}</td>\n",
       "    </tr>\n",
       "    <tr>\n",
       "      <th>4</th>\n",
       "      <td>TWls-kXR-WQ</td>\n",
       "      <td>https://www.youtube.com/watch?v=TWls-kXR-WQ</td>\n",
       "      <td>here is my referal code now you can use it ea...</td>\n",
       "      <td>[https://ucemoney.bid/8381807950519/]</td>\n",
       "      <td>f</td>\n",
       "      <td>{}</td>\n",
       "    </tr>\n",
       "  </tbody>\n",
       "</table>\n",
       "</div>"
      ],
      "text/plain": [
       "       videoId                                    video_url  \\\n",
       "0  jc9yMaIojXc  https://www.youtube.com/watch?v=jc9yMaIojXc   \n",
       "1  jqxENMKaeCU  https://www.youtube.com/watch?v=jqxENMKaeCU   \n",
       "2  0Fx9ahA0I4g  https://www.youtube.com/watch?v=0Fx9ahA0I4g   \n",
       "3  LvyJTvux99s  https://www.youtube.com/watch?v=LvyJTvux99s   \n",
       "4  TWls-kXR-WQ  https://www.youtube.com/watch?v=TWls-kXR-WQ   \n",
       "\n",
       "                                         description  \\\n",
       "0  Join sumonies com by clicking here Make money ...   \n",
       "1  We are living in exceptional times Scientists ...   \n",
       "2  Join sumonies com by clicking here Make money ...   \n",
       "3  When 2018 began the Bitcoin bubble had yet to ...   \n",
       "4   here is my referal code now you can use it ea...   \n",
       "\n",
       "                                               links classification  \\\n",
       "0  [https://sumonies.com, https://sumonies.com/?r...              f   \n",
       "1  [https://www.home-2009.com, https://www.ppr.co...              b   \n",
       "2  [https://sumonies.com, https://sumonies.com/?r...              f   \n",
       "3  [https://bit.ly/thewrapytsub, https://bit.ly/t...              b   \n",
       "4              [https://ucemoney.bid/8381807950519/]              f   \n",
       "\n",
       "                     w_links  \n",
       "0                         {}  \n",
       "1                         {}  \n",
       "2                         {}  \n",
       "3  {https://www.thewrap.com}  \n",
       "4                         {}  "
      ]
     },
     "execution_count": 268,
     "metadata": {},
     "output_type": "execute_result"
    }
   ],
   "source": [
    "df.head()"
   ]
  },
  {
   "cell_type": "markdown",
   "metadata": {},
   "source": [
    "## Making a new column to store number of links that are down. Our updated data set has:\n",
    "    -videold\n",
    "    -video_url\n",
    "    -description\n",
    "    -links\n",
    "    -classification\n",
    "    -w_links\n",
    "    -closed_links"
   ]
  },
  {
   "cell_type": "code",
   "execution_count": 649,
   "metadata": {
    "colab": {},
    "colab_type": "code",
    "id": "8seI4Fxi0dYX"
   },
   "outputs": [],
   "source": [
    "len(df.loc[0,'links'])\n",
    "#len(df.loc[0,'w_links'])\n",
    "\n",
    "w_links_count = df['w_links'].apply(lambda x: len(x))\n",
    "links_count = df.links.apply(lambda x: len(x))\n",
    "\n",
    "df['closed_links'] = links_count - w_links_count"
   ]
  },
  {
   "cell_type": "markdown",
   "metadata": {},
   "source": [
    "### We are using TF-IDF vectorizer. First, we thought of using Count-Vectorizer but that did not take into account the misinformation provided by stop words. Because tf-idf penalizes these words being repeated in all the descriptions, it seemed like a better fit."
   ]
  },
  {
   "cell_type": "code",
   "execution_count": 985,
   "metadata": {},
   "outputs": [],
   "source": [
    "from sklearn.feature_extraction.text import TfidfVectorizer\n",
    "from sklearn.feature_extraction.text import CountVectorizer\n",
    "descriptionArray = np.array(df['description'])\n",
    "vectorizer = TfidfVectorizer()\n",
    "independentVar = vectorizer.fit_transform(descriptionArray)\n",
    "independentVarT = independentVar"
   ]
  },
  {
   "cell_type": "markdown",
   "metadata": {},
   "source": [
    "### Our target variable is taking value 1 for fraudulent websites and 0 otherwise."
   ]
  },
  {
   "cell_type": "code",
   "execution_count": 986,
   "metadata": {},
   "outputs": [
    {
     "data": {
      "text/plain": [
       "array([1, 0, 1, ..., 0, 0, 0])"
      ]
     },
     "execution_count": 986,
     "metadata": {},
     "output_type": "execute_result"
    }
   ],
   "source": [
    "#Fraudulent is represented by 1 while benign is represented by 0\n",
    "target = df['classification'].apply(lambda x : 1 if x=='f' else 0)\n",
    "target = np.array(target)\n",
    "target"
   ]
  },
  {
   "cell_type": "markdown",
   "metadata": {},
   "source": [
    "## Model 1:\n",
    "- In this model we are using tf-idf vectorizer and the features will be the words in the description. The initial split will 70:30 for train_test. Then we will be running 3-fold logistic regression."
   ]
  },
  {
   "cell_type": "code",
   "execution_count": 987,
   "metadata": {},
   "outputs": [],
   "source": [
    "from sklearn.model_selection import train_test_split\n",
    "x_train, x_test, y_train, y_test = train_test_split(independentVar, target, test_size = 0.30)"
   ]
  },
  {
   "cell_type": "code",
   "execution_count": 988,
   "metadata": {},
   "outputs": [],
   "source": [
    "from sklearn.linear_model import LogisticRegressionCV\n",
    "clf = LogisticRegressionCV(cv = 3, solver='liblinear').fit(x_train, y_train)"
   ]
  },
  {
   "cell_type": "markdown",
   "metadata": {},
   "source": [
    "### The huge difference in the training and test data implies overfitting. So we need to re-think our model!"
   ]
  },
  {
   "cell_type": "code",
   "execution_count": 989,
   "metadata": {},
   "outputs": [
    {
     "name": "stdout",
     "output_type": "stream",
     "text": [
      "The accuracy score on test data is : 0.8242811501597445\n",
      "The accuracy score on train data is : 0.9931318681318682\n"
     ]
    }
   ],
   "source": [
    "accuracyTest = clf.score(x_test, y_test)\n",
    "accuracyTrain = clf.score(x_train, y_train)\n",
    "\n",
    "print(\"The accuracy score on test data is : {}\".format(clf.score(x_test, y_test)))\n",
    "print(\"The accuracy score on train data is : {}\".format(clf.score(x_train, y_train)))"
   ]
  },
  {
   "cell_type": "markdown",
   "metadata": {},
   "source": [
    "# Model 2\n",
    "- We will be selecting the best 940 features(words with highest tf-idf score).\n",
    "- Moreover, we are also adding the number of closed links as another features. This adds up the total number of features to 941. The basic idea behind adding this feature is that, a lot of fradulent links are not working or have been taken down. On the other hand, a lot of benign links are still working. As our data_set is out-dated this assumption makes perfect sense."
   ]
  },
  {
   "cell_type": "code",
   "execution_count": 990,
   "metadata": {},
   "outputs": [
    {
     "data": {
      "text/plain": [
       "array([[0., 0., 0., ..., 0., 0., 2.],\n",
       "       [0., 0., 0., ..., 0., 0., 4.],\n",
       "       [0., 0., 0., ..., 0., 0., 2.],\n",
       "       ...,\n",
       "       [0., 0., 0., ..., 0., 0., 1.],\n",
       "       [0., 0., 0., ..., 0., 0., 1.],\n",
       "       [0., 0., 0., ..., 0., 0., 3.]])"
      ]
     },
     "execution_count": 990,
     "metadata": {},
     "output_type": "execute_result"
    }
   ],
   "source": [
    "closedLinksArray = [[i] for i in df.closed_links]\n",
    "selector = SelectKBest(score_func=chi2, k=940)\n",
    "f = selector.fit(independentVar, target)\n",
    "independentVar = f.transform(independentVar)\n",
    "\n",
    "X = np.append(independentVar.toarray(),closedLinksArray, axis = 1)\n",
    "\n",
    "# independentVar.toarray()\n",
    "# closedLinksArray\n",
    "X"
   ]
  },
  {
   "cell_type": "code",
   "execution_count": 991,
   "metadata": {},
   "outputs": [],
   "source": [
    "X_TRAIN, X_TEST, Y_TRAIN, Y_TEST = train_test_split(X, target, test_size=0.30)"
   ]
  },
  {
   "cell_type": "code",
   "execution_count": 992,
   "metadata": {},
   "outputs": [
    {
     "name": "stderr",
     "output_type": "stream",
     "text": [
      "/home/dong/anaconda3/lib/python3.7/site-packages/sklearn/model_selection/_split.py:1978: FutureWarning: The default value of cv will change from 3 to 5 in version 0.22. Specify it explicitly to silence this warning.\n",
      "  warnings.warn(CV_WARNING, FutureWarning)\n",
      "/home/dong/anaconda3/lib/python3.7/site-packages/sklearn/linear_model/sag.py:337: ConvergenceWarning: The max_iter was reached which means the coef_ did not converge\n",
      "  \"the coef_ did not converge\", ConvergenceWarning)\n",
      "/home/dong/anaconda3/lib/python3.7/site-packages/sklearn/linear_model/sag.py:337: ConvergenceWarning: The max_iter was reached which means the coef_ did not converge\n",
      "  \"the coef_ did not converge\", ConvergenceWarning)\n",
      "/home/dong/anaconda3/lib/python3.7/site-packages/sklearn/linear_model/sag.py:337: ConvergenceWarning: The max_iter was reached which means the coef_ did not converge\n",
      "  \"the coef_ did not converge\", ConvergenceWarning)\n",
      "/home/dong/anaconda3/lib/python3.7/site-packages/sklearn/linear_model/sag.py:337: ConvergenceWarning: The max_iter was reached which means the coef_ did not converge\n",
      "  \"the coef_ did not converge\", ConvergenceWarning)\n"
     ]
    }
   ],
   "source": [
    "clfWithExtraFeature = LogisticRegressionCV(solver='saga').fit(X_TRAIN, Y_TRAIN)"
   ]
  },
  {
   "cell_type": "markdown",
   "metadata": {},
   "source": [
    "## Comparison of Models\n",
    "- Eventhough Model-1 is perdorming a lot better in terms of accuracy on the traning set, there is a huge difference of accuracies in train and test set. Which has happened due to overfitting. So this model can't be used for further analysis!\n",
    "- Model-2 is has a minute difference in test and train data accuracies. So this model has solved the problem of overfitting and is performing well on the given information\n"
   ]
  },
  {
   "cell_type": "code",
   "execution_count": 993,
   "metadata": {},
   "outputs": [
    {
     "name": "stdout",
     "output_type": "stream",
     "text": [
      "The accuracy without the number of closed website links for the Training set is 0.9931318681318682 \n",
      "The accuracy without the number of closed website links for the Test set is 0.8242811501597445 \n",
      "---------------------------------------------------------------------------------------------------------------\n",
      "The accuracy with the number of closed website links for the Training set is 0.8447802197802198 \n",
      "The accuracy with the number of closed website links for the Test set is 0.8210862619808307 \n"
     ]
    }
   ],
   "source": [
    "accuracyTestExtra = clfWithExtraFeature.score(X_TEST,Y_TEST)\n",
    "accuracyTrainExtra = clfWithExtraFeature.score(X_TRAIN,Y_TRAIN)\n",
    "print(\"The accuracy without the number of closed website links for the Training set is {} \".format(accuracyTrain))\n",
    "print(\"The accuracy without the number of closed website links for the Test set is {} \".format(accuracyTest))\n",
    "print('---------------------------------------------------------------------------------------------------------------')\n",
    "print(\"The accuracy with the number of closed website links for the Training set is {} \".format(accuracyTrainExtra))\n",
    "print(\"The accuracy with the number of closed website links for the Test set is {} \".format(accuracyTestExtra))"
   ]
  },
  {
   "cell_type": "code",
   "execution_count": 994,
   "metadata": {},
   "outputs": [
    {
     "data": {
      "text/plain": [
       "<matplotlib.axes._subplots.AxesSubplot at 0x7f2d73b156a0>"
      ]
     },
     "execution_count": 994,
     "metadata": {},
     "output_type": "execute_result"
    },
    {
     "data": {
      "image/png": "[encoded data removed]",
      "text/plain": [
       "<Figure size 432x288 with 1 Axes>"
      ]
     },
     "metadata": {
      "needs_background": "light"
     },
     "output_type": "display_data"
    }
   ],
   "source": [
    "sets = ['Training Set(Closed Websites Number included)','Test Set(Closed Websites Number included)','Training Set','Test Set']\n",
    "accuracies = [accuracyTrainExtra,accuracyTestExtra, accuracyTrain, accuracyTest]\n",
    "sns.barplot(y = sets,x = accuracies)"
   ]
  },
  {
   "cell_type": "code",
   "execution_count": 995,
   "metadata": {},
   "outputs": [],
   "source": [
    "Y = clf.predict(independentVarT)\n",
    "YwithClosedSite = clfWithExtraFeature.predict(X)"
   ]
  },
  {
   "cell_type": "code",
   "execution_count": 996,
   "metadata": {},
   "outputs": [
    {
     "name": "stdout",
     "output_type": "stream",
     "text": [
      "Non - Normalized Confusion Matrix using Closed links count\n",
      " [[569  33]\n",
      " [136 303]]\n",
      "Non - Normalized Confusion Matrix without using Closed links count\n",
      " [[581  21]\n",
      " [ 39 400]]\n"
     ]
    }
   ],
   "source": [
    "from sklearn.metrics import confusion_matrix\n",
    "mat = confusion_matrix(target, YwithClosedSite)\n",
    "matSim = confusion_matrix(target, Y)\n",
    "print(\"Non - Normalized Confusion Matrix using Closed links count\\n {}\".format(mat))\n",
    "print(\"Non - Normalized Confusion Matrix without using Closed links count\\n {}\".format(matSim))"
   ]
  },
  {
   "cell_type": "markdown",
   "metadata": {},
   "source": [
    "# For a better understanding, confusion Matrices for both the models(being tested on the complete data) are drawn below."
   ]
  },
  {
   "cell_type": "code",
   "execution_count": 997,
   "metadata": {},
   "outputs": [
    {
     "data": {
      "image/png": "[encoded data removed]",
      "text/plain": [
       "<Figure size 432x288 with 2 Axes>"
      ]
     },
     "metadata": {
      "needs_background": "light"
     },
     "output_type": "display_data"
    },
    {
     "data": {
      "image/png": "[encoded data removed]",
      "text/plain": [
       "<Figure size 432x288 with 2 Axes>"
      ]
     },
     "metadata": {
      "needs_background": "light"
     },
     "output_type": "display_data"
    }
   ],
   "source": [
    "\n",
    "\n",
    "import itertools\n",
    "def plot_confusion_matrix(cm, classes,\n",
    "                          normalize=False,\n",
    "                          title='Confusion matrix',\n",
    "                          cmap=plt.cm.Blues):\n",
    "    \"\"\"\n",
    "    This function prints and plots the confusion matrix.\n",
    "    Normalization can be applied by setting `normalize=True`. From\n",
    "    sklearn official documentation\n",
    "    \"\"\"\n",
    "    plt.imshow(cm, interpolation='nearest', cmap=cmap)\n",
    "    plt.title(title)\n",
    "    plt.colorbar()\n",
    "    tick_marks = np.arange(len(classes))\n",
    "    plt.xticks(tick_marks, classes, rotation=45)\n",
    "    plt.yticks(tick_marks, classes)\n",
    "\n",
    "    if normalize:\n",
    "        cm = cm.astype('float') / cm.sum(axis=1)[:, np.newaxis]\n",
    "\n",
    "\n",
    "    thresh = cm.max() / 2.\n",
    "    for i, j in itertools.product(range(cm.shape[0]), range(cm.shape[1])):\n",
    "        plt.text(j, i, cm[i, j],\n",
    "                 horizontalalignment=\"center\",\n",
    "                 color=\"white\" if cm[i, j] > thresh else \"black\")\n",
    "\n",
    "    plt.ylabel('True label')\n",
    "    plt.xlabel('Predicted label')\n",
    "    plt.show()\n",
    "\n",
    "plot_confusion_matrix(mat,classes=['Benign','Fraudulent'], normalize=False,\n",
    "                      title='Non-Normalized confusion matrix for Prediction using Closed links count')\n",
    "\n",
    "\n",
    "plot_confusion_matrix(matSim,classes=['Benign','Fraudulent'], normalize=False,\n",
    "                      title='Non-Normalized confusion matrix for Prediction without using Closed links count')\n"
   ]
  },
  {
   "cell_type": "markdown",
   "metadata": {},
   "source": []
  }
 ],
 "metadata": {
  "colab": {
   "collapsed_sections": [],
   "name": "Project fraud.ipynb",
   "provenance": []
  },
  "kernelspec": {
   "display_name": "Python 3 (ipykernel)",
   "language": "python",
   "name": "python3"
  },
  "language_info": {
   "codemirror_mode": {
    "name": "ipython",
    "version": 3
   },
   "file_extension": ".py",
   "mimetype": "text/x-python",
   "name": "python",
   "nbconvert_exporter": "python",
   "pygments_lexer": "ipython3",
   "version": "3.8.10"
  }
 },
 "nbformat": 4,
 "nbformat_minor": 1
}
