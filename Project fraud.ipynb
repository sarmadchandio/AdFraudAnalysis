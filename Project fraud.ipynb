{
 "cells": [
  {
   "cell_type": "markdown",
   "metadata": {
    "colab_type": "text",
    "id": "8ZYPpzqjoG2Z"
   },
   "source": [
    "**DataSet**:\n",
    "These videos are manually classified as Fraud(F) or Benign (B) based on whether the video is promoting a fraudulent way of earning  money online or not (some of the fraudulent ways are click fraud, copy right violation and captcha filling). The description column contains the description as given by the youtuber under his/her video. The links column is list of URL links which I extracted from the description of video. classification columns is manual label that we have assigned. \n",
    "This is a small dataset, once you have done some work on this dataset, I will sent you more aswell.\n",
    "italicized text\n",
    "\n",
    "\n",
    "\n",
    "\n",
    "**Task**:\n",
    "Your task will be to analyse the links that are extracted from description. The links can be of mobile application (like of google playstore) or of website. You should only focus of links of websites. The basic analysis you have to do is to find whether these links are harmful or not, for example do these links have any malware? or do they require user to enter sensitivities information (credit card number or phone number etc..)? You can also perform content analysis to find out useful patterns (for example common words used in sites given by Fraud video and by Benign Videos). And off-course you will have to automate the process so that it can work on any size of dataset.  \n",
    "These are some preliminary ideas. You can have a look at dataset and search for articles or papers on how to find if the website links are malicious or not. We can have a meeting on Friday and discuss further. \n",
    "\n",
    "\n",
    "\n",
    "\n",
    "**Notes**:\n",
    "Please note that you can use already existing libraries or tool to automate the task. You don't have to build have to build everything from scratch.\n",
    "Please feel free to email me in case you have any question. "
   ]
  },
  {
   "cell_type": "code",
   "execution_count": 6,
   "metadata": {
    "colab": {},
    "colab_type": "code",
    "id": "82Mq8jZzz_KD"
   },
   "outputs": [],
   "source": [
    "import pandas as pd\n",
    "import numpy as np\n",
    "import pickle\n",
    "import seaborn as sns\n",
    "from sklearn.feature_selection import SelectKBest\n",
    "from sklearn.feature_selection import chi2\n",
    "from urllib.parse  import urlparse\n",
    "%matplotlib inline\n",
    "import matplotlib.pyplot as plt\n"
   ]
  },
  {
   "cell_type": "code",
   "execution_count": 7,
   "metadata": {
    "colab": {
     "base_uri": "https://localhost:8080/",
     "height": 191
    },
    "colab_type": "code",
    "executionInfo": {
     "elapsed": 35873,
     "status": "ok",
     "timestamp": 1573999577829,
     "user": {
      "displayName": "abdurrehman sajid",
      "photoUrl": "https://lh3.googleusercontent.com/a-/AAuE7mApyvPZUhJ1rYT8bSAGZbYskaBLDYd-ZcC93q9DcA=s64",
      "userId": "12716921899312957319"
     },
     "user_tz": -300
    },
    "id": "_1R2lPct0Hke",
    "outputId": "2252ea40-c0ae-48e2-c99c-88fe89346a8d"
   },
   "outputs": [
    {
     "data": {
      "text/html": [
       "<div>\n",
       "<style scoped>\n",
       "    .dataframe tbody tr th:only-of-type {\n",
       "        vertical-align: middle;\n",
       "    }\n",
       "\n",
       "    .dataframe tbody tr th {\n",
       "        vertical-align: top;\n",
       "    }\n",
       "\n",
       "    .dataframe thead th {\n",
       "        text-align: right;\n",
       "    }\n",
       "</style>\n",
       "<table border=\"1\" class=\"dataframe\">\n",
       "  <thead>\n",
       "    <tr style=\"text-align: right;\">\n",
       "      <th></th>\n",
       "      <th>videoId</th>\n",
       "      <th>video_url</th>\n",
       "      <th>description</th>\n",
       "      <th>links</th>\n",
       "      <th>classification</th>\n",
       "    </tr>\n",
       "  </thead>\n",
       "  <tbody>\n",
       "    <tr>\n",
       "      <td>0</td>\n",
       "      <td>jc9yMaIojXc</td>\n",
       "      <td>https://www.youtube.com/watch?v=jc9yMaIojXc</td>\n",
       "      <td>Join sumonies.com by clicking here: http://sum...</td>\n",
       "      <td>['https://sumonies.com', 'https://sumonies.com...</td>\n",
       "      <td>f</td>\n",
       "    </tr>\n",
       "    <tr>\n",
       "      <td>1</td>\n",
       "      <td>jqxENMKaeCU</td>\n",
       "      <td>https://www.youtube.com/watch?v=jqxENMKaeCU</td>\n",
       "      <td>We are living in exceptional times. Scientists...</td>\n",
       "      <td>['https://www.home-2009.com', 'https://www.ppr...</td>\n",
       "      <td>b</td>\n",
       "    </tr>\n",
       "    <tr>\n",
       "      <td>2</td>\n",
       "      <td>0Fx9ahA0I4g</td>\n",
       "      <td>https://www.youtube.com/watch?v=0Fx9ahA0I4g</td>\n",
       "      <td>Join sumonies.com by clicking here: http://sum...</td>\n",
       "      <td>['https://sumonies.com', 'https://sumonies.com...</td>\n",
       "      <td>f</td>\n",
       "    </tr>\n",
       "    <tr>\n",
       "      <td>3</td>\n",
       "      <td>LvyJTvux99s</td>\n",
       "      <td>https://www.youtube.com/watch?v=LvyJTvux99s</td>\n",
       "      <td>When 2018 began, the Bitcoin bubble had yet to...</td>\n",
       "      <td>['https://bit.ly/thewrapytsub', 'https://bit.l...</td>\n",
       "      <td>b</td>\n",
       "    </tr>\n",
       "    <tr>\n",
       "      <td>4</td>\n",
       "      <td>TWls-kXR-WQ</td>\n",
       "      <td>https://www.youtube.com/watch?v=TWls-kXR-WQ</td>\n",
       "      <td>http://ucemoney.bid/8381807950519/ here is my ...</td>\n",
       "      <td>['https://ucemoney.bid/8381807950519/']</td>\n",
       "      <td>f</td>\n",
       "    </tr>\n",
       "  </tbody>\n",
       "</table>\n",
       "</div>"
      ],
      "text/plain": [
       "       videoId                                    video_url  \\\n",
       "0  jc9yMaIojXc  https://www.youtube.com/watch?v=jc9yMaIojXc   \n",
       "1  jqxENMKaeCU  https://www.youtube.com/watch?v=jqxENMKaeCU   \n",
       "2  0Fx9ahA0I4g  https://www.youtube.com/watch?v=0Fx9ahA0I4g   \n",
       "3  LvyJTvux99s  https://www.youtube.com/watch?v=LvyJTvux99s   \n",
       "4  TWls-kXR-WQ  https://www.youtube.com/watch?v=TWls-kXR-WQ   \n",
       "\n",
       "                                         description  \\\n",
       "0  Join sumonies.com by clicking here: http://sum...   \n",
       "1  We are living in exceptional times. Scientists...   \n",
       "2  Join sumonies.com by clicking here: http://sum...   \n",
       "3  When 2018 began, the Bitcoin bubble had yet to...   \n",
       "4  http://ucemoney.bid/8381807950519/ here is my ...   \n",
       "\n",
       "                                               links classification  \n",
       "0  ['https://sumonies.com', 'https://sumonies.com...              f  \n",
       "1  ['https://www.home-2009.com', 'https://www.ppr...              b  \n",
       "2  ['https://sumonies.com', 'https://sumonies.com...              f  \n",
       "3  ['https://bit.ly/thewrapytsub', 'https://bit.l...              b  \n",
       "4            ['https://ucemoney.bid/8381807950519/']              f  "
      ]
     },
     "execution_count": 7,
     "metadata": {},
     "output_type": "execute_result"
    }
   ],
   "source": [
    "path = './URLListA.csv'\n",
    "data=pd.read_csv(path)\n",
    "data.head()"
   ]
  },
  {
   "cell_type": "markdown",
   "metadata": {},
   "source": [
    "## There are a total of 1065 columns in the dataset provided to us."
   ]
  },
  {
   "cell_type": "code",
   "execution_count": 8,
   "metadata": {
    "colab": {
     "base_uri": "https://localhost:8080/",
     "height": 50
    },
    "colab_type": "code",
    "executionInfo": {
     "elapsed": 35863,
     "status": "ok",
     "timestamp": 1573999577830,
     "user": {
      "displayName": "abdurrehman sajid",
      "photoUrl": "https://lh3.googleusercontent.com/a-/AAuE7mApyvPZUhJ1rYT8bSAGZbYskaBLDYd-ZcC93q9DcA=s64",
      "userId": "12716921899312957319"
     },
     "user_tz": -300
    },
    "id": "JYUqVDJA0kc8",
    "outputId": "078bcc29-e8ed-428e-8959-e31400bec5ac"
   },
   "outputs": [
    {
     "name": "stdout",
     "output_type": "stream",
     "text": [
      "Index(['videoId', 'video_url', 'description', 'links', 'classification'], dtype='object')\n"
     ]
    },
    {
     "data": {
      "text/plain": [
       "1065"
      ]
     },
     "execution_count": 8,
     "metadata": {},
     "output_type": "execute_result"
    }
   ],
   "source": [
    "print(data.columns)\n",
    "len(data)"
   ]
  },
  {
   "cell_type": "markdown",
   "metadata": {},
   "source": [
    "## Note: The descriptions are in different languages. We need to somehow cater for this in our ML part of the project."
   ]
  },
  {
   "cell_type": "code",
   "execution_count": 9,
   "metadata": {
    "colab": {
     "base_uri": "https://localhost:8080/",
     "height": 191
    },
    "colab_type": "code",
    "executionInfo": {
     "elapsed": 35869,
     "status": "ok",
     "timestamp": 1573999577844,
     "user": {
      "displayName": "abdurrehman sajid",
      "photoUrl": "https://lh3.googleusercontent.com/a-/AAuE7mApyvPZUhJ1rYT8bSAGZbYskaBLDYd-ZcC93q9DcA=s64",
      "userId": "12716921899312957319"
     },
     "user_tz": -300
    },
    "id": "H_QtRAmZI5uW",
    "outputId": "add50250-d8e0-40f4-e6b1-44ac9f4b8b69",
    "scrolled": true
   },
   "outputs": [
    {
     "data": {
      "text/html": [
       "<div>\n",
       "<style scoped>\n",
       "    .dataframe tbody tr th:only-of-type {\n",
       "        vertical-align: middle;\n",
       "    }\n",
       "\n",
       "    .dataframe tbody tr th {\n",
       "        vertical-align: top;\n",
       "    }\n",
       "\n",
       "    .dataframe thead th {\n",
       "        text-align: right;\n",
       "    }\n",
       "</style>\n",
       "<table border=\"1\" class=\"dataframe\">\n",
       "  <thead>\n",
       "    <tr style=\"text-align: right;\">\n",
       "      <th></th>\n",
       "      <th>videoId</th>\n",
       "      <th>video_url</th>\n",
       "      <th>description</th>\n",
       "      <th>links</th>\n",
       "      <th>classification</th>\n",
       "    </tr>\n",
       "  </thead>\n",
       "  <tbody>\n",
       "    <tr>\n",
       "      <td>528</td>\n",
       "      <td>zSpk15MZpKA</td>\n",
       "      <td>https://www.youtube.com/watch?v=zSpk15MZpKA</td>\n",
       "      <td>Personal Channel: https://www.youtube.com/chan...</td>\n",
       "      <td>['https://www.youtube.com/channel/uc_23vc8z9su...</td>\n",
       "      <td>b</td>\n",
       "    </tr>\n",
       "    <tr>\n",
       "      <td>702</td>\n",
       "      <td>Ypun-rCBCnU</td>\n",
       "      <td>https://www.youtube.com/watch?v=Ypun-rCBCnU</td>\n",
       "      <td>💰 My #1 Recommendation For Making Money Online...</td>\n",
       "      <td>['https://lifewithoutlimits.co', 'https://leve...</td>\n",
       "      <td>f</td>\n",
       "    </tr>\n",
       "    <tr>\n",
       "      <td>918</td>\n",
       "      <td>MMhUjfF3rhM</td>\n",
       "      <td>https://www.youtube.com/watch?v=MMhUjfF3rhM</td>\n",
       "      <td>I decided to click on every AD that I saw onli...</td>\n",
       "      <td>['https://stopad.io/y/dan', 'https://youtu.be/...</td>\n",
       "      <td>b</td>\n",
       "    </tr>\n",
       "    <tr>\n",
       "      <td>263</td>\n",
       "      <td>MDwKMPAx4Yw</td>\n",
       "      <td>https://www.youtube.com/watch?v=MDwKMPAx4Yw</td>\n",
       "      <td>earn money $2.to$5. ads click per day\\r\\r\\r\\nW...</td>\n",
       "      <td>['https://2.to', 'https://www.youtube.com/chan...</td>\n",
       "      <td>f</td>\n",
       "    </tr>\n",
       "    <tr>\n",
       "      <td>933</td>\n",
       "      <td>nYzPyIAKeYo</td>\n",
       "      <td>https://www.youtube.com/watch?v=nYzPyIAKeYo</td>\n",
       "      <td>This is how the free video game 'Fortnite' mig...</td>\n",
       "      <td>['https://cnb.cx/subscribecnbc', 'https://www....</td>\n",
       "      <td>b</td>\n",
       "    </tr>\n",
       "  </tbody>\n",
       "</table>\n",
       "</div>"
      ],
      "text/plain": [
       "         videoId                                    video_url  \\\n",
       "528  zSpk15MZpKA  https://www.youtube.com/watch?v=zSpk15MZpKA   \n",
       "702  Ypun-rCBCnU  https://www.youtube.com/watch?v=Ypun-rCBCnU   \n",
       "918  MMhUjfF3rhM  https://www.youtube.com/watch?v=MMhUjfF3rhM   \n",
       "263  MDwKMPAx4Yw  https://www.youtube.com/watch?v=MDwKMPAx4Yw   \n",
       "933  nYzPyIAKeYo  https://www.youtube.com/watch?v=nYzPyIAKeYo   \n",
       "\n",
       "                                           description  \\\n",
       "528  Personal Channel: https://www.youtube.com/chan...   \n",
       "702  💰 My #1 Recommendation For Making Money Online...   \n",
       "918  I decided to click on every AD that I saw onli...   \n",
       "263  earn money $2.to$5. ads click per day\\r\\r\\r\\nW...   \n",
       "933  This is how the free video game 'Fortnite' mig...   \n",
       "\n",
       "                                                 links classification  \n",
       "528  ['https://www.youtube.com/channel/uc_23vc8z9su...              b  \n",
       "702  ['https://lifewithoutlimits.co', 'https://leve...              f  \n",
       "918  ['https://stopad.io/y/dan', 'https://youtu.be/...              b  \n",
       "263  ['https://2.to', 'https://www.youtube.com/chan...              f  \n",
       "933  ['https://cnb.cx/subscribecnbc', 'https://www....              b  "
      ]
     },
     "execution_count": 9,
     "metadata": {},
     "output_type": "execute_result"
    }
   ],
   "source": [
    "data.sample(5)"
   ]
  },
  {
   "cell_type": "code",
   "execution_count": 10,
   "metadata": {
    "colab": {
     "base_uri": "https://localhost:8080/",
     "height": 162
    },
    "colab_type": "code",
    "executionInfo": {
     "elapsed": 35856,
     "status": "ok",
     "timestamp": 1573999577846,
     "user": {
      "displayName": "abdurrehman sajid",
      "photoUrl": "https://lh3.googleusercontent.com/a-/AAuE7mApyvPZUhJ1rYT8bSAGZbYskaBLDYd-ZcC93q9DcA=s64",
      "userId": "12716921899312957319"
     },
     "user_tz": -300
    },
    "id": "_k_Vv_T0sZPt",
    "outputId": "9d4f5230-8eb7-4d02-f92d-39eb07566e79"
   },
   "outputs": [
    {
     "data": {
      "text/html": [
       "<div>\n",
       "<style scoped>\n",
       "    .dataframe tbody tr th:only-of-type {\n",
       "        vertical-align: middle;\n",
       "    }\n",
       "\n",
       "    .dataframe tbody tr th {\n",
       "        vertical-align: top;\n",
       "    }\n",
       "\n",
       "    .dataframe thead th {\n",
       "        text-align: right;\n",
       "    }\n",
       "</style>\n",
       "<table border=\"1\" class=\"dataframe\">\n",
       "  <thead>\n",
       "    <tr style=\"text-align: right;\">\n",
       "      <th></th>\n",
       "      <th>videoId</th>\n",
       "      <th>video_url</th>\n",
       "      <th>description</th>\n",
       "      <th>links</th>\n",
       "      <th>classification</th>\n",
       "    </tr>\n",
       "  </thead>\n",
       "  <tbody>\n",
       "    <tr>\n",
       "      <td>count</td>\n",
       "      <td>1065</td>\n",
       "      <td>1065</td>\n",
       "      <td>1041</td>\n",
       "      <td>1065</td>\n",
       "      <td>1065</td>\n",
       "    </tr>\n",
       "    <tr>\n",
       "      <td>unique</td>\n",
       "      <td>1065</td>\n",
       "      <td>1065</td>\n",
       "      <td>1027</td>\n",
       "      <td>844</td>\n",
       "      <td>2</td>\n",
       "    </tr>\n",
       "    <tr>\n",
       "      <td>top</td>\n",
       "      <td>J_wrPiNq-z8</td>\n",
       "      <td>https://www.youtube.com/watch?v=54MTj7RMi_U</td>\n",
       "      <td>https://pl.moshoppa.com/\\r\\r\\nHow To Give Away...</td>\n",
       "      <td>[]</td>\n",
       "      <td>b</td>\n",
       "    </tr>\n",
       "    <tr>\n",
       "      <td>freq</td>\n",
       "      <td>1</td>\n",
       "      <td>1</td>\n",
       "      <td>3</td>\n",
       "      <td>165</td>\n",
       "      <td>616</td>\n",
       "    </tr>\n",
       "  </tbody>\n",
       "</table>\n",
       "</div>"
      ],
      "text/plain": [
       "            videoId                                    video_url  \\\n",
       "count          1065                                         1065   \n",
       "unique         1065                                         1065   \n",
       "top     J_wrPiNq-z8  https://www.youtube.com/watch?v=54MTj7RMi_U   \n",
       "freq              1                                            1   \n",
       "\n",
       "                                              description links classification  \n",
       "count                                                1041  1065           1065  \n",
       "unique                                               1027   844              2  \n",
       "top     https://pl.moshoppa.com/\\r\\r\\nHow To Give Away...    []              b  \n",
       "freq                                                    3   165            616  "
      ]
     },
     "execution_count": 10,
     "metadata": {},
     "output_type": "execute_result"
    }
   ],
   "source": [
    "# missing values\n",
    "data.describe()"
   ]
  },
  {
   "cell_type": "markdown",
   "metadata": {},
   "source": [
    "## We need to drop the indexes where the description is NULL, because these columns provide us with no useful information and will be a hinderence for our ML algorithm."
   ]
  },
  {
   "cell_type": "code",
   "execution_count": 11,
   "metadata": {
    "colab": {
     "base_uri": "https://localhost:8080/",
     "height": 753
    },
    "colab_type": "code",
    "executionInfo": {
     "elapsed": 35848,
     "status": "ok",
     "timestamp": 1573999577847,
     "user": {
      "displayName": "abdurrehman sajid",
      "photoUrl": "https://lh3.googleusercontent.com/a-/AAuE7mApyvPZUhJ1rYT8bSAGZbYskaBLDYd-ZcC93q9DcA=s64",
      "userId": "12716921899312957319"
     },
     "user_tz": -300
    },
    "id": "U3ASR6JWF1te",
    "outputId": "1a0d43f7-aa92-4cb4-f36e-9beb61e4859a"
   },
   "outputs": [
    {
     "name": "stdout",
     "output_type": "stream",
     "text": [
      "24\n"
     ]
    },
    {
     "data": {
      "text/html": [
       "<div>\n",
       "<style scoped>\n",
       "    .dataframe tbody tr th:only-of-type {\n",
       "        vertical-align: middle;\n",
       "    }\n",
       "\n",
       "    .dataframe tbody tr th {\n",
       "        vertical-align: top;\n",
       "    }\n",
       "\n",
       "    .dataframe thead th {\n",
       "        text-align: right;\n",
       "    }\n",
       "</style>\n",
       "<table border=\"1\" class=\"dataframe\">\n",
       "  <thead>\n",
       "    <tr style=\"text-align: right;\">\n",
       "      <th></th>\n",
       "      <th>videoId</th>\n",
       "      <th>video_url</th>\n",
       "      <th>description</th>\n",
       "      <th>links</th>\n",
       "      <th>classification</th>\n",
       "    </tr>\n",
       "  </thead>\n",
       "  <tbody>\n",
       "    <tr>\n",
       "      <td>25</td>\n",
       "      <td>KJSZrDa6_Bo</td>\n",
       "      <td>https://www.youtube.com/watch?v=KJSZrDa6_Bo</td>\n",
       "      <td>NaN</td>\n",
       "      <td>[]</td>\n",
       "      <td>f</td>\n",
       "    </tr>\n",
       "    <tr>\n",
       "      <td>32</td>\n",
       "      <td>mvnYLDHv_rk</td>\n",
       "      <td>https://www.youtube.com/watch?v=mvnYLDHv_rk</td>\n",
       "      <td>NaN</td>\n",
       "      <td>[]</td>\n",
       "      <td>f</td>\n",
       "    </tr>\n",
       "    <tr>\n",
       "      <td>106</td>\n",
       "      <td>UtPcLkJkups</td>\n",
       "      <td>https://www.youtube.com/watch?v=UtPcLkJkups</td>\n",
       "      <td>NaN</td>\n",
       "      <td>[]</td>\n",
       "      <td>f</td>\n",
       "    </tr>\n",
       "    <tr>\n",
       "      <td>107</td>\n",
       "      <td>e21diKeK0FU</td>\n",
       "      <td>https://www.youtube.com/watch?v=e21diKeK0FU</td>\n",
       "      <td>NaN</td>\n",
       "      <td>[]</td>\n",
       "      <td>b</td>\n",
       "    </tr>\n",
       "    <tr>\n",
       "      <td>117</td>\n",
       "      <td>yxw7RDgyb-M</td>\n",
       "      <td>https://www.youtube.com/watch?v=yxw7RDgyb-M</td>\n",
       "      <td>NaN</td>\n",
       "      <td>[]</td>\n",
       "      <td>f</td>\n",
       "    </tr>\n",
       "  </tbody>\n",
       "</table>\n",
       "</div>"
      ],
      "text/plain": [
       "         videoId                                    video_url description  \\\n",
       "25   KJSZrDa6_Bo  https://www.youtube.com/watch?v=KJSZrDa6_Bo         NaN   \n",
       "32   mvnYLDHv_rk  https://www.youtube.com/watch?v=mvnYLDHv_rk         NaN   \n",
       "106  UtPcLkJkups  https://www.youtube.com/watch?v=UtPcLkJkups         NaN   \n",
       "107  e21diKeK0FU  https://www.youtube.com/watch?v=e21diKeK0FU         NaN   \n",
       "117  yxw7RDgyb-M  https://www.youtube.com/watch?v=yxw7RDgyb-M         NaN   \n",
       "\n",
       "    links classification  \n",
       "25     []              f  \n",
       "32     []              f  \n",
       "106    []              f  \n",
       "107    []              b  \n",
       "117    []              f  "
      ]
     },
     "execution_count": 11,
     "metadata": {},
     "output_type": "execute_result"
    }
   ],
   "source": [
    "# missing description\n",
    "print(data.description.isnull().sum())\n",
    "series=data.description.isnull()\n",
    "data[series].head()"
   ]
  },
  {
   "cell_type": "code",
   "execution_count": 12,
   "metadata": {
    "colab": {
     "base_uri": "https://localhost:8080/",
     "height": 537
    },
    "colab_type": "code",
    "executionInfo": {
     "elapsed": 35844,
     "status": "ok",
     "timestamp": 1573999577858,
     "user": {
      "displayName": "abdurrehman sajid",
      "photoUrl": "https://lh3.googleusercontent.com/a-/AAuE7mApyvPZUhJ1rYT8bSAGZbYskaBLDYd-ZcC93q9DcA=s64",
      "userId": "12716921899312957319"
     },
     "user_tz": -300
    },
    "id": "I2-RYK4Kuo_N",
    "outputId": "1326948b-07b5-495f-9c76-95011e59a379"
   },
   "outputs": [
    {
     "name": "stdout",
     "output_type": "stream",
     "text": [
      "Dropped rows 24\n"
     ]
    },
    {
     "data": {
      "text/html": [
       "<div>\n",
       "<style scoped>\n",
       "    .dataframe tbody tr th:only-of-type {\n",
       "        vertical-align: middle;\n",
       "    }\n",
       "\n",
       "    .dataframe tbody tr th {\n",
       "        vertical-align: top;\n",
       "    }\n",
       "\n",
       "    .dataframe thead th {\n",
       "        text-align: right;\n",
       "    }\n",
       "</style>\n",
       "<table border=\"1\" class=\"dataframe\">\n",
       "  <thead>\n",
       "    <tr style=\"text-align: right;\">\n",
       "      <th></th>\n",
       "      <th>videoId</th>\n",
       "      <th>video_url</th>\n",
       "      <th>description</th>\n",
       "      <th>links</th>\n",
       "      <th>classification</th>\n",
       "    </tr>\n",
       "  </thead>\n",
       "  <tbody>\n",
       "    <tr>\n",
       "      <td>0</td>\n",
       "      <td>jc9yMaIojXc</td>\n",
       "      <td>https://www.youtube.com/watch?v=jc9yMaIojXc</td>\n",
       "      <td>Join sumonies.com by clicking here: http://sum...</td>\n",
       "      <td>['https://sumonies.com', 'https://sumonies.com...</td>\n",
       "      <td>f</td>\n",
       "    </tr>\n",
       "    <tr>\n",
       "      <td>1</td>\n",
       "      <td>jqxENMKaeCU</td>\n",
       "      <td>https://www.youtube.com/watch?v=jqxENMKaeCU</td>\n",
       "      <td>We are living in exceptional times. Scientists...</td>\n",
       "      <td>['https://www.home-2009.com', 'https://www.ppr...</td>\n",
       "      <td>b</td>\n",
       "    </tr>\n",
       "    <tr>\n",
       "      <td>2</td>\n",
       "      <td>0Fx9ahA0I4g</td>\n",
       "      <td>https://www.youtube.com/watch?v=0Fx9ahA0I4g</td>\n",
       "      <td>Join sumonies.com by clicking here: http://sum...</td>\n",
       "      <td>['https://sumonies.com', 'https://sumonies.com...</td>\n",
       "      <td>f</td>\n",
       "    </tr>\n",
       "    <tr>\n",
       "      <td>3</td>\n",
       "      <td>LvyJTvux99s</td>\n",
       "      <td>https://www.youtube.com/watch?v=LvyJTvux99s</td>\n",
       "      <td>When 2018 began, the Bitcoin bubble had yet to...</td>\n",
       "      <td>['https://bit.ly/thewrapytsub', 'https://bit.l...</td>\n",
       "      <td>b</td>\n",
       "    </tr>\n",
       "    <tr>\n",
       "      <td>4</td>\n",
       "      <td>TWls-kXR-WQ</td>\n",
       "      <td>https://www.youtube.com/watch?v=TWls-kXR-WQ</td>\n",
       "      <td>http://ucemoney.bid/8381807950519/ here is my ...</td>\n",
       "      <td>['https://ucemoney.bid/8381807950519/']</td>\n",
       "      <td>f</td>\n",
       "    </tr>\n",
       "  </tbody>\n",
       "</table>\n",
       "</div>"
      ],
      "text/plain": [
       "       videoId                                    video_url  \\\n",
       "0  jc9yMaIojXc  https://www.youtube.com/watch?v=jc9yMaIojXc   \n",
       "1  jqxENMKaeCU  https://www.youtube.com/watch?v=jqxENMKaeCU   \n",
       "2  0Fx9ahA0I4g  https://www.youtube.com/watch?v=0Fx9ahA0I4g   \n",
       "3  LvyJTvux99s  https://www.youtube.com/watch?v=LvyJTvux99s   \n",
       "4  TWls-kXR-WQ  https://www.youtube.com/watch?v=TWls-kXR-WQ   \n",
       "\n",
       "                                         description  \\\n",
       "0  Join sumonies.com by clicking here: http://sum...   \n",
       "1  We are living in exceptional times. Scientists...   \n",
       "2  Join sumonies.com by clicking here: http://sum...   \n",
       "3  When 2018 began, the Bitcoin bubble had yet to...   \n",
       "4  http://ucemoney.bid/8381807950519/ here is my ...   \n",
       "\n",
       "                                               links classification  \n",
       "0  ['https://sumonies.com', 'https://sumonies.com...              f  \n",
       "1  ['https://www.home-2009.com', 'https://www.ppr...              b  \n",
       "2  ['https://sumonies.com', 'https://sumonies.com...              f  \n",
       "3  ['https://bit.ly/thewrapytsub', 'https://bit.l...              b  \n",
       "4            ['https://ucemoney.bid/8381807950519/']              f  "
      ]
     },
     "execution_count": 12,
     "metadata": {},
     "output_type": "execute_result"
    }
   ],
   "source": [
    "# droping rows which dont have links and description\n",
    "new_data =data[ (data.description.notnull()) & (data.links.notnull()) ]\n",
    "print('Dropped rows'  , len(data)-len(new_data))\n",
    "new_data.head()"
   ]
  },
  {
   "cell_type": "markdown",
   "metadata": {},
   "source": [
    "## There are 141 empty slots for links. These links can be extracted from the description."
   ]
  },
  {
   "cell_type": "code",
   "execution_count": 13,
   "metadata": {
    "colab": {
     "base_uri": "https://localhost:8080/",
     "height": 391
    },
    "colab_type": "code",
    "executionInfo": {
     "elapsed": 35849,
     "status": "ok",
     "timestamp": 1573999577856,
     "user": {
      "displayName": "abdurrehman sajid",
      "photoUrl": "https://lh3.googleusercontent.com/a-/AAuE7mApyvPZUhJ1rYT8bSAGZbYskaBLDYd-ZcC93q9DcA=s64",
      "userId": "12716921899312957319"
     },
     "user_tz": -300
    },
    "id": "1M_nIJKfunsQ",
    "outputId": "6f0ec085-d7b7-4cb0-8d14-20e6cf8b4d98"
   },
   "outputs": [
    {
     "data": {
      "text/plain": [
       "141"
      ]
     },
     "execution_count": 13,
     "metadata": {},
     "output_type": "execute_result"
    }
   ],
   "source": [
    "# missing links\n",
    "series1=new_data[new_data.links=='[]']\n",
    "series1['links'].count()"
   ]
  },
  {
   "cell_type": "code",
   "execution_count": 14,
   "metadata": {
    "colab": {
     "base_uri": "https://localhost:8080/",
     "height": 407
    },
    "colab_type": "code",
    "executionInfo": {
     "elapsed": 35830,
     "status": "ok",
     "timestamp": 1573999577860,
     "user": {
      "displayName": "abdurrehman sajid",
      "photoUrl": "https://lh3.googleusercontent.com/a-/AAuE7mApyvPZUhJ1rYT8bSAGZbYskaBLDYd-ZcC93q9DcA=s64",
      "userId": "12716921899312957319"
     },
     "user_tz": -300
    },
    "id": "9TPMUxav2qV6",
    "outputId": "1058ab5b-0fb4-4bd5-80a4-c4bdb637b2d2"
   },
   "outputs": [
    {
     "name": "stderr",
     "output_type": "stream",
     "text": [
      "/home/dong/.local/lib/python3.6/site-packages/pandas/core/generic.py:5208: SettingWithCopyWarning: \n",
      "A value is trying to be set on a copy of a slice from a DataFrame.\n",
      "Try using .loc[row_indexer,col_indexer] = value instead\n",
      "\n",
      "See the caveats in the documentation: http://pandas.pydata.org/pandas-docs/stable/user_guide/indexing.html#returning-a-view-versus-a-copy\n",
      "  self[name] = value\n",
      "/home/dong/.local/lib/python3.6/site-packages/ipykernel_launcher.py:2: SettingWithCopyWarning: \n",
      "A value is trying to be set on a copy of a slice from a DataFrame.\n",
      "Try using .loc[row_indexer,col_indexer] = value instead\n",
      "\n",
      "See the caveats in the documentation: http://pandas.pydata.org/pandas-docs/stable/user_guide/indexing.html#returning-a-view-versus-a-copy\n",
      "  \n"
     ]
    },
    {
     "data": {
      "text/plain": [
       "0    [https://sumonies.com, https://sumonies.com/?r...\n",
       "1    [https://www.home-2009.com, https://www.ppr.co...\n",
       "2    [https://sumonies.com, https://sumonies.com/?r...\n",
       "3    [https://bit.ly/thewrapytsub, https://bit.ly/t...\n",
       "4                [https://ucemoney.bid/8381807950519/]\n",
       "Name: links, dtype: object"
      ]
     },
     "execution_count": 14,
     "metadata": {},
     "output_type": "execute_result"
    }
   ],
   "source": [
    "new_data.links= new_data['links'].str.replace(\"[\" ,\"\").str.replace(\" \" , \"\").str.replace('\\'',\"\").str.replace(\"]\",\"\")\n",
    "new_data['links']= new_data.links.apply(lambda x: x.split(\",\") )\n",
    "new_data.links.head()"
   ]
  },
  {
   "cell_type": "markdown",
   "metadata": {},
   "source": [
    "## Now that we have extracted the links from the descriptions. We need to see how many of these links are actually working. We are pinging the all the websites in the \"links\" column and then storing the number of working_links in a new column"
   ]
  },
  {
   "cell_type": "code",
   "execution_count": 15,
   "metadata": {
    "colab": {},
    "colab_type": "code",
    "id": "4RfTa6gm_zpi"
   },
   "outputs": [],
   "source": [
    "import urllib.request\n",
    "\n",
    "def absoulte_adress(adress):\n",
    "  temp =urlparse(adress)\n",
    "  if(temp.netloc=='bit.ly'): #in case of bit.ly do not remove the path\n",
    "        return adress\n",
    "  return temp.scheme+'://'+temp.netloc\n",
    "\n",
    "\n",
    "def alive_dead(adress):\n",
    "    try:\n",
    "      code=urllib.request.urlopen(adress,timeout=1).getcode()\n",
    "    except:\n",
    "      return False\n",
    "    if code==200:\n",
    "      return True\n",
    "    return False\n",
    "\n",
    "\n",
    "def cake(lit):\n",
    "  temp=set()\n",
    "  for i in lit:\n",
    "    lol=absoulte_adress(i)\n",
    "    if alive_dead(lol):\n",
    "        temp.add(lol)\n",
    "  return temp"
   ]
  },
  {
   "cell_type": "code",
   "execution_count": 16,
   "metadata": {
    "colab": {},
    "colab_type": "code",
    "id": "wcXuyT-QIXOm"
   },
   "outputs": [],
   "source": [
    "# below code will take a hell lot time for every link timeout is 1sec and there are 1065 records in which each row is a list of web site\n",
    "# took almost 1 hour\n",
    "# new_data['w_links']=new_data.links.apply(cake)\n",
    "# new_data\n",
    "\n",
    "# new_data.to_pickle('./cleaning.pkl')\n",
    "\n",
    "# saved it in pickle module with new column w_links"
   ]
  },
  {
   "cell_type": "markdown",
   "metadata": {},
   "source": [
    "## Stored the new data in cleaning.pkl"
   ]
  },
  {
   "cell_type": "code",
   "execution_count": 17,
   "metadata": {
    "colab": {
     "base_uri": "https://localhost:8080/",
     "height": 272
    },
    "colab_type": "code",
    "executionInfo": {
     "elapsed": 910,
     "status": "ok",
     "timestamp": 1574003255631,
     "user": {
      "displayName": "abdurrehman sajid",
      "photoUrl": "https://lh3.googleusercontent.com/a-/AAuE7mApyvPZUhJ1rYT8bSAGZbYskaBLDYd-ZcC93q9DcA=s64",
      "userId": "12716921899312957319"
     },
     "user_tz": -300
    },
    "id": "5I2sILelhYci",
    "outputId": "ee173d5b-00c4-4623-8e4d-6ce2c3923e27",
    "scrolled": true
   },
   "outputs": [
    {
     "data": {
      "text/html": [
       "<div>\n",
       "<style scoped>\n",
       "    .dataframe tbody tr th:only-of-type {\n",
       "        vertical-align: middle;\n",
       "    }\n",
       "\n",
       "    .dataframe tbody tr th {\n",
       "        vertical-align: top;\n",
       "    }\n",
       "\n",
       "    .dataframe thead th {\n",
       "        text-align: right;\n",
       "    }\n",
       "</style>\n",
       "<table border=\"1\" class=\"dataframe\">\n",
       "  <thead>\n",
       "    <tr style=\"text-align: right;\">\n",
       "      <th></th>\n",
       "      <th>videoId</th>\n",
       "      <th>video_url</th>\n",
       "      <th>description</th>\n",
       "      <th>links</th>\n",
       "      <th>classification</th>\n",
       "      <th>w_links</th>\n",
       "    </tr>\n",
       "  </thead>\n",
       "  <tbody>\n",
       "    <tr>\n",
       "      <td>0</td>\n",
       "      <td>jc9yMaIojXc</td>\n",
       "      <td>https://www.youtube.com/watch?v=jc9yMaIojXc</td>\n",
       "      <td>Join sumonies.com by clicking here: http://sum...</td>\n",
       "      <td>[https://sumonies.com, https://sumonies.com/?r...</td>\n",
       "      <td>f</td>\n",
       "      <td>{}</td>\n",
       "    </tr>\n",
       "    <tr>\n",
       "      <td>1</td>\n",
       "      <td>jqxENMKaeCU</td>\n",
       "      <td>https://www.youtube.com/watch?v=jqxENMKaeCU</td>\n",
       "      <td>We are living in exceptional times. Scientists...</td>\n",
       "      <td>[https://www.home-2009.com, https://www.ppr.co...</td>\n",
       "      <td>b</td>\n",
       "      <td>{}</td>\n",
       "    </tr>\n",
       "    <tr>\n",
       "      <td>2</td>\n",
       "      <td>0Fx9ahA0I4g</td>\n",
       "      <td>https://www.youtube.com/watch?v=0Fx9ahA0I4g</td>\n",
       "      <td>Join sumonies.com by clicking here: http://sum...</td>\n",
       "      <td>[https://sumonies.com, https://sumonies.com/?r...</td>\n",
       "      <td>f</td>\n",
       "      <td>{}</td>\n",
       "    </tr>\n",
       "    <tr>\n",
       "      <td>3</td>\n",
       "      <td>LvyJTvux99s</td>\n",
       "      <td>https://www.youtube.com/watch?v=LvyJTvux99s</td>\n",
       "      <td>When 2018 began, the Bitcoin bubble had yet to...</td>\n",
       "      <td>[https://bit.ly/thewrapytsub, https://bit.ly/t...</td>\n",
       "      <td>b</td>\n",
       "      <td>{https://www.thewrap.com}</td>\n",
       "    </tr>\n",
       "    <tr>\n",
       "      <td>4</td>\n",
       "      <td>TWls-kXR-WQ</td>\n",
       "      <td>https://www.youtube.com/watch?v=TWls-kXR-WQ</td>\n",
       "      <td>http://ucemoney.bid/8381807950519/ here is my ...</td>\n",
       "      <td>[https://ucemoney.bid/8381807950519/]</td>\n",
       "      <td>f</td>\n",
       "      <td>{}</td>\n",
       "    </tr>\n",
       "  </tbody>\n",
       "</table>\n",
       "</div>"
      ],
      "text/plain": [
       "       videoId                                    video_url  \\\n",
       "0  jc9yMaIojXc  https://www.youtube.com/watch?v=jc9yMaIojXc   \n",
       "1  jqxENMKaeCU  https://www.youtube.com/watch?v=jqxENMKaeCU   \n",
       "2  0Fx9ahA0I4g  https://www.youtube.com/watch?v=0Fx9ahA0I4g   \n",
       "3  LvyJTvux99s  https://www.youtube.com/watch?v=LvyJTvux99s   \n",
       "4  TWls-kXR-WQ  https://www.youtube.com/watch?v=TWls-kXR-WQ   \n",
       "\n",
       "                                         description  \\\n",
       "0  Join sumonies.com by clicking here: http://sum...   \n",
       "1  We are living in exceptional times. Scientists...   \n",
       "2  Join sumonies.com by clicking here: http://sum...   \n",
       "3  When 2018 began, the Bitcoin bubble had yet to...   \n",
       "4  http://ucemoney.bid/8381807950519/ here is my ...   \n",
       "\n",
       "                                               links classification  \\\n",
       "0  [https://sumonies.com, https://sumonies.com/?r...              f   \n",
       "1  [https://www.home-2009.com, https://www.ppr.co...              b   \n",
       "2  [https://sumonies.com, https://sumonies.com/?r...              f   \n",
       "3  [https://bit.ly/thewrapytsub, https://bit.ly/t...              b   \n",
       "4              [https://ucemoney.bid/8381807950519/]              f   \n",
       "\n",
       "                     w_links  \n",
       "0                         {}  \n",
       "1                         {}  \n",
       "2                         {}  \n",
       "3  {https://www.thewrap.com}  \n",
       "4                         {}  "
      ]
     },
     "execution_count": 17,
     "metadata": {},
     "output_type": "execute_result"
    }
   ],
   "source": [
    "pickle_in = open(\"./cleaning.pkl\",\"rb\")\n",
    "df = pickle.load(pickle_in)\n",
    "df.head()"
   ]
  },
  {
   "cell_type": "markdown",
   "metadata": {},
   "source": [
    "## Bar graphs for working links that are labeled as benign vs number of working links labeled as fraudulent"
   ]
  },
  {
   "cell_type": "code",
   "execution_count": 20,
   "metadata": {
    "colab": {
     "base_uri": "https://localhost:8080/",
     "height": 50
    },
    "colab_type": "code",
    "executionInfo": {
     "elapsed": 762,
     "status": "ok",
     "timestamp": 1574002435283,
     "user": {
      "displayName": "abdurrehman sajid",
      "photoUrl": "https://lh3.googleusercontent.com/a-/AAuE7mApyvPZUhJ1rYT8bSAGZbYskaBLDYd-ZcC93q9DcA=s64",
      "userId": "12716921899312957319"
     },
     "user_tz": -300
    },
    "id": "Tmo4Mf3_ify9",
    "outputId": "f7bfe05b-11ec-4639-e69f-41dca25b41bf"
   },
   "outputs": [
    {
     "name": "stdout",
     "output_type": "stream",
     "text": [
      "Total links:  6288 \n",
      "working links 1444\n",
      "Length of Frame: 1041\n"
     ]
    },
    {
     "data": {
      "image/png": "[encoded data removed]",
      "text/plain": [
       "<Figure size 432x288 with 1 Axes>"
      ]
     },
     "metadata": {},
     "output_type": "display_data"
    }
   ],
   "source": [
    "# total working links\n",
    "working_links=sum(df.w_links.apply(lambda x: len(x)))\n",
    "total_links=sum(new_data.links.apply(lambda x: len(x)))\n",
    "\n",
    "print('Total links: ' , total_links ,'\\nworking links' , working_links)\n",
    "print(\"Length of Frame: {}\".format(len(df)))\n",
    "\n",
    "def w_links(row, classification):\n",
    "    if row['classification'] == classification:\n",
    "        return len(row['w_links'])\n",
    "    else:\n",
    "        return 0\n",
    "b_working = sum(df.apply(lambda x: w_links(x, 'b'), axis=1))\n",
    "f_working = sum(df.apply(lambda x: w_links(x, 'f'), axis=1))\n",
    "proportion = pd.DataFrame({'classification':['benign','fradulent'], 'proportion_wlinks':[b_working/float(working_links), f_working/float(working_links)]})\n",
    "numbers = pd.DataFrame({'classification':['benign','fradulent'], 'number_of_wlinks':[b_working, f_working]})\n",
    "sns.set(style=\"whitegrid\")\n",
    "ax = sns.barplot(x=\"classification\", y=\"proportion_wlinks\", data=proportion)"
   ]
  },
  {
   "cell_type": "code",
   "execution_count": 21,
   "metadata": {},
   "outputs": [
    {
     "data": {
      "image/png": "[encoded data removed]",
      "text/plain": [
       "<Figure size 432x288 with 1 Axes>"
      ]
     },
     "metadata": {},
     "output_type": "display_data"
    }
   ],
   "source": [
    "ax = sns.barplot(x=\"classification\", y=\"number_of_wlinks\", data=numbers)"
   ]
  },
  {
   "cell_type": "markdown",
   "metadata": {},
   "source": [
    "## There are a total of 516 rows with working links"
   ]
  },
  {
   "cell_type": "code",
   "execution_count": 534,
   "metadata": {
    "colab": {
     "base_uri": "https://localhost:8080/",
     "height": 131
    },
    "colab_type": "code",
    "executionInfo": {
     "elapsed": 662,
     "status": "ok",
     "timestamp": 1574002435855,
     "user": {
      "displayName": "abdurrehman sajid",
      "photoUrl": "https://lh3.googleusercontent.com/a-/AAuE7mApyvPZUhJ1rYT8bSAGZbYskaBLDYd-ZcC93q9DcA=s64",
      "userId": "12716921899312957319"
     },
     "user_tz": -300
    },
    "id": "NjeZKNkPik-9",
    "outputId": "5b0ecc1e-3a3d-4b9c-f40d-5edcba3688a7"
   },
   "outputs": [
    {
     "data": {
      "text/plain": [
       "videoId           516\n",
       "video_url         516\n",
       "description       516\n",
       "links             516\n",
       "classification    516\n",
       "w_links           516\n",
       "dtype: int64"
      ]
     },
     "execution_count": 534,
     "metadata": {},
     "output_type": "execute_result"
    }
   ],
   "source": [
    "# with description and working links\n",
    "df[df.w_links.apply(lambda x: True if len(x)>=1 else False)].count() \n"
   ]
  },
  {
   "cell_type": "markdown",
   "metadata": {},
   "source": [
    "### Now that we have extracted the links (from the description) and stored them in a seperate column. We need to remove them from the description! "
   ]
  },
  {
   "cell_type": "code",
   "execution_count": 535,
   "metadata": {
    "colab": {
     "base_uri": "https://localhost:8080/",
     "height": 115
    },
    "colab_type": "code",
    "executionInfo": {
     "elapsed": 1102,
     "status": "ok",
     "timestamp": 1574003345970,
     "user": {
      "displayName": "abdurrehman sajid",
      "photoUrl": "https://lh3.googleusercontent.com/a-/AAuE7mApyvPZUhJ1rYT8bSAGZbYskaBLDYd-ZcC93q9DcA=s64",
      "userId": "12716921899312957319"
     },
     "user_tz": -300
    },
    "id": "aVTq0HihwFK5",
    "outputId": "4f60ed7c-52b2-48f9-aa71-9516c177d3e5"
   },
   "outputs": [
    {
     "data": {
      "text/plain": [
       "156    Hello friends assalamualaikum varahmatullahi t...\n",
       "609    Cardano Update Perhaps Ethereum s biggest comp...\n",
       "426    In this video Yogeshwar Vashishtha does the fu...\n",
       "490    Stock Market Updates and News 8th October 2018...\n",
       "791    Affiliate Marketing For Beginners The Future O...\n",
       "Name: description, dtype: object"
      ]
     },
     "execution_count": 535,
     "metadata": {},
     "output_type": "execute_result"
    }
   ],
   "source": [
    "import re\n",
    "regex=r'\\w+:\\/{2}[\\d\\w-]+(\\.[\\d\\w-]+)*(?:(?:\\/[^\\s/]*))*' # for removal of links in desciption\n",
    "df.description=df.description.apply(lambda x: re.sub(regex , '', x)).str.replace('\\n' , ' ').str.replace('\\r',' ').str.replace(r\"[^a-zA-Z0-9]+\", ' ')\n",
    "df.description.sample(5)"
   ]
  },
  {
   "cell_type": "code",
   "execution_count": 32,
   "metadata": {},
   "outputs": [
    {
     "data": {
      "text/html": [
       "<div>\n",
       "<style scoped>\n",
       "    .dataframe tbody tr th:only-of-type {\n",
       "        vertical-align: middle;\n",
       "    }\n",
       "\n",
       "    .dataframe tbody tr th {\n",
       "        vertical-align: top;\n",
       "    }\n",
       "\n",
       "    .dataframe thead th {\n",
       "        text-align: right;\n",
       "    }\n",
       "</style>\n",
       "<table border=\"1\" class=\"dataframe\">\n",
       "  <thead>\n",
       "    <tr style=\"text-align: right;\">\n",
       "      <th></th>\n",
       "      <th>videoId</th>\n",
       "      <th>video_url</th>\n",
       "      <th>description</th>\n",
       "      <th>links</th>\n",
       "      <th>classification</th>\n",
       "      <th>w_links</th>\n",
       "    </tr>\n",
       "  </thead>\n",
       "  <tbody>\n",
       "    <tr>\n",
       "      <td>0</td>\n",
       "      <td>jc9yMaIojXc</td>\n",
       "      <td>https://www.youtube.com/watch?v=jc9yMaIojXc</td>\n",
       "      <td>Join sumonies.com by clicking here: http://sum...</td>\n",
       "      <td>[https://sumonies.com, https://sumonies.com/?r...</td>\n",
       "      <td>f</td>\n",
       "      <td>{}</td>\n",
       "    </tr>\n",
       "    <tr>\n",
       "      <td>1</td>\n",
       "      <td>jqxENMKaeCU</td>\n",
       "      <td>https://www.youtube.com/watch?v=jqxENMKaeCU</td>\n",
       "      <td>We are living in exceptional times. Scientists...</td>\n",
       "      <td>[https://www.home-2009.com, https://www.ppr.co...</td>\n",
       "      <td>b</td>\n",
       "      <td>{}</td>\n",
       "    </tr>\n",
       "    <tr>\n",
       "      <td>2</td>\n",
       "      <td>0Fx9ahA0I4g</td>\n",
       "      <td>https://www.youtube.com/watch?v=0Fx9ahA0I4g</td>\n",
       "      <td>Join sumonies.com by clicking here: http://sum...</td>\n",
       "      <td>[https://sumonies.com, https://sumonies.com/?r...</td>\n",
       "      <td>f</td>\n",
       "      <td>{}</td>\n",
       "    </tr>\n",
       "    <tr>\n",
       "      <td>3</td>\n",
       "      <td>LvyJTvux99s</td>\n",
       "      <td>https://www.youtube.com/watch?v=LvyJTvux99s</td>\n",
       "      <td>When 2018 began, the Bitcoin bubble had yet to...</td>\n",
       "      <td>[https://bit.ly/thewrapytsub, https://bit.ly/t...</td>\n",
       "      <td>b</td>\n",
       "      <td>{https://www.thewrap.com}</td>\n",
       "    </tr>\n",
       "    <tr>\n",
       "      <td>4</td>\n",
       "      <td>TWls-kXR-WQ</td>\n",
       "      <td>https://www.youtube.com/watch?v=TWls-kXR-WQ</td>\n",
       "      <td>http://ucemoney.bid/8381807950519/ here is my ...</td>\n",
       "      <td>[https://ucemoney.bid/8381807950519/]</td>\n",
       "      <td>f</td>\n",
       "      <td>{}</td>\n",
       "    </tr>\n",
       "  </tbody>\n",
       "</table>\n",
       "</div>"
      ],
      "text/plain": [
       "       videoId                                    video_url  \\\n",
       "0  jc9yMaIojXc  https://www.youtube.com/watch?v=jc9yMaIojXc   \n",
       "1  jqxENMKaeCU  https://www.youtube.com/watch?v=jqxENMKaeCU   \n",
       "2  0Fx9ahA0I4g  https://www.youtube.com/watch?v=0Fx9ahA0I4g   \n",
       "3  LvyJTvux99s  https://www.youtube.com/watch?v=LvyJTvux99s   \n",
       "4  TWls-kXR-WQ  https://www.youtube.com/watch?v=TWls-kXR-WQ   \n",
       "\n",
       "                                         description  \\\n",
       "0  Join sumonies.com by clicking here: http://sum...   \n",
       "1  We are living in exceptional times. Scientists...   \n",
       "2  Join sumonies.com by clicking here: http://sum...   \n",
       "3  When 2018 began, the Bitcoin bubble had yet to...   \n",
       "4  http://ucemoney.bid/8381807950519/ here is my ...   \n",
       "\n",
       "                                               links classification  \\\n",
       "0  [https://sumonies.com, https://sumonies.com/?r...              f   \n",
       "1  [https://www.home-2009.com, https://www.ppr.co...              b   \n",
       "2  [https://sumonies.com, https://sumonies.com/?r...              f   \n",
       "3  [https://bit.ly/thewrapytsub, https://bit.ly/t...              b   \n",
       "4              [https://ucemoney.bid/8381807950519/]              f   \n",
       "\n",
       "                     w_links  \n",
       "0                         {}  \n",
       "1                         {}  \n",
       "2                         {}  \n",
       "3  {https://www.thewrap.com}  \n",
       "4                         {}  "
      ]
     },
     "execution_count": 32,
     "metadata": {},
     "output_type": "execute_result"
    }
   ],
   "source": [
    "df.head()"
   ]
  },
  {
   "cell_type": "markdown",
   "metadata": {},
   "source": [
    "## Making a new column to store number of links that are down. Our updated data set has:\n",
    "    -videold\n",
    "    -video_url\n",
    "    -description\n",
    "    -links\n",
    "    -classification\n",
    "    -w_links\n",
    "    -closed_links"
   ]
  },
  {
   "cell_type": "code",
   "execution_count": 649,
   "metadata": {
    "colab": {},
    "colab_type": "code",
    "id": "8seI4Fxi0dYX"
   },
   "outputs": [],
   "source": [
    "len(df.loc[0,'links'])\n",
    "#len(df.loc[0,'w_links'])\n",
    "\n",
    "w_links_count = df['w_links'].apply(lambda x: len(x))\n",
    "links_count = df.links.apply(lambda x: len(x))\n",
    "\n",
    "\n",
    "df['closed_links'] = links_count - w_links_count\n"
   ]
  },
  {
   "cell_type": "markdown",
   "metadata": {},
   "source": [
    "### We are using TF-IDF vectorizer. First, we thought of using Count-Vectorizer but that did not take into account the misinformation provided by stop words. Because tf-idf penalizes these words being repeated in all the descriptions, it seemed like a better fit."
   ]
  },
  {
   "cell_type": "code",
   "execution_count": 985,
   "metadata": {},
   "outputs": [],
   "source": [
    "from sklearn.feature_extraction.text import TfidfVectorizer\n",
    "from sklearn.feature_extraction.text import CountVectorizer\n",
    "descriptionArray = np.array(df['description'])\n",
    "vectorizer = TfidfVectorizer()\n",
    "independentVar = vectorizer.fit_transform(descriptionArray)\n",
    "independentVarT = independentVar"
   ]
  },
  {
   "cell_type": "markdown",
   "metadata": {},
   "source": [
    "### Our target variable is taking value 1 for fraudulent websites and 0 otherwise."
   ]
  },
  {
   "cell_type": "code",
   "execution_count": 986,
   "metadata": {},
   "outputs": [
    {
     "data": {
      "text/plain": [
       "array([1, 0, 1, ..., 0, 0, 0])"
      ]
     },
     "execution_count": 986,
     "metadata": {},
     "output_type": "execute_result"
    }
   ],
   "source": [
    "#Fraudulent is represented by 1 while benign is represented by 0\n",
    "target = df['classification'].apply(lambda x : 1 if x=='f' else 0)\n",
    "target = np.array(target)\n",
    "target"
   ]
  },
  {
   "cell_type": "markdown",
   "metadata": {},
   "source": [
    "## Model 1:\n",
    "- In this model we are using tf-idf vectorizer and the features will be the words in the description. The initial split will 70:30 for train_test. Then we will be running 3-fold logistic regression."
   ]
  },
  {
   "cell_type": "code",
   "execution_count": 987,
   "metadata": {},
   "outputs": [],
   "source": [
    "from sklearn.model_selection import train_test_split\n",
    "x_train, x_test, y_train, y_test = train_test_split(independentVar, target, test_size = 0.30)"
   ]
  },
  {
   "cell_type": "code",
   "execution_count": 988,
   "metadata": {},
   "outputs": [],
   "source": [
    "from sklearn.linear_model import LogisticRegressionCV\n",
    "clf = LogisticRegressionCV(cv = 3, solver='liblinear').fit(x_train, y_train)"
   ]
  },
  {
   "cell_type": "markdown",
   "metadata": {},
   "source": [
    "### The huge difference in the training and test data implies overfitting. So we need to re-think our model!"
   ]
  },
  {
   "cell_type": "code",
   "execution_count": 989,
   "metadata": {},
   "outputs": [
    {
     "name": "stdout",
     "output_type": "stream",
     "text": [
      "The accuracy score on test data is : 0.8242811501597445\n",
      "The accuracy score on train data is : 0.9931318681318682\n"
     ]
    }
   ],
   "source": [
    "accuracyTest = clf.score(x_test, y_test)\n",
    "accuracyTrain = clf.score(x_train, y_train)\n",
    "\n",
    "print(\"The accuracy score on test data is : {}\".format(clf.score(x_test, y_test)))\n",
    "print(\"The accuracy score on train data is : {}\".format(clf.score(x_train, y_train)))"
   ]
  },
  {
   "cell_type": "markdown",
   "metadata": {},
   "source": [
    "# Model 2\n",
    "- We will be selecting the best 940 features(words with highest tf-idf score).\n",
    "- Moreover, we are also adding the number of closed links as another features. This adds up the total number of features to 941. The basic idea behind adding this feature is that, a lot of fradulent links are not working or have been taken down. On the other hand, a lot of benign links are still working. As our data_set is out-dated this assumption makes perfect sense."
   ]
  },
  {
   "cell_type": "code",
   "execution_count": 990,
   "metadata": {},
   "outputs": [
    {
     "data": {
      "text/plain": [
       "array([[0., 0., 0., ..., 0., 0., 2.],\n",
       "       [0., 0., 0., ..., 0., 0., 4.],\n",
       "       [0., 0., 0., ..., 0., 0., 2.],\n",
       "       ...,\n",
       "       [0., 0., 0., ..., 0., 0., 1.],\n",
       "       [0., 0., 0., ..., 0., 0., 1.],\n",
       "       [0., 0., 0., ..., 0., 0., 3.]])"
      ]
     },
     "execution_count": 990,
     "metadata": {},
     "output_type": "execute_result"
    }
   ],
   "source": [
    "closedLinksArray = [[i] for i in df.closed_links]\n",
    "selector = SelectKBest(score_func=chi2, k=940)\n",
    "f = selector.fit(independentVar, target)\n",
    "independentVar = f.transform(independentVar)\n",
    "\n",
    "X = np.append(independentVar.toarray(),closedLinksArray, axis = 1)\n",
    "\n",
    "# independentVar.toarray()\n",
    "# closedLinksArray\n",
    "X"
   ]
  },
  {
   "cell_type": "code",
   "execution_count": 991,
   "metadata": {},
   "outputs": [],
   "source": [
    "X_TRAIN, X_TEST, Y_TRAIN, Y_TEST = train_test_split(X, target, test_size=0.30)"
   ]
  },
  {
   "cell_type": "code",
   "execution_count": 992,
   "metadata": {},
   "outputs": [
    {
     "name": "stderr",
     "output_type": "stream",
     "text": [
      "/home/dong/anaconda3/lib/python3.7/site-packages/sklearn/model_selection/_split.py:1978: FutureWarning: The default value of cv will change from 3 to 5 in version 0.22. Specify it explicitly to silence this warning.\n",
      "  warnings.warn(CV_WARNING, FutureWarning)\n",
      "/home/dong/anaconda3/lib/python3.7/site-packages/sklearn/linear_model/sag.py:337: ConvergenceWarning: The max_iter was reached which means the coef_ did not converge\n",
      "  \"the coef_ did not converge\", ConvergenceWarning)\n",
      "/home/dong/anaconda3/lib/python3.7/site-packages/sklearn/linear_model/sag.py:337: ConvergenceWarning: The max_iter was reached which means the coef_ did not converge\n",
      "  \"the coef_ did not converge\", ConvergenceWarning)\n",
      "/home/dong/anaconda3/lib/python3.7/site-packages/sklearn/linear_model/sag.py:337: ConvergenceWarning: The max_iter was reached which means the coef_ did not converge\n",
      "  \"the coef_ did not converge\", ConvergenceWarning)\n",
      "/home/dong/anaconda3/lib/python3.7/site-packages/sklearn/linear_model/sag.py:337: ConvergenceWarning: The max_iter was reached which means the coef_ did not converge\n",
      "  \"the coef_ did not converge\", ConvergenceWarning)\n"
     ]
    }
   ],
   "source": [
    "clfWithExtraFeature = LogisticRegressionCV(solver='saga').fit(X_TRAIN, Y_TRAIN)"
   ]
  },
  {
   "cell_type": "markdown",
   "metadata": {},
   "source": [
    "## Comparison of Models\n",
    "- Eventhough Model-1 is perdorming a lot better in terms of accuracy on the traning set, there is a huge difference of accuracies in train and test set. Which has happened due to overfitting. So this model can't be used for further analysis!\n",
    "- Model-2 is has a minute difference in test and train data accuracies. So this model has solved the problem of overfitting and is performing well on the given information\n"
   ]
  },
  {
   "cell_type": "code",
   "execution_count": 993,
   "metadata": {},
   "outputs": [
    {
     "name": "stdout",
     "output_type": "stream",
     "text": [
      "The accuracy without the number of closed website links for the Training set is 0.9931318681318682 \n",
      "The accuracy without the number of closed website links for the Test set is 0.8242811501597445 \n",
      "---------------------------------------------------------------------------------------------------------------\n",
      "The accuracy with the number of closed website links for the Training set is 0.8447802197802198 \n",
      "The accuracy with the number of closed website links for the Test set is 0.8210862619808307 \n"
     ]
    }
   ],
   "source": [
    "accuracyTestExtra = clfWithExtraFeature.score(X_TEST,Y_TEST)\n",
    "accuracyTrainExtra = clfWithExtraFeature.score(X_TRAIN,Y_TRAIN)\n",
    "print(\"The accuracy without the number of closed website links for the Training set is {} \".format(accuracyTrain))\n",
    "print(\"The accuracy without the number of closed website links for the Test set is {} \".format(accuracyTest))\n",
    "print('---------------------------------------------------------------------------------------------------------------')\n",
    "print(\"The accuracy with the number of closed website links for the Training set is {} \".format(accuracyTrainExtra))\n",
    "print(\"The accuracy with the number of closed website links for the Test set is {} \".format(accuracyTestExtra))"
   ]
  },
  {
   "cell_type": "code",
   "execution_count": 994,
   "metadata": {},
   "outputs": [
    {
     "data": {
      "text/plain": [
       "<matplotlib.axes._subplots.AxesSubplot at 0x7f2d73b156a0>"
      ]
     },
     "execution_count": 994,
     "metadata": {},
     "output_type": "execute_result"
    },
    {
     "data": {
      "image/png": "[encoded data removed]",
      "text/plain": [
       "<Figure size 432x288 with 1 Axes>"
      ]
     },
     "metadata": {
      "needs_background": "light"
     },
     "output_type": "display_data"
    }
   ],
   "source": [
    "sets = ['Training Set(Closed Websites Number included)','Test Set(Closed Websites Number included)','Training Set','Test Set']\n",
    "accuracies = [accuracyTrainExtra,accuracyTestExtra, accuracyTrain, accuracyTest]\n",
    "sns.barplot(y = sets,x = accuracies)"
   ]
  },
  {
   "cell_type": "code",
   "execution_count": 995,
   "metadata": {},
   "outputs": [],
   "source": [
    "Y = clf.predict(independentVarT)\n",
    "YwithClosedSite = clfWithExtraFeature.predict(X)"
   ]
  },
  {
   "cell_type": "code",
   "execution_count": 996,
   "metadata": {},
   "outputs": [
    {
     "name": "stdout",
     "output_type": "stream",
     "text": [
      "Non - Normalized Confusion Matrix using Closed links count\n",
      " [[569  33]\n",
      " [136 303]]\n",
      "Non - Normalized Confusion Matrix without using Closed links count\n",
      " [[581  21]\n",
      " [ 39 400]]\n"
     ]
    }
   ],
   "source": [
    "from sklearn.metrics import confusion_matrix\n",
    "mat = confusion_matrix(target, YwithClosedSite)\n",
    "matSim = confusion_matrix(target, Y)\n",
    "print(\"Non - Normalized Confusion Matrix using Closed links count\\n {}\".format(mat))\n",
    "print(\"Non - Normalized Confusion Matrix without using Closed links count\\n {}\".format(matSim))"
   ]
  },
  {
   "cell_type": "markdown",
   "metadata": {},
   "source": [
    "# For a better understanding, confusion Matrices for both the models(being tested on the complete data) are drawn below."
   ]
  },
  {
   "cell_type": "code",
   "execution_count": 997,
   "metadata": {},
   "outputs": [
    {
     "data": {
      "image/png": "[encoded data removed]",
      "text/plain": [
       "<Figure size 432x288 with 2 Axes>"
      ]
     },
     "metadata": {
      "needs_background": "light"
     },
     "output_type": "display_data"
    },
    {
     "data": {
      "image/png": "[encoded data removed]",
      "text/plain": [
       "<Figure size 432x288 with 2 Axes>"
      ]
     },
     "metadata": {
      "needs_background": "light"
     },
     "output_type": "display_data"
    }
   ],
   "source": [
    "\n",
    "\n",
    "import itertools\n",
    "def plot_confusion_matrix(cm, classes,\n",
    "                          normalize=False,\n",
    "                          title='Confusion matrix',\n",
    "                          cmap=plt.cm.Blues):\n",
    "    \"\"\"\n",
    "    This function prints and plots the confusion matrix.\n",
    "    Normalization can be applied by setting `normalize=True`. From\n",
    "    sklearn official documentation\n",
    "    \"\"\"\n",
    "    plt.imshow(cm, interpolation='nearest', cmap=cmap)\n",
    "    plt.title(title)\n",
    "    plt.colorbar()\n",
    "    tick_marks = np.arange(len(classes))\n",
    "    plt.xticks(tick_marks, classes, rotation=45)\n",
    "    plt.yticks(tick_marks, classes)\n",
    "\n",
    "    if normalize:\n",
    "        cm = cm.astype('float') / cm.sum(axis=1)[:, np.newaxis]\n",
    "\n",
    "\n",
    "    thresh = cm.max() / 2.\n",
    "    for i, j in itertools.product(range(cm.shape[0]), range(cm.shape[1])):\n",
    "        plt.text(j, i, cm[i, j],\n",
    "                 horizontalalignment=\"center\",\n",
    "                 color=\"white\" if cm[i, j] > thresh else \"black\")\n",
    "\n",
    "    plt.ylabel('True label')\n",
    "    plt.xlabel('Predicted label')\n",
    "    plt.show()\n",
    "\n",
    "plot_confusion_matrix(mat,classes=['Benign','Fraudulent'], normalize=False,\n",
    "                      title='Non-Normalized confusion matrix for Prediction using Closed links count')\n",
    "\n",
    "\n",
    "plot_confusion_matrix(matSim,classes=['Benign','Fraudulent'], normalize=False,\n",
    "                      title='Non-Normalized confusion matrix for Prediction without using Closed links count')\n"
   ]
  },
  {
   "cell_type": "markdown",
   "metadata": {},
   "source": []
  }
 ],
 "metadata": {
  "colab": {
   "collapsed_sections": [],
   "name": "Project fraud.ipynb",
   "provenance": []
  },
  "kernelspec": {
   "display_name": "Python 3",
   "language": "python",
   "name": "python3"
  },
  "language_info": {
   "codemirror_mode": {
    "name": "ipython",
    "version": 3
   },
   "file_extension": ".py",
   "mimetype": "text/x-python",
   "name": "python",
   "nbconvert_exporter": "python",
   "pygments_lexer": "ipython3",
   "version": "3.6.9"
  }
 },
 "nbformat": 4,
 "nbformat_minor": 1
}
